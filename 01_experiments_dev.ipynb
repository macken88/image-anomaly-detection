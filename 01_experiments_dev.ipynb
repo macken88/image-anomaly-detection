{
 "cells": [
  {
   "cell_type": "markdown",
   "metadata": {},
   "source": [
    "# 01_experiments_dev — MVTec 画像異常検知（開発\n",
    "\n",
    "本ノートは dev カテゴリのみで設計を確定し、固定パイプライン設定を `assets/fixed_pipeline.json` に出力するためのテンプレートです。\n",
    "- データ取得は anomalib を用いる（AGENTS.md 準拠）\n",
    "- 手法は Mahalanobis / PaDiM を比較\n",
    "- 閾値は dev の test で画像レベル FPR=1% を目標に決定\n",
    "\n",
    "実行順序：Header → Data → Methods → Results → Save JSON/Artifacts\n"
   ]
  },
  {
   "cell_type": "markdown",
   "metadata": {},
   "source": [
    "## 環境・依存の読み込み"
   ]
  },
  {
   "cell_type": "code",
   "execution_count": 8,
   "id": "fe51156d",
   "metadata": {},
   "outputs": [],
   "source": [
    "import warnings\n",
    "warnings.filterwarnings('ignore')  # すべての警告を非表示"
   ]
  },
  {
   "cell_type": "code",
   "execution_count": 1,
   "id": "5768fe73",
   "metadata": {},
   "outputs": [],
   "source": [
    "# 参考: anomaly_detection.ipynb からの初期インポートを整理\n",
    "import os\n",
    "from pathlib import Path\n",
    "import json\n",
    "import numpy as np\n",
    "import pandas as pd\n",
    "import torch\n",
    "from torchvision import models, transforms\n",
    "from sklearn.covariance import ledoit_wolf\n",
    "from sklearn.metrics import roc_auc_score, f1_score\n",
    "import matplotlib.pyplot as plt\n",
    "import plotly.express as px\n",
    "from torch import nn\n",
    "import torch.nn.functional as F\n"
   ]
  },
  {
   "cell_type": "markdown",
   "id": "65088a9b",
   "metadata": {},
   "source": [
    "## データ取得（anomalib 経由）"
   ]
  },
  {
   "cell_type": "code",
   "execution_count": 2,
   "id": "01228e6e",
   "metadata": {},
   "outputs": [],
   "source": [
    "# AGENTS.md: 既存の MVTEC_ROOT または datasets/MVTecAD を使用。\n",
    "# 未検出の場合は anomalib によりダウンロード。\n",
    "MVTEC_ROOT = Path(os.environ.get(\"MVTEC_ROOT\", \"datasets/MVTecAD\"))\n",
    "MVTEC_ROOT.mkdir(parents=True, exist_ok=True)\n",
    "\n",
    "# anomalib のAPIはバージョンで異なる可能性があるため、例示的に記述。\n",
    "# 実環境の anomalib バージョンに合わせて import と引数を調整してください。\n",
    "try:\n",
    "    from anomalib.data import MVTecAD\n",
    "    datamodule = MVTecAD(root=str(MVTEC_ROOT))\n",
    "    datamodule.prepare_data()  # download if needed\n",
    "    datamodule.setup()\n",
    "except Exception as e:\n",
    "    print(\"[WARN] anomalib のデータ取得セットアップで問題が発生しました。バージョンや引数を確認してください:\\n\", e)\n",
    "\n",
    "assert MVTEC_ROOT.exists(), \"MVTec root not found after anomalib setup.\"\n"
   ]
  },
  {
   "cell_type": "markdown",
   "id": "fe101f49",
   "metadata": {},
   "source": [
    "## 実験設定（dev のみ）"
   ]
  },
  {
   "cell_type": "code",
   "execution_count": 13,
   "id": "d49852b9",
   "metadata": {},
   "outputs": [],
   "source": [
    "# dev カテゴリと seed を定義\n",
    "dev_category = \"carpet\"  # 例: AGENTS.md 推奨例\n",
    "seeds = [0, 1, 2]\n",
    "image_size = 256\n",
    "\n",
    "# 比較する手法（最小構成）\n",
    "use_mahalanobis = True\n",
    "use_padim = True\n",
    "\n",
    "# PaDiM や Mahalanobis で用いる backbone/layers 等は仮パラメータ（要調整）\n",
    "backbone = \"efficientnet_b0\"\n",
    "padim_layers = ['features.7.0.block.0', 'features.7.0.block.1', 'features.7.0.block.2', 'features.7.0.block.3', 'features.8']\n",
    "# efficientnet:['features.6.3.add', 'features.7.0.block.0', 'features.7.0.block.1', 'features.7.0.block.2', 'features.7.0.block.3', 'features.8']\n",
    "# resnet:[\"layer1\", \"layer2\", \"layer3\"]\n",
    "padim_channel_subsample = 100\n",
    "cov_estimator = \"ledoit_wolf\"  # Mahalanobis 用\n"
   ]
  },
  {
   "cell_type": "markdown",
   "id": "26064358",
   "metadata": {},
   "source": [
    "## Methods — Mahalanobis / PaDiM（テンプレート）\n",
    "- ここで特徴抽出（ImageNet 事前学習）/ 統計量推定 / 推論スコア化を実装します。\n",
    "- 本テンプレートでは骨子のみを用意しています。必要に応じて `anomaly_detection.ipynb` の実装を移植してください。"
   ]
  },
  {
   "cell_type": "markdown",
   "id": "a8a463e7",
   "metadata": {},
   "source": [
    "#### マハラノビス距離ベースモデル用関数"
   ]
  },
  {
   "cell_type": "code",
   "execution_count": 4,
   "id": "9ec297d6",
   "metadata": {},
   "outputs": [],
   "source": [
    "def fit_mahalanobis(train_loader, backbone=backbone, cov_estimator=cov_estimator):\n",
    "    \"\"\"Fit Mahalanobis model from training data.\"\"\"\n",
    "    model = models.__dict__[backbone](pretrained=True)\n",
    "    feature_extractor = nn.Sequential(*list(model.children())[:-1])\n",
    "    feature_extractor.eval()\n",
    "    feats = []\n",
    "    device = next(feature_extractor.parameters()).device\n",
    "    with torch.no_grad():\n",
    "        for images, _ in train_loader:\n",
    "            images = images.to(device)\n",
    "            feat = feature_extractor(images).view(images.size(0), -1)\n",
    "            feats.append(feat.cpu().numpy())\n",
    "    feats = np.concatenate(feats, axis=0)\n",
    "    mean = feats.mean(axis=0)\n",
    "    cov, _ = ledoit_wolf(feats)\n",
    "    precision = np.linalg.pinv(cov)\n",
    "    model_state = {\n",
    "        \"mean\": mean,\n",
    "        \"precision\": precision,\n",
    "        \"feature_extractor\": feature_extractor,\n",
    "        \"meta\": {\"backbone\": backbone, \"cov_estimator\": cov_estimator},\n",
    "    }\n",
    "    return model_state\n",
    "\n",
    "\n",
    "def score_mahalanobis(model_state, batch):\n",
    "    \"\"\"Return Mahalanobis distances for a batch.\"\"\"\n",
    "    feature_extractor = model_state[\"feature_extractor\"]\n",
    "    device = next(feature_extractor.parameters()).device\n",
    "    mean = torch.tensor(model_state[\"mean\"], device=device)\n",
    "    precision = torch.tensor(model_state[\"precision\"], device=device)\n",
    "    feature_extractor.eval()\n",
    "    images = batch[0] if isinstance(batch, (tuple, list)) else batch\n",
    "    images = images.to(device)\n",
    "    with torch.no_grad():\n",
    "        feats = feature_extractor(images).view(images.size(0), -1)\n",
    "    diff = feats - mean\n",
    "    scores = torch.sqrt(torch.sum((diff @ precision) * diff, dim=1))\n",
    "    return scores.cpu()\n",
    "\n",
    "# 任意の DataLoader から全サンプルのマハラノビス距離を算出\n",
    "def all_mahalanobis_scores(model_state, loader):\n",
    "    \"\"\"loader 内のすべての画像についてスコア [N] を返す\"\"\"\n",
    "    chunks = []\n",
    "    for batch in loader:\n",
    "        chunks.append(score_mahalanobis(model_state, batch))  # shape [B]\n",
    "    scores = torch.cat(chunks, dim=0).cpu()  # shape [N]\n",
    "    return scores\n",
    "\n"
   ]
  },
  {
   "cell_type": "markdown",
   "id": "b7b200b0",
   "metadata": {},
   "source": [
    "#### PaDiM用関数"
   ]
  },
  {
   "cell_type": "code",
   "execution_count": 15,
   "id": "009f7036",
   "metadata": {},
   "outputs": [],
   "source": [
    "class _PadimFeatureExtractor(nn.Module):\n",
    "    \"\"\"Generic intermediate feature extractor for PaDiM across backbones.\n",
    "\n",
    "    Supports torchvision backbones (ResNet, EfficientNet, MobileNet, etc.)\n",
    "    by using torchvision.models.feature_extraction.create_feature_extractor.\n",
    "    'layers' should be a list of graph node names; if not provided or not\n",
    "    valid for the given backbone, reasonable defaults are chosen per family.\n",
    "    \"\"\"\n",
    "\n",
    "    def __init__(self, backbone, layers=None):\n",
    "        super().__init__()\n",
    "        from torchvision.models.feature_extraction import (\n",
    "            create_feature_extractor, get_graph_node_names,\n",
    "        )\n",
    "        self.backbone = backbone\n",
    "        self.model = models.__dict__[backbone](pretrained=True)\n",
    "        self.model.eval()\n",
    "        _, eval_nodes = get_graph_node_names(self.model)\n",
    "        self._eval_nodes = set(eval_nodes)\n",
    "        resolved = self._resolve_layers(self.model, backbone, layers, eval_nodes)\n",
    "        self.return_order = list(resolved)\n",
    "        return_nodes = {name: name for name in self.return_order}\n",
    "        self.extractor = create_feature_extractor(self.model, return_nodes=return_nodes)\n",
    "\n",
    "    def _resolve_layers(self, model, backbone, layers, eval_nodes):\n",
    "        # If user provided valid graph node names, use them as-is.\n",
    "        if layers and all(l in eval_nodes for l in layers):\n",
    "            return layers\n",
    "\n",
    "        name = backbone.lower()\n",
    "        # ResNet family: prefer stage outputs layer1-3 if available.\n",
    "        if \"resnet\" in name:\n",
    "            cand = [l for l in [\"layer1\", \"layer2\", \"layer3\"] if l in eval_nodes]\n",
    "            if cand:\n",
    "                return cand\n",
    "\n",
    "        # Models exposing a Sequential 'features' (EfficientNet, MobileNet, VGG, DenseNet).\n",
    "        if hasattr(model, \"features\"):\n",
    "            try:\n",
    "                n = len(model.features)\n",
    "            except TypeError:\n",
    "                n = len(list(model.features))\n",
    "            if n > 0:\n",
    "                idxs = sorted({max(0, min(n - 1, i)) for i in [n // 4, n // 2, (3 * n) // 4]})\n",
    "                cand = [f\"features.{i}\" for i in idxs if f\"features.{i}\" in eval_nodes]\n",
    "                if cand:\n",
    "                    return cand\n",
    "\n",
    "        # If specific layers were requested but invalid, raise with guidance.\n",
    "        if layers:\n",
    "            missing = [l for l in layers if l not in eval_nodes]\n",
    "            sample = [n for n in eval_nodes][-10:]\n",
    "            raise ValueError(\n",
    "                f\"Requested layers not found for {backbone}: {missing}. Example nodes: {sample}\"\n",
    "            )\n",
    "\n",
    "        # Fallback: use the last 3 eval nodes (best-effort).\n",
    "        return list(eval_nodes[-3:])\n",
    "\n",
    "    def forward(self, x):\n",
    "        out = self.extractor(x)\n",
    "        return [out[name] for name in self.return_order]\n",
    "\n",
    "\n",
    "def fit_padim(train_loader, backbone=backbone, layers=padim_layers, d=padim_channel_subsample, reg_eps=1e-5):\n",
    "    \"\"\"Fit PaDiM model and return per-location statistics.\"\"\"\n",
    "    feature_extractor = _PadimFeatureExtractor(backbone, layers)\n",
    "    feature_extractor.eval()\n",
    "    embedding_list = []\n",
    "    device = next(feature_extractor.parameters()).device\n",
    "    with torch.no_grad():\n",
    "        for images, _ in train_loader:  \n",
    "            images = images.to(device)\n",
    "            feats = feature_extractor(images)\n",
    "            feats = [\n",
    "                F.interpolate(f, size=feats[0].shape[-2:], mode=\"bilinear\", align_corners=False)\n",
    "                for f in feats\n",
    "            ]\n",
    "            embedding = torch.cat(feats, dim=1)\n",
    "            embedding_list.append(embedding.cpu())\n",
    "    embeddings = torch.cat(embedding_list, dim=0)\n",
    "    c = embeddings.shape[1]\n",
    "    h, w = embeddings.shape[2:]\n",
    "    torch.manual_seed(0)\n",
    "    idx = torch.randperm(c)[:d]\n",
    "    embeddings = embeddings[:, idx, :, :]\n",
    "    embeddings = embeddings.permute(0, 2, 3, 1).reshape(-1, h * w, d)\n",
    "    mean = embeddings.mean(dim=0)\n",
    "\n",
    "    # 位置ごとの共分散（標本共分散 + εI）\n",
    "    cov = torch.zeros(h * w, d, d, dtype=torch.float32)\n",
    "    eye_d = np.eye(d, dtype=np.float64)               # np.cov は float64 を返すので合わせる\n",
    "    emb_np = embeddings.numpy()                        # [N, HW, d] on CPU\n",
    "\n",
    "    for i in range(h * w):\n",
    "        # Xi: (N, d) の標本共分散。np.cov(..., rowvar=False) は 1/(N-1) でスケール\n",
    "        Xi = emb_np[:, i, :]                           # (N, d)\n",
    "        Si = np.cov(Xi, rowvar=False, bias=False)      # (d, d), float64\n",
    "        Si = Si + reg_eps * eye_d                      # ← 正則化：Σ := Σ + εI（PaDiMの式(1)）\n",
    "        cov[i] = torch.from_numpy(Si).to(torch.float32)\n",
    "        \n",
    "    return {\n",
    "        \"mean\": mean,\n",
    "        \"cov\": cov,\n",
    "        \"idx\": idx,\n",
    "        \"feature_extractor\": feature_extractor,\n",
    "        \"meta\": {\"backbone\": backbone, \"layers\": layers, \"d\": d},\n",
    "    }\n",
    "\n",
    "\n",
    "def score_padim(model_state, batch):\n",
    "    \"\"\"Return PaDiM anomaly scores for batch.\"\"\"\n",
    "    feature_extractor = model_state[\"feature_extractor\"]\n",
    "    device = next(feature_extractor.parameters()).device\n",
    "    mean = model_state[\"mean\"].to(device)\n",
    "    cov = model_state[\"cov\"].to(device)\n",
    "    idx = model_state[\"idx\"]\n",
    "    feature_extractor.eval()\n",
    "    images = batch[0] if isinstance(batch, (tuple, list)) else batch\n",
    "    images = images.to(device)\n",
    "    with torch.no_grad():\n",
    "        feats = feature_extractor(images)\n",
    "        feats = [\n",
    "            F.interpolate(f, size=feats[0].shape[-2:], mode=\"bilinear\", align_corners=False)\n",
    "            for f in feats\n",
    "        ]\n",
    "        embedding = torch.cat(feats, dim=1)[:, idx, :, :]\n",
    "    n, d, h, w = embedding.shape\n",
    "    embedding = embedding.permute(0, 2, 3, 1).reshape(n, h * w, d)\n",
    "    scores = []\n",
    "    for emb in embedding:\n",
    "        dist = []\n",
    "        for i in range(h * w):\n",
    "            diff = emb[i] - mean[i]\n",
    "            inv = torch.linalg.pinv(cov[i])\n",
    "            dist.append(torch.sqrt(diff @ inv @ diff))\n",
    "        dist = torch.stack(dist).reshape(h, w)\n",
    "        scores.append(dist.max())\n",
    "    return torch.stack(scores).cpu()\n",
    "\n",
    "def padim_heatmap(model_state, images):\n",
    "    \"\"\"画像テンソルから異常スコアヒートマップを計算する\n",
    "\n",
    "    Args:\n",
    "        model_state (dict): fit_padimで得たモデル\n",
    "        images (Tensor[N,C,H,W]): 正規化済み画像\n",
    "\n",
    "    Returns:\n",
    "        Tensor[N,H,W]: 異常スコアヒートマップ\n",
    "    \"\"\"\n",
    "    feature_extractor = model_state[\"feature_extractor\"]\n",
    "    device = next(feature_extractor.parameters()).device\n",
    "    mean = model_state[\"mean\"].to(device)\n",
    "    cov = model_state[\"cov\"].to(device)\n",
    "    idx = model_state[\"idx\"]\n",
    "    feature_extractor.eval()\n",
    "    with torch.no_grad():\n",
    "        feats = feature_extractor(images.to(device))\n",
    "        feats = [\n",
    "            F.interpolate(f, size=feats[0].shape[-2:], mode=\"bilinear\", align_corners=False)\n",
    "            for f in feats\n",
    "        ]\n",
    "        embedding = torch.cat(feats, dim=1)[:, idx, :, :]\n",
    "    n, d, h, w = embedding.shape\n",
    "    embedding = embedding.permute(0, 2, 3, 1).reshape(n, h * w, d)\n",
    "    inv_cov = torch.linalg.pinv(cov.to(device))\n",
    "    maps = []\n",
    "    for emb in embedding:\n",
    "        diff = emb - mean\n",
    "        dist = torch.sqrt(torch.einsum(\"nd,ndd,nd->n\", diff, inv_cov, diff))\n",
    "        maps.append(dist.reshape(h, w))\n",
    "    return torch.stack(maps)\n",
    "\n",
    "def all_padim_scores(model_state, loader, return_maps=False):\n",
    "    \"\"\"DataLoader内の全画像についてPaDiMスコアを計算\n",
    "\n",
    "    Args:\n",
    "        model_state (dict): fit_padimで得たモデル\n",
    "        loader (DataLoader): 対象データ\n",
    "        return_maps (bool): ヒートマップも返すか\n",
    "\n",
    "    Returns:\n",
    "        Tensor[N]: 各画像の最大スコア\n",
    "        Tensor[N,H,W] (optional): ヒートマップ\n",
    "    \"\"\"\n",
    "    scores_list = []\n",
    "    maps_list = []\n",
    "    for batch in loader:\n",
    "        images = batch[0] if isinstance(batch, (list, tuple)) else batch\n",
    "        maps = padim_heatmap(model_state, images)\n",
    "        scores_list.append(maps.view(maps.size(0), -1).max(dim=1)[0])\n",
    "        if return_maps:\n",
    "            maps_list.append(maps)\n",
    "    scores = torch.cat(scores_list).cpu()\n",
    "    if return_maps:\n",
    "        maps = torch.cat(maps_list).cpu()\n",
    "        return scores, maps\n",
    "    return scores\n"
   ]
  },
  {
   "cell_type": "code",
   "execution_count": 20,
   "id": "88dedd74",
   "metadata": {},
   "outputs": [],
   "source": [
    "def inv_transform(img_tensor, mean=[0.485, 0.456, 0.406], std=[0.229, 0.224, 0.225]):\n",
    "    \"\"\"正規化済み画像テンソルを逆変換してNumPy配列にする\"\"\"\n",
    "    # バッチ次元がある場合は除去\n",
    "    if img_tensor.dim() == 4:\n",
    "        img = img_tensor.squeeze(0)\n",
    "    else:\n",
    "        img = img_tensor\n",
    "\n",
    "    # テンソルを NumPy 配列に変換（形状は [3, H, W]）\n",
    "    img_np = img.cpu().numpy()\n",
    "\n",
    "    # 逆正規化: 各チャネルについて (x * std + mean)\n",
    "    mean = np.array(mean)[:, None, None]\n",
    "    std = np.array(std)[:, None, None]\n",
    "    img_np = img_np * std + mean\n",
    "\n",
    "    # 値を [0, 1] にクリップ\n",
    "    img_np = np.clip(img_np, 0, 1)\n",
    "\n",
    "    # 軸の順番を [3, H, W] → [H, W, 3] に変換\n",
    "    img_np = np.transpose(img_np, (1, 2, 0))\n",
    "\n",
    "    return img_np"
   ]
  },
  {
   "cell_type": "markdown",
   "id": "b74d370c",
   "metadata": {},
   "source": [
    "## Results — Cross-Validation & Metrics（テンプレート）\n",
    "- 各手法で dev の train を用いたクロスバリデーションを実施し、訓練内/訓練外スコアのヒストグラムを確認する。\n",
    "- dev の test で閾値と評価指標（AUROC, F1 など）の関係を可視化する。\n"
   ]
  },
  {
   "cell_type": "markdown",
   "id": "da5dc09a",
   "metadata": {},
   "source": [
    "#### データローダー準備"
   ]
  },
  {
   "cell_type": "code",
   "execution_count": 6,
   "id": "68fb8377",
   "metadata": {},
   "outputs": [
    {
     "name": "stdout",
     "output_type": "stream",
     "text": [
      "[INFO] Category: carpet\n",
      "[INFO] CV folds: 5\n",
      "  - fold 0: n_train=224, n_val=56\n",
      "  - fold 1: n_train=224, n_val=56\n",
      "  - fold 2: n_train=224, n_val=56\n",
      "  - fold 3: n_train=224, n_val=56\n",
      "  - fold 4: n_train=224, n_val=56\n",
      "[INFO] Dev test size: 117\n",
      "[INFO] Test label distribution: {'color': 19, 'cut': 17, 'good': 28, 'hole': 17, 'metal_contamination': 17, 'thread': 19}\n"
     ]
    }
   ],
   "source": [
    "# Data loading for cross-validation (dev train) and dev test\n",
    "# - Builds KFold train/val DataLoaders using only train/good images.\n",
    "# - Prepares dev test DataLoader with labels (good=0, defect=1).\n",
    "\n",
    "from pathlib import Path\n",
    "from typing import List, Tuple, Any\n",
    "from PIL import Image\n",
    "from sklearn.model_selection import KFold\n",
    "from torch.utils.data import Dataset, DataLoader, Subset\n",
    "import os\n",
    "\n",
    "# Transforms (ImageNet mean/std)\n",
    "imagenet_mean = [0.485, 0.456, 0.406]\n",
    "imagenet_std = [0.229, 0.224, 0.225]\n",
    "_transform = transforms.Compose([\n",
    "    transforms.Resize((image_size, image_size)),\n",
    "    transforms.ToTensor(),\n",
    "    transforms.Normalize(mean=imagenet_mean, std=imagenet_std),\n",
    "])\n",
    "\n",
    "class ImagePathDataset(Dataset):\n",
    "    \"\"\"Minimal dataset returning (image_tensor, label).\n",
    "\n",
    "    Paths: list of filesystem paths; Labels: list[Any] of same length.\n",
    "    \"\"\"\n",
    "    def __init__(self, paths: List[Path], labels: List[Any], transform=None):\n",
    "        self.paths = [Path(p) for p in paths]\n",
    "        self.labels = labels\n",
    "        self.transform = transform\n",
    "\n",
    "    def __len__(self):\n",
    "        return len(self.paths)\n",
    "\n",
    "    def __getitem__(self, idx):\n",
    "        p = self.paths[idx]\n",
    "        y = self.labels[idx]\n",
    "        img = Image.open(p).convert(\"RGB\")\n",
    "        if self.transform is not None:\n",
    "            img = self.transform(img)\n",
    "        return img, y\n",
    "\n",
    "def _existing_category_root(category: str) -> Path:\n",
    "    \"\"\"Find an existing MVTec category root among common layouts.\n",
    "    Prefers MVTEC_ROOT, then 'datasets/MVTecAD', then 'MVtec_dataset'.\n",
    "    \"\"\"\n",
    "    candidates = [\n",
    "        MVTEC_ROOT / category,\n",
    "        Path(\"datasets/MVTecAD\") / category,\n",
    "        Path(\"MVtec_dataset\") / category,\n",
    "    ]\n",
    "    for c in candidates:\n",
    "        if c.exists():\n",
    "            return c\n",
    "    raise FileNotFoundError(f\"MVTec category not found: {category}\")\n",
    "\n",
    "def _list_images(d: Path) -> List[Path]:\n",
    "    exts = {\".png\", \".jpg\", \".jpeg\"}\n",
    "    if not d.exists():\n",
    "        return []\n",
    "    return sorted([p for p in d.rglob('*') if p.suffix.lower() in exts])\n",
    "\n",
    "def build_cv_and_test_loaders(category: str, k_splits: int = 5, batch_size: int = 32) -> Tuple[list, DataLoader]:\n",
    "    \"\"\"Return (cv_folds, test_loader).\n",
    "\n",
    "    cv_folds: list of dicts with 'train_loader' and 'val_loader'.\n",
    "    test_loader: dev test DataLoader with labels equal to defect types\n",
    "                 (the directory names directly under 'test', e.g., 'good',\n",
    "                 'scratch', 'hole', ...).\n",
    "    \"\"\"\n",
    "    root = _existing_category_root(category)\n",
    "    train_good = _list_images(root / 'train' / 'good')\n",
    "    assert len(train_good) > 0, f\"No train/good images found for {category}\"\n",
    "\n",
    "    # Prepare KFold over indices (all labels are 0 in train).\n",
    "    kf = KFold(n_splits=k_splits, shuffle=True, random_state=seeds[0] if seeds else 0)\n",
    "    base_ds = ImagePathDataset(train_good, [0] * len(train_good), transform=_transform)\n",
    "\n",
    "    num_workers = min(4, os.cpu_count() or 1)\n",
    "    cv_folds = []\n",
    "    for fold_id, (tr_idx, va_idx) in enumerate(kf.split(range(len(train_good)))):\n",
    "        tr_ds = Subset(base_ds, tr_idx)\n",
    "        va_ds = Subset(base_ds, va_idx)\n",
    "        tr_loader = DataLoader(tr_ds, batch_size=batch_size, shuffle=True, num_workers=num_workers, pin_memory=True)\n",
    "        va_loader = DataLoader(va_ds, batch_size=batch_size, shuffle=False, num_workers=num_workers, pin_memory=True)\n",
    "        cv_folds.append({\n",
    "            'fold': fold_id,\n",
    "            'train_loader': tr_loader,\n",
    "            'val_loader': va_loader,\n",
    "            'n_train': len(tr_idx),\n",
    "            'n_val': len(va_idx),\n",
    "        })\n",
    "\n",
    "    # Build dev test loader with labels as defect types (dir names under 'test').\n",
    "    test_dir = root / 'test'\n",
    "    test_paths: List[Path] = []\n",
    "    test_labels: List[str] = []\n",
    "    if test_dir.exists():\n",
    "        # Iterate over subdirectories directly under 'test' (including 'good').\n",
    "        for sub in sorted([d for d in test_dir.iterdir() if d.is_dir()], key=lambda p: p.name):\n",
    "            label = sub.name  # defect type (or 'good')\n",
    "            paths = _list_images(sub)\n",
    "            if paths:\n",
    "                test_paths.extend(paths)\n",
    "                test_labels.extend([label] * len(paths))\n",
    "    assert len(test_paths) > 0, f\"No test images found for {category}\"\n",
    "\n",
    "    test_ds = ImagePathDataset(test_paths, test_labels, transform=_transform)\n",
    "    test_loader = DataLoader(test_ds, batch_size=batch_size, shuffle=False, num_workers=num_workers, pin_memory=True)\n",
    "\n",
    "    return cv_folds, test_loader\n",
    "\n",
    "# Build loaders for the chosen dev category\n",
    "cv_folds, dev_test_loader = build_cv_and_test_loaders(dev_category, k_splits=5, batch_size=32)\n",
    "print(f\"[INFO] Category: {dev_category}\")\n",
    "print(f\"[INFO] CV folds: {len(cv_folds)}\")\n",
    "for f in cv_folds:\n",
    "    print(f\"  - fold {f['fold']}: n_train={f['n_train']}, n_val={f['n_val']}\")\n",
    "from collections import Counter\n",
    "cnt = Counter(dev_test_loader.dataset.labels)\n",
    "print(f\"[INFO] Dev test size: {len(dev_test_loader.dataset)}\")\n",
    "print(f\"[INFO] Test label distribution: {dict(cnt)}\")\n"
   ]
  },
  {
   "cell_type": "markdown",
   "id": "031692ae",
   "metadata": {},
   "source": [
    "#### マハラノビス距離ベースでの異常検知実験"
   ]
  },
  {
   "cell_type": "code",
   "execution_count": 9,
   "id": "b189f4dc",
   "metadata": {},
   "outputs": [
    {
     "data": {
      "application/vnd.plotly.v1+json": {
       "config": {
        "plotlyServerURL": "https://plot.ly"
       },
       "data": [
        {
         "bingroup": "x",
         "hovertemplate": "label=train<br>log_score=%{x}<br>count=%{y}<extra></extra>",
         "legendgroup": "train",
         "marker": {
          "color": "#636efa",
          "opacity": 0.6,
          "pattern": {
           "shape": ""
          }
         },
         "name": "train",
         "nbinsx": 30,
         "orientation": "v",
         "showlegend": true,
         "type": "histogram",
         "x": {
          "bdata": "/WIpQPHlKkAjbSlAoPcrQL/NKkCLKSVAYrgoQJnTLUDIzClAnxkrQAefKkAusytAvCYqQKDxKUCDSylAcToqQJztJUAagCdAlcEqQO9yLEDobClAxAQnQCuYKkCavSpATP4pQJRNKEC7dy1AAxgtQFe9KEAU2CpAI80pQE/YKUADMilAY5kmQI/OKkAdtStAs2wqQEzALECc+ilA3A0pQFcwLUAN8SpAAbMoQM4iLEBLhCpApL0oQO+mLEA0HCdA4ZgsQAS+L0BN7C1AFMYnQKfNK0A+PCxAv00rQN91K0DosytAbtEnQNDTKkAtxSlAdzMrQHyGKkBsgCpARnAoQCWFKUBciyhA0uosQGygLUBGZipAzXgqQDKyKkATSi1AjGwrQI6/JUBsWytAVc8qQJT2JkDwnidAuB8nQHBCKEBBqCtAnTgqQAoiK0B/rSlAnrQqQMXfJ0CimCpAIM0oQGaQLkCpCytAnqIqQDW7KEDMbyhALokqQKrYK0BY1yhAxaIsQDFJLEA1AC1AcYErQE5NJkDwtihAmp0uQICkLUAGgCZAhRAsQMFIJ0Cl0CpA9mMpQOgYKkCCZixAfyMoQGiAK0D4CipAcS4tQALcKkCoMypAJ9QrQEP5KkAOtypAyZgrQCuMKkBqvS1A2EUnQAZ/LUD4RilAXPUqQFihJ0DWcCdALkEqQBnyKkDlYytAPC4rQLRBK0BSgylAm90qQLR3KEDY2iZAhncqQD2vLUCMLSlA+xQpQE64J0At5ClANHsqQGALLEB57ypAdksrQAtfLUC82ylAQ8orQDmAK0BqTC1AM6kpQA6cK0Bh9ChAEiIrQNaOJ0AW9ydAh+cnQJ88K0DqfChAAYopQM9eK0DfByxAQ7IuQFakKkBlxypAZnIrQE3CKkC8AStAKagpQEfGLEBXvitAH40pQCv9KECZrS1Abb0pQMtZK0BZfClA3rUpQNwxKUCpoytAKw0qQE1QKkDfNipAU2MqQOSqKkBvuCpAFYQsQHi4KkD/AStAnaIpQLlsKEBp9ChAppwqQJ/eLEAkDypAvEcsQAymKUCAsy1Az3cwQHd9LUArzCxA3vMsQGO7J0C0RydAMqYvQC0jK0CdnytAFXkrQD0GKECjASxA3v0mQASxJ0BXSCpAykgnQPMjLEB5/CdAMjkpQCFEKUB4PChAHQUrQO5kJUA=",
          "dtype": "f4"
         },
         "xaxis": "x",
         "yaxis": "y"
        },
        {
         "bingroup": "x",
         "hovertemplate": "label=val<br>log_score=%{x}<br>count=%{y}<extra></extra>",
         "legendgroup": "val",
         "marker": {
          "color": "#EF553B",
          "opacity": 0.6,
          "pattern": {
           "shape": ""
          }
         },
         "name": "val",
         "nbinsx": 30,
         "orientation": "v",
         "showlegend": true,
         "type": "histogram",
         "x": {
          "bdata": "I8ZPQMzDXUAzlk9A3+BQQLz9TUAMbVBAMr5JQMT6WkBqM1RA0INaQKiMSUDp83NAPQ5oQIAmVECJwVtAAjhYQL+GS0AAxk1AD6lTQB7jUUDKulZA7vVNQJSTYUCLu1dAoNVTQNgeUEBk9E9ARzVZQF29VUBNRVdAFNVUQNq5UEBZZWBAg/BMQJzgS0D50FpAfRNaQNFwWEAkV2xATRdPQMlMZkDzf1JAzIVTQAXeSUAJuVNAi2JUQLPjUEBTO2NAmd5pQMOdY0AsuE9A7TVVQNRyT0AoA15A/thJQCSXTEA=",
          "dtype": "f4"
         },
         "xaxis": "x",
         "yaxis": "y"
        },
        {
         "bingroup": "x",
         "hovertemplate": "label=color<br>log_score=%{x}<br>count=%{y}<extra></extra>",
         "legendgroup": "color",
         "marker": {
          "color": "#00cc96",
          "opacity": 0.6,
          "pattern": {
           "shape": ""
          }
         },
         "name": "color",
         "nbinsx": 30,
         "orientation": "v",
         "showlegend": true,
         "type": "histogram",
         "x": {
          "bdata": "5Vq3QMvBlUCkmoNAK+aIQGKtnkC3S4lAE6eBQDE2nUDkZ7RA86WFQMiNjkBxqKtADjKyQDj6sEBPdodA/UyqQFhOj0Dt0JpAHWKYQA==",
          "dtype": "f4"
         },
         "xaxis": "x",
         "yaxis": "y"
        },
        {
         "bingroup": "x",
         "hovertemplate": "label=cut<br>log_score=%{x}<br>count=%{y}<extra></extra>",
         "legendgroup": "cut",
         "marker": {
          "color": "#ab63fa",
          "opacity": 0.6,
          "pattern": {
           "shape": ""
          }
         },
         "name": "cut",
         "nbinsx": 30,
         "orientation": "v",
         "showlegend": true,
         "type": "histogram",
         "x": {
          "bdata": "Sci/QJnQtkDGBsBAMLy7QPuhlEDJerJAhAm7QIAQpUBqCJ5A7za5QIZ/tUAgsMhAY1bEQN1QvkAk9rVAAfPGQJFyqEA=",
          "dtype": "f4"
         },
         "xaxis": "x",
         "yaxis": "y"
        },
        {
         "bingroup": "x",
         "hovertemplate": "label=good<br>log_score=%{x}<br>count=%{y}<extra></extra>",
         "legendgroup": "good",
         "marker": {
          "color": "#FFA15A",
          "opacity": 0.6,
          "pattern": {
           "shape": ""
          }
         },
         "name": "good",
         "nbinsx": 30,
         "orientation": "v",
         "showlegend": true,
         "type": "histogram",
         "x": {
          "bdata": "jIliQE7BXEB+3nNA2ZJ1QOQ/ckDr0HlAD3Z5QLygd0BU9oJA2FlyQJibZ0A3eF5AajJ8QB35ekBNDX1AOJCAQKKsaUAtjWJAXbBrQO0QgEDfN2JAy55oQL31Y0BXX2dAYANjQLjzXEDWNGRA65FrQA==",
          "dtype": "f4"
         },
         "xaxis": "x",
         "yaxis": "y"
        },
        {
         "bingroup": "x",
         "hovertemplate": "label=hole<br>log_score=%{x}<br>count=%{y}<extra></extra>",
         "legendgroup": "hole",
         "marker": {
          "color": "#19d3f3",
          "opacity": 0.6,
          "pattern": {
           "shape": ""
          }
         },
         "name": "hole",
         "nbinsx": 30,
         "orientation": "v",
         "showlegend": true,
         "type": "histogram",
         "x": {
          "bdata": "kvW0QGtNd0CzHqpAyLS3QAyVsUAhTKtAg2i4QK8swED577xA1FuwQPhVs0AHmbRA7r6tQDhjuUCha7lAkFOnQMnPnkA=",
          "dtype": "f4"
         },
         "xaxis": "x",
         "yaxis": "y"
        },
        {
         "bingroup": "x",
         "hovertemplate": "label=metal_contamination<br>log_score=%{x}<br>count=%{y}<extra></extra>",
         "legendgroup": "metal_contamination",
         "marker": {
          "color": "#FF6692",
          "opacity": 0.6,
          "pattern": {
           "shape": ""
          }
         },
         "name": "metal_contamination",
         "nbinsx": 30,
         "orientation": "v",
         "showlegend": true,
         "type": "histogram",
         "x": {
          "bdata": "fhFuQAMfjUBOWa1A5UG4QGQUsEB8rcFAJzG/QA6xy0CjQ71AGD+qQLZeuUDzja1APnC9QDZrsECRlpRAjZuxQHNmoEA=",
          "dtype": "f4"
         },
         "xaxis": "x",
         "yaxis": "y"
        },
        {
         "bingroup": "x",
         "hovertemplate": "label=thread<br>log_score=%{x}<br>count=%{y}<extra></extra>",
         "legendgroup": "thread",
         "marker": {
          "color": "#B6E880",
          "opacity": 0.6,
          "pattern": {
           "shape": ""
          }
         },
         "name": "thread",
         "nbinsx": 30,
         "orientation": "v",
         "showlegend": true,
         "type": "histogram",
         "x": {
          "bdata": "UKq/QM7EhUAgILNAbQmiQLXxt0AKNddAGKTWQEqAy0CqHcpAR4+HQAq9xUCDTa1ACrezQK+M0kCyBJJAeW+CQIgmu0BYpdBAiWCGQA==",
          "dtype": "f4"
         },
         "xaxis": "x",
         "yaxis": "y"
        }
       ],
       "layout": {
        "barmode": "overlay",
        "legend": {
         "title": {
          "text": "label"
         },
         "tracegroupgap": 0
        },
        "margin": {
         "t": 60
        },
        "template": {
         "data": {
          "bar": [
           {
            "error_x": {
             "color": "#2a3f5f"
            },
            "error_y": {
             "color": "#2a3f5f"
            },
            "marker": {
             "line": {
              "color": "#E5ECF6",
              "width": 0.5
             },
             "pattern": {
              "fillmode": "overlay",
              "size": 10,
              "solidity": 0.2
             }
            },
            "type": "bar"
           }
          ],
          "barpolar": [
           {
            "marker": {
             "line": {
              "color": "#E5ECF6",
              "width": 0.5
             },
             "pattern": {
              "fillmode": "overlay",
              "size": 10,
              "solidity": 0.2
             }
            },
            "type": "barpolar"
           }
          ],
          "carpet": [
           {
            "aaxis": {
             "endlinecolor": "#2a3f5f",
             "gridcolor": "white",
             "linecolor": "white",
             "minorgridcolor": "white",
             "startlinecolor": "#2a3f5f"
            },
            "baxis": {
             "endlinecolor": "#2a3f5f",
             "gridcolor": "white",
             "linecolor": "white",
             "minorgridcolor": "white",
             "startlinecolor": "#2a3f5f"
            },
            "type": "carpet"
           }
          ],
          "choropleth": [
           {
            "colorbar": {
             "outlinewidth": 0,
             "ticks": ""
            },
            "type": "choropleth"
           }
          ],
          "contour": [
           {
            "colorbar": {
             "outlinewidth": 0,
             "ticks": ""
            },
            "colorscale": [
             [
              0,
              "#0d0887"
             ],
             [
              0.1111111111111111,
              "#46039f"
             ],
             [
              0.2222222222222222,
              "#7201a8"
             ],
             [
              0.3333333333333333,
              "#9c179e"
             ],
             [
              0.4444444444444444,
              "#bd3786"
             ],
             [
              0.5555555555555556,
              "#d8576b"
             ],
             [
              0.6666666666666666,
              "#ed7953"
             ],
             [
              0.7777777777777778,
              "#fb9f3a"
             ],
             [
              0.8888888888888888,
              "#fdca26"
             ],
             [
              1,
              "#f0f921"
             ]
            ],
            "type": "contour"
           }
          ],
          "contourcarpet": [
           {
            "colorbar": {
             "outlinewidth": 0,
             "ticks": ""
            },
            "type": "contourcarpet"
           }
          ],
          "heatmap": [
           {
            "colorbar": {
             "outlinewidth": 0,
             "ticks": ""
            },
            "colorscale": [
             [
              0,
              "#0d0887"
             ],
             [
              0.1111111111111111,
              "#46039f"
             ],
             [
              0.2222222222222222,
              "#7201a8"
             ],
             [
              0.3333333333333333,
              "#9c179e"
             ],
             [
              0.4444444444444444,
              "#bd3786"
             ],
             [
              0.5555555555555556,
              "#d8576b"
             ],
             [
              0.6666666666666666,
              "#ed7953"
             ],
             [
              0.7777777777777778,
              "#fb9f3a"
             ],
             [
              0.8888888888888888,
              "#fdca26"
             ],
             [
              1,
              "#f0f921"
             ]
            ],
            "type": "heatmap"
           }
          ],
          "histogram": [
           {
            "marker": {
             "pattern": {
              "fillmode": "overlay",
              "size": 10,
              "solidity": 0.2
             }
            },
            "type": "histogram"
           }
          ],
          "histogram2d": [
           {
            "colorbar": {
             "outlinewidth": 0,
             "ticks": ""
            },
            "colorscale": [
             [
              0,
              "#0d0887"
             ],
             [
              0.1111111111111111,
              "#46039f"
             ],
             [
              0.2222222222222222,
              "#7201a8"
             ],
             [
              0.3333333333333333,
              "#9c179e"
             ],
             [
              0.4444444444444444,
              "#bd3786"
             ],
             [
              0.5555555555555556,
              "#d8576b"
             ],
             [
              0.6666666666666666,
              "#ed7953"
             ],
             [
              0.7777777777777778,
              "#fb9f3a"
             ],
             [
              0.8888888888888888,
              "#fdca26"
             ],
             [
              1,
              "#f0f921"
             ]
            ],
            "type": "histogram2d"
           }
          ],
          "histogram2dcontour": [
           {
            "colorbar": {
             "outlinewidth": 0,
             "ticks": ""
            },
            "colorscale": [
             [
              0,
              "#0d0887"
             ],
             [
              0.1111111111111111,
              "#46039f"
             ],
             [
              0.2222222222222222,
              "#7201a8"
             ],
             [
              0.3333333333333333,
              "#9c179e"
             ],
             [
              0.4444444444444444,
              "#bd3786"
             ],
             [
              0.5555555555555556,
              "#d8576b"
             ],
             [
              0.6666666666666666,
              "#ed7953"
             ],
             [
              0.7777777777777778,
              "#fb9f3a"
             ],
             [
              0.8888888888888888,
              "#fdca26"
             ],
             [
              1,
              "#f0f921"
             ]
            ],
            "type": "histogram2dcontour"
           }
          ],
          "mesh3d": [
           {
            "colorbar": {
             "outlinewidth": 0,
             "ticks": ""
            },
            "type": "mesh3d"
           }
          ],
          "parcoords": [
           {
            "line": {
             "colorbar": {
              "outlinewidth": 0,
              "ticks": ""
             }
            },
            "type": "parcoords"
           }
          ],
          "pie": [
           {
            "automargin": true,
            "type": "pie"
           }
          ],
          "scatter": [
           {
            "fillpattern": {
             "fillmode": "overlay",
             "size": 10,
             "solidity": 0.2
            },
            "type": "scatter"
           }
          ],
          "scatter3d": [
           {
            "line": {
             "colorbar": {
              "outlinewidth": 0,
              "ticks": ""
             }
            },
            "marker": {
             "colorbar": {
              "outlinewidth": 0,
              "ticks": ""
             }
            },
            "type": "scatter3d"
           }
          ],
          "scattercarpet": [
           {
            "marker": {
             "colorbar": {
              "outlinewidth": 0,
              "ticks": ""
             }
            },
            "type": "scattercarpet"
           }
          ],
          "scattergeo": [
           {
            "marker": {
             "colorbar": {
              "outlinewidth": 0,
              "ticks": ""
             }
            },
            "type": "scattergeo"
           }
          ],
          "scattergl": [
           {
            "marker": {
             "colorbar": {
              "outlinewidth": 0,
              "ticks": ""
             }
            },
            "type": "scattergl"
           }
          ],
          "scattermap": [
           {
            "marker": {
             "colorbar": {
              "outlinewidth": 0,
              "ticks": ""
             }
            },
            "type": "scattermap"
           }
          ],
          "scattermapbox": [
           {
            "marker": {
             "colorbar": {
              "outlinewidth": 0,
              "ticks": ""
             }
            },
            "type": "scattermapbox"
           }
          ],
          "scatterpolar": [
           {
            "marker": {
             "colorbar": {
              "outlinewidth": 0,
              "ticks": ""
             }
            },
            "type": "scatterpolar"
           }
          ],
          "scatterpolargl": [
           {
            "marker": {
             "colorbar": {
              "outlinewidth": 0,
              "ticks": ""
             }
            },
            "type": "scatterpolargl"
           }
          ],
          "scatterternary": [
           {
            "marker": {
             "colorbar": {
              "outlinewidth": 0,
              "ticks": ""
             }
            },
            "type": "scatterternary"
           }
          ],
          "surface": [
           {
            "colorbar": {
             "outlinewidth": 0,
             "ticks": ""
            },
            "colorscale": [
             [
              0,
              "#0d0887"
             ],
             [
              0.1111111111111111,
              "#46039f"
             ],
             [
              0.2222222222222222,
              "#7201a8"
             ],
             [
              0.3333333333333333,
              "#9c179e"
             ],
             [
              0.4444444444444444,
              "#bd3786"
             ],
             [
              0.5555555555555556,
              "#d8576b"
             ],
             [
              0.6666666666666666,
              "#ed7953"
             ],
             [
              0.7777777777777778,
              "#fb9f3a"
             ],
             [
              0.8888888888888888,
              "#fdca26"
             ],
             [
              1,
              "#f0f921"
             ]
            ],
            "type": "surface"
           }
          ],
          "table": [
           {
            "cells": {
             "fill": {
              "color": "#EBF0F8"
             },
             "line": {
              "color": "white"
             }
            },
            "header": {
             "fill": {
              "color": "#C8D4E3"
             },
             "line": {
              "color": "white"
             }
            },
            "type": "table"
           }
          ]
         },
         "layout": {
          "annotationdefaults": {
           "arrowcolor": "#2a3f5f",
           "arrowhead": 0,
           "arrowwidth": 1
          },
          "autotypenumbers": "strict",
          "coloraxis": {
           "colorbar": {
            "outlinewidth": 0,
            "ticks": ""
           }
          },
          "colorscale": {
           "diverging": [
            [
             0,
             "#8e0152"
            ],
            [
             0.1,
             "#c51b7d"
            ],
            [
             0.2,
             "#de77ae"
            ],
            [
             0.3,
             "#f1b6da"
            ],
            [
             0.4,
             "#fde0ef"
            ],
            [
             0.5,
             "#f7f7f7"
            ],
            [
             0.6,
             "#e6f5d0"
            ],
            [
             0.7,
             "#b8e186"
            ],
            [
             0.8,
             "#7fbc41"
            ],
            [
             0.9,
             "#4d9221"
            ],
            [
             1,
             "#276419"
            ]
           ],
           "sequential": [
            [
             0,
             "#0d0887"
            ],
            [
             0.1111111111111111,
             "#46039f"
            ],
            [
             0.2222222222222222,
             "#7201a8"
            ],
            [
             0.3333333333333333,
             "#9c179e"
            ],
            [
             0.4444444444444444,
             "#bd3786"
            ],
            [
             0.5555555555555556,
             "#d8576b"
            ],
            [
             0.6666666666666666,
             "#ed7953"
            ],
            [
             0.7777777777777778,
             "#fb9f3a"
            ],
            [
             0.8888888888888888,
             "#fdca26"
            ],
            [
             1,
             "#f0f921"
            ]
           ],
           "sequentialminus": [
            [
             0,
             "#0d0887"
            ],
            [
             0.1111111111111111,
             "#46039f"
            ],
            [
             0.2222222222222222,
             "#7201a8"
            ],
            [
             0.3333333333333333,
             "#9c179e"
            ],
            [
             0.4444444444444444,
             "#bd3786"
            ],
            [
             0.5555555555555556,
             "#d8576b"
            ],
            [
             0.6666666666666666,
             "#ed7953"
            ],
            [
             0.7777777777777778,
             "#fb9f3a"
            ],
            [
             0.8888888888888888,
             "#fdca26"
            ],
            [
             1,
             "#f0f921"
            ]
           ]
          },
          "colorway": [
           "#636efa",
           "#EF553B",
           "#00cc96",
           "#ab63fa",
           "#FFA15A",
           "#19d3f3",
           "#FF6692",
           "#B6E880",
           "#FF97FF",
           "#FECB52"
          ],
          "font": {
           "color": "#2a3f5f"
          },
          "geo": {
           "bgcolor": "white",
           "lakecolor": "white",
           "landcolor": "#E5ECF6",
           "showlakes": true,
           "showland": true,
           "subunitcolor": "white"
          },
          "hoverlabel": {
           "align": "left"
          },
          "hovermode": "closest",
          "mapbox": {
           "style": "light"
          },
          "paper_bgcolor": "white",
          "plot_bgcolor": "#E5ECF6",
          "polar": {
           "angularaxis": {
            "gridcolor": "white",
            "linecolor": "white",
            "ticks": ""
           },
           "bgcolor": "#E5ECF6",
           "radialaxis": {
            "gridcolor": "white",
            "linecolor": "white",
            "ticks": ""
           }
          },
          "scene": {
           "xaxis": {
            "backgroundcolor": "#E5ECF6",
            "gridcolor": "white",
            "gridwidth": 2,
            "linecolor": "white",
            "showbackground": true,
            "ticks": "",
            "zerolinecolor": "white"
           },
           "yaxis": {
            "backgroundcolor": "#E5ECF6",
            "gridcolor": "white",
            "gridwidth": 2,
            "linecolor": "white",
            "showbackground": true,
            "ticks": "",
            "zerolinecolor": "white"
           },
           "zaxis": {
            "backgroundcolor": "#E5ECF6",
            "gridcolor": "white",
            "gridwidth": 2,
            "linecolor": "white",
            "showbackground": true,
            "ticks": "",
            "zerolinecolor": "white"
           }
          },
          "shapedefaults": {
           "line": {
            "color": "#2a3f5f"
           }
          },
          "ternary": {
           "aaxis": {
            "gridcolor": "white",
            "linecolor": "white",
            "ticks": ""
           },
           "baxis": {
            "gridcolor": "white",
            "linecolor": "white",
            "ticks": ""
           },
           "bgcolor": "#E5ECF6",
           "caxis": {
            "gridcolor": "white",
            "linecolor": "white",
            "ticks": ""
           }
          },
          "title": {
           "x": 0.05
          },
          "xaxis": {
           "automargin": true,
           "gridcolor": "white",
           "linecolor": "white",
           "ticks": "",
           "title": {
            "standoff": 15
           },
           "zerolinecolor": "white",
           "zerolinewidth": 2
          },
          "yaxis": {
           "automargin": true,
           "gridcolor": "white",
           "linecolor": "white",
           "ticks": "",
           "title": {
            "standoff": 15
           },
           "zerolinecolor": "white",
           "zerolinewidth": 2
          }
         }
        },
        "title": {
         "text": "Mahalanobis Scores (Fold 0)"
        },
        "xaxis": {
         "anchor": "y",
         "domain": [
          0,
          1
         ],
         "title": {
          "text": "log_score"
         }
        },
        "yaxis": {
         "anchor": "x",
         "domain": [
          0,
          1
         ],
         "title": {
          "text": "count"
         }
        }
       }
      }
     },
     "metadata": {},
     "output_type": "display_data"
    },
    {
     "data": {
      "application/vnd.plotly.v1+json": {
       "config": {
        "plotlyServerURL": "https://plot.ly"
       },
       "data": [
        {
         "bingroup": "x",
         "hovertemplate": "label=train<br>log_score=%{x}<br>count=%{y}<extra></extra>",
         "legendgroup": "train",
         "marker": {
          "color": "#636efa",
          "opacity": 0.6,
          "pattern": {
           "shape": ""
          }
         },
         "name": "train",
         "nbinsx": 30,
         "orientation": "v",
         "showlegend": true,
         "type": "histogram",
         "x": {
          "bdata": "gAoqQPflLUC83yxACoEpQPxcLEDNZSZANogsQC7PKkA31CpAbSEuQGTuKUBC5idA24AnQENLKkCN8ipARjspQO0nLkB0BCpAFDsoQKpPK0A6oCpArf0nQBGKJ0CFHClArSknQCb0KUBa9SdAxQkqQJUuKUARkixAi7cpQD/mKkB2+y5AwBYpQMCIKUBImitAWzgtQIDcLUCOQSxAMDktQBC1KEDWEChAhK8pQAm1LUAXoStAGsEqQGDbKkDJ8ihA+bsnQP0uK0C8ZilAOdsoQJ6WKUC6WipAV7ApQLbwKkB/WCxAp0crQINtKkCDtidAcs0rQCuCK0DP3CdAIGgsQITLKkCQyC1AXqEmQF6FKkDz7StAmJopQLZfKkDKKitABnwtQFAaKkAqAitA4AUrQMliKUAtEStAWnUrQK4YKkBaYitAUaMmQHEfKUDtQS1A+94sQBQJKUAJzypAFmEtQDmRLUAsaSlA6YcwQLbGKUBPGihAQ2gpQDZ0K0BQpitAom4rQLUZKkDx4CpAva0tQBr7KEAGTSdAZlEpQN7AK0CWtClAfhYqQFzNK0Be6CtAoBklQO6YJkB3kSdA40EqQEqhK0CQUipAz/kqQCzmLECUDClA4hIsQNyPKUCoGStA6YwoQI8EL0A64ylA0FUpQO4AK0CmIClAugIsQCaHKEALyihAWpwoQA2AKECNTi1AOmUlQB0KK0Du9idAGl8oQLhgLEDXrSpAgHsqQA2HLUBNVShARbopQF/KK0BXLyhAs30mQP9RK0AfAC9ATscqQPe0KUA4SSlA90omQCuJL0Aw0CpAtHUuQJUmKkDM4ytAbBonQPRuKkBrjypAruQrQGdpKUAU4ilAwekpQLH1KkD5uiZAUPIsQIpCK0CHoyhAxfYrQEtEKUA15SlApssrQBSKK0BM0yZAHKcoQB2xKED3xSlAPqkvQLU+KUC1YClArPopQCSkKUA61CdAd0gsQGW6K0C5lSZA8SQrQNRYK0DXXylAhOEnQNOLK0Bm8ShAM5oqQNvkKUBxhChAXQwoQFEBLUDCaClAHL0sQGAELEAZwCZAyzEqQKFBKUCWJChAVlUoQNx8KUASgS1A7P8qQGVlLECm3ylAnnYnQCGuKkC+TytAivkpQLqIKkDPhyxAH0kqQMyvKECOHStAmrkpQCqjK0AZyCxAfoUkQFUNKkA=",
          "dtype": "f4"
         },
         "xaxis": "x",
         "yaxis": "y"
        },
        {
         "bingroup": "x",
         "hovertemplate": "label=val<br>log_score=%{x}<br>count=%{y}<extra></extra>",
         "legendgroup": "val",
         "marker": {
          "color": "#EF553B",
          "opacity": 0.6,
          "pattern": {
           "shape": ""
          }
         },
         "name": "val",
         "nbinsx": 30,
         "orientation": "v",
         "showlegend": true,
         "type": "histogram",
         "x": {
          "bdata": "UDlOQJgEUkAijlpAFYlbQI5uUEBAu1xArkFWQCexVkDy+ldAhGRXQF7IVEDdY1NASHxfQM7qV0Ddn1ZAkV9KQMC9ZEA3/U1A7wVSQDlPUkDVD0hAsn9LQDnYZkDi1V1AIhVQQIDpS0CydllAXwRIQKuwW0Bg2VtAVxlXQN+DTEDAD05AFkdcQI2KUEAn1VlAAL5YQF5hXEBCM1pAIJdPQFY+X0CMo1tAcgtVQLNOWUAqTlxAc0BUQBqLUUC3dVVAGlFYQE/hW0AbqV5AixRmQJOPWUBrUkZAXQ5PQCuSVUA=",
          "dtype": "f4"
         },
         "xaxis": "x",
         "yaxis": "y"
        },
        {
         "bingroup": "x",
         "hovertemplate": "label=color<br>log_score=%{x}<br>count=%{y}<extra></extra>",
         "legendgroup": "color",
         "marker": {
          "color": "#00cc96",
          "opacity": 0.6,
          "pattern": {
           "shape": ""
          }
         },
         "name": "color",
         "nbinsx": 30,
         "orientation": "v",
         "showlegend": true,
         "type": "histogram",
         "x": {
          "bdata": "WCW4QOEplkAy9YRAasGJQPZQoEDpWIlAAfKBQDabnkDC2bRAP1WGQPZUj0DLmKtASUayQI9KsUBbk4ZAXOyqQHoEj0A3SptAbJaZQA==",
          "dtype": "f4"
         },
         "xaxis": "x",
         "yaxis": "y"
        },
        {
         "bingroup": "x",
         "hovertemplate": "label=cut<br>log_score=%{x}<br>count=%{y}<extra></extra>",
         "legendgroup": "cut",
         "marker": {
          "color": "#ab63fa",
          "opacity": 0.6,
          "pattern": {
           "shape": ""
          }
         },
         "name": "cut",
         "nbinsx": 30,
         "orientation": "v",
         "showlegend": true,
         "type": "histogram",
         "x": {
          "bdata": "rtG/QMgWt0ANtL9AUru7QJqYlEAlUbJAsPe6QKk1pUDgN55AuEK5QCpqtUBOkMhAVF/EQPmFvkByErZAcCbHQDeRqEA=",
          "dtype": "f4"
         },
         "xaxis": "x",
         "yaxis": "y"
        },
        {
         "bingroup": "x",
         "hovertemplate": "label=good<br>log_score=%{x}<br>count=%{y}<extra></extra>",
         "legendgroup": "good",
         "marker": {
          "color": "#FFA15A",
          "opacity": 0.6,
          "pattern": {
           "shape": ""
          }
         },
         "name": "good",
         "nbinsx": 30,
         "orientation": "v",
         "showlegend": true,
         "type": "histogram",
         "x": {
          "bdata": "SA5fQLk9X0DIhnJAzB51QIrtckCHtXlArud5QGWUd0CacoNAFUd0QCLRZkCBwlxAKUV9QMZee0Bt6HtAlcmAQIrVa0Br32JAhS1tQH6tgEAlD2NAnSVrQOzQZUB0FGlAFdhgQN5PXkCPpGFAXnVsQA==",
          "dtype": "f4"
         },
         "xaxis": "x",
         "yaxis": "y"
        },
        {
         "bingroup": "x",
         "hovertemplate": "label=hole<br>log_score=%{x}<br>count=%{y}<extra></extra>",
         "legendgroup": "hole",
         "marker": {
          "color": "#19d3f3",
          "opacity": 0.6,
          "pattern": {
           "shape": ""
          }
         },
         "name": "hole",
         "nbinsx": 30,
         "orientation": "v",
         "showlegend": true,
         "type": "histogram",
         "x": {
          "bdata": "h0G2QP0CdkBLGapAvj24QPJbskD1yKtAkKi4QKg4wUB0K71AESOwQHKOtEA1lbVAPSCuQNhUukAFA7pAymaoQIRIn0A=",
          "dtype": "f4"
         },
         "xaxis": "x",
         "yaxis": "y"
        },
        {
         "bingroup": "x",
         "hovertemplate": "label=metal_contamination<br>log_score=%{x}<br>count=%{y}<extra></extra>",
         "legendgroup": "metal_contamination",
         "marker": {
          "color": "#FF6692",
          "opacity": 0.6,
          "pattern": {
           "shape": ""
          }
         },
         "name": "metal_contamination",
         "nbinsx": 30,
         "orientation": "v",
         "showlegend": true,
         "type": "histogram",
         "x": {
          "bdata": "R8NuQPdUjUAyV61ACBy4QMassEDbdcFAOgi/QI50y0DxJr1A+jiqQKKfuUCrD61AtlC9QHFosEDu5JRAA1exQIvAoEA=",
          "dtype": "f4"
         },
         "xaxis": "x",
         "yaxis": "y"
        },
        {
         "bingroup": "x",
         "hovertemplate": "label=thread<br>log_score=%{x}<br>count=%{y}<extra></extra>",
         "legendgroup": "thread",
         "marker": {
          "color": "#B6E880",
          "opacity": 0.6,
          "pattern": {
           "shape": ""
          }
         },
         "name": "thread",
         "nbinsx": 30,
         "orientation": "v",
         "showlegend": true,
         "type": "histogram",
         "x": {
          "bdata": "cq6/QCZghkB8LbNA4dOhQPzIt0AyDtdAxqDWQDaLy0D988lA252HQGvPxUBUfq1AqV60QGiG0kDLu5FAmkGBQJwyu0AkmtBAmkiGQA==",
          "dtype": "f4"
         },
         "xaxis": "x",
         "yaxis": "y"
        }
       ],
       "layout": {
        "barmode": "overlay",
        "legend": {
         "title": {
          "text": "label"
         },
         "tracegroupgap": 0
        },
        "margin": {
         "t": 60
        },
        "template": {
         "data": {
          "bar": [
           {
            "error_x": {
             "color": "#2a3f5f"
            },
            "error_y": {
             "color": "#2a3f5f"
            },
            "marker": {
             "line": {
              "color": "#E5ECF6",
              "width": 0.5
             },
             "pattern": {
              "fillmode": "overlay",
              "size": 10,
              "solidity": 0.2
             }
            },
            "type": "bar"
           }
          ],
          "barpolar": [
           {
            "marker": {
             "line": {
              "color": "#E5ECF6",
              "width": 0.5
             },
             "pattern": {
              "fillmode": "overlay",
              "size": 10,
              "solidity": 0.2
             }
            },
            "type": "barpolar"
           }
          ],
          "carpet": [
           {
            "aaxis": {
             "endlinecolor": "#2a3f5f",
             "gridcolor": "white",
             "linecolor": "white",
             "minorgridcolor": "white",
             "startlinecolor": "#2a3f5f"
            },
            "baxis": {
             "endlinecolor": "#2a3f5f",
             "gridcolor": "white",
             "linecolor": "white",
             "minorgridcolor": "white",
             "startlinecolor": "#2a3f5f"
            },
            "type": "carpet"
           }
          ],
          "choropleth": [
           {
            "colorbar": {
             "outlinewidth": 0,
             "ticks": ""
            },
            "type": "choropleth"
           }
          ],
          "contour": [
           {
            "colorbar": {
             "outlinewidth": 0,
             "ticks": ""
            },
            "colorscale": [
             [
              0,
              "#0d0887"
             ],
             [
              0.1111111111111111,
              "#46039f"
             ],
             [
              0.2222222222222222,
              "#7201a8"
             ],
             [
              0.3333333333333333,
              "#9c179e"
             ],
             [
              0.4444444444444444,
              "#bd3786"
             ],
             [
              0.5555555555555556,
              "#d8576b"
             ],
             [
              0.6666666666666666,
              "#ed7953"
             ],
             [
              0.7777777777777778,
              "#fb9f3a"
             ],
             [
              0.8888888888888888,
              "#fdca26"
             ],
             [
              1,
              "#f0f921"
             ]
            ],
            "type": "contour"
           }
          ],
          "contourcarpet": [
           {
            "colorbar": {
             "outlinewidth": 0,
             "ticks": ""
            },
            "type": "contourcarpet"
           }
          ],
          "heatmap": [
           {
            "colorbar": {
             "outlinewidth": 0,
             "ticks": ""
            },
            "colorscale": [
             [
              0,
              "#0d0887"
             ],
             [
              0.1111111111111111,
              "#46039f"
             ],
             [
              0.2222222222222222,
              "#7201a8"
             ],
             [
              0.3333333333333333,
              "#9c179e"
             ],
             [
              0.4444444444444444,
              "#bd3786"
             ],
             [
              0.5555555555555556,
              "#d8576b"
             ],
             [
              0.6666666666666666,
              "#ed7953"
             ],
             [
              0.7777777777777778,
              "#fb9f3a"
             ],
             [
              0.8888888888888888,
              "#fdca26"
             ],
             [
              1,
              "#f0f921"
             ]
            ],
            "type": "heatmap"
           }
          ],
          "histogram": [
           {
            "marker": {
             "pattern": {
              "fillmode": "overlay",
              "size": 10,
              "solidity": 0.2
             }
            },
            "type": "histogram"
           }
          ],
          "histogram2d": [
           {
            "colorbar": {
             "outlinewidth": 0,
             "ticks": ""
            },
            "colorscale": [
             [
              0,
              "#0d0887"
             ],
             [
              0.1111111111111111,
              "#46039f"
             ],
             [
              0.2222222222222222,
              "#7201a8"
             ],
             [
              0.3333333333333333,
              "#9c179e"
             ],
             [
              0.4444444444444444,
              "#bd3786"
             ],
             [
              0.5555555555555556,
              "#d8576b"
             ],
             [
              0.6666666666666666,
              "#ed7953"
             ],
             [
              0.7777777777777778,
              "#fb9f3a"
             ],
             [
              0.8888888888888888,
              "#fdca26"
             ],
             [
              1,
              "#f0f921"
             ]
            ],
            "type": "histogram2d"
           }
          ],
          "histogram2dcontour": [
           {
            "colorbar": {
             "outlinewidth": 0,
             "ticks": ""
            },
            "colorscale": [
             [
              0,
              "#0d0887"
             ],
             [
              0.1111111111111111,
              "#46039f"
             ],
             [
              0.2222222222222222,
              "#7201a8"
             ],
             [
              0.3333333333333333,
              "#9c179e"
             ],
             [
              0.4444444444444444,
              "#bd3786"
             ],
             [
              0.5555555555555556,
              "#d8576b"
             ],
             [
              0.6666666666666666,
              "#ed7953"
             ],
             [
              0.7777777777777778,
              "#fb9f3a"
             ],
             [
              0.8888888888888888,
              "#fdca26"
             ],
             [
              1,
              "#f0f921"
             ]
            ],
            "type": "histogram2dcontour"
           }
          ],
          "mesh3d": [
           {
            "colorbar": {
             "outlinewidth": 0,
             "ticks": ""
            },
            "type": "mesh3d"
           }
          ],
          "parcoords": [
           {
            "line": {
             "colorbar": {
              "outlinewidth": 0,
              "ticks": ""
             }
            },
            "type": "parcoords"
           }
          ],
          "pie": [
           {
            "automargin": true,
            "type": "pie"
           }
          ],
          "scatter": [
           {
            "fillpattern": {
             "fillmode": "overlay",
             "size": 10,
             "solidity": 0.2
            },
            "type": "scatter"
           }
          ],
          "scatter3d": [
           {
            "line": {
             "colorbar": {
              "outlinewidth": 0,
              "ticks": ""
             }
            },
            "marker": {
             "colorbar": {
              "outlinewidth": 0,
              "ticks": ""
             }
            },
            "type": "scatter3d"
           }
          ],
          "scattercarpet": [
           {
            "marker": {
             "colorbar": {
              "outlinewidth": 0,
              "ticks": ""
             }
            },
            "type": "scattercarpet"
           }
          ],
          "scattergeo": [
           {
            "marker": {
             "colorbar": {
              "outlinewidth": 0,
              "ticks": ""
             }
            },
            "type": "scattergeo"
           }
          ],
          "scattergl": [
           {
            "marker": {
             "colorbar": {
              "outlinewidth": 0,
              "ticks": ""
             }
            },
            "type": "scattergl"
           }
          ],
          "scattermap": [
           {
            "marker": {
             "colorbar": {
              "outlinewidth": 0,
              "ticks": ""
             }
            },
            "type": "scattermap"
           }
          ],
          "scattermapbox": [
           {
            "marker": {
             "colorbar": {
              "outlinewidth": 0,
              "ticks": ""
             }
            },
            "type": "scattermapbox"
           }
          ],
          "scatterpolar": [
           {
            "marker": {
             "colorbar": {
              "outlinewidth": 0,
              "ticks": ""
             }
            },
            "type": "scatterpolar"
           }
          ],
          "scatterpolargl": [
           {
            "marker": {
             "colorbar": {
              "outlinewidth": 0,
              "ticks": ""
             }
            },
            "type": "scatterpolargl"
           }
          ],
          "scatterternary": [
           {
            "marker": {
             "colorbar": {
              "outlinewidth": 0,
              "ticks": ""
             }
            },
            "type": "scatterternary"
           }
          ],
          "surface": [
           {
            "colorbar": {
             "outlinewidth": 0,
             "ticks": ""
            },
            "colorscale": [
             [
              0,
              "#0d0887"
             ],
             [
              0.1111111111111111,
              "#46039f"
             ],
             [
              0.2222222222222222,
              "#7201a8"
             ],
             [
              0.3333333333333333,
              "#9c179e"
             ],
             [
              0.4444444444444444,
              "#bd3786"
             ],
             [
              0.5555555555555556,
              "#d8576b"
             ],
             [
              0.6666666666666666,
              "#ed7953"
             ],
             [
              0.7777777777777778,
              "#fb9f3a"
             ],
             [
              0.8888888888888888,
              "#fdca26"
             ],
             [
              1,
              "#f0f921"
             ]
            ],
            "type": "surface"
           }
          ],
          "table": [
           {
            "cells": {
             "fill": {
              "color": "#EBF0F8"
             },
             "line": {
              "color": "white"
             }
            },
            "header": {
             "fill": {
              "color": "#C8D4E3"
             },
             "line": {
              "color": "white"
             }
            },
            "type": "table"
           }
          ]
         },
         "layout": {
          "annotationdefaults": {
           "arrowcolor": "#2a3f5f",
           "arrowhead": 0,
           "arrowwidth": 1
          },
          "autotypenumbers": "strict",
          "coloraxis": {
           "colorbar": {
            "outlinewidth": 0,
            "ticks": ""
           }
          },
          "colorscale": {
           "diverging": [
            [
             0,
             "#8e0152"
            ],
            [
             0.1,
             "#c51b7d"
            ],
            [
             0.2,
             "#de77ae"
            ],
            [
             0.3,
             "#f1b6da"
            ],
            [
             0.4,
             "#fde0ef"
            ],
            [
             0.5,
             "#f7f7f7"
            ],
            [
             0.6,
             "#e6f5d0"
            ],
            [
             0.7,
             "#b8e186"
            ],
            [
             0.8,
             "#7fbc41"
            ],
            [
             0.9,
             "#4d9221"
            ],
            [
             1,
             "#276419"
            ]
           ],
           "sequential": [
            [
             0,
             "#0d0887"
            ],
            [
             0.1111111111111111,
             "#46039f"
            ],
            [
             0.2222222222222222,
             "#7201a8"
            ],
            [
             0.3333333333333333,
             "#9c179e"
            ],
            [
             0.4444444444444444,
             "#bd3786"
            ],
            [
             0.5555555555555556,
             "#d8576b"
            ],
            [
             0.6666666666666666,
             "#ed7953"
            ],
            [
             0.7777777777777778,
             "#fb9f3a"
            ],
            [
             0.8888888888888888,
             "#fdca26"
            ],
            [
             1,
             "#f0f921"
            ]
           ],
           "sequentialminus": [
            [
             0,
             "#0d0887"
            ],
            [
             0.1111111111111111,
             "#46039f"
            ],
            [
             0.2222222222222222,
             "#7201a8"
            ],
            [
             0.3333333333333333,
             "#9c179e"
            ],
            [
             0.4444444444444444,
             "#bd3786"
            ],
            [
             0.5555555555555556,
             "#d8576b"
            ],
            [
             0.6666666666666666,
             "#ed7953"
            ],
            [
             0.7777777777777778,
             "#fb9f3a"
            ],
            [
             0.8888888888888888,
             "#fdca26"
            ],
            [
             1,
             "#f0f921"
            ]
           ]
          },
          "colorway": [
           "#636efa",
           "#EF553B",
           "#00cc96",
           "#ab63fa",
           "#FFA15A",
           "#19d3f3",
           "#FF6692",
           "#B6E880",
           "#FF97FF",
           "#FECB52"
          ],
          "font": {
           "color": "#2a3f5f"
          },
          "geo": {
           "bgcolor": "white",
           "lakecolor": "white",
           "landcolor": "#E5ECF6",
           "showlakes": true,
           "showland": true,
           "subunitcolor": "white"
          },
          "hoverlabel": {
           "align": "left"
          },
          "hovermode": "closest",
          "mapbox": {
           "style": "light"
          },
          "paper_bgcolor": "white",
          "plot_bgcolor": "#E5ECF6",
          "polar": {
           "angularaxis": {
            "gridcolor": "white",
            "linecolor": "white",
            "ticks": ""
           },
           "bgcolor": "#E5ECF6",
           "radialaxis": {
            "gridcolor": "white",
            "linecolor": "white",
            "ticks": ""
           }
          },
          "scene": {
           "xaxis": {
            "backgroundcolor": "#E5ECF6",
            "gridcolor": "white",
            "gridwidth": 2,
            "linecolor": "white",
            "showbackground": true,
            "ticks": "",
            "zerolinecolor": "white"
           },
           "yaxis": {
            "backgroundcolor": "#E5ECF6",
            "gridcolor": "white",
            "gridwidth": 2,
            "linecolor": "white",
            "showbackground": true,
            "ticks": "",
            "zerolinecolor": "white"
           },
           "zaxis": {
            "backgroundcolor": "#E5ECF6",
            "gridcolor": "white",
            "gridwidth": 2,
            "linecolor": "white",
            "showbackground": true,
            "ticks": "",
            "zerolinecolor": "white"
           }
          },
          "shapedefaults": {
           "line": {
            "color": "#2a3f5f"
           }
          },
          "ternary": {
           "aaxis": {
            "gridcolor": "white",
            "linecolor": "white",
            "ticks": ""
           },
           "baxis": {
            "gridcolor": "white",
            "linecolor": "white",
            "ticks": ""
           },
           "bgcolor": "#E5ECF6",
           "caxis": {
            "gridcolor": "white",
            "linecolor": "white",
            "ticks": ""
           }
          },
          "title": {
           "x": 0.05
          },
          "xaxis": {
           "automargin": true,
           "gridcolor": "white",
           "linecolor": "white",
           "ticks": "",
           "title": {
            "standoff": 15
           },
           "zerolinecolor": "white",
           "zerolinewidth": 2
          },
          "yaxis": {
           "automargin": true,
           "gridcolor": "white",
           "linecolor": "white",
           "ticks": "",
           "title": {
            "standoff": 15
           },
           "zerolinecolor": "white",
           "zerolinewidth": 2
          }
         }
        },
        "title": {
         "text": "Mahalanobis Scores (Fold 1)"
        },
        "xaxis": {
         "anchor": "y",
         "domain": [
          0,
          1
         ],
         "title": {
          "text": "log_score"
         }
        },
        "yaxis": {
         "anchor": "x",
         "domain": [
          0,
          1
         ],
         "title": {
          "text": "count"
         }
        }
       }
      }
     },
     "metadata": {},
     "output_type": "display_data"
    },
    {
     "data": {
      "application/vnd.plotly.v1+json": {
       "config": {
        "plotlyServerURL": "https://plot.ly"
       },
       "data": [
        {
         "bingroup": "x",
         "hovertemplate": "label=train<br>log_score=%{x}<br>count=%{y}<extra></extra>",
         "legendgroup": "train",
         "marker": {
          "color": "#636efa",
          "opacity": 0.6,
          "pattern": {
           "shape": ""
          }
         },
         "name": "train",
         "nbinsx": 30,
         "orientation": "v",
         "showlegend": true,
         "type": "histogram",
         "x": {
          "bdata": "COcnQJjzKUBwOShAhOgoQLwRJkCDRytAJ/oqQIxhK0BxdilAeyEuQCH8KUDBuS1AVGYpQKDOLUAVwihAhK0pQMjMKkDlcStANQEtQKFiKUBO0ytAWpYrQCP1JkCUHilA8IkqQA6WJ0DtBS1AFbYrQFY+KUBSJC5AW1MtQB8UKkD5UytAI0wrQL+DKUCaMSxAWe4rQDpLKUA0zSdAKxosQDmPK0AQuidAmTMtQHSeKkBBSC1AbXIrQN6kJ0ARFixASS4sQHvdKECh4yhA5OQqQNiHLUBypihAmy8pQL9WK0DgoilAgzgtQCYXKEBh7SlA+9MrQHRzK0C7aClAk+opQJR7LUCx9CpASVQoQK4pK0B9kzBACfUoQBXFKUBPfClAefkoQKz5LkBUISxAhq8qQKi5KkBhAC1AU/0oQAK0KEB+rCpAc3IpQBi9LEDQMipAXUcoQJ59KkCEoiZA2bkrQBH3K0AwSidAfnMpQMoULED5kSlAMUEoQMgiK0CPSyhAAKQnQBQpKUDpTy9AHaAvQPm+KkB6lyZARtUpQLDOKUAkYCpAUkIqQK+cKkBvxipAtF0rQPinK0AP/ixAUQIpQJULK0AAGytA+u0rQKgbKUAbgSxA0GYsQKvSJkDoyipAIUQrQIKkKEDmxCtAe64nQBqxKkAeySdAKHksQIK5LUAX0SlAIQUpQLDqJ0CupilAJJQqQL5MLECkzChAT+EqQNEfK0CSsy1Ad+ErQN6aKkClvCpA+WQrQFUNKkDfLCpAHBEsQHBfKUBuCChAa7gqQJ52JkB30y1AdfwoQEQSKUCknSpAYsYpQGf0KUCWGSpAWPEmQKl/KkBOpylA5AMuQOQVKUAtFipAeNoqQCyWLEACUyxASvkqQFBZKECNJixAV0crQMiBK0B3mStAX6EoQDCBKkAtiiZAOvkoQDzgK0DLuC1AOuYpQAe2K0D49CdAeS8pQGZmKUCEmShA+RAqQGeDJ0DM5iZAwPgsQFIrKEDWFixAOY8qQI/mKkAndSdAz4UrQJt5KkBwxitAWpMnQLzuKUB3wCtAaLktQKwCK0DBYiVAdTkpQDuwKUBYhCpAcvkuQPbNKUA1rypAsCsnQKl6LUD/wSpACdwpQOJJK0DEWCtA934pQAfOKUB++yxAu5UnQMp6LEA1bidA8ZIrQAwPKEA7ripA8uUrQK4vKkA=",
          "dtype": "f4"
         },
         "xaxis": "x",
         "yaxis": "y"
        },
        {
         "bingroup": "x",
         "hovertemplate": "label=val<br>log_score=%{x}<br>count=%{y}<extra></extra>",
         "legendgroup": "val",
         "marker": {
          "color": "#EF553B",
          "opacity": 0.6,
          "pattern": {
           "shape": ""
          }
         },
         "name": "val",
         "nbinsx": 30,
         "orientation": "v",
         "showlegend": true,
         "type": "histogram",
         "x": {
          "bdata": "rqVVQL8kV0CGC1BAuzZOQElhWUARSEdAbiBWQJXLZED5qVFArHJSQNbGU0CoTlNAUsRLQP46VUC18FBAJ/VMQBI7UUAczHpAqgdSQPBcV0BHMlFAvmJRQDJmUECy2VVAki1XQHUWWkD24FhA3pRUQIwURkCgWFtAX/NuQE6yaECZFlhAa/BPQHaqUEBj/FRAnX9aQDgAXkCvxlNAPF1bQATgV0CL8ldAK55YQKvuU0BvplxAYsNPQO6OZEBhLlZAQbxkQJwGWkAY4EhA/R1QQDG2X0DS5l5AP0xYQPVkYkA=",
          "dtype": "f4"
         },
         "xaxis": "x",
         "yaxis": "y"
        },
        {
         "bingroup": "x",
         "hovertemplate": "label=color<br>log_score=%{x}<br>count=%{y}<extra></extra>",
         "legendgroup": "color",
         "marker": {
          "color": "#00cc96",
          "opacity": 0.6,
          "pattern": {
           "shape": ""
          }
         },
         "name": "color",
         "nbinsx": 30,
         "orientation": "v",
         "showlegend": true,
         "type": "histogram",
         "x": {
          "bdata": "8CC4QDQflkCgd4RA9XaJQBhsn0CEbYpAj3yBQFKankC4CbVAYwyGQJTZj0ByaqxASLqyQECqsUBjvYZAbPSrQCJej0BkQptAx7qZQA==",
          "dtype": "f4"
         },
         "xaxis": "x",
         "yaxis": "y"
        },
        {
         "bingroup": "x",
         "hovertemplate": "label=cut<br>log_score=%{x}<br>count=%{y}<extra></extra>",
         "legendgroup": "cut",
         "marker": {
          "color": "#ab63fa",
          "opacity": 0.6,
          "pattern": {
           "shape": ""
          }
         },
         "name": "cut",
         "nbinsx": 30,
         "orientation": "v",
         "showlegend": true,
         "type": "histogram",
         "x": {
          "bdata": "35nAQNMtuEAk38BAM8W8QLiZlUA0arNAj/i7QDUipkAJHZ9AFbW5QFq9tkCzQ8lATgLFQIT/vkBMgrZA2cHHQB6hqUA=",
          "dtype": "f4"
         },
         "xaxis": "x",
         "yaxis": "y"
        },
        {
         "bingroup": "x",
         "hovertemplate": "label=good<br>log_score=%{x}<br>count=%{y}<extra></extra>",
         "legendgroup": "good",
         "marker": {
          "color": "#FFA15A",
          "opacity": 0.6,
          "pattern": {
           "shape": ""
          }
         },
         "name": "good",
         "nbinsx": 30,
         "orientation": "v",
         "showlegend": true,
         "type": "histogram",
         "x": {
          "bdata": "L7piQO/ZX0APGnRAIpB2QN7Fc0A6dnpAE1Z6QPOoeEBgTYNAr3h1QFX0ZkAQwFtAXqh8QGcNfUAYpH5AzqeBQAqoZ0DQ/GJAMqttQAcKgUAbhmBAoUdrQP0qZkB3L2ZAYjtjQGOFXEDXQ2BAbMJrQA==",
          "dtype": "f4"
         },
         "xaxis": "x",
         "yaxis": "y"
        },
        {
         "bingroup": "x",
         "hovertemplate": "label=hole<br>log_score=%{x}<br>count=%{y}<extra></extra>",
         "legendgroup": "hole",
         "marker": {
          "color": "#19d3f3",
          "opacity": 0.6,
          "pattern": {
           "shape": ""
          }
         },
         "name": "hole",
         "nbinsx": 30,
         "orientation": "v",
         "showlegend": true,
         "type": "histogram",
         "x": {
          "bdata": "/Bu2QNbsdkB9aatAhLS4QI6zskD7N6xA1lG5QDgFwUBNzL1AyaiwQMs9tEDzc7VA2biuQCU5ukDYe7pArjGoQEw3oEA=",
          "dtype": "f4"
         },
         "xaxis": "x",
         "yaxis": "y"
        },
        {
         "bingroup": "x",
         "hovertemplate": "label=metal_contamination<br>log_score=%{x}<br>count=%{y}<extra></extra>",
         "legendgroup": "metal_contamination",
         "marker": {
          "color": "#FF6692",
          "opacity": 0.6,
          "pattern": {
           "shape": ""
          }
         },
         "name": "metal_contamination",
         "nbinsx": 30,
         "orientation": "v",
         "showlegend": true,
         "type": "histogram",
         "x": {
          "bdata": "Vj9uQFhCjUAFK65Agdu4QGdZsUBuG8JAyLW/QPhBzEBuCr5A5x+rQIRKukCASq5A7eK9QDwtsUAZH5VAAY6yQCXSoUA=",
          "dtype": "f4"
         },
         "xaxis": "x",
         "yaxis": "y"
        },
        {
         "bingroup": "x",
         "hovertemplate": "label=thread<br>log_score=%{x}<br>count=%{y}<extra></extra>",
         "legendgroup": "thread",
         "marker": {
          "color": "#B6E880",
          "opacity": 0.6,
          "pattern": {
           "shape": ""
          }
         },
         "name": "thread",
         "nbinsx": 30,
         "orientation": "v",
         "showlegend": true,
         "type": "histogram",
         "x": {
          "bdata": "9ZbAQK3jhkDdRbRAQJyiQBB9uEC8lddAVgvXQGjDy0DY6spAesuHQAQ2xkCHrq1A3aa0QIMa00Dpf5JAnY2CQISUu0DoJtFAoA6HQA==",
          "dtype": "f4"
         },
         "xaxis": "x",
         "yaxis": "y"
        }
       ],
       "layout": {
        "barmode": "overlay",
        "legend": {
         "title": {
          "text": "label"
         },
         "tracegroupgap": 0
        },
        "margin": {
         "t": 60
        },
        "template": {
         "data": {
          "bar": [
           {
            "error_x": {
             "color": "#2a3f5f"
            },
            "error_y": {
             "color": "#2a3f5f"
            },
            "marker": {
             "line": {
              "color": "#E5ECF6",
              "width": 0.5
             },
             "pattern": {
              "fillmode": "overlay",
              "size": 10,
              "solidity": 0.2
             }
            },
            "type": "bar"
           }
          ],
          "barpolar": [
           {
            "marker": {
             "line": {
              "color": "#E5ECF6",
              "width": 0.5
             },
             "pattern": {
              "fillmode": "overlay",
              "size": 10,
              "solidity": 0.2
             }
            },
            "type": "barpolar"
           }
          ],
          "carpet": [
           {
            "aaxis": {
             "endlinecolor": "#2a3f5f",
             "gridcolor": "white",
             "linecolor": "white",
             "minorgridcolor": "white",
             "startlinecolor": "#2a3f5f"
            },
            "baxis": {
             "endlinecolor": "#2a3f5f",
             "gridcolor": "white",
             "linecolor": "white",
             "minorgridcolor": "white",
             "startlinecolor": "#2a3f5f"
            },
            "type": "carpet"
           }
          ],
          "choropleth": [
           {
            "colorbar": {
             "outlinewidth": 0,
             "ticks": ""
            },
            "type": "choropleth"
           }
          ],
          "contour": [
           {
            "colorbar": {
             "outlinewidth": 0,
             "ticks": ""
            },
            "colorscale": [
             [
              0,
              "#0d0887"
             ],
             [
              0.1111111111111111,
              "#46039f"
             ],
             [
              0.2222222222222222,
              "#7201a8"
             ],
             [
              0.3333333333333333,
              "#9c179e"
             ],
             [
              0.4444444444444444,
              "#bd3786"
             ],
             [
              0.5555555555555556,
              "#d8576b"
             ],
             [
              0.6666666666666666,
              "#ed7953"
             ],
             [
              0.7777777777777778,
              "#fb9f3a"
             ],
             [
              0.8888888888888888,
              "#fdca26"
             ],
             [
              1,
              "#f0f921"
             ]
            ],
            "type": "contour"
           }
          ],
          "contourcarpet": [
           {
            "colorbar": {
             "outlinewidth": 0,
             "ticks": ""
            },
            "type": "contourcarpet"
           }
          ],
          "heatmap": [
           {
            "colorbar": {
             "outlinewidth": 0,
             "ticks": ""
            },
            "colorscale": [
             [
              0,
              "#0d0887"
             ],
             [
              0.1111111111111111,
              "#46039f"
             ],
             [
              0.2222222222222222,
              "#7201a8"
             ],
             [
              0.3333333333333333,
              "#9c179e"
             ],
             [
              0.4444444444444444,
              "#bd3786"
             ],
             [
              0.5555555555555556,
              "#d8576b"
             ],
             [
              0.6666666666666666,
              "#ed7953"
             ],
             [
              0.7777777777777778,
              "#fb9f3a"
             ],
             [
              0.8888888888888888,
              "#fdca26"
             ],
             [
              1,
              "#f0f921"
             ]
            ],
            "type": "heatmap"
           }
          ],
          "histogram": [
           {
            "marker": {
             "pattern": {
              "fillmode": "overlay",
              "size": 10,
              "solidity": 0.2
             }
            },
            "type": "histogram"
           }
          ],
          "histogram2d": [
           {
            "colorbar": {
             "outlinewidth": 0,
             "ticks": ""
            },
            "colorscale": [
             [
              0,
              "#0d0887"
             ],
             [
              0.1111111111111111,
              "#46039f"
             ],
             [
              0.2222222222222222,
              "#7201a8"
             ],
             [
              0.3333333333333333,
              "#9c179e"
             ],
             [
              0.4444444444444444,
              "#bd3786"
             ],
             [
              0.5555555555555556,
              "#d8576b"
             ],
             [
              0.6666666666666666,
              "#ed7953"
             ],
             [
              0.7777777777777778,
              "#fb9f3a"
             ],
             [
              0.8888888888888888,
              "#fdca26"
             ],
             [
              1,
              "#f0f921"
             ]
            ],
            "type": "histogram2d"
           }
          ],
          "histogram2dcontour": [
           {
            "colorbar": {
             "outlinewidth": 0,
             "ticks": ""
            },
            "colorscale": [
             [
              0,
              "#0d0887"
             ],
             [
              0.1111111111111111,
              "#46039f"
             ],
             [
              0.2222222222222222,
              "#7201a8"
             ],
             [
              0.3333333333333333,
              "#9c179e"
             ],
             [
              0.4444444444444444,
              "#bd3786"
             ],
             [
              0.5555555555555556,
              "#d8576b"
             ],
             [
              0.6666666666666666,
              "#ed7953"
             ],
             [
              0.7777777777777778,
              "#fb9f3a"
             ],
             [
              0.8888888888888888,
              "#fdca26"
             ],
             [
              1,
              "#f0f921"
             ]
            ],
            "type": "histogram2dcontour"
           }
          ],
          "mesh3d": [
           {
            "colorbar": {
             "outlinewidth": 0,
             "ticks": ""
            },
            "type": "mesh3d"
           }
          ],
          "parcoords": [
           {
            "line": {
             "colorbar": {
              "outlinewidth": 0,
              "ticks": ""
             }
            },
            "type": "parcoords"
           }
          ],
          "pie": [
           {
            "automargin": true,
            "type": "pie"
           }
          ],
          "scatter": [
           {
            "fillpattern": {
             "fillmode": "overlay",
             "size": 10,
             "solidity": 0.2
            },
            "type": "scatter"
           }
          ],
          "scatter3d": [
           {
            "line": {
             "colorbar": {
              "outlinewidth": 0,
              "ticks": ""
             }
            },
            "marker": {
             "colorbar": {
              "outlinewidth": 0,
              "ticks": ""
             }
            },
            "type": "scatter3d"
           }
          ],
          "scattercarpet": [
           {
            "marker": {
             "colorbar": {
              "outlinewidth": 0,
              "ticks": ""
             }
            },
            "type": "scattercarpet"
           }
          ],
          "scattergeo": [
           {
            "marker": {
             "colorbar": {
              "outlinewidth": 0,
              "ticks": ""
             }
            },
            "type": "scattergeo"
           }
          ],
          "scattergl": [
           {
            "marker": {
             "colorbar": {
              "outlinewidth": 0,
              "ticks": ""
             }
            },
            "type": "scattergl"
           }
          ],
          "scattermap": [
           {
            "marker": {
             "colorbar": {
              "outlinewidth": 0,
              "ticks": ""
             }
            },
            "type": "scattermap"
           }
          ],
          "scattermapbox": [
           {
            "marker": {
             "colorbar": {
              "outlinewidth": 0,
              "ticks": ""
             }
            },
            "type": "scattermapbox"
           }
          ],
          "scatterpolar": [
           {
            "marker": {
             "colorbar": {
              "outlinewidth": 0,
              "ticks": ""
             }
            },
            "type": "scatterpolar"
           }
          ],
          "scatterpolargl": [
           {
            "marker": {
             "colorbar": {
              "outlinewidth": 0,
              "ticks": ""
             }
            },
            "type": "scatterpolargl"
           }
          ],
          "scatterternary": [
           {
            "marker": {
             "colorbar": {
              "outlinewidth": 0,
              "ticks": ""
             }
            },
            "type": "scatterternary"
           }
          ],
          "surface": [
           {
            "colorbar": {
             "outlinewidth": 0,
             "ticks": ""
            },
            "colorscale": [
             [
              0,
              "#0d0887"
             ],
             [
              0.1111111111111111,
              "#46039f"
             ],
             [
              0.2222222222222222,
              "#7201a8"
             ],
             [
              0.3333333333333333,
              "#9c179e"
             ],
             [
              0.4444444444444444,
              "#bd3786"
             ],
             [
              0.5555555555555556,
              "#d8576b"
             ],
             [
              0.6666666666666666,
              "#ed7953"
             ],
             [
              0.7777777777777778,
              "#fb9f3a"
             ],
             [
              0.8888888888888888,
              "#fdca26"
             ],
             [
              1,
              "#f0f921"
             ]
            ],
            "type": "surface"
           }
          ],
          "table": [
           {
            "cells": {
             "fill": {
              "color": "#EBF0F8"
             },
             "line": {
              "color": "white"
             }
            },
            "header": {
             "fill": {
              "color": "#C8D4E3"
             },
             "line": {
              "color": "white"
             }
            },
            "type": "table"
           }
          ]
         },
         "layout": {
          "annotationdefaults": {
           "arrowcolor": "#2a3f5f",
           "arrowhead": 0,
           "arrowwidth": 1
          },
          "autotypenumbers": "strict",
          "coloraxis": {
           "colorbar": {
            "outlinewidth": 0,
            "ticks": ""
           }
          },
          "colorscale": {
           "diverging": [
            [
             0,
             "#8e0152"
            ],
            [
             0.1,
             "#c51b7d"
            ],
            [
             0.2,
             "#de77ae"
            ],
            [
             0.3,
             "#f1b6da"
            ],
            [
             0.4,
             "#fde0ef"
            ],
            [
             0.5,
             "#f7f7f7"
            ],
            [
             0.6,
             "#e6f5d0"
            ],
            [
             0.7,
             "#b8e186"
            ],
            [
             0.8,
             "#7fbc41"
            ],
            [
             0.9,
             "#4d9221"
            ],
            [
             1,
             "#276419"
            ]
           ],
           "sequential": [
            [
             0,
             "#0d0887"
            ],
            [
             0.1111111111111111,
             "#46039f"
            ],
            [
             0.2222222222222222,
             "#7201a8"
            ],
            [
             0.3333333333333333,
             "#9c179e"
            ],
            [
             0.4444444444444444,
             "#bd3786"
            ],
            [
             0.5555555555555556,
             "#d8576b"
            ],
            [
             0.6666666666666666,
             "#ed7953"
            ],
            [
             0.7777777777777778,
             "#fb9f3a"
            ],
            [
             0.8888888888888888,
             "#fdca26"
            ],
            [
             1,
             "#f0f921"
            ]
           ],
           "sequentialminus": [
            [
             0,
             "#0d0887"
            ],
            [
             0.1111111111111111,
             "#46039f"
            ],
            [
             0.2222222222222222,
             "#7201a8"
            ],
            [
             0.3333333333333333,
             "#9c179e"
            ],
            [
             0.4444444444444444,
             "#bd3786"
            ],
            [
             0.5555555555555556,
             "#d8576b"
            ],
            [
             0.6666666666666666,
             "#ed7953"
            ],
            [
             0.7777777777777778,
             "#fb9f3a"
            ],
            [
             0.8888888888888888,
             "#fdca26"
            ],
            [
             1,
             "#f0f921"
            ]
           ]
          },
          "colorway": [
           "#636efa",
           "#EF553B",
           "#00cc96",
           "#ab63fa",
           "#FFA15A",
           "#19d3f3",
           "#FF6692",
           "#B6E880",
           "#FF97FF",
           "#FECB52"
          ],
          "font": {
           "color": "#2a3f5f"
          },
          "geo": {
           "bgcolor": "white",
           "lakecolor": "white",
           "landcolor": "#E5ECF6",
           "showlakes": true,
           "showland": true,
           "subunitcolor": "white"
          },
          "hoverlabel": {
           "align": "left"
          },
          "hovermode": "closest",
          "mapbox": {
           "style": "light"
          },
          "paper_bgcolor": "white",
          "plot_bgcolor": "#E5ECF6",
          "polar": {
           "angularaxis": {
            "gridcolor": "white",
            "linecolor": "white",
            "ticks": ""
           },
           "bgcolor": "#E5ECF6",
           "radialaxis": {
            "gridcolor": "white",
            "linecolor": "white",
            "ticks": ""
           }
          },
          "scene": {
           "xaxis": {
            "backgroundcolor": "#E5ECF6",
            "gridcolor": "white",
            "gridwidth": 2,
            "linecolor": "white",
            "showbackground": true,
            "ticks": "",
            "zerolinecolor": "white"
           },
           "yaxis": {
            "backgroundcolor": "#E5ECF6",
            "gridcolor": "white",
            "gridwidth": 2,
            "linecolor": "white",
            "showbackground": true,
            "ticks": "",
            "zerolinecolor": "white"
           },
           "zaxis": {
            "backgroundcolor": "#E5ECF6",
            "gridcolor": "white",
            "gridwidth": 2,
            "linecolor": "white",
            "showbackground": true,
            "ticks": "",
            "zerolinecolor": "white"
           }
          },
          "shapedefaults": {
           "line": {
            "color": "#2a3f5f"
           }
          },
          "ternary": {
           "aaxis": {
            "gridcolor": "white",
            "linecolor": "white",
            "ticks": ""
           },
           "baxis": {
            "gridcolor": "white",
            "linecolor": "white",
            "ticks": ""
           },
           "bgcolor": "#E5ECF6",
           "caxis": {
            "gridcolor": "white",
            "linecolor": "white",
            "ticks": ""
           }
          },
          "title": {
           "x": 0.05
          },
          "xaxis": {
           "automargin": true,
           "gridcolor": "white",
           "linecolor": "white",
           "ticks": "",
           "title": {
            "standoff": 15
           },
           "zerolinecolor": "white",
           "zerolinewidth": 2
          },
          "yaxis": {
           "automargin": true,
           "gridcolor": "white",
           "linecolor": "white",
           "ticks": "",
           "title": {
            "standoff": 15
           },
           "zerolinecolor": "white",
           "zerolinewidth": 2
          }
         }
        },
        "title": {
         "text": "Mahalanobis Scores (Fold 2)"
        },
        "xaxis": {
         "anchor": "y",
         "domain": [
          0,
          1
         ],
         "title": {
          "text": "log_score"
         }
        },
        "yaxis": {
         "anchor": "x",
         "domain": [
          0,
          1
         ],
         "title": {
          "text": "count"
         }
        }
       }
      }
     },
     "metadata": {},
     "output_type": "display_data"
    },
    {
     "data": {
      "application/vnd.plotly.v1+json": {
       "config": {
        "plotlyServerURL": "https://plot.ly"
       },
       "data": [
        {
         "bingroup": "x",
         "hovertemplate": "label=train<br>log_score=%{x}<br>count=%{y}<extra></extra>",
         "legendgroup": "train",
         "marker": {
          "color": "#636efa",
          "opacity": 0.6,
          "pattern": {
           "shape": ""
          }
         },
         "name": "train",
         "nbinsx": 30,
         "orientation": "v",
         "showlegend": true,
         "type": "histogram",
         "x": {
          "bdata": "kzwrQFiPKEDfmytAOEwpQCUMK0AxPCxAXGspQJp+KkDpeShAPYMpQOtnKUA1MyhAJfcoQDgxK0BQUy1AxpwqQP0gKUBtPSpAjBopQOhvKECJaylAbUMrQEIUKUB5FClA3mEqQGJ1LUAg0SxASSMrQOC5KUClyylA9IYpQHYsLUBVFC5ANIgrQL12LUCB8CxAEOcrQO48LEDTbSpADo4qQIR9LEBt9CpATPopQI1YJ0CGUCpAxhMrQLSsKUD11SpA4e4pQKd2K0AsbCxAnTsrQMzTJ0C6/y1AnPsqQHMcJ0AFxCtASzEsQGwTKUA0sClAFKkrQDaELEAwxypADwwpQDnXJkBO8StAWtsqQH5EJ0AchidAXVkoQFOfKUARRylASfosQKcvLEDTnitAOZ4rQOlkJ0BUwClA0eQqQNgFLED40yhA8L4nQFliK0AVCCpA0TwtQMHZLECRnyhAlxIqQJ98KkAXAipAVhIrQJLAJkCJ/ytAVGMsQGNvLED8sShAllgsQITJK0BahC9AtLcoQAfeKUDBBC1AFoArQP4kK0C4NypA2PwqQMj7K0BLfShArbQqQHJAKkC8bSpAJCYnQFB8K0BM7C9AXLwqQF99KkD4eypAUEktQKnFLEBZ/CdA13wqQIQpKkBekitAADUrQLUlKUAxfyZAOJ8tQDa1KEDsWStALQIuQEj7KkCmTi5AaxkpQC1IK0AiaSdAyp4nQOF2KkBAMS5AticqQO57KkAkVCZAwn0nQLKTLECiyC1ANzorQN6rL0BZ8ihAVqcqQFgeKUCgkSlA1EApQCyWKkA2lyhAUbAnQEauLUBgPyxAsukoQFJBJ0CWoyhAxhArQAPqKEDryCpAwGktQG6xLkA/eSxAuToqQA8HK0CM6CpA9iAtQNCSK0BWfClAOxAsQI92KUCYUilAMKUqQN+/LUCcBC5A/G4qQGp7KkA9ECtAiN4nQPicK0AilCpA794oQOgKKkBO9StAvSMpQHFOK0BLrSlAx18sQByVKUC+uCtARGQtQHUWKUD56ytA/FQsQLvJK0As1CdAu+spQPRRK0BnJStAWmYrQJhyKkDomy5AF3YpQEqXKUCIJSlABnktQKYsJ0AgTitA70UrQDEcKkCwxCpAUHolQJkWKECwVihAYIcqQPL0K0AuXitA59kqQJwNKUC3wilAui0qQDdyLEA=",
          "dtype": "f4"
         },
         "xaxis": "x",
         "yaxis": "y"
        },
        {
         "bingroup": "x",
         "hovertemplate": "label=val<br>log_score=%{x}<br>count=%{y}<extra></extra>",
         "legendgroup": "val",
         "marker": {
          "color": "#EF553B",
          "opacity": 0.6,
          "pattern": {
           "shape": ""
          }
         },
         "name": "val",
         "nbinsx": 30,
         "orientation": "v",
         "showlegend": true,
         "type": "histogram",
         "x": {
          "bdata": "w05rQJPQbUCOllBABblKQPbLXUAi3ltAgo9cQBvtWUBkqVlAcUVSQD7BYkAq02pAPlVYQGadWkACMEpAAnRMQKpvYkAp0WVAwq5WQC0QSEDs5VZAAG5PQIWBQ0BFZVlAWLiCQL5xVUDuQE1AhN5YQF+5SkBuUk1AD95SQMiRWUDzqVhApHVLQIKsXUCSM1NAUotWQMc+TUDtIVZAz89aQFx3T0BAHlhAl/FSQAGZWkCY9FVABgtdQIqpUUA4kkxAkBB1QJsEUkAy+1VAdrBZQCOSaECnG1NA++tSQFR9VUA=",
          "dtype": "f4"
         },
         "xaxis": "x",
         "yaxis": "y"
        },
        {
         "bingroup": "x",
         "hovertemplate": "label=color<br>log_score=%{x}<br>count=%{y}<extra></extra>",
         "legendgroup": "color",
         "marker": {
          "color": "#00cc96",
          "opacity": 0.6,
          "pattern": {
           "shape": ""
          }
         },
         "name": "color",
         "nbinsx": 30,
         "orientation": "v",
         "showlegend": true,
         "type": "histogram",
         "x": {
          "bdata": "sEy4QKAtlkDrlYRAgqOJQFFrn0D7HIpAGW6BQMKOnkC2N7VAOQyGQCJbj0BZYqxAi7eyQCimsUAmd4dAjVmrQNZej0CjEZtA9w+ZQA==",
          "dtype": "f4"
         },
         "xaxis": "x",
         "yaxis": "y"
        },
        {
         "bingroup": "x",
         "hovertemplate": "label=cut<br>log_score=%{x}<br>count=%{y}<extra></extra>",
         "legendgroup": "cut",
         "marker": {
          "color": "#ab63fa",
          "opacity": 0.6,
          "pattern": {
           "shape": ""
          }
         },
         "name": "cut",
         "nbinsx": 30,
         "orientation": "v",
         "showlegend": true,
         "type": "histogram",
         "x": {
          "bdata": "U2rAQDONt0D32sBAz7q8QKqvlUAxI7NAsjq8QJIQpkC+ZZ9Aaf+5QJl0tkB2XclANwvFQN5bv0APorZAwZPHQMPuqUA=",
          "dtype": "f4"
         },
         "xaxis": "x",
         "yaxis": "y"
        },
        {
         "bingroup": "x",
         "hovertemplate": "label=good<br>log_score=%{x}<br>count=%{y}<extra></extra>",
         "legendgroup": "good",
         "marker": {
          "color": "#FFA15A",
          "opacity": 0.6,
          "pattern": {
           "shape": ""
          }
         },
         "name": "good",
         "nbinsx": 30,
         "orientation": "v",
         "showlegend": true,
         "type": "histogram",
         "x": {
          "bdata": "i9tiQKhYXEAJxnRAlbt2QFRedEC9BXtAfKJ5QEVgeEC/oYJAr2N3QDspaECWbF1Ac0Z9QL/6fEA86YBAAS+BQBE5akAP52FACu9sQEXMgEB3R2JAgQ9sQD4FZkDzQGVA9adiQGCiYECMHWJAVO1uQA==",
          "dtype": "f4"
         },
         "xaxis": "x",
         "yaxis": "y"
        },
        {
         "bingroup": "x",
         "hovertemplate": "label=hole<br>log_score=%{x}<br>count=%{y}<extra></extra>",
         "legendgroup": "hole",
         "marker": {
          "color": "#19d3f3",
          "opacity": 0.6,
          "pattern": {
           "shape": ""
          }
         },
         "name": "hole",
         "nbinsx": 30,
         "orientation": "v",
         "showlegend": true,
         "type": "histogram",
         "x": {
          "bdata": "Gmq2QI6WdUC5fqtApOe4QMsKs0B42axACYi5QI1dwUAxDr5A/zexQD2XtED76LVAwhOvQAfMukDGl7pA3l6pQG7ioEA=",
          "dtype": "f4"
         },
         "xaxis": "x",
         "yaxis": "y"
        },
        {
         "bingroup": "x",
         "hovertemplate": "label=metal_contamination<br>log_score=%{x}<br>count=%{y}<extra></extra>",
         "legendgroup": "metal_contamination",
         "marker": {
          "color": "#FF6692",
          "opacity": 0.6,
          "pattern": {
           "shape": ""
          }
         },
         "name": "metal_contamination",
         "nbinsx": 30,
         "orientation": "v",
         "showlegend": true,
         "type": "histogram",
         "x": {
          "bdata": "Ci5vQBUajkBzLq5AoRK5QF+EsUB8f8JA3jfAQGh2zEDMNL5AgVSrQISVukDfNq5A/Gm+QAHmsUAS+pVAaOOyQFcdokA=",
          "dtype": "f4"
         },
         "xaxis": "x",
         "yaxis": "y"
        },
        {
         "bingroup": "x",
         "hovertemplate": "label=thread<br>log_score=%{x}<br>count=%{y}<extra></extra>",
         "legendgroup": "thread",
         "marker": {
          "color": "#B6E880",
          "opacity": 0.6,
          "pattern": {
           "shape": ""
          }
         },
         "name": "thread",
         "nbinsx": 30,
         "orientation": "v",
         "showlegend": true,
         "type": "histogram",
         "x": {
          "bdata": "HbvAQOnUhkCmNrRAdbiiQD3NuEDcLdhA9IXXQAxOzEDq6spAkB2IQByJxkAGOq5A68S0QFKM00BNZ5JAA9+BQLMku0ArhtFArLWGQA==",
          "dtype": "f4"
         },
         "xaxis": "x",
         "yaxis": "y"
        }
       ],
       "layout": {
        "barmode": "overlay",
        "legend": {
         "title": {
          "text": "label"
         },
         "tracegroupgap": 0
        },
        "margin": {
         "t": 60
        },
        "template": {
         "data": {
          "bar": [
           {
            "error_x": {
             "color": "#2a3f5f"
            },
            "error_y": {
             "color": "#2a3f5f"
            },
            "marker": {
             "line": {
              "color": "#E5ECF6",
              "width": 0.5
             },
             "pattern": {
              "fillmode": "overlay",
              "size": 10,
              "solidity": 0.2
             }
            },
            "type": "bar"
           }
          ],
          "barpolar": [
           {
            "marker": {
             "line": {
              "color": "#E5ECF6",
              "width": 0.5
             },
             "pattern": {
              "fillmode": "overlay",
              "size": 10,
              "solidity": 0.2
             }
            },
            "type": "barpolar"
           }
          ],
          "carpet": [
           {
            "aaxis": {
             "endlinecolor": "#2a3f5f",
             "gridcolor": "white",
             "linecolor": "white",
             "minorgridcolor": "white",
             "startlinecolor": "#2a3f5f"
            },
            "baxis": {
             "endlinecolor": "#2a3f5f",
             "gridcolor": "white",
             "linecolor": "white",
             "minorgridcolor": "white",
             "startlinecolor": "#2a3f5f"
            },
            "type": "carpet"
           }
          ],
          "choropleth": [
           {
            "colorbar": {
             "outlinewidth": 0,
             "ticks": ""
            },
            "type": "choropleth"
           }
          ],
          "contour": [
           {
            "colorbar": {
             "outlinewidth": 0,
             "ticks": ""
            },
            "colorscale": [
             [
              0,
              "#0d0887"
             ],
             [
              0.1111111111111111,
              "#46039f"
             ],
             [
              0.2222222222222222,
              "#7201a8"
             ],
             [
              0.3333333333333333,
              "#9c179e"
             ],
             [
              0.4444444444444444,
              "#bd3786"
             ],
             [
              0.5555555555555556,
              "#d8576b"
             ],
             [
              0.6666666666666666,
              "#ed7953"
             ],
             [
              0.7777777777777778,
              "#fb9f3a"
             ],
             [
              0.8888888888888888,
              "#fdca26"
             ],
             [
              1,
              "#f0f921"
             ]
            ],
            "type": "contour"
           }
          ],
          "contourcarpet": [
           {
            "colorbar": {
             "outlinewidth": 0,
             "ticks": ""
            },
            "type": "contourcarpet"
           }
          ],
          "heatmap": [
           {
            "colorbar": {
             "outlinewidth": 0,
             "ticks": ""
            },
            "colorscale": [
             [
              0,
              "#0d0887"
             ],
             [
              0.1111111111111111,
              "#46039f"
             ],
             [
              0.2222222222222222,
              "#7201a8"
             ],
             [
              0.3333333333333333,
              "#9c179e"
             ],
             [
              0.4444444444444444,
              "#bd3786"
             ],
             [
              0.5555555555555556,
              "#d8576b"
             ],
             [
              0.6666666666666666,
              "#ed7953"
             ],
             [
              0.7777777777777778,
              "#fb9f3a"
             ],
             [
              0.8888888888888888,
              "#fdca26"
             ],
             [
              1,
              "#f0f921"
             ]
            ],
            "type": "heatmap"
           }
          ],
          "histogram": [
           {
            "marker": {
             "pattern": {
              "fillmode": "overlay",
              "size": 10,
              "solidity": 0.2
             }
            },
            "type": "histogram"
           }
          ],
          "histogram2d": [
           {
            "colorbar": {
             "outlinewidth": 0,
             "ticks": ""
            },
            "colorscale": [
             [
              0,
              "#0d0887"
             ],
             [
              0.1111111111111111,
              "#46039f"
             ],
             [
              0.2222222222222222,
              "#7201a8"
             ],
             [
              0.3333333333333333,
              "#9c179e"
             ],
             [
              0.4444444444444444,
              "#bd3786"
             ],
             [
              0.5555555555555556,
              "#d8576b"
             ],
             [
              0.6666666666666666,
              "#ed7953"
             ],
             [
              0.7777777777777778,
              "#fb9f3a"
             ],
             [
              0.8888888888888888,
              "#fdca26"
             ],
             [
              1,
              "#f0f921"
             ]
            ],
            "type": "histogram2d"
           }
          ],
          "histogram2dcontour": [
           {
            "colorbar": {
             "outlinewidth": 0,
             "ticks": ""
            },
            "colorscale": [
             [
              0,
              "#0d0887"
             ],
             [
              0.1111111111111111,
              "#46039f"
             ],
             [
              0.2222222222222222,
              "#7201a8"
             ],
             [
              0.3333333333333333,
              "#9c179e"
             ],
             [
              0.4444444444444444,
              "#bd3786"
             ],
             [
              0.5555555555555556,
              "#d8576b"
             ],
             [
              0.6666666666666666,
              "#ed7953"
             ],
             [
              0.7777777777777778,
              "#fb9f3a"
             ],
             [
              0.8888888888888888,
              "#fdca26"
             ],
             [
              1,
              "#f0f921"
             ]
            ],
            "type": "histogram2dcontour"
           }
          ],
          "mesh3d": [
           {
            "colorbar": {
             "outlinewidth": 0,
             "ticks": ""
            },
            "type": "mesh3d"
           }
          ],
          "parcoords": [
           {
            "line": {
             "colorbar": {
              "outlinewidth": 0,
              "ticks": ""
             }
            },
            "type": "parcoords"
           }
          ],
          "pie": [
           {
            "automargin": true,
            "type": "pie"
           }
          ],
          "scatter": [
           {
            "fillpattern": {
             "fillmode": "overlay",
             "size": 10,
             "solidity": 0.2
            },
            "type": "scatter"
           }
          ],
          "scatter3d": [
           {
            "line": {
             "colorbar": {
              "outlinewidth": 0,
              "ticks": ""
             }
            },
            "marker": {
             "colorbar": {
              "outlinewidth": 0,
              "ticks": ""
             }
            },
            "type": "scatter3d"
           }
          ],
          "scattercarpet": [
           {
            "marker": {
             "colorbar": {
              "outlinewidth": 0,
              "ticks": ""
             }
            },
            "type": "scattercarpet"
           }
          ],
          "scattergeo": [
           {
            "marker": {
             "colorbar": {
              "outlinewidth": 0,
              "ticks": ""
             }
            },
            "type": "scattergeo"
           }
          ],
          "scattergl": [
           {
            "marker": {
             "colorbar": {
              "outlinewidth": 0,
              "ticks": ""
             }
            },
            "type": "scattergl"
           }
          ],
          "scattermap": [
           {
            "marker": {
             "colorbar": {
              "outlinewidth": 0,
              "ticks": ""
             }
            },
            "type": "scattermap"
           }
          ],
          "scattermapbox": [
           {
            "marker": {
             "colorbar": {
              "outlinewidth": 0,
              "ticks": ""
             }
            },
            "type": "scattermapbox"
           }
          ],
          "scatterpolar": [
           {
            "marker": {
             "colorbar": {
              "outlinewidth": 0,
              "ticks": ""
             }
            },
            "type": "scatterpolar"
           }
          ],
          "scatterpolargl": [
           {
            "marker": {
             "colorbar": {
              "outlinewidth": 0,
              "ticks": ""
             }
            },
            "type": "scatterpolargl"
           }
          ],
          "scatterternary": [
           {
            "marker": {
             "colorbar": {
              "outlinewidth": 0,
              "ticks": ""
             }
            },
            "type": "scatterternary"
           }
          ],
          "surface": [
           {
            "colorbar": {
             "outlinewidth": 0,
             "ticks": ""
            },
            "colorscale": [
             [
              0,
              "#0d0887"
             ],
             [
              0.1111111111111111,
              "#46039f"
             ],
             [
              0.2222222222222222,
              "#7201a8"
             ],
             [
              0.3333333333333333,
              "#9c179e"
             ],
             [
              0.4444444444444444,
              "#bd3786"
             ],
             [
              0.5555555555555556,
              "#d8576b"
             ],
             [
              0.6666666666666666,
              "#ed7953"
             ],
             [
              0.7777777777777778,
              "#fb9f3a"
             ],
             [
              0.8888888888888888,
              "#fdca26"
             ],
             [
              1,
              "#f0f921"
             ]
            ],
            "type": "surface"
           }
          ],
          "table": [
           {
            "cells": {
             "fill": {
              "color": "#EBF0F8"
             },
             "line": {
              "color": "white"
             }
            },
            "header": {
             "fill": {
              "color": "#C8D4E3"
             },
             "line": {
              "color": "white"
             }
            },
            "type": "table"
           }
          ]
         },
         "layout": {
          "annotationdefaults": {
           "arrowcolor": "#2a3f5f",
           "arrowhead": 0,
           "arrowwidth": 1
          },
          "autotypenumbers": "strict",
          "coloraxis": {
           "colorbar": {
            "outlinewidth": 0,
            "ticks": ""
           }
          },
          "colorscale": {
           "diverging": [
            [
             0,
             "#8e0152"
            ],
            [
             0.1,
             "#c51b7d"
            ],
            [
             0.2,
             "#de77ae"
            ],
            [
             0.3,
             "#f1b6da"
            ],
            [
             0.4,
             "#fde0ef"
            ],
            [
             0.5,
             "#f7f7f7"
            ],
            [
             0.6,
             "#e6f5d0"
            ],
            [
             0.7,
             "#b8e186"
            ],
            [
             0.8,
             "#7fbc41"
            ],
            [
             0.9,
             "#4d9221"
            ],
            [
             1,
             "#276419"
            ]
           ],
           "sequential": [
            [
             0,
             "#0d0887"
            ],
            [
             0.1111111111111111,
             "#46039f"
            ],
            [
             0.2222222222222222,
             "#7201a8"
            ],
            [
             0.3333333333333333,
             "#9c179e"
            ],
            [
             0.4444444444444444,
             "#bd3786"
            ],
            [
             0.5555555555555556,
             "#d8576b"
            ],
            [
             0.6666666666666666,
             "#ed7953"
            ],
            [
             0.7777777777777778,
             "#fb9f3a"
            ],
            [
             0.8888888888888888,
             "#fdca26"
            ],
            [
             1,
             "#f0f921"
            ]
           ],
           "sequentialminus": [
            [
             0,
             "#0d0887"
            ],
            [
             0.1111111111111111,
             "#46039f"
            ],
            [
             0.2222222222222222,
             "#7201a8"
            ],
            [
             0.3333333333333333,
             "#9c179e"
            ],
            [
             0.4444444444444444,
             "#bd3786"
            ],
            [
             0.5555555555555556,
             "#d8576b"
            ],
            [
             0.6666666666666666,
             "#ed7953"
            ],
            [
             0.7777777777777778,
             "#fb9f3a"
            ],
            [
             0.8888888888888888,
             "#fdca26"
            ],
            [
             1,
             "#f0f921"
            ]
           ]
          },
          "colorway": [
           "#636efa",
           "#EF553B",
           "#00cc96",
           "#ab63fa",
           "#FFA15A",
           "#19d3f3",
           "#FF6692",
           "#B6E880",
           "#FF97FF",
           "#FECB52"
          ],
          "font": {
           "color": "#2a3f5f"
          },
          "geo": {
           "bgcolor": "white",
           "lakecolor": "white",
           "landcolor": "#E5ECF6",
           "showlakes": true,
           "showland": true,
           "subunitcolor": "white"
          },
          "hoverlabel": {
           "align": "left"
          },
          "hovermode": "closest",
          "mapbox": {
           "style": "light"
          },
          "paper_bgcolor": "white",
          "plot_bgcolor": "#E5ECF6",
          "polar": {
           "angularaxis": {
            "gridcolor": "white",
            "linecolor": "white",
            "ticks": ""
           },
           "bgcolor": "#E5ECF6",
           "radialaxis": {
            "gridcolor": "white",
            "linecolor": "white",
            "ticks": ""
           }
          },
          "scene": {
           "xaxis": {
            "backgroundcolor": "#E5ECF6",
            "gridcolor": "white",
            "gridwidth": 2,
            "linecolor": "white",
            "showbackground": true,
            "ticks": "",
            "zerolinecolor": "white"
           },
           "yaxis": {
            "backgroundcolor": "#E5ECF6",
            "gridcolor": "white",
            "gridwidth": 2,
            "linecolor": "white",
            "showbackground": true,
            "ticks": "",
            "zerolinecolor": "white"
           },
           "zaxis": {
            "backgroundcolor": "#E5ECF6",
            "gridcolor": "white",
            "gridwidth": 2,
            "linecolor": "white",
            "showbackground": true,
            "ticks": "",
            "zerolinecolor": "white"
           }
          },
          "shapedefaults": {
           "line": {
            "color": "#2a3f5f"
           }
          },
          "ternary": {
           "aaxis": {
            "gridcolor": "white",
            "linecolor": "white",
            "ticks": ""
           },
           "baxis": {
            "gridcolor": "white",
            "linecolor": "white",
            "ticks": ""
           },
           "bgcolor": "#E5ECF6",
           "caxis": {
            "gridcolor": "white",
            "linecolor": "white",
            "ticks": ""
           }
          },
          "title": {
           "x": 0.05
          },
          "xaxis": {
           "automargin": true,
           "gridcolor": "white",
           "linecolor": "white",
           "ticks": "",
           "title": {
            "standoff": 15
           },
           "zerolinecolor": "white",
           "zerolinewidth": 2
          },
          "yaxis": {
           "automargin": true,
           "gridcolor": "white",
           "linecolor": "white",
           "ticks": "",
           "title": {
            "standoff": 15
           },
           "zerolinecolor": "white",
           "zerolinewidth": 2
          }
         }
        },
        "title": {
         "text": "Mahalanobis Scores (Fold 3)"
        },
        "xaxis": {
         "anchor": "y",
         "domain": [
          0,
          1
         ],
         "title": {
          "text": "log_score"
         }
        },
        "yaxis": {
         "anchor": "x",
         "domain": [
          0,
          1
         ],
         "title": {
          "text": "count"
         }
        }
       }
      }
     },
     "metadata": {},
     "output_type": "display_data"
    },
    {
     "data": {
      "application/vnd.plotly.v1+json": {
       "config": {
        "plotlyServerURL": "https://plot.ly"
       },
       "data": [
        {
         "bingroup": "x",
         "hovertemplate": "label=train<br>log_score=%{x}<br>count=%{y}<extra></extra>",
         "legendgroup": "train",
         "marker": {
          "color": "#636efa",
          "opacity": 0.6,
          "pattern": {
           "shape": ""
          }
         },
         "name": "train",
         "nbinsx": 30,
         "orientation": "v",
         "showlegend": true,
         "type": "histogram",
         "x": {
          "bdata": "3l4rQDvcKEAmASZAMaMoQOi3KUAgny1A4bAqQG2+KEAXPipAlF8rQAIZKUCd6ihA1S8oQCBhK0BVgSlAYOopQB2KMECSMydArwcqQCMVLED5/CpATZsrQHRqJ0CYDS1AcFgtQJBHKUBB8y9AEA4sQA5mKUCxfShAHxInQOkULUBDAipA1cQpQFF/LUCbsytAlpkpQCTHKUCG+ShAW+8qQHtwKECUWCdADo8qQKaAK0C3IitAnAAoQBihKUACHSlAEnwqQLGSKUB0mCtA93kqQPxVK0DdjihAnyEsQC0SKkCf4ytApXUoQJU8LEBrKCtA1qgtQM5aK0A84yhAL/cpQCApKUDPJylAMnInQDhjKECacypA8i8qQNX1LEAMESxAA5oqQGaKJUA/sClAlkUoQB9XKEAUwC1ArtMqQL+WKEDiMyxAbKArQLKjKkC9FitAyR4pQNtmKkC4AitAKvYqQCecK0BvFi5AOwgsQGFLK0C5HCtAA44pQPeHJ0CeeilAYjMqQHh2KkDdGitANtYpQOW3KkB6+CtAR74pQK2jJ0DU/ipASeQrQDp7KkChJC1A30AqQD3lKkBtAypAAvApQA0hK0CjBS5A+NsqQNu3KkDJjyhAzSAnQBeQKkDewyxAx6ArQH4tK0DufypA7a8pQC/nLUDgXCpArkUnQIIULEAahitAj6EpQMnRLEDhWi1AHqsuQBJrKEDFaSpAHoQsQJSaKkCoBipAIOEqQKAAK0AHXClA2xApQEQkK0Cf2ChAw00sQLgfK0AATCVAjt0rQJ81KkAW/CpAQ7YrQL4PLkBFDS5At/UpQLf8K0DOzCpACAsoQGc0KUBfryhAN40rQKXpKkAp6yhAuUknQLhUK0BSDitAuQMqQD9MK0DX9SlAXngpQOkPKkCE0CtAq+otQPuzLUA7OihA6oUqQIqlLEBHEClA5VwqQIkAK0A/CSxA1LwoQGwvLEDFuShAhYIpQAcIKUAqfy9A74UoQGt4LUB7NipAPbEqQK1XK0CvaitANhUvQH8jJkDATCxA0gwnQFtRJ0DldytAnTspQMYkK0Dl9yZAYmAnQEIpKEB8fidA5W4pQOBRJ0DFBihASrsrQJCiK0CByilAuzMpQIieKkCpZCtA2GQqQBr5J0DKgylAHoIoQP7aKEA/1SdAt68pQKdlLEDnqCxA6CgtQDdYKkA=",
          "dtype": "f4"
         },
         "xaxis": "x",
         "yaxis": "y"
        },
        {
         "bingroup": "x",
         "hovertemplate": "label=val<br>log_score=%{x}<br>count=%{y}<extra></extra>",
         "legendgroup": "val",
         "marker": {
          "color": "#EF553B",
          "opacity": 0.6,
          "pattern": {
           "shape": ""
          }
         },
         "name": "val",
         "nbinsx": 30,
         "orientation": "v",
         "showlegend": true,
         "type": "histogram",
         "x": {
          "bdata": "IwxiQJcYX0Af8UlAoy9WQKtjVEAeyVZA0vNcQJgKekBaf1FA/oJVQIjvTkBOuVFAdH5aQJj1XkAP0mJAY9JeQEVfXUBKcFpAh5BfQOriWEB80k5AxdtcQJl6VUDhxVpANMtQQO74VEBl8VRATgRjQKccU0D8nVRA1ZlJQEB6aED+xU1A1VJeQJiSUEDq4EtA86VqQG9WTkBGzEtAuVRZQKTcX0AM/WRAYktnQHOAXEAvdl9ARn5KQN23VUCBTU1AFtldQHIKbkAfYk1AmZdlQGU3SEA3JWlAFU9YQCrWVUA=",
          "dtype": "f4"
         },
         "xaxis": "x",
         "yaxis": "y"
        },
        {
         "bingroup": "x",
         "hovertemplate": "label=color<br>log_score=%{x}<br>count=%{y}<extra></extra>",
         "legendgroup": "color",
         "marker": {
          "color": "#00cc96",
          "opacity": 0.6,
          "pattern": {
           "shape": ""
          }
         },
         "name": "color",
         "nbinsx": 30,
         "orientation": "v",
         "showlegend": true,
         "type": "histogram",
         "x": {
          "bdata": "vT24QNnmlUArT4VARiyJQHIHn0DQa4pAr+2BQJrOnUBKK7VAVK2FQDZrj0CD5KtAasqyQGl5sUCqF4dAcruqQPZSj0AXWptAJhqZQA==",
          "dtype": "f4"
         },
         "xaxis": "x",
         "yaxis": "y"
        },
        {
         "bingroup": "x",
         "hovertemplate": "label=cut<br>log_score=%{x}<br>count=%{y}<extra></extra>",
         "legendgroup": "cut",
         "marker": {
          "color": "#ab63fa",
          "opacity": 0.6,
          "pattern": {
           "shape": ""
          }
         },
         "name": "cut",
         "nbinsx": 30,
         "orientation": "v",
         "showlegend": true,
         "type": "histogram",
         "x": {
          "bdata": "Euu/QLIct0CaRMBA8ly8QNZTlUA9rrJAWEi7QDNypUCBrZ5AiXq5QI3YtUCmAMlAH8LEQLm1vkCbPbZAI2fHQLsVqUA=",
          "dtype": "f4"
         },
         "xaxis": "x",
         "yaxis": "y"
        },
        {
         "bingroup": "x",
         "hovertemplate": "label=good<br>log_score=%{x}<br>count=%{y}<extra></extra>",
         "legendgroup": "good",
         "marker": {
          "color": "#FFA15A",
          "opacity": 0.6,
          "pattern": {
           "shape": ""
          }
         },
         "name": "good",
         "nbinsx": 30,
         "orientation": "v",
         "showlegend": true,
         "type": "histogram",
         "x": {
          "bdata": "5jNiQPCeX0BchXVAChZ1QA+rcUBJ5npAaaR4QCmDdkBw7IJAFNV0QO+KZ0DoT19AMc5+QEs2e0Dx5H5AFzWBQJ+YbEBrWmFAyIdtQIqTgkBs9mBAoBBqQEOsZkB+gWhA1B1iQGMwX0DqVWFAiDZwQA==",
          "dtype": "f4"
         },
         "xaxis": "x",
         "yaxis": "y"
        },
        {
         "bingroup": "x",
         "hovertemplate": "label=hole<br>log_score=%{x}<br>count=%{y}<extra></extra>",
         "legendgroup": "hole",
         "marker": {
          "color": "#19d3f3",
          "opacity": 0.6,
          "pattern": {
           "shape": ""
          }
         },
         "name": "hole",
         "nbinsx": 30,
         "orientation": "v",
         "showlegend": true,
         "type": "histogram",
         "x": {
          "bdata": "m/21QDEdd0DlBatA+1a4QFpzskCbOKxAqb64QLjzwECmor1Aj5awQL8ptEAkTbVA2WeuQD0AukDvwrlAz/2nQFNhn0A=",
          "dtype": "f4"
         },
         "xaxis": "x",
         "yaxis": "y"
        },
        {
         "bingroup": "x",
         "hovertemplate": "label=metal_contamination<br>log_score=%{x}<br>count=%{y}<extra></extra>",
         "legendgroup": "metal_contamination",
         "marker": {
          "color": "#FF6692",
          "opacity": 0.6,
          "pattern": {
           "shape": ""
          }
         },
         "name": "metal_contamination",
         "nbinsx": 30,
         "orientation": "v",
         "showlegend": true,
         "type": "histogram",
         "x": {
          "bdata": "2JBrQF6GjUDC+q1AvOG4QEOysECn8MFApZa/QJrMy0Cipr1AO8OqQMnsuUA5i61AwCG+QGVesUBX1JVAsROyQHhqoUA=",
          "dtype": "f4"
         },
         "xaxis": "x",
         "yaxis": "y"
        },
        {
         "bingroup": "x",
         "hovertemplate": "label=thread<br>log_score=%{x}<br>count=%{y}<extra></extra>",
         "legendgroup": "thread",
         "marker": {
          "color": "#B6E880",
          "opacity": 0.6,
          "pattern": {
           "shape": ""
          }
         },
         "name": "thread",
         "nbinsx": 30,
         "orientation": "v",
         "showlegend": true,
         "type": "histogram",
         "x": {
          "bdata": "QR/AQP/Kh0DH5LNAXxyiQDYvuED7vNdAQfnWQCzPy0Ctd8pAsRmIQEUsxkAmhq1AQlq0QGMa00ACFpNALLiBQHhFu0AFF9FArsCGQA==",
          "dtype": "f4"
         },
         "xaxis": "x",
         "yaxis": "y"
        }
       ],
       "layout": {
        "barmode": "overlay",
        "legend": {
         "title": {
          "text": "label"
         },
         "tracegroupgap": 0
        },
        "margin": {
         "t": 60
        },
        "template": {
         "data": {
          "bar": [
           {
            "error_x": {
             "color": "#2a3f5f"
            },
            "error_y": {
             "color": "#2a3f5f"
            },
            "marker": {
             "line": {
              "color": "#E5ECF6",
              "width": 0.5
             },
             "pattern": {
              "fillmode": "overlay",
              "size": 10,
              "solidity": 0.2
             }
            },
            "type": "bar"
           }
          ],
          "barpolar": [
           {
            "marker": {
             "line": {
              "color": "#E5ECF6",
              "width": 0.5
             },
             "pattern": {
              "fillmode": "overlay",
              "size": 10,
              "solidity": 0.2
             }
            },
            "type": "barpolar"
           }
          ],
          "carpet": [
           {
            "aaxis": {
             "endlinecolor": "#2a3f5f",
             "gridcolor": "white",
             "linecolor": "white",
             "minorgridcolor": "white",
             "startlinecolor": "#2a3f5f"
            },
            "baxis": {
             "endlinecolor": "#2a3f5f",
             "gridcolor": "white",
             "linecolor": "white",
             "minorgridcolor": "white",
             "startlinecolor": "#2a3f5f"
            },
            "type": "carpet"
           }
          ],
          "choropleth": [
           {
            "colorbar": {
             "outlinewidth": 0,
             "ticks": ""
            },
            "type": "choropleth"
           }
          ],
          "contour": [
           {
            "colorbar": {
             "outlinewidth": 0,
             "ticks": ""
            },
            "colorscale": [
             [
              0,
              "#0d0887"
             ],
             [
              0.1111111111111111,
              "#46039f"
             ],
             [
              0.2222222222222222,
              "#7201a8"
             ],
             [
              0.3333333333333333,
              "#9c179e"
             ],
             [
              0.4444444444444444,
              "#bd3786"
             ],
             [
              0.5555555555555556,
              "#d8576b"
             ],
             [
              0.6666666666666666,
              "#ed7953"
             ],
             [
              0.7777777777777778,
              "#fb9f3a"
             ],
             [
              0.8888888888888888,
              "#fdca26"
             ],
             [
              1,
              "#f0f921"
             ]
            ],
            "type": "contour"
           }
          ],
          "contourcarpet": [
           {
            "colorbar": {
             "outlinewidth": 0,
             "ticks": ""
            },
            "type": "contourcarpet"
           }
          ],
          "heatmap": [
           {
            "colorbar": {
             "outlinewidth": 0,
             "ticks": ""
            },
            "colorscale": [
             [
              0,
              "#0d0887"
             ],
             [
              0.1111111111111111,
              "#46039f"
             ],
             [
              0.2222222222222222,
              "#7201a8"
             ],
             [
              0.3333333333333333,
              "#9c179e"
             ],
             [
              0.4444444444444444,
              "#bd3786"
             ],
             [
              0.5555555555555556,
              "#d8576b"
             ],
             [
              0.6666666666666666,
              "#ed7953"
             ],
             [
              0.7777777777777778,
              "#fb9f3a"
             ],
             [
              0.8888888888888888,
              "#fdca26"
             ],
             [
              1,
              "#f0f921"
             ]
            ],
            "type": "heatmap"
           }
          ],
          "histogram": [
           {
            "marker": {
             "pattern": {
              "fillmode": "overlay",
              "size": 10,
              "solidity": 0.2
             }
            },
            "type": "histogram"
           }
          ],
          "histogram2d": [
           {
            "colorbar": {
             "outlinewidth": 0,
             "ticks": ""
            },
            "colorscale": [
             [
              0,
              "#0d0887"
             ],
             [
              0.1111111111111111,
              "#46039f"
             ],
             [
              0.2222222222222222,
              "#7201a8"
             ],
             [
              0.3333333333333333,
              "#9c179e"
             ],
             [
              0.4444444444444444,
              "#bd3786"
             ],
             [
              0.5555555555555556,
              "#d8576b"
             ],
             [
              0.6666666666666666,
              "#ed7953"
             ],
             [
              0.7777777777777778,
              "#fb9f3a"
             ],
             [
              0.8888888888888888,
              "#fdca26"
             ],
             [
              1,
              "#f0f921"
             ]
            ],
            "type": "histogram2d"
           }
          ],
          "histogram2dcontour": [
           {
            "colorbar": {
             "outlinewidth": 0,
             "ticks": ""
            },
            "colorscale": [
             [
              0,
              "#0d0887"
             ],
             [
              0.1111111111111111,
              "#46039f"
             ],
             [
              0.2222222222222222,
              "#7201a8"
             ],
             [
              0.3333333333333333,
              "#9c179e"
             ],
             [
              0.4444444444444444,
              "#bd3786"
             ],
             [
              0.5555555555555556,
              "#d8576b"
             ],
             [
              0.6666666666666666,
              "#ed7953"
             ],
             [
              0.7777777777777778,
              "#fb9f3a"
             ],
             [
              0.8888888888888888,
              "#fdca26"
             ],
             [
              1,
              "#f0f921"
             ]
            ],
            "type": "histogram2dcontour"
           }
          ],
          "mesh3d": [
           {
            "colorbar": {
             "outlinewidth": 0,
             "ticks": ""
            },
            "type": "mesh3d"
           }
          ],
          "parcoords": [
           {
            "line": {
             "colorbar": {
              "outlinewidth": 0,
              "ticks": ""
             }
            },
            "type": "parcoords"
           }
          ],
          "pie": [
           {
            "automargin": true,
            "type": "pie"
           }
          ],
          "scatter": [
           {
            "fillpattern": {
             "fillmode": "overlay",
             "size": 10,
             "solidity": 0.2
            },
            "type": "scatter"
           }
          ],
          "scatter3d": [
           {
            "line": {
             "colorbar": {
              "outlinewidth": 0,
              "ticks": ""
             }
            },
            "marker": {
             "colorbar": {
              "outlinewidth": 0,
              "ticks": ""
             }
            },
            "type": "scatter3d"
           }
          ],
          "scattercarpet": [
           {
            "marker": {
             "colorbar": {
              "outlinewidth": 0,
              "ticks": ""
             }
            },
            "type": "scattercarpet"
           }
          ],
          "scattergeo": [
           {
            "marker": {
             "colorbar": {
              "outlinewidth": 0,
              "ticks": ""
             }
            },
            "type": "scattergeo"
           }
          ],
          "scattergl": [
           {
            "marker": {
             "colorbar": {
              "outlinewidth": 0,
              "ticks": ""
             }
            },
            "type": "scattergl"
           }
          ],
          "scattermap": [
           {
            "marker": {
             "colorbar": {
              "outlinewidth": 0,
              "ticks": ""
             }
            },
            "type": "scattermap"
           }
          ],
          "scattermapbox": [
           {
            "marker": {
             "colorbar": {
              "outlinewidth": 0,
              "ticks": ""
             }
            },
            "type": "scattermapbox"
           }
          ],
          "scatterpolar": [
           {
            "marker": {
             "colorbar": {
              "outlinewidth": 0,
              "ticks": ""
             }
            },
            "type": "scatterpolar"
           }
          ],
          "scatterpolargl": [
           {
            "marker": {
             "colorbar": {
              "outlinewidth": 0,
              "ticks": ""
             }
            },
            "type": "scatterpolargl"
           }
          ],
          "scatterternary": [
           {
            "marker": {
             "colorbar": {
              "outlinewidth": 0,
              "ticks": ""
             }
            },
            "type": "scatterternary"
           }
          ],
          "surface": [
           {
            "colorbar": {
             "outlinewidth": 0,
             "ticks": ""
            },
            "colorscale": [
             [
              0,
              "#0d0887"
             ],
             [
              0.1111111111111111,
              "#46039f"
             ],
             [
              0.2222222222222222,
              "#7201a8"
             ],
             [
              0.3333333333333333,
              "#9c179e"
             ],
             [
              0.4444444444444444,
              "#bd3786"
             ],
             [
              0.5555555555555556,
              "#d8576b"
             ],
             [
              0.6666666666666666,
              "#ed7953"
             ],
             [
              0.7777777777777778,
              "#fb9f3a"
             ],
             [
              0.8888888888888888,
              "#fdca26"
             ],
             [
              1,
              "#f0f921"
             ]
            ],
            "type": "surface"
           }
          ],
          "table": [
           {
            "cells": {
             "fill": {
              "color": "#EBF0F8"
             },
             "line": {
              "color": "white"
             }
            },
            "header": {
             "fill": {
              "color": "#C8D4E3"
             },
             "line": {
              "color": "white"
             }
            },
            "type": "table"
           }
          ]
         },
         "layout": {
          "annotationdefaults": {
           "arrowcolor": "#2a3f5f",
           "arrowhead": 0,
           "arrowwidth": 1
          },
          "autotypenumbers": "strict",
          "coloraxis": {
           "colorbar": {
            "outlinewidth": 0,
            "ticks": ""
           }
          },
          "colorscale": {
           "diverging": [
            [
             0,
             "#8e0152"
            ],
            [
             0.1,
             "#c51b7d"
            ],
            [
             0.2,
             "#de77ae"
            ],
            [
             0.3,
             "#f1b6da"
            ],
            [
             0.4,
             "#fde0ef"
            ],
            [
             0.5,
             "#f7f7f7"
            ],
            [
             0.6,
             "#e6f5d0"
            ],
            [
             0.7,
             "#b8e186"
            ],
            [
             0.8,
             "#7fbc41"
            ],
            [
             0.9,
             "#4d9221"
            ],
            [
             1,
             "#276419"
            ]
           ],
           "sequential": [
            [
             0,
             "#0d0887"
            ],
            [
             0.1111111111111111,
             "#46039f"
            ],
            [
             0.2222222222222222,
             "#7201a8"
            ],
            [
             0.3333333333333333,
             "#9c179e"
            ],
            [
             0.4444444444444444,
             "#bd3786"
            ],
            [
             0.5555555555555556,
             "#d8576b"
            ],
            [
             0.6666666666666666,
             "#ed7953"
            ],
            [
             0.7777777777777778,
             "#fb9f3a"
            ],
            [
             0.8888888888888888,
             "#fdca26"
            ],
            [
             1,
             "#f0f921"
            ]
           ],
           "sequentialminus": [
            [
             0,
             "#0d0887"
            ],
            [
             0.1111111111111111,
             "#46039f"
            ],
            [
             0.2222222222222222,
             "#7201a8"
            ],
            [
             0.3333333333333333,
             "#9c179e"
            ],
            [
             0.4444444444444444,
             "#bd3786"
            ],
            [
             0.5555555555555556,
             "#d8576b"
            ],
            [
             0.6666666666666666,
             "#ed7953"
            ],
            [
             0.7777777777777778,
             "#fb9f3a"
            ],
            [
             0.8888888888888888,
             "#fdca26"
            ],
            [
             1,
             "#f0f921"
            ]
           ]
          },
          "colorway": [
           "#636efa",
           "#EF553B",
           "#00cc96",
           "#ab63fa",
           "#FFA15A",
           "#19d3f3",
           "#FF6692",
           "#B6E880",
           "#FF97FF",
           "#FECB52"
          ],
          "font": {
           "color": "#2a3f5f"
          },
          "geo": {
           "bgcolor": "white",
           "lakecolor": "white",
           "landcolor": "#E5ECF6",
           "showlakes": true,
           "showland": true,
           "subunitcolor": "white"
          },
          "hoverlabel": {
           "align": "left"
          },
          "hovermode": "closest",
          "mapbox": {
           "style": "light"
          },
          "paper_bgcolor": "white",
          "plot_bgcolor": "#E5ECF6",
          "polar": {
           "angularaxis": {
            "gridcolor": "white",
            "linecolor": "white",
            "ticks": ""
           },
           "bgcolor": "#E5ECF6",
           "radialaxis": {
            "gridcolor": "white",
            "linecolor": "white",
            "ticks": ""
           }
          },
          "scene": {
           "xaxis": {
            "backgroundcolor": "#E5ECF6",
            "gridcolor": "white",
            "gridwidth": 2,
            "linecolor": "white",
            "showbackground": true,
            "ticks": "",
            "zerolinecolor": "white"
           },
           "yaxis": {
            "backgroundcolor": "#E5ECF6",
            "gridcolor": "white",
            "gridwidth": 2,
            "linecolor": "white",
            "showbackground": true,
            "ticks": "",
            "zerolinecolor": "white"
           },
           "zaxis": {
            "backgroundcolor": "#E5ECF6",
            "gridcolor": "white",
            "gridwidth": 2,
            "linecolor": "white",
            "showbackground": true,
            "ticks": "",
            "zerolinecolor": "white"
           }
          },
          "shapedefaults": {
           "line": {
            "color": "#2a3f5f"
           }
          },
          "ternary": {
           "aaxis": {
            "gridcolor": "white",
            "linecolor": "white",
            "ticks": ""
           },
           "baxis": {
            "gridcolor": "white",
            "linecolor": "white",
            "ticks": ""
           },
           "bgcolor": "#E5ECF6",
           "caxis": {
            "gridcolor": "white",
            "linecolor": "white",
            "ticks": ""
           }
          },
          "title": {
           "x": 0.05
          },
          "xaxis": {
           "automargin": true,
           "gridcolor": "white",
           "linecolor": "white",
           "ticks": "",
           "title": {
            "standoff": 15
           },
           "zerolinecolor": "white",
           "zerolinewidth": 2
          },
          "yaxis": {
           "automargin": true,
           "gridcolor": "white",
           "linecolor": "white",
           "ticks": "",
           "title": {
            "standoff": 15
           },
           "zerolinecolor": "white",
           "zerolinewidth": 2
          }
         }
        },
        "title": {
         "text": "Mahalanobis Scores (Fold 4)"
        },
        "xaxis": {
         "anchor": "y",
         "domain": [
          0,
          1
         ],
         "title": {
          "text": "log_score"
         }
        },
        "yaxis": {
         "anchor": "x",
         "domain": [
          0,
          1
         ],
         "title": {
          "text": "count"
         }
        }
       }
      }
     },
     "metadata": {},
     "output_type": "display_data"
    }
   ],
   "source": [
    "# Example: Fit Mahalanobis model on the first CV fold's training data\n",
    "# 各フォールドの結果を格納する辞書を初期化\n",
    "all_results_MD = {}\n",
    "for ifold, fold in enumerate(cv_folds):\n",
    "    model_state = fit_mahalanobis(fold['train_loader'])\n",
    "    scores_train = all_mahalanobis_scores(model_state, fold['train_loader'])\n",
    "    scores_val = all_mahalanobis_scores(model_state, fold['val_loader'])\n",
    "    scores_test = all_mahalanobis_scores(model_state, dev_test_loader)\n",
    "\n",
    "    all_results_MD[ifold] = {\n",
    "        \"model_state\": model_state,\n",
    "        \"scores_train\": scores_train,\n",
    "        \"scores_val\": scores_val,\n",
    "        \"scores_test\": scores_test,\n",
    "    }\n",
    "\n",
    "    # ヒストグラム用の DataFrame を作成\n",
    "    df_MD_for_hist = pd.DataFrame({\n",
    "        \"score\": np.r_[scores_train.numpy(), scores_val.numpy(), scores_test.numpy()],\n",
    "        \"label\": ([\"train\"]*len(scores_train) + [\"val\"]*len(scores_val) + dev_test_loader.dataset.labels)\n",
    "    })\n",
    "\n",
    "    # スコアを対数変換\n",
    "    df_MD_for_hist[\"log_score\"] = np.log1p(df_MD_for_hist[\"score\"])\n",
    "\n",
    "    # ヒストグラムの描画\n",
    "    fig = px.histogram(df_MD_for_hist, x=\"log_score\", color=\"label\",\n",
    "                    nbins=30,  # 共通のビン数\n",
    "                    histnorm=None,  # 形比較なら \"probability density\"\n",
    "                    opacity=0.6)\n",
    "    fig.update_layout(barmode=\"overlay\", title=f\"Mahalanobis Scores (Fold {ifold})\")\n",
    "    fig.show()"
   ]
  },
  {
   "cell_type": "code",
   "execution_count": 10,
   "id": "0808f484",
   "metadata": {},
   "outputs": [
    {
     "name": "stdout",
     "output_type": "stream",
     "text": [
      "[Fold 0] Val threshold (FPR=1%): 41.44, Test AUC: 0.9904, F1: 0.9263\n",
      "[Fold 1] Val threshold (FPR=1%): 35.61, Test AUC: 0.9904, F1: 0.9036\n",
      "[Fold 2] Val threshold (FPR=1%): 44.66, Test AUC: 0.9900, F1: 0.9362\n",
      "[Fold 3] Val threshold (FPR=1%): 51.06, Test AUC: 0.9896, F1: 0.9560\n",
      "[Fold 4] Val threshold (FPR=1%): 44.07, Test AUC: 0.9888, F1: 0.9312\n",
      "[Mahalanobis] Test AUC: 0.9898 ± 0.0006, F1: 0.9307 ± 0.0169\n"
     ]
    }
   ],
   "source": [
    "# 各フォールドのvalデータのスコアのFPR=1%点を計算\n",
    "folds_results_MD = []\n",
    "for ifold, results in all_results_MD.items():\n",
    "    scores_val = results[\"scores_val\"].numpy()\n",
    "    scores_test = results[\"scores_test\"].numpy()\n",
    "    labels_val = np.array([0]*len(scores_val))  # valデータはすべて正常\n",
    "    labels_test = np.array([0 if lbl == \"good\" else 1 for lbl in dev_test_loader.dataset.labels])  # testデータのラベル\n",
    "\n",
    "    # valデータで閾値を決定（FPR=1%点）\n",
    "    threshold = np.percentile(scores_val, 99)  # 上位1%を異常とする閾値\n",
    "\n",
    "    # testデータでの異常検知結果を計算\n",
    "    preds_test = (scores_test >= threshold).astype(int)\n",
    "\n",
    "    # 評価指標を計算\n",
    "    auc = roc_auc_score(labels_test, scores_test)\n",
    "    f1 = f1_score(labels_test, preds_test)\n",
    "    folds_results_MD.append({\n",
    "        \"fold\": ifold,\n",
    "        \"threshold\": threshold,\n",
    "        \"auc\": auc,\n",
    "        \"f1\": f1\n",
    "    })\n",
    "    print(f\"[Fold {ifold}] Val threshold (FPR=1%): {threshold:.2f}, Test AUC: {auc:.4f}, F1: {f1:.4f}\")\n",
    "# AUC, F1 の平均と標準偏差を計算\n",
    "aucs = [r[\"auc\"] for r in folds_results_MD]\n",
    "f1s = [r[\"f1\"] for r in folds_results_MD]\n",
    "print(f\"[Mahalanobis] Test AUC: {np.mean(aucs):.4f} ± {np.std(aucs):.4f}, F1: {np.mean(f1s):.4f} ± {np.std(f1s):.4f}\")"
   ]
  },
  {
   "cell_type": "markdown",
   "id": "818d2ac9",
   "metadata": {},
   "source": [
    "#### PaDiMでの異常検知実験"
   ]
  },
  {
   "cell_type": "code",
   "execution_count": 16,
   "id": "e8b6c079",
   "metadata": {},
   "outputs": [
    {
     "data": {
      "application/vnd.plotly.v1+json": {
       "config": {
        "plotlyServerURL": "https://plot.ly"
       },
       "data": [
        {
         "bingroup": "x",
         "hovertemplate": "label=train<br>log_score=%{x}<br>count=%{y}<extra></extra>",
         "legendgroup": "train",
         "marker": {
          "color": "#636efa",
          "opacity": 0.6,
          "pattern": {
           "shape": ""
          }
         },
         "name": "train",
         "nbinsx": 30,
         "orientation": "v",
         "showlegend": true,
         "type": "histogram",
         "x": {
          "bdata": "NHJVQOZpY0ALNYFAafNNQHGiaECAYHBAftxsQD7JbkBxXIJAYoNgQGOVZkAjbm1ABsZcQHKsWUCUEYRAePJWQE8zZ0BgWWZAktZfQBQRY0AHD2tAm+ZaQKvNVkCCmmdAl11nQPZJYEDSbXhAhQFuQJWfXkDDs4FATgtPQKl3ZkD+CWZAiFlcQBiPcEAB4GtA+91sQFMcZUDutIRA1O5PQMFodEDQzHNA705cQImbZkDsgXJACcpfQJ0QZUAr7npAj3RTQAqghEBZ0GVAnS+AQJ/XhECTwnRAb69dQDAHfkCLDmBACOJoQE+AXUC+jFxA486dQO37VUBZGXpAJCB2QJxEcUAzR2JAE91rQDzNckBw8nZAybB7QAihZEBbzINAvChZQBzqbkCsaGtA1wddQMk1gUBe6WdAz4N9QA0cYkAp23RAJkNnQMvScUDxxWRAhDl8QLlxYECFRWFAcrd0QIQ2dUC5Q25ArhVbQIb2Y0CG1mRAuKBrQLdVaUD261dA23d8QDWUYEBEuINAiRpYQKArcUBNeXdAPfRlQArvdkBQFVxAdDl9QGbmbEAnhm5AtL1gQDEkWkB+/IFAyzV2QHHcXEAlwl1A6K9uQDnQYkBM0WJAuAZqQBOljEDmGl9A9iOFQBccZkDTyF9AJcVvQFNicUBV32tAL+dXQA72XUBVPXZAKA5uQLU5YkDkEWJAIXp7QAvOc0BS339AvwdhQIGDYEBG81ZAEC1jQLDEWUDbFXFALndqQHzqi0C/fllA5CRhQGhddEBFEm5AkhxbQImpY0DwOVpAVE+BQMfeWEBfzEpAEQ1kQNw/f0B0xnBAIzWDQDdPVkBm4XlAD0pfQF95fEDxSnpA2nVlQN1xaEC+l1xA4bJzQIEAaUDqn3NAeUB3QMxme0CZillA+7VyQG0VXkCafXFA52NgQIlNXkBowmdAiU+CQLrVbkAcgF9AD2aNQMLEVkDgYmFA7f5cQD0kekCoR2lA42p3QERkWEDQjHRAC3h+QAmwi0A5TmNAWUKEQJfdVECLiohA7shpQIFOZEBvsmBAfNpZQLo3d0DJ6HdAFGuAQAvMZ0DLgXBAEt9mQJv+VUDQLoBAggh3QPN9UUAdsFtA2F9oQPyDdEBrMmJAxjhdQL92YkAlzXJABFqLQINwaEBvPGxAdvtqQG7DbkDMsmZAoYRfQDrJdUA=",
          "dtype": "f4"
         },
         "xaxis": "x",
         "yaxis": "y"
        },
        {
         "bingroup": "x",
         "hovertemplate": "label=val<br>log_score=%{x}<br>count=%{y}<extra></extra>",
         "legendgroup": "val",
         "marker": {
          "color": "#EF553B",
          "opacity": 0.6,
          "pattern": {
           "shape": ""
          }
         },
         "name": "val",
         "nbinsx": 30,
         "orientation": "v",
         "showlegend": true,
         "type": "histogram",
         "x": {
          "bdata": "d5Z2QBgMgUBCP3BAwk1fQKaGY0AuJWNA4EhtQD5qcUD2jmJArw1mQG7qbkD+snhAnRd3QLtxYkAyzl9APa1gQJ8sW0DSPWFAmCtoQIe7ZEBbKYhAH+9ZQHh6g0AtE3lAu/SBQHa8XkCk0GJAoDlxQI+aakDMRFlAg7dZQKBpZEA2XndAdU9qQPbwZUAOBnZALpNlQPvUakB/ZIZABohiQHZ1hkC4YG5Ap+xeQCzrWECzz3dAVSVbQIQ9gEDyxZhATbiDQBJOb0D5oWhAXZVmQGO8ckBHyINAWwZRQJKxVkA=",
          "dtype": "f4"
         },
         "xaxis": "x",
         "yaxis": "y"
        },
        {
         "bingroup": "x",
         "hovertemplate": "label=color<br>log_score=%{x}<br>count=%{y}<extra></extra>",
         "legendgroup": "color",
         "marker": {
          "color": "#00cc96",
          "opacity": 0.6,
          "pattern": {
           "shape": ""
          }
         },
         "name": "color",
         "nbinsx": 30,
         "orientation": "v",
         "showlegend": true,
         "type": "histogram",
         "x": {
          "bdata": "Jt7XQNN/10Co+7pAipK8QI9D0UDPsL5AfZnGQBv71kBnXtVAMEC7QCORwkCb3elA2v3sQJfr6kDDMqNA16fYQLGFykC46tVAnIzPQA==",
          "dtype": "f4"
         },
         "xaxis": "x",
         "yaxis": "y"
        },
        {
         "bingroup": "x",
         "hovertemplate": "label=cut<br>log_score=%{x}<br>count=%{y}<extra></extra>",
         "legendgroup": "cut",
         "marker": {
          "color": "#ab63fa",
          "opacity": 0.6,
          "pattern": {
           "shape": ""
          }
         },
         "name": "cut",
         "nbinsx": 30,
         "orientation": "v",
         "showlegend": true,
         "type": "histogram",
         "x": {
          "bdata": "iEzkQPKz50ASOu1ATIHyQE6V00D6rNtA+C/kQPStyUCmmtZAnBHXQLRl4kCJefFA6V70QFN76ECwQehA0fjkQKVJ4EA=",
          "dtype": "f4"
         },
         "xaxis": "x",
         "yaxis": "y"
        },
        {
         "bingroup": "x",
         "hovertemplate": "label=good<br>log_score=%{x}<br>count=%{y}<extra></extra>",
         "legendgroup": "good",
         "marker": {
          "color": "#FFA15A",
          "opacity": 0.6,
          "pattern": {
           "shape": ""
          }
         },
         "name": "good",
         "nbinsx": 30,
         "orientation": "v",
         "showlegend": true,
         "type": "histogram",
         "x": {
          "bdata": "msRcQABmZkDa51tAd7dwQOWkYkD/smFAO01kQM5idkCQAoFAeGxeQB0ybkCkoF9AP3RjQKWPakAidmhAaylyQJ5fgUCZ1WlAZXt3QFuOkEDCf3pAAkp9QJhGeUDk6G1ACo1iQDpdbkBK3mBABJSBQA==",
          "dtype": "f4"
         },
         "xaxis": "x",
         "yaxis": "y"
        },
        {
         "bingroup": "x",
         "hovertemplate": "label=hole<br>log_score=%{x}<br>count=%{y}<extra></extra>",
         "legendgroup": "hole",
         "marker": {
          "color": "#19d3f3",
          "opacity": 0.6,
          "pattern": {
           "shape": ""
          }
         },
         "name": "hole",
         "nbinsx": 30,
         "orientation": "v",
         "showlegend": true,
         "type": "histogram",
         "x": {
          "bdata": "avHeQCRkhUDxR+tArnLmQACv4kA6ONxAUinvQAEK9UCBpOdAOEnlQCk560AE1tpA+sLgQNkR6ECmet1A3sXbQGQh3EA=",
          "dtype": "f4"
         },
         "xaxis": "x",
         "yaxis": "y"
        },
        {
         "bingroup": "x",
         "hovertemplate": "label=metal_contamination<br>log_score=%{x}<br>count=%{y}<extra></extra>",
         "legendgroup": "metal_contamination",
         "marker": {
          "color": "#FF6692",
          "opacity": 0.6,
          "pattern": {
           "shape": ""
          }
         },
         "name": "metal_contamination",
         "nbinsx": 30,
         "orientation": "v",
         "showlegend": true,
         "type": "histogram",
         "x": {
          "bdata": "35SdQA2DsEDkJu9Av6H1QMcw6UBYa/hACorlQIcZ/0D60PFAlxHdQFTV7ECY+eRAPLH2QAK260BQhL5AWoroQAyZ30A=",
          "dtype": "f4"
         },
         "xaxis": "x",
         "yaxis": "y"
        },
        {
         "bingroup": "x",
         "hovertemplate": "label=thread<br>log_score=%{x}<br>count=%{y}<extra></extra>",
         "legendgroup": "thread",
         "marker": {
          "color": "#B6E880",
          "opacity": 0.6,
          "pattern": {
           "shape": ""
          }
         },
         "name": "thread",
         "nbinsx": 30,
         "orientation": "v",
         "showlegend": true,
         "type": "histogram",
         "x": {
          "bdata": "ZDLoQKAav0AIQeNA29DPQEGG2kA5T/1AQIb9QD+r8UDLR/dAv5fBQJbi4kANZN5A0OjtQPku9EAnar9AadyXQIAn9EA22PxA0h2yQA==",
          "dtype": "f4"
         },
         "xaxis": "x",
         "yaxis": "y"
        }
       ],
       "layout": {
        "barmode": "overlay",
        "legend": {
         "title": {
          "text": "label"
         },
         "tracegroupgap": 0
        },
        "margin": {
         "t": 60
        },
        "template": {
         "data": {
          "bar": [
           {
            "error_x": {
             "color": "#2a3f5f"
            },
            "error_y": {
             "color": "#2a3f5f"
            },
            "marker": {
             "line": {
              "color": "#E5ECF6",
              "width": 0.5
             },
             "pattern": {
              "fillmode": "overlay",
              "size": 10,
              "solidity": 0.2
             }
            },
            "type": "bar"
           }
          ],
          "barpolar": [
           {
            "marker": {
             "line": {
              "color": "#E5ECF6",
              "width": 0.5
             },
             "pattern": {
              "fillmode": "overlay",
              "size": 10,
              "solidity": 0.2
             }
            },
            "type": "barpolar"
           }
          ],
          "carpet": [
           {
            "aaxis": {
             "endlinecolor": "#2a3f5f",
             "gridcolor": "white",
             "linecolor": "white",
             "minorgridcolor": "white",
             "startlinecolor": "#2a3f5f"
            },
            "baxis": {
             "endlinecolor": "#2a3f5f",
             "gridcolor": "white",
             "linecolor": "white",
             "minorgridcolor": "white",
             "startlinecolor": "#2a3f5f"
            },
            "type": "carpet"
           }
          ],
          "choropleth": [
           {
            "colorbar": {
             "outlinewidth": 0,
             "ticks": ""
            },
            "type": "choropleth"
           }
          ],
          "contour": [
           {
            "colorbar": {
             "outlinewidth": 0,
             "ticks": ""
            },
            "colorscale": [
             [
              0,
              "#0d0887"
             ],
             [
              0.1111111111111111,
              "#46039f"
             ],
             [
              0.2222222222222222,
              "#7201a8"
             ],
             [
              0.3333333333333333,
              "#9c179e"
             ],
             [
              0.4444444444444444,
              "#bd3786"
             ],
             [
              0.5555555555555556,
              "#d8576b"
             ],
             [
              0.6666666666666666,
              "#ed7953"
             ],
             [
              0.7777777777777778,
              "#fb9f3a"
             ],
             [
              0.8888888888888888,
              "#fdca26"
             ],
             [
              1,
              "#f0f921"
             ]
            ],
            "type": "contour"
           }
          ],
          "contourcarpet": [
           {
            "colorbar": {
             "outlinewidth": 0,
             "ticks": ""
            },
            "type": "contourcarpet"
           }
          ],
          "heatmap": [
           {
            "colorbar": {
             "outlinewidth": 0,
             "ticks": ""
            },
            "colorscale": [
             [
              0,
              "#0d0887"
             ],
             [
              0.1111111111111111,
              "#46039f"
             ],
             [
              0.2222222222222222,
              "#7201a8"
             ],
             [
              0.3333333333333333,
              "#9c179e"
             ],
             [
              0.4444444444444444,
              "#bd3786"
             ],
             [
              0.5555555555555556,
              "#d8576b"
             ],
             [
              0.6666666666666666,
              "#ed7953"
             ],
             [
              0.7777777777777778,
              "#fb9f3a"
             ],
             [
              0.8888888888888888,
              "#fdca26"
             ],
             [
              1,
              "#f0f921"
             ]
            ],
            "type": "heatmap"
           }
          ],
          "histogram": [
           {
            "marker": {
             "pattern": {
              "fillmode": "overlay",
              "size": 10,
              "solidity": 0.2
             }
            },
            "type": "histogram"
           }
          ],
          "histogram2d": [
           {
            "colorbar": {
             "outlinewidth": 0,
             "ticks": ""
            },
            "colorscale": [
             [
              0,
              "#0d0887"
             ],
             [
              0.1111111111111111,
              "#46039f"
             ],
             [
              0.2222222222222222,
              "#7201a8"
             ],
             [
              0.3333333333333333,
              "#9c179e"
             ],
             [
              0.4444444444444444,
              "#bd3786"
             ],
             [
              0.5555555555555556,
              "#d8576b"
             ],
             [
              0.6666666666666666,
              "#ed7953"
             ],
             [
              0.7777777777777778,
              "#fb9f3a"
             ],
             [
              0.8888888888888888,
              "#fdca26"
             ],
             [
              1,
              "#f0f921"
             ]
            ],
            "type": "histogram2d"
           }
          ],
          "histogram2dcontour": [
           {
            "colorbar": {
             "outlinewidth": 0,
             "ticks": ""
            },
            "colorscale": [
             [
              0,
              "#0d0887"
             ],
             [
              0.1111111111111111,
              "#46039f"
             ],
             [
              0.2222222222222222,
              "#7201a8"
             ],
             [
              0.3333333333333333,
              "#9c179e"
             ],
             [
              0.4444444444444444,
              "#bd3786"
             ],
             [
              0.5555555555555556,
              "#d8576b"
             ],
             [
              0.6666666666666666,
              "#ed7953"
             ],
             [
              0.7777777777777778,
              "#fb9f3a"
             ],
             [
              0.8888888888888888,
              "#fdca26"
             ],
             [
              1,
              "#f0f921"
             ]
            ],
            "type": "histogram2dcontour"
           }
          ],
          "mesh3d": [
           {
            "colorbar": {
             "outlinewidth": 0,
             "ticks": ""
            },
            "type": "mesh3d"
           }
          ],
          "parcoords": [
           {
            "line": {
             "colorbar": {
              "outlinewidth": 0,
              "ticks": ""
             }
            },
            "type": "parcoords"
           }
          ],
          "pie": [
           {
            "automargin": true,
            "type": "pie"
           }
          ],
          "scatter": [
           {
            "fillpattern": {
             "fillmode": "overlay",
             "size": 10,
             "solidity": 0.2
            },
            "type": "scatter"
           }
          ],
          "scatter3d": [
           {
            "line": {
             "colorbar": {
              "outlinewidth": 0,
              "ticks": ""
             }
            },
            "marker": {
             "colorbar": {
              "outlinewidth": 0,
              "ticks": ""
             }
            },
            "type": "scatter3d"
           }
          ],
          "scattercarpet": [
           {
            "marker": {
             "colorbar": {
              "outlinewidth": 0,
              "ticks": ""
             }
            },
            "type": "scattercarpet"
           }
          ],
          "scattergeo": [
           {
            "marker": {
             "colorbar": {
              "outlinewidth": 0,
              "ticks": ""
             }
            },
            "type": "scattergeo"
           }
          ],
          "scattergl": [
           {
            "marker": {
             "colorbar": {
              "outlinewidth": 0,
              "ticks": ""
             }
            },
            "type": "scattergl"
           }
          ],
          "scattermap": [
           {
            "marker": {
             "colorbar": {
              "outlinewidth": 0,
              "ticks": ""
             }
            },
            "type": "scattermap"
           }
          ],
          "scattermapbox": [
           {
            "marker": {
             "colorbar": {
              "outlinewidth": 0,
              "ticks": ""
             }
            },
            "type": "scattermapbox"
           }
          ],
          "scatterpolar": [
           {
            "marker": {
             "colorbar": {
              "outlinewidth": 0,
              "ticks": ""
             }
            },
            "type": "scatterpolar"
           }
          ],
          "scatterpolargl": [
           {
            "marker": {
             "colorbar": {
              "outlinewidth": 0,
              "ticks": ""
             }
            },
            "type": "scatterpolargl"
           }
          ],
          "scatterternary": [
           {
            "marker": {
             "colorbar": {
              "outlinewidth": 0,
              "ticks": ""
             }
            },
            "type": "scatterternary"
           }
          ],
          "surface": [
           {
            "colorbar": {
             "outlinewidth": 0,
             "ticks": ""
            },
            "colorscale": [
             [
              0,
              "#0d0887"
             ],
             [
              0.1111111111111111,
              "#46039f"
             ],
             [
              0.2222222222222222,
              "#7201a8"
             ],
             [
              0.3333333333333333,
              "#9c179e"
             ],
             [
              0.4444444444444444,
              "#bd3786"
             ],
             [
              0.5555555555555556,
              "#d8576b"
             ],
             [
              0.6666666666666666,
              "#ed7953"
             ],
             [
              0.7777777777777778,
              "#fb9f3a"
             ],
             [
              0.8888888888888888,
              "#fdca26"
             ],
             [
              1,
              "#f0f921"
             ]
            ],
            "type": "surface"
           }
          ],
          "table": [
           {
            "cells": {
             "fill": {
              "color": "#EBF0F8"
             },
             "line": {
              "color": "white"
             }
            },
            "header": {
             "fill": {
              "color": "#C8D4E3"
             },
             "line": {
              "color": "white"
             }
            },
            "type": "table"
           }
          ]
         },
         "layout": {
          "annotationdefaults": {
           "arrowcolor": "#2a3f5f",
           "arrowhead": 0,
           "arrowwidth": 1
          },
          "autotypenumbers": "strict",
          "coloraxis": {
           "colorbar": {
            "outlinewidth": 0,
            "ticks": ""
           }
          },
          "colorscale": {
           "diverging": [
            [
             0,
             "#8e0152"
            ],
            [
             0.1,
             "#c51b7d"
            ],
            [
             0.2,
             "#de77ae"
            ],
            [
             0.3,
             "#f1b6da"
            ],
            [
             0.4,
             "#fde0ef"
            ],
            [
             0.5,
             "#f7f7f7"
            ],
            [
             0.6,
             "#e6f5d0"
            ],
            [
             0.7,
             "#b8e186"
            ],
            [
             0.8,
             "#7fbc41"
            ],
            [
             0.9,
             "#4d9221"
            ],
            [
             1,
             "#276419"
            ]
           ],
           "sequential": [
            [
             0,
             "#0d0887"
            ],
            [
             0.1111111111111111,
             "#46039f"
            ],
            [
             0.2222222222222222,
             "#7201a8"
            ],
            [
             0.3333333333333333,
             "#9c179e"
            ],
            [
             0.4444444444444444,
             "#bd3786"
            ],
            [
             0.5555555555555556,
             "#d8576b"
            ],
            [
             0.6666666666666666,
             "#ed7953"
            ],
            [
             0.7777777777777778,
             "#fb9f3a"
            ],
            [
             0.8888888888888888,
             "#fdca26"
            ],
            [
             1,
             "#f0f921"
            ]
           ],
           "sequentialminus": [
            [
             0,
             "#0d0887"
            ],
            [
             0.1111111111111111,
             "#46039f"
            ],
            [
             0.2222222222222222,
             "#7201a8"
            ],
            [
             0.3333333333333333,
             "#9c179e"
            ],
            [
             0.4444444444444444,
             "#bd3786"
            ],
            [
             0.5555555555555556,
             "#d8576b"
            ],
            [
             0.6666666666666666,
             "#ed7953"
            ],
            [
             0.7777777777777778,
             "#fb9f3a"
            ],
            [
             0.8888888888888888,
             "#fdca26"
            ],
            [
             1,
             "#f0f921"
            ]
           ]
          },
          "colorway": [
           "#636efa",
           "#EF553B",
           "#00cc96",
           "#ab63fa",
           "#FFA15A",
           "#19d3f3",
           "#FF6692",
           "#B6E880",
           "#FF97FF",
           "#FECB52"
          ],
          "font": {
           "color": "#2a3f5f"
          },
          "geo": {
           "bgcolor": "white",
           "lakecolor": "white",
           "landcolor": "#E5ECF6",
           "showlakes": true,
           "showland": true,
           "subunitcolor": "white"
          },
          "hoverlabel": {
           "align": "left"
          },
          "hovermode": "closest",
          "mapbox": {
           "style": "light"
          },
          "paper_bgcolor": "white",
          "plot_bgcolor": "#E5ECF6",
          "polar": {
           "angularaxis": {
            "gridcolor": "white",
            "linecolor": "white",
            "ticks": ""
           },
           "bgcolor": "#E5ECF6",
           "radialaxis": {
            "gridcolor": "white",
            "linecolor": "white",
            "ticks": ""
           }
          },
          "scene": {
           "xaxis": {
            "backgroundcolor": "#E5ECF6",
            "gridcolor": "white",
            "gridwidth": 2,
            "linecolor": "white",
            "showbackground": true,
            "ticks": "",
            "zerolinecolor": "white"
           },
           "yaxis": {
            "backgroundcolor": "#E5ECF6",
            "gridcolor": "white",
            "gridwidth": 2,
            "linecolor": "white",
            "showbackground": true,
            "ticks": "",
            "zerolinecolor": "white"
           },
           "zaxis": {
            "backgroundcolor": "#E5ECF6",
            "gridcolor": "white",
            "gridwidth": 2,
            "linecolor": "white",
            "showbackground": true,
            "ticks": "",
            "zerolinecolor": "white"
           }
          },
          "shapedefaults": {
           "line": {
            "color": "#2a3f5f"
           }
          },
          "ternary": {
           "aaxis": {
            "gridcolor": "white",
            "linecolor": "white",
            "ticks": ""
           },
           "baxis": {
            "gridcolor": "white",
            "linecolor": "white",
            "ticks": ""
           },
           "bgcolor": "#E5ECF6",
           "caxis": {
            "gridcolor": "white",
            "linecolor": "white",
            "ticks": ""
           }
          },
          "title": {
           "x": 0.05
          },
          "xaxis": {
           "automargin": true,
           "gridcolor": "white",
           "linecolor": "white",
           "ticks": "",
           "title": {
            "standoff": 15
           },
           "zerolinecolor": "white",
           "zerolinewidth": 2
          },
          "yaxis": {
           "automargin": true,
           "gridcolor": "white",
           "linecolor": "white",
           "ticks": "",
           "title": {
            "standoff": 15
           },
           "zerolinecolor": "white",
           "zerolinewidth": 2
          }
         }
        },
        "title": {
         "text": "PaDiM Scores (Fold 0)"
        },
        "xaxis": {
         "anchor": "y",
         "domain": [
          0,
          1
         ],
         "title": {
          "text": "log_score"
         }
        },
        "yaxis": {
         "anchor": "x",
         "domain": [
          0,
          1
         ],
         "title": {
          "text": "count"
         }
        }
       }
      }
     },
     "metadata": {},
     "output_type": "display_data"
    },
    {
     "data": {
      "application/vnd.plotly.v1+json": {
       "config": {
        "plotlyServerURL": "https://plot.ly"
       },
       "data": [
        {
         "bingroup": "x",
         "hovertemplate": "label=train<br>log_score=%{x}<br>count=%{y}<extra></extra>",
         "legendgroup": "train",
         "marker": {
          "color": "#636efa",
          "opacity": 0.6,
          "pattern": {
           "shape": ""
          }
         },
         "name": "train",
         "nbinsx": 30,
         "orientation": "v",
         "showlegend": true,
         "type": "histogram",
         "x": {
          "bdata": "gcdUQBYvTkDegZ5Avu5gQOibV0ANFWBAHIZdQCLEXkDCwGtA4IlxQPJ2aEA4AWdAQApnQO1VdkCfMX9AeYJxQADadEBN+2tALkh1QKMAWUCDhmBAPelxQHSGY0DLI3FAScp0QGnHdkA9d4JAGh5kQPn9dkCrv2dAameFQJ6yV0AkGHdAisF0QP5icUDGwVxAKLtiQPNoa0BhhHlAlCGEQL9VYUBxdWdAxgiUQLpzb0CWIGBALaCGQK7AYECkBHBApDptQNsVgUBvo2JA46pYQDdkZUDdDWxAe95fQOkHdUD13X1AFdNuQAwFbkCrrV9A0XZkQCNIaUBb2WlABuN7QA7nWEBTr11A2PxwQDCWb0CzyGhAuihqQKOHZUBPkYpAgiRnQCYRZECqt19ASI2FQIvSbEAzBl9ARUCDQKOcdEAGK1ZARzpeQJI8V0BMdmNA4sxZQGRWV0C0e4FAWR51QD6nhECgaE9AuCtfQJg/Y0C9XnNAQrxnQJq9ZkDTiWpAHBuOQAcCWkDHJF9AEoFnQP9YYUAhynZAGsCLQAVpYkCBVV5AA7dqQPlaXEDGloBA5HF5QKmkbUAxIW5A8a6CQIgaXkA3e4ZAbQiOQGrnVUBAoGVAUxhqQL6Ad0Acr3NA7cdiQPvZXUCj71xAX8mFQHS6ckCpKX9AW7RVQMtTc0BAG3ZAO85yQERvcECcr3JAvWhoQBj7WUBKWXNAHW14QAMPYkBgV1dAhydiQAuZWUDreXxAxNRrQJ6UX0CPr2ZAhW9kQIMAckDbXWhAnU5mQIvhcEDkd2FAbCh3QFfPXECJjGJAj5BpQKGFY0AQCmFAOAOBQLeMfEBKU19A/55kQF/OWEAdx4BA/yFcQNL7VEASPmxA86BYQNgEZ0AtF29ARkZdQE/XhEBnm2hAtupxQEWUbkCcIFBAw75eQDtMX0C01WdAzdiEQGEzWUDVEGZABXF0QJa4gECaRIBA+r2AQOsOVkAnXWZA0hdqQPRRg0AjlYVATuFrQDUoa0C1hWJAfwVdQM3ZXkD2IIhAmqVRQAnIYkCgno1AGG1vQBG4WkBFj3lAYBtaQDKAZECu7ltAzftgQDobeUBPIoBAi55LQOw0cUCsBFhAIEZfQG2udUCEyHdAPAJ5QA6EgECd9H1Afp5yQK2QfECyQ35AhtJgQLKiZEDReGtA0ZldQJLMc0A=",
          "dtype": "f4"
         },
         "xaxis": "x",
         "yaxis": "y"
        },
        {
         "bingroup": "x",
         "hovertemplate": "label=val<br>log_score=%{x}<br>count=%{y}<extra></extra>",
         "legendgroup": "val",
         "marker": {
          "color": "#EF553B",
          "opacity": 0.6,
          "pattern": {
           "shape": ""
          }
         },
         "name": "val",
         "nbinsx": 30,
         "orientation": "v",
         "showlegend": true,
         "type": "histogram",
         "x": {
          "bdata": "8j5+QAiLb0BxKnlAuGN6QGFyWEAWMl5ActNpQLTTbEAb53xARyhYQDIEXkDSCGBAWKZqQIX9Y0At6VZAfjRSQGE+fECKjl5Au6Z6QJAwdkBlc2JAjuxhQFiTi0BPvnhACLhmQI57Z0BNemRAJ59iQJQKhUAUaIJA40BnQMvZb0CKK11A1KdxQC3MXUD5KoBAZh1tQObvb0BRfIFAevVjQAo4Y0CyU11AFmh1QA5pbkA2PXpAWxBoQFK3XEB6FVRAnZdaQEzYbEBiwGxAL2GAQERUaEBQ32ZA9gNkQFf7XUA=",
          "dtype": "f4"
         },
         "xaxis": "x",
         "yaxis": "y"
        },
        {
         "bingroup": "x",
         "hovertemplate": "label=color<br>log_score=%{x}<br>count=%{y}<extra></extra>",
         "legendgroup": "color",
         "marker": {
          "color": "#00cc96",
          "opacity": 0.6,
          "pattern": {
           "shape": ""
          }
         },
         "name": "color",
         "nbinsx": 30,
         "orientation": "v",
         "showlegend": true,
         "type": "histogram",
         "x": {
          "bdata": "0h3XQP8d10AxTrlAMp+8QFFF0UCPgb1AUZPFQBZ01kCrodRAf1G6QCPtwUCc8+lAiKnsQIBu60CoiaJAv1jYQN04ykBz/NRAW6HPQA==",
          "dtype": "f4"
         },
         "xaxis": "x",
         "yaxis": "y"
        },
        {
         "bingroup": "x",
         "hovertemplate": "label=cut<br>log_score=%{x}<br>count=%{y}<extra></extra>",
         "legendgroup": "cut",
         "marker": {
          "color": "#ab63fa",
          "opacity": 0.6,
          "pattern": {
           "shape": ""
          }
         },
         "name": "cut",
         "nbinsx": 30,
         "orientation": "v",
         "showlegend": true,
         "type": "histogram",
         "x": {
          "bdata": "23DkQM4G6ED/8uxA2BryQD9i00AGi9tAaDPkQA2nyUCY1tVAt97WQBQq4kDlY/FAGED0QGW16ECmLOdAPGHkQPDZ30A=",
          "dtype": "f4"
         },
         "xaxis": "x",
         "yaxis": "y"
        },
        {
         "bingroup": "x",
         "hovertemplate": "label=good<br>log_score=%{x}<br>count=%{y}<extra></extra>",
         "legendgroup": "good",
         "marker": {
          "color": "#FFA15A",
          "opacity": 0.6,
          "pattern": {
           "shape": ""
          }
         },
         "name": "good",
         "nbinsx": 30,
         "orientation": "v",
         "showlegend": true,
         "type": "histogram",
         "x": {
          "bdata": "g2hcQFzMZUBjf1tACztwQFAsYED/zGFANNdkQF92dEC2Y4FAiBRfQGH+a0BL1V5A41FjQC64aUDU0WlA3NJwQN/ngEBDyGdAS2V2QIj+j0DbynlAnvWAQGoUeEBGWm9ApmljQJxlb0DmoGBA6m6BQA==",
          "dtype": "f4"
         },
         "xaxis": "x",
         "yaxis": "y"
        },
        {
         "bingroup": "x",
         "hovertemplate": "label=hole<br>log_score=%{x}<br>count=%{y}<extra></extra>",
         "legendgroup": "hole",
         "marker": {
          "color": "#19d3f3",
          "opacity": 0.6,
          "pattern": {
           "shape": ""
          }
         },
         "name": "hole",
         "nbinsx": 30,
         "orientation": "v",
         "showlegend": true,
         "type": "histogram",
         "x": {
          "bdata": "bxXeQOgThUA/repA1S3lQEVW4kCyXdtAjfHuQAVc9UBx/OZA08rkQHoT60CG0NlAJ/PfQHg650AI2NxA0E/aQEEC3EA=",
          "dtype": "f4"
         },
         "xaxis": "x",
         "yaxis": "y"
        },
        {
         "bingroup": "x",
         "hovertemplate": "label=metal_contamination<br>log_score=%{x}<br>count=%{y}<extra></extra>",
         "legendgroup": "metal_contamination",
         "marker": {
          "color": "#FF6692",
          "opacity": 0.6,
          "pattern": {
           "shape": ""
          }
         },
         "name": "metal_contamination",
         "nbinsx": 30,
         "orientation": "v",
         "showlegend": true,
         "type": "histogram",
         "x": {
          "bdata": "nXScQON7sEDs1O5A+cj1QGvQ6EAtIvhAxG3lQIsA/0DEOvJAi+XcQI+j7EBgmuRAtIT2QNLY6kBZsb1Al3roQKk430A=",
          "dtype": "f4"
         },
         "xaxis": "x",
         "yaxis": "y"
        },
        {
         "bingroup": "x",
         "hovertemplate": "label=thread<br>log_score=%{x}<br>count=%{y}<extra></extra>",
         "legendgroup": "thread",
         "marker": {
          "color": "#B6E880",
          "opacity": 0.6,
          "pattern": {
           "shape": ""
          }
         },
         "name": "thread",
         "nbinsx": 30,
         "orientation": "v",
         "showlegend": true,
         "type": "histogram",
         "x": {
          "bdata": "FtrnQB2ivkCKpOJAxjrPQDZ62kCJev1Ac6D9QA9+8UCGdvZAZzjAQIep4kAzfd5A2ffsQLlz9ED0/75A/KSVQIcY9kBig/xAbSaxQA==",
          "dtype": "f4"
         },
         "xaxis": "x",
         "yaxis": "y"
        }
       ],
       "layout": {
        "barmode": "overlay",
        "legend": {
         "title": {
          "text": "label"
         },
         "tracegroupgap": 0
        },
        "margin": {
         "t": 60
        },
        "template": {
         "data": {
          "bar": [
           {
            "error_x": {
             "color": "#2a3f5f"
            },
            "error_y": {
             "color": "#2a3f5f"
            },
            "marker": {
             "line": {
              "color": "#E5ECF6",
              "width": 0.5
             },
             "pattern": {
              "fillmode": "overlay",
              "size": 10,
              "solidity": 0.2
             }
            },
            "type": "bar"
           }
          ],
          "barpolar": [
           {
            "marker": {
             "line": {
              "color": "#E5ECF6",
              "width": 0.5
             },
             "pattern": {
              "fillmode": "overlay",
              "size": 10,
              "solidity": 0.2
             }
            },
            "type": "barpolar"
           }
          ],
          "carpet": [
           {
            "aaxis": {
             "endlinecolor": "#2a3f5f",
             "gridcolor": "white",
             "linecolor": "white",
             "minorgridcolor": "white",
             "startlinecolor": "#2a3f5f"
            },
            "baxis": {
             "endlinecolor": "#2a3f5f",
             "gridcolor": "white",
             "linecolor": "white",
             "minorgridcolor": "white",
             "startlinecolor": "#2a3f5f"
            },
            "type": "carpet"
           }
          ],
          "choropleth": [
           {
            "colorbar": {
             "outlinewidth": 0,
             "ticks": ""
            },
            "type": "choropleth"
           }
          ],
          "contour": [
           {
            "colorbar": {
             "outlinewidth": 0,
             "ticks": ""
            },
            "colorscale": [
             [
              0,
              "#0d0887"
             ],
             [
              0.1111111111111111,
              "#46039f"
             ],
             [
              0.2222222222222222,
              "#7201a8"
             ],
             [
              0.3333333333333333,
              "#9c179e"
             ],
             [
              0.4444444444444444,
              "#bd3786"
             ],
             [
              0.5555555555555556,
              "#d8576b"
             ],
             [
              0.6666666666666666,
              "#ed7953"
             ],
             [
              0.7777777777777778,
              "#fb9f3a"
             ],
             [
              0.8888888888888888,
              "#fdca26"
             ],
             [
              1,
              "#f0f921"
             ]
            ],
            "type": "contour"
           }
          ],
          "contourcarpet": [
           {
            "colorbar": {
             "outlinewidth": 0,
             "ticks": ""
            },
            "type": "contourcarpet"
           }
          ],
          "heatmap": [
           {
            "colorbar": {
             "outlinewidth": 0,
             "ticks": ""
            },
            "colorscale": [
             [
              0,
              "#0d0887"
             ],
             [
              0.1111111111111111,
              "#46039f"
             ],
             [
              0.2222222222222222,
              "#7201a8"
             ],
             [
              0.3333333333333333,
              "#9c179e"
             ],
             [
              0.4444444444444444,
              "#bd3786"
             ],
             [
              0.5555555555555556,
              "#d8576b"
             ],
             [
              0.6666666666666666,
              "#ed7953"
             ],
             [
              0.7777777777777778,
              "#fb9f3a"
             ],
             [
              0.8888888888888888,
              "#fdca26"
             ],
             [
              1,
              "#f0f921"
             ]
            ],
            "type": "heatmap"
           }
          ],
          "histogram": [
           {
            "marker": {
             "pattern": {
              "fillmode": "overlay",
              "size": 10,
              "solidity": 0.2
             }
            },
            "type": "histogram"
           }
          ],
          "histogram2d": [
           {
            "colorbar": {
             "outlinewidth": 0,
             "ticks": ""
            },
            "colorscale": [
             [
              0,
              "#0d0887"
             ],
             [
              0.1111111111111111,
              "#46039f"
             ],
             [
              0.2222222222222222,
              "#7201a8"
             ],
             [
              0.3333333333333333,
              "#9c179e"
             ],
             [
              0.4444444444444444,
              "#bd3786"
             ],
             [
              0.5555555555555556,
              "#d8576b"
             ],
             [
              0.6666666666666666,
              "#ed7953"
             ],
             [
              0.7777777777777778,
              "#fb9f3a"
             ],
             [
              0.8888888888888888,
              "#fdca26"
             ],
             [
              1,
              "#f0f921"
             ]
            ],
            "type": "histogram2d"
           }
          ],
          "histogram2dcontour": [
           {
            "colorbar": {
             "outlinewidth": 0,
             "ticks": ""
            },
            "colorscale": [
             [
              0,
              "#0d0887"
             ],
             [
              0.1111111111111111,
              "#46039f"
             ],
             [
              0.2222222222222222,
              "#7201a8"
             ],
             [
              0.3333333333333333,
              "#9c179e"
             ],
             [
              0.4444444444444444,
              "#bd3786"
             ],
             [
              0.5555555555555556,
              "#d8576b"
             ],
             [
              0.6666666666666666,
              "#ed7953"
             ],
             [
              0.7777777777777778,
              "#fb9f3a"
             ],
             [
              0.8888888888888888,
              "#fdca26"
             ],
             [
              1,
              "#f0f921"
             ]
            ],
            "type": "histogram2dcontour"
           }
          ],
          "mesh3d": [
           {
            "colorbar": {
             "outlinewidth": 0,
             "ticks": ""
            },
            "type": "mesh3d"
           }
          ],
          "parcoords": [
           {
            "line": {
             "colorbar": {
              "outlinewidth": 0,
              "ticks": ""
             }
            },
            "type": "parcoords"
           }
          ],
          "pie": [
           {
            "automargin": true,
            "type": "pie"
           }
          ],
          "scatter": [
           {
            "fillpattern": {
             "fillmode": "overlay",
             "size": 10,
             "solidity": 0.2
            },
            "type": "scatter"
           }
          ],
          "scatter3d": [
           {
            "line": {
             "colorbar": {
              "outlinewidth": 0,
              "ticks": ""
             }
            },
            "marker": {
             "colorbar": {
              "outlinewidth": 0,
              "ticks": ""
             }
            },
            "type": "scatter3d"
           }
          ],
          "scattercarpet": [
           {
            "marker": {
             "colorbar": {
              "outlinewidth": 0,
              "ticks": ""
             }
            },
            "type": "scattercarpet"
           }
          ],
          "scattergeo": [
           {
            "marker": {
             "colorbar": {
              "outlinewidth": 0,
              "ticks": ""
             }
            },
            "type": "scattergeo"
           }
          ],
          "scattergl": [
           {
            "marker": {
             "colorbar": {
              "outlinewidth": 0,
              "ticks": ""
             }
            },
            "type": "scattergl"
           }
          ],
          "scattermap": [
           {
            "marker": {
             "colorbar": {
              "outlinewidth": 0,
              "ticks": ""
             }
            },
            "type": "scattermap"
           }
          ],
          "scattermapbox": [
           {
            "marker": {
             "colorbar": {
              "outlinewidth": 0,
              "ticks": ""
             }
            },
            "type": "scattermapbox"
           }
          ],
          "scatterpolar": [
           {
            "marker": {
             "colorbar": {
              "outlinewidth": 0,
              "ticks": ""
             }
            },
            "type": "scatterpolar"
           }
          ],
          "scatterpolargl": [
           {
            "marker": {
             "colorbar": {
              "outlinewidth": 0,
              "ticks": ""
             }
            },
            "type": "scatterpolargl"
           }
          ],
          "scatterternary": [
           {
            "marker": {
             "colorbar": {
              "outlinewidth": 0,
              "ticks": ""
             }
            },
            "type": "scatterternary"
           }
          ],
          "surface": [
           {
            "colorbar": {
             "outlinewidth": 0,
             "ticks": ""
            },
            "colorscale": [
             [
              0,
              "#0d0887"
             ],
             [
              0.1111111111111111,
              "#46039f"
             ],
             [
              0.2222222222222222,
              "#7201a8"
             ],
             [
              0.3333333333333333,
              "#9c179e"
             ],
             [
              0.4444444444444444,
              "#bd3786"
             ],
             [
              0.5555555555555556,
              "#d8576b"
             ],
             [
              0.6666666666666666,
              "#ed7953"
             ],
             [
              0.7777777777777778,
              "#fb9f3a"
             ],
             [
              0.8888888888888888,
              "#fdca26"
             ],
             [
              1,
              "#f0f921"
             ]
            ],
            "type": "surface"
           }
          ],
          "table": [
           {
            "cells": {
             "fill": {
              "color": "#EBF0F8"
             },
             "line": {
              "color": "white"
             }
            },
            "header": {
             "fill": {
              "color": "#C8D4E3"
             },
             "line": {
              "color": "white"
             }
            },
            "type": "table"
           }
          ]
         },
         "layout": {
          "annotationdefaults": {
           "arrowcolor": "#2a3f5f",
           "arrowhead": 0,
           "arrowwidth": 1
          },
          "autotypenumbers": "strict",
          "coloraxis": {
           "colorbar": {
            "outlinewidth": 0,
            "ticks": ""
           }
          },
          "colorscale": {
           "diverging": [
            [
             0,
             "#8e0152"
            ],
            [
             0.1,
             "#c51b7d"
            ],
            [
             0.2,
             "#de77ae"
            ],
            [
             0.3,
             "#f1b6da"
            ],
            [
             0.4,
             "#fde0ef"
            ],
            [
             0.5,
             "#f7f7f7"
            ],
            [
             0.6,
             "#e6f5d0"
            ],
            [
             0.7,
             "#b8e186"
            ],
            [
             0.8,
             "#7fbc41"
            ],
            [
             0.9,
             "#4d9221"
            ],
            [
             1,
             "#276419"
            ]
           ],
           "sequential": [
            [
             0,
             "#0d0887"
            ],
            [
             0.1111111111111111,
             "#46039f"
            ],
            [
             0.2222222222222222,
             "#7201a8"
            ],
            [
             0.3333333333333333,
             "#9c179e"
            ],
            [
             0.4444444444444444,
             "#bd3786"
            ],
            [
             0.5555555555555556,
             "#d8576b"
            ],
            [
             0.6666666666666666,
             "#ed7953"
            ],
            [
             0.7777777777777778,
             "#fb9f3a"
            ],
            [
             0.8888888888888888,
             "#fdca26"
            ],
            [
             1,
             "#f0f921"
            ]
           ],
           "sequentialminus": [
            [
             0,
             "#0d0887"
            ],
            [
             0.1111111111111111,
             "#46039f"
            ],
            [
             0.2222222222222222,
             "#7201a8"
            ],
            [
             0.3333333333333333,
             "#9c179e"
            ],
            [
             0.4444444444444444,
             "#bd3786"
            ],
            [
             0.5555555555555556,
             "#d8576b"
            ],
            [
             0.6666666666666666,
             "#ed7953"
            ],
            [
             0.7777777777777778,
             "#fb9f3a"
            ],
            [
             0.8888888888888888,
             "#fdca26"
            ],
            [
             1,
             "#f0f921"
            ]
           ]
          },
          "colorway": [
           "#636efa",
           "#EF553B",
           "#00cc96",
           "#ab63fa",
           "#FFA15A",
           "#19d3f3",
           "#FF6692",
           "#B6E880",
           "#FF97FF",
           "#FECB52"
          ],
          "font": {
           "color": "#2a3f5f"
          },
          "geo": {
           "bgcolor": "white",
           "lakecolor": "white",
           "landcolor": "#E5ECF6",
           "showlakes": true,
           "showland": true,
           "subunitcolor": "white"
          },
          "hoverlabel": {
           "align": "left"
          },
          "hovermode": "closest",
          "mapbox": {
           "style": "light"
          },
          "paper_bgcolor": "white",
          "plot_bgcolor": "#E5ECF6",
          "polar": {
           "angularaxis": {
            "gridcolor": "white",
            "linecolor": "white",
            "ticks": ""
           },
           "bgcolor": "#E5ECF6",
           "radialaxis": {
            "gridcolor": "white",
            "linecolor": "white",
            "ticks": ""
           }
          },
          "scene": {
           "xaxis": {
            "backgroundcolor": "#E5ECF6",
            "gridcolor": "white",
            "gridwidth": 2,
            "linecolor": "white",
            "showbackground": true,
            "ticks": "",
            "zerolinecolor": "white"
           },
           "yaxis": {
            "backgroundcolor": "#E5ECF6",
            "gridcolor": "white",
            "gridwidth": 2,
            "linecolor": "white",
            "showbackground": true,
            "ticks": "",
            "zerolinecolor": "white"
           },
           "zaxis": {
            "backgroundcolor": "#E5ECF6",
            "gridcolor": "white",
            "gridwidth": 2,
            "linecolor": "white",
            "showbackground": true,
            "ticks": "",
            "zerolinecolor": "white"
           }
          },
          "shapedefaults": {
           "line": {
            "color": "#2a3f5f"
           }
          },
          "ternary": {
           "aaxis": {
            "gridcolor": "white",
            "linecolor": "white",
            "ticks": ""
           },
           "baxis": {
            "gridcolor": "white",
            "linecolor": "white",
            "ticks": ""
           },
           "bgcolor": "#E5ECF6",
           "caxis": {
            "gridcolor": "white",
            "linecolor": "white",
            "ticks": ""
           }
          },
          "title": {
           "x": 0.05
          },
          "xaxis": {
           "automargin": true,
           "gridcolor": "white",
           "linecolor": "white",
           "ticks": "",
           "title": {
            "standoff": 15
           },
           "zerolinecolor": "white",
           "zerolinewidth": 2
          },
          "yaxis": {
           "automargin": true,
           "gridcolor": "white",
           "linecolor": "white",
           "ticks": "",
           "title": {
            "standoff": 15
           },
           "zerolinecolor": "white",
           "zerolinewidth": 2
          }
         }
        },
        "title": {
         "text": "PaDiM Scores (Fold 1)"
        },
        "xaxis": {
         "anchor": "y",
         "domain": [
          0,
          1
         ],
         "title": {
          "text": "log_score"
         }
        },
        "yaxis": {
         "anchor": "x",
         "domain": [
          0,
          1
         ],
         "title": {
          "text": "count"
         }
        }
       }
      }
     },
     "metadata": {},
     "output_type": "display_data"
    },
    {
     "data": {
      "application/vnd.plotly.v1+json": {
       "config": {
        "plotlyServerURL": "https://plot.ly"
       },
       "data": [
        {
         "bingroup": "x",
         "hovertemplate": "label=train<br>log_score=%{x}<br>count=%{y}<extra></extra>",
         "legendgroup": "train",
         "marker": {
          "color": "#636efa",
          "opacity": 0.6,
          "pattern": {
           "shape": ""
          }
         },
         "name": "train",
         "nbinsx": 30,
         "orientation": "v",
         "showlegend": true,
         "type": "histogram",
         "x": {
          "bdata": "uNB/QH4qdEDi22JAduFpQMzKWkDjhmpACKiMQA8EcECTT1lAXiNbQNXeakBwW19AdppPQHEqdkARKm9ANpxiQGeSZUDAfGFA32JyQLY8b0Df+m5AWFphQOD+cUBMklhAifJ0QGsXW0Ci2WRARHV8QBw2b0A2umVAh92FQKC8XkCIT2dArp5xQMpUZUA3vmJAFA9oQHl+YEB+02VA6pFPQAiJbECT4X5Al0RqQNLjWUD/VYtAlmODQDjkWEDn8GRA0FNuQG/egECipmZAFDlnQGkcfEAtFlhA3jZnQMYZVkDbgGdA0vpfQK5zYkBJqGpAuOliQCjtdkA5S1xA8QlgQCdPZEAoMmZACsVkQAmcb0CqDmxAC/N2QB9XZkAeCGhAc+tyQC6EZEB7S4RAnoliQOmNX0C4RFZA6hhZQAlbaUAcsVBA9rNbQHQhU0A9DXNA4UuWQLSQXUA6SWBAUYNwQOThdEDq82RAC6xeQG7IZkBFpWdAjuNrQHwWhkDkkG1AmDR3QMNoWUD3JoRAKuZfQL/mX0DKAmZABBKEQFRNZkDRRnNAmUVqQOA1WEDgFYFANEKEQPcJhEBh62RAbs10QDZRjkAnrntAvCh1QCoJV0Df8mdAV59wQHJtdEDVImVAK41TQI59YUByvGVASC5gQPDucUCCsWdAqEJcQIDgXUBnPWBACBhfQGFWZECdpXBAfWN5QK7ob0D4XVpA2BBfQBGeXEAN3YJAl5t7QIf7b0CH6GxA+jl/QG4takDpE2pAHxWDQOYOgED94oFAcGqFQNfeX0A5sIZAmH5WQH9aYEB3U3dApo1xQEZMi0A1S3ZAvoFxQAgwakBiOF9AsMCEQFR+XEBc64hACSCBQNJodECJVF5Ag6tbQLaDg0DXiYRAzwlpQJNfe0B7LWtA/Yt+QEaabkABJnBARYpjQK7yckBwHGxAxwlyQHYbZEAKUGBAvd1kQOwnYUCmLFxAg614QMz2W0AJV2xARwNXQPVDd0A0lIBAJs5mQCsJWkBD1mZACP9bQFRhV0CB4HJALa1cQAfAZEAC51xAeQt0QHy4YEBOpX5AY2BzQH46ZED1kGtAk7J2QOmOc0CJj1lART9mQOG4V0BRDFVAMkttQL4Ea0A5Z3hAsEFRQBZqdECrPl1Apah1QK3zYEC5voZA6p5kQPd5XUDTSWFA5dZMQHDhdEA=",
          "dtype": "f4"
         },
         "xaxis": "x",
         "yaxis": "y"
        },
        {
         "bingroup": "x",
         "hovertemplate": "label=val<br>log_score=%{x}<br>count=%{y}<extra></extra>",
         "legendgroup": "val",
         "marker": {
          "color": "#EF553B",
          "opacity": 0.6,
          "pattern": {
           "shape": ""
          }
         },
         "name": "val",
         "nbinsx": 30,
         "orientation": "v",
         "showlegend": true,
         "type": "histogram",
         "x": {
          "bdata": "wf1iQPeGYEDUE3hAuiZjQFuCb0ByP2pApw9vQI4bfUDQwGNAEIRbQBqNd0D8UHdAJYlkQH0kbEB4/VVAdhJgQBCmYEA8SIBAc2ZtQJI3bEC+tmhA0mdfQE49V0C632hA/qCBQHNJcEAFt29AM5pxQKUoekAMuHFAj1+iQLqOgECdV2hAvP91QEuvWkDN8mhAfl1uQML5ekAmGHpAE4twQGJvYECW9n5Ak9GBQAqfZ0DX4I9ArU1WQKhRfEAyzm1AFnWAQCAkbUA66WFA54ReQGo/g0C5wXpAyOCHQM0+eUA=",
          "dtype": "f4"
         },
         "xaxis": "x",
         "yaxis": "y"
        },
        {
         "bingroup": "x",
         "hovertemplate": "label=color<br>log_score=%{x}<br>count=%{y}<extra></extra>",
         "legendgroup": "color",
         "marker": {
          "color": "#00cc96",
          "opacity": 0.6,
          "pattern": {
           "shape": ""
          }
         },
         "name": "color",
         "nbinsx": 30,
         "orientation": "v",
         "showlegend": true,
         "type": "histogram",
         "x": {
          "bdata": "WM7XQOzT10BDWbpASFO+QGlV0UCSLr5ABh3HQM4Q10Dxh9VAgfi6QPsIwkAZk+lAsVbtQPXs60A70qJAllbYQLbKykBohdVA4z3QQA==",
          "dtype": "f4"
         },
         "xaxis": "x",
         "yaxis": "y"
        },
        {
         "bingroup": "x",
         "hovertemplate": "label=cut<br>log_score=%{x}<br>count=%{y}<extra></extra>",
         "legendgroup": "cut",
         "marker": {
          "color": "#ab63fa",
          "opacity": 0.6,
          "pattern": {
           "shape": ""
          }
         },
         "name": "cut",
         "nbinsx": 30,
         "orientation": "v",
         "showlegend": true,
         "type": "histogram",
         "x": {
          "bdata": "gd/kQEL95kAAYe1AXVXyQNHc00C6rttA81vkQMEJykBK59VAMkrXQA2c4kAxIvJA/JL0QA7q50Cdm+dA5FzmQMHX4EA=",
          "dtype": "f4"
         },
         "xaxis": "x",
         "yaxis": "y"
        },
        {
         "bingroup": "x",
         "hovertemplate": "label=good<br>log_score=%{x}<br>count=%{y}<extra></extra>",
         "legendgroup": "good",
         "marker": {
          "color": "#FFA15A",
          "opacity": 0.6,
          "pattern": {
           "shape": ""
          }
         },
         "name": "good",
         "nbinsx": 30,
         "orientation": "v",
         "showlegend": true,
         "type": "histogram",
         "x": {
          "bdata": "PkpeQNuZZEDT51xAfxBwQKOjYEDyr2BAoHFlQAbqeEAsr4FARE9fQDhYa0AX/19AzD5jQIAPakBeL2lAOtFwQE+KgUCjSWtA5653QGSlkEBr1X5A6CSAQBimeUAjUG9AhTxiQHxQb0DiOmFASTKBQA==",
          "dtype": "f4"
         },
         "xaxis": "x",
         "yaxis": "y"
        },
        {
         "bingroup": "x",
         "hovertemplate": "label=hole<br>log_score=%{x}<br>count=%{y}<extra></extra>",
         "legendgroup": "hole",
         "marker": {
          "color": "#19d3f3",
          "opacity": 0.6,
          "pattern": {
           "shape": ""
          }
         },
         "name": "hole",
         "nbinsx": 30,
         "orientation": "v",
         "showlegend": true,
         "type": "histogram",
         "x": {
          "bdata": "rF/fQBu7hUBzretAFJjlQM/34UBm19tAQG7vQG8f9UD3MOdAkhLlQGND60D+BttAGuLfQAXV50Attd1A3o7aQIir3EA=",
          "dtype": "f4"
         },
         "xaxis": "x",
         "yaxis": "y"
        },
        {
         "bingroup": "x",
         "hovertemplate": "label=metal_contamination<br>log_score=%{x}<br>count=%{y}<extra></extra>",
         "legendgroup": "metal_contamination",
         "marker": {
          "color": "#FF6692",
          "opacity": 0.6,
          "pattern": {
           "shape": ""
          }
         },
         "name": "metal_contamination",
         "nbinsx": 30,
         "orientation": "v",
         "showlegend": true,
         "type": "histogram",
         "x": {
          "bdata": "6/ycQAbYsEDCtO5AWoH2QAj66EDVAvhAU/3lQPXH/kAFbPFAMP7cQLSy7EDcoeRAFz/3QIWO60CO+b5ASG/oQHyD30A=",
          "dtype": "f4"
         },
         "xaxis": "x",
         "yaxis": "y"
        },
        {
         "bingroup": "x",
         "hovertemplate": "label=thread<br>log_score=%{x}<br>count=%{y}<extra></extra>",
         "legendgroup": "thread",
         "marker": {
          "color": "#B6E880",
          "opacity": 0.6,
          "pattern": {
           "shape": ""
          }
         },
         "name": "thread",
         "nbinsx": 30,
         "orientation": "v",
         "showlegend": true,
         "type": "histogram",
         "x": {
          "bdata": "ObboQGejv0CSC+NAgYbQQPmm2kAMifxAK079QEiT8UBDUPZAox7BQPvL4kAHpt9AqvfsQCh59ECE3L5AZq2VQD419EDeu/xAKZ+yQA==",
          "dtype": "f4"
         },
         "xaxis": "x",
         "yaxis": "y"
        }
       ],
       "layout": {
        "barmode": "overlay",
        "legend": {
         "title": {
          "text": "label"
         },
         "tracegroupgap": 0
        },
        "margin": {
         "t": 60
        },
        "template": {
         "data": {
          "bar": [
           {
            "error_x": {
             "color": "#2a3f5f"
            },
            "error_y": {
             "color": "#2a3f5f"
            },
            "marker": {
             "line": {
              "color": "#E5ECF6",
              "width": 0.5
             },
             "pattern": {
              "fillmode": "overlay",
              "size": 10,
              "solidity": 0.2
             }
            },
            "type": "bar"
           }
          ],
          "barpolar": [
           {
            "marker": {
             "line": {
              "color": "#E5ECF6",
              "width": 0.5
             },
             "pattern": {
              "fillmode": "overlay",
              "size": 10,
              "solidity": 0.2
             }
            },
            "type": "barpolar"
           }
          ],
          "carpet": [
           {
            "aaxis": {
             "endlinecolor": "#2a3f5f",
             "gridcolor": "white",
             "linecolor": "white",
             "minorgridcolor": "white",
             "startlinecolor": "#2a3f5f"
            },
            "baxis": {
             "endlinecolor": "#2a3f5f",
             "gridcolor": "white",
             "linecolor": "white",
             "minorgridcolor": "white",
             "startlinecolor": "#2a3f5f"
            },
            "type": "carpet"
           }
          ],
          "choropleth": [
           {
            "colorbar": {
             "outlinewidth": 0,
             "ticks": ""
            },
            "type": "choropleth"
           }
          ],
          "contour": [
           {
            "colorbar": {
             "outlinewidth": 0,
             "ticks": ""
            },
            "colorscale": [
             [
              0,
              "#0d0887"
             ],
             [
              0.1111111111111111,
              "#46039f"
             ],
             [
              0.2222222222222222,
              "#7201a8"
             ],
             [
              0.3333333333333333,
              "#9c179e"
             ],
             [
              0.4444444444444444,
              "#bd3786"
             ],
             [
              0.5555555555555556,
              "#d8576b"
             ],
             [
              0.6666666666666666,
              "#ed7953"
             ],
             [
              0.7777777777777778,
              "#fb9f3a"
             ],
             [
              0.8888888888888888,
              "#fdca26"
             ],
             [
              1,
              "#f0f921"
             ]
            ],
            "type": "contour"
           }
          ],
          "contourcarpet": [
           {
            "colorbar": {
             "outlinewidth": 0,
             "ticks": ""
            },
            "type": "contourcarpet"
           }
          ],
          "heatmap": [
           {
            "colorbar": {
             "outlinewidth": 0,
             "ticks": ""
            },
            "colorscale": [
             [
              0,
              "#0d0887"
             ],
             [
              0.1111111111111111,
              "#46039f"
             ],
             [
              0.2222222222222222,
              "#7201a8"
             ],
             [
              0.3333333333333333,
              "#9c179e"
             ],
             [
              0.4444444444444444,
              "#bd3786"
             ],
             [
              0.5555555555555556,
              "#d8576b"
             ],
             [
              0.6666666666666666,
              "#ed7953"
             ],
             [
              0.7777777777777778,
              "#fb9f3a"
             ],
             [
              0.8888888888888888,
              "#fdca26"
             ],
             [
              1,
              "#f0f921"
             ]
            ],
            "type": "heatmap"
           }
          ],
          "histogram": [
           {
            "marker": {
             "pattern": {
              "fillmode": "overlay",
              "size": 10,
              "solidity": 0.2
             }
            },
            "type": "histogram"
           }
          ],
          "histogram2d": [
           {
            "colorbar": {
             "outlinewidth": 0,
             "ticks": ""
            },
            "colorscale": [
             [
              0,
              "#0d0887"
             ],
             [
              0.1111111111111111,
              "#46039f"
             ],
             [
              0.2222222222222222,
              "#7201a8"
             ],
             [
              0.3333333333333333,
              "#9c179e"
             ],
             [
              0.4444444444444444,
              "#bd3786"
             ],
             [
              0.5555555555555556,
              "#d8576b"
             ],
             [
              0.6666666666666666,
              "#ed7953"
             ],
             [
              0.7777777777777778,
              "#fb9f3a"
             ],
             [
              0.8888888888888888,
              "#fdca26"
             ],
             [
              1,
              "#f0f921"
             ]
            ],
            "type": "histogram2d"
           }
          ],
          "histogram2dcontour": [
           {
            "colorbar": {
             "outlinewidth": 0,
             "ticks": ""
            },
            "colorscale": [
             [
              0,
              "#0d0887"
             ],
             [
              0.1111111111111111,
              "#46039f"
             ],
             [
              0.2222222222222222,
              "#7201a8"
             ],
             [
              0.3333333333333333,
              "#9c179e"
             ],
             [
              0.4444444444444444,
              "#bd3786"
             ],
             [
              0.5555555555555556,
              "#d8576b"
             ],
             [
              0.6666666666666666,
              "#ed7953"
             ],
             [
              0.7777777777777778,
              "#fb9f3a"
             ],
             [
              0.8888888888888888,
              "#fdca26"
             ],
             [
              1,
              "#f0f921"
             ]
            ],
            "type": "histogram2dcontour"
           }
          ],
          "mesh3d": [
           {
            "colorbar": {
             "outlinewidth": 0,
             "ticks": ""
            },
            "type": "mesh3d"
           }
          ],
          "parcoords": [
           {
            "line": {
             "colorbar": {
              "outlinewidth": 0,
              "ticks": ""
             }
            },
            "type": "parcoords"
           }
          ],
          "pie": [
           {
            "automargin": true,
            "type": "pie"
           }
          ],
          "scatter": [
           {
            "fillpattern": {
             "fillmode": "overlay",
             "size": 10,
             "solidity": 0.2
            },
            "type": "scatter"
           }
          ],
          "scatter3d": [
           {
            "line": {
             "colorbar": {
              "outlinewidth": 0,
              "ticks": ""
             }
            },
            "marker": {
             "colorbar": {
              "outlinewidth": 0,
              "ticks": ""
             }
            },
            "type": "scatter3d"
           }
          ],
          "scattercarpet": [
           {
            "marker": {
             "colorbar": {
              "outlinewidth": 0,
              "ticks": ""
             }
            },
            "type": "scattercarpet"
           }
          ],
          "scattergeo": [
           {
            "marker": {
             "colorbar": {
              "outlinewidth": 0,
              "ticks": ""
             }
            },
            "type": "scattergeo"
           }
          ],
          "scattergl": [
           {
            "marker": {
             "colorbar": {
              "outlinewidth": 0,
              "ticks": ""
             }
            },
            "type": "scattergl"
           }
          ],
          "scattermap": [
           {
            "marker": {
             "colorbar": {
              "outlinewidth": 0,
              "ticks": ""
             }
            },
            "type": "scattermap"
           }
          ],
          "scattermapbox": [
           {
            "marker": {
             "colorbar": {
              "outlinewidth": 0,
              "ticks": ""
             }
            },
            "type": "scattermapbox"
           }
          ],
          "scatterpolar": [
           {
            "marker": {
             "colorbar": {
              "outlinewidth": 0,
              "ticks": ""
             }
            },
            "type": "scatterpolar"
           }
          ],
          "scatterpolargl": [
           {
            "marker": {
             "colorbar": {
              "outlinewidth": 0,
              "ticks": ""
             }
            },
            "type": "scatterpolargl"
           }
          ],
          "scatterternary": [
           {
            "marker": {
             "colorbar": {
              "outlinewidth": 0,
              "ticks": ""
             }
            },
            "type": "scatterternary"
           }
          ],
          "surface": [
           {
            "colorbar": {
             "outlinewidth": 0,
             "ticks": ""
            },
            "colorscale": [
             [
              0,
              "#0d0887"
             ],
             [
              0.1111111111111111,
              "#46039f"
             ],
             [
              0.2222222222222222,
              "#7201a8"
             ],
             [
              0.3333333333333333,
              "#9c179e"
             ],
             [
              0.4444444444444444,
              "#bd3786"
             ],
             [
              0.5555555555555556,
              "#d8576b"
             ],
             [
              0.6666666666666666,
              "#ed7953"
             ],
             [
              0.7777777777777778,
              "#fb9f3a"
             ],
             [
              0.8888888888888888,
              "#fdca26"
             ],
             [
              1,
              "#f0f921"
             ]
            ],
            "type": "surface"
           }
          ],
          "table": [
           {
            "cells": {
             "fill": {
              "color": "#EBF0F8"
             },
             "line": {
              "color": "white"
             }
            },
            "header": {
             "fill": {
              "color": "#C8D4E3"
             },
             "line": {
              "color": "white"
             }
            },
            "type": "table"
           }
          ]
         },
         "layout": {
          "annotationdefaults": {
           "arrowcolor": "#2a3f5f",
           "arrowhead": 0,
           "arrowwidth": 1
          },
          "autotypenumbers": "strict",
          "coloraxis": {
           "colorbar": {
            "outlinewidth": 0,
            "ticks": ""
           }
          },
          "colorscale": {
           "diverging": [
            [
             0,
             "#8e0152"
            ],
            [
             0.1,
             "#c51b7d"
            ],
            [
             0.2,
             "#de77ae"
            ],
            [
             0.3,
             "#f1b6da"
            ],
            [
             0.4,
             "#fde0ef"
            ],
            [
             0.5,
             "#f7f7f7"
            ],
            [
             0.6,
             "#e6f5d0"
            ],
            [
             0.7,
             "#b8e186"
            ],
            [
             0.8,
             "#7fbc41"
            ],
            [
             0.9,
             "#4d9221"
            ],
            [
             1,
             "#276419"
            ]
           ],
           "sequential": [
            [
             0,
             "#0d0887"
            ],
            [
             0.1111111111111111,
             "#46039f"
            ],
            [
             0.2222222222222222,
             "#7201a8"
            ],
            [
             0.3333333333333333,
             "#9c179e"
            ],
            [
             0.4444444444444444,
             "#bd3786"
            ],
            [
             0.5555555555555556,
             "#d8576b"
            ],
            [
             0.6666666666666666,
             "#ed7953"
            ],
            [
             0.7777777777777778,
             "#fb9f3a"
            ],
            [
             0.8888888888888888,
             "#fdca26"
            ],
            [
             1,
             "#f0f921"
            ]
           ],
           "sequentialminus": [
            [
             0,
             "#0d0887"
            ],
            [
             0.1111111111111111,
             "#46039f"
            ],
            [
             0.2222222222222222,
             "#7201a8"
            ],
            [
             0.3333333333333333,
             "#9c179e"
            ],
            [
             0.4444444444444444,
             "#bd3786"
            ],
            [
             0.5555555555555556,
             "#d8576b"
            ],
            [
             0.6666666666666666,
             "#ed7953"
            ],
            [
             0.7777777777777778,
             "#fb9f3a"
            ],
            [
             0.8888888888888888,
             "#fdca26"
            ],
            [
             1,
             "#f0f921"
            ]
           ]
          },
          "colorway": [
           "#636efa",
           "#EF553B",
           "#00cc96",
           "#ab63fa",
           "#FFA15A",
           "#19d3f3",
           "#FF6692",
           "#B6E880",
           "#FF97FF",
           "#FECB52"
          ],
          "font": {
           "color": "#2a3f5f"
          },
          "geo": {
           "bgcolor": "white",
           "lakecolor": "white",
           "landcolor": "#E5ECF6",
           "showlakes": true,
           "showland": true,
           "subunitcolor": "white"
          },
          "hoverlabel": {
           "align": "left"
          },
          "hovermode": "closest",
          "mapbox": {
           "style": "light"
          },
          "paper_bgcolor": "white",
          "plot_bgcolor": "#E5ECF6",
          "polar": {
           "angularaxis": {
            "gridcolor": "white",
            "linecolor": "white",
            "ticks": ""
           },
           "bgcolor": "#E5ECF6",
           "radialaxis": {
            "gridcolor": "white",
            "linecolor": "white",
            "ticks": ""
           }
          },
          "scene": {
           "xaxis": {
            "backgroundcolor": "#E5ECF6",
            "gridcolor": "white",
            "gridwidth": 2,
            "linecolor": "white",
            "showbackground": true,
            "ticks": "",
            "zerolinecolor": "white"
           },
           "yaxis": {
            "backgroundcolor": "#E5ECF6",
            "gridcolor": "white",
            "gridwidth": 2,
            "linecolor": "white",
            "showbackground": true,
            "ticks": "",
            "zerolinecolor": "white"
           },
           "zaxis": {
            "backgroundcolor": "#E5ECF6",
            "gridcolor": "white",
            "gridwidth": 2,
            "linecolor": "white",
            "showbackground": true,
            "ticks": "",
            "zerolinecolor": "white"
           }
          },
          "shapedefaults": {
           "line": {
            "color": "#2a3f5f"
           }
          },
          "ternary": {
           "aaxis": {
            "gridcolor": "white",
            "linecolor": "white",
            "ticks": ""
           },
           "baxis": {
            "gridcolor": "white",
            "linecolor": "white",
            "ticks": ""
           },
           "bgcolor": "#E5ECF6",
           "caxis": {
            "gridcolor": "white",
            "linecolor": "white",
            "ticks": ""
           }
          },
          "title": {
           "x": 0.05
          },
          "xaxis": {
           "automargin": true,
           "gridcolor": "white",
           "linecolor": "white",
           "ticks": "",
           "title": {
            "standoff": 15
           },
           "zerolinecolor": "white",
           "zerolinewidth": 2
          },
          "yaxis": {
           "automargin": true,
           "gridcolor": "white",
           "linecolor": "white",
           "ticks": "",
           "title": {
            "standoff": 15
           },
           "zerolinecolor": "white",
           "zerolinewidth": 2
          }
         }
        },
        "title": {
         "text": "PaDiM Scores (Fold 2)"
        },
        "xaxis": {
         "anchor": "y",
         "domain": [
          0,
          1
         ],
         "title": {
          "text": "log_score"
         }
        },
        "yaxis": {
         "anchor": "x",
         "domain": [
          0,
          1
         ],
         "title": {
          "text": "count"
         }
        }
       }
      }
     },
     "metadata": {},
     "output_type": "display_data"
    },
    {
     "data": {
      "application/vnd.plotly.v1+json": {
       "config": {
        "plotlyServerURL": "https://plot.ly"
       },
       "data": [
        {
         "bingroup": "x",
         "hovertemplate": "label=train<br>log_score=%{x}<br>count=%{y}<extra></extra>",
         "legendgroup": "train",
         "marker": {
          "color": "#636efa",
          "opacity": 0.6,
          "pattern": {
           "shape": ""
          }
         },
         "name": "train",
         "nbinsx": 30,
         "orientation": "v",
         "showlegend": true,
         "type": "histogram",
         "x": {
          "bdata": "gh5wQILjWUBeqYBAX4NQQGnUWUC9g2RApR9fQFYPYkBMPXBAqvlvQJJWZkApkWlAoIuFQJQyXkCveIZAjCpfQA/+ZkDsQ2xAO+N0QF57XUAOCIFAUoZmQKnpWUA+FnFA6rprQO2TYUB1PoNAg8diQP2eXUBqaXlAAa1dQCTifEDSsIVA/61gQJ78bkCftWJAtqx1QLEZg0CNfWVAYe9eQGdMgUD+AGtAiD5fQD7cd0AINGJAA/OIQIe1XkClMnFAWU1mQBpLZUCAiYJAyeBjQP9UfEBIzmhAMORoQDd7gECx/nRABYduQNPWcECVPHJA1yJmQBldgUD7vWNAb5GCQNzfcEA/BHJAu1NgQPNLhEBXr2lA6FBqQAu2cUCMmWBAusRXQM+pY0B6mlVAvrxxQFFPbEDD4WVAB92BQJHmYECHTV5AVaBoQOaSfEDIEXVAgD2DQFKFdUCqPmZAskJoQGlbi0BinG9AVwpeQFjsZEAurmhAr+NiQFQVVkC2gWVA99xxQBFCakAALHBAZrNaQBIfUEDbyXdA4jJyQNciZUDzSl1ALu1wQHWFWkBEEHJA/1FwQHyMW0Bj7GVAjrZnQBDlbUAG3INAVkl/QJrDVUDDY3VA8q5gQACIjEDEmWRAE8VtQMkqXUBx73tANxhaQAeHYkCDNlhA/xtoQNozX0Cw+XRAyOZlQIJpZ0BoDn5ARCdhQHnLfUAMQW9Abp1fQEVMgUAKyYhAFTx9QEP+WUBa0HlAGTxaQNNXZUDVh2pASfZYQJD6akC/e15AfNx4QJijXECBWWhAvO55QNMFb0DnCHdArpWFQL2+XEAVWZ5ApfpuQCSKV0BwxYFAiFRmQOO1WEDCG15APR5jQGqvfkAQTW1AYAJbQE7EgUCupHVAKbyFQE2TdUA2TWxAE9hsQEagXkCo/IJAIKB2QMBGbEAUKGxAczFeQMVSakCRimNAPttyQEvyaUAhfGFAjchYQA2jfkB4SXlAmphwQKKKakAs/ntADMBnQFxDZ0B8DGVAPt5cQBbQYEDKpFBAVRh2QNTodkCglGRA+n9cQKCQVkCCQWJAuohrQFYjcEDm9H9ABpplQPIGVUAh42FALK2FQAyslEDG1FxAP0OBQMRWWEBkn3ZAd+FVQAQda0BWYHlAswF0QL9VfEBfM2BAHZRkQDBqXkDRC19AU0FgQKM0YUA=",
          "dtype": "f4"
         },
         "xaxis": "x",
         "yaxis": "y"
        },
        {
         "bingroup": "x",
         "hovertemplate": "label=val<br>log_score=%{x}<br>count=%{y}<extra></extra>",
         "legendgroup": "val",
         "marker": {
          "color": "#EF553B",
          "opacity": 0.6,
          "pattern": {
           "shape": ""
          }
         },
         "name": "val",
         "nbinsx": 30,
         "orientation": "v",
         "showlegend": true,
         "type": "histogram",
         "x": {
          "bdata": "0yx0QCIxdUAMXFVAHrpPQJycaUDtzIRAKNV1QM0ZX0CZkHFAn/dZQFrZhUDaN45ArmJxQIzCc0DerFZAN4VWQKyeeUAmLnZAqLldQMdiTkDT+2pAZ3NqQH4KbEDd639ANIyMQHR2dUBzGlxAvgBiQAzVXUBAiWJA+/FgQKE8bEDGJWRAf+BlQI68dUA0pGBAAfhjQDIqVUCZU3VASQaFQDw5YEBMPXlAZKtdQP5Gc0BAN19AsWJqQG2vWUBkRFNAH0RzQOQ/ZkARxWBAGjFzQKpZkEDmCHdABeBkQCuLZEA=",
          "dtype": "f4"
         },
         "xaxis": "x",
         "yaxis": "y"
        },
        {
         "bingroup": "x",
         "hovertemplate": "label=color<br>log_score=%{x}<br>count=%{y}<extra></extra>",
         "legendgroup": "color",
         "marker": {
          "color": "#00cc96",
          "opacity": 0.6,
          "pattern": {
           "shape": ""
          }
         },
         "name": "color",
         "nbinsx": 30,
         "orientation": "v",
         "showlegend": true,
         "type": "histogram",
         "x": {
          "bdata": "vl7XQPYq2EDpZ7pAzWm8QITm0ECWNL5ADCXIQESm2UAGotVA9OS6QFnhwUA7K+pAXBfuQPSe60DbNqNArLbYQCAWy0DcKdZAcm/TQA==",
          "dtype": "f4"
         },
         "xaxis": "x",
         "yaxis": "y"
        },
        {
         "bingroup": "x",
         "hovertemplate": "label=cut<br>log_score=%{x}<br>count=%{y}<extra></extra>",
         "legendgroup": "cut",
         "marker": {
          "color": "#ab63fa",
          "opacity": 0.6,
          "pattern": {
           "shape": ""
          }
         },
         "name": "cut",
         "nbinsx": 30,
         "orientation": "v",
         "showlegend": true,
         "type": "histogram",
         "x": {
          "bdata": "qprkQFYD6ECePO1AbaTyQCCv00BUpdtAcLPkQJQCykA8CNlA38nWQJ4E40DqffFA6Fj0QLSR6EBov+dA69rkQJX+4EA=",
          "dtype": "f4"
         },
         "xaxis": "x",
         "yaxis": "y"
        },
        {
         "bingroup": "x",
         "hovertemplate": "label=good<br>log_score=%{x}<br>count=%{y}<extra></extra>",
         "legendgroup": "good",
         "marker": {
          "color": "#FFA15A",
          "opacity": 0.6,
          "pattern": {
           "shape": ""
          }
         },
         "name": "good",
         "nbinsx": 30,
         "orientation": "v",
         "showlegend": true,
         "type": "histogram",
         "x": {
          "bdata": "3OFdQCP/ZkClcF1A85lvQKxvYEBwA2FAdJBjQCdEd0B+eIFAn01gQN5Ea0DUzmBAgPhiQJCKakDz62hA4M9yQEf1gECWeGhAhSF3QBZ6kEB1HHpA4KOAQG1FeECjSHBAf59hQGm1b0APwmBA5CmBQA==",
          "dtype": "f4"
         },
         "xaxis": "x",
         "yaxis": "y"
        },
        {
         "bingroup": "x",
         "hovertemplate": "label=hole<br>log_score=%{x}<br>count=%{y}<extra></extra>",
         "legendgroup": "hole",
         "marker": {
          "color": "#19d3f3",
          "opacity": 0.6,
          "pattern": {
           "shape": ""
          }
         },
         "name": "hole",
         "nbinsx": 30,
         "orientation": "v",
         "showlegend": true,
         "type": "histogram",
         "x": {
          "bdata": "UureQH0ahUBmzOpAIUzmQM5z4kCm99tAULLvQM839UCOsedAnMfkQIYg60BxbdpAX+7gQK5c6EBYid1AndXaQMIB30A=",
          "dtype": "f4"
         },
         "xaxis": "x",
         "yaxis": "y"
        },
        {
         "bingroup": "x",
         "hovertemplate": "label=metal_contamination<br>log_score=%{x}<br>count=%{y}<extra></extra>",
         "legendgroup": "metal_contamination",
         "marker": {
          "color": "#FF6692",
          "opacity": 0.6,
          "pattern": {
           "shape": ""
          }
         },
         "name": "metal_contamination",
         "nbinsx": 30,
         "orientation": "v",
         "showlegend": true,
         "type": "histogram",
         "x": {
          "bdata": "IWCdQORvsUAVpO9AXHT2QHyS6UCwb/hAx27lQPto/0Ac/PFAxfrcQAub7EDDfOVAk1v3QO1I60Bjqb9AirHoQPCh4EA=",
          "dtype": "f4"
         },
         "xaxis": "x",
         "yaxis": "y"
        },
        {
         "bingroup": "x",
         "hovertemplate": "label=thread<br>log_score=%{x}<br>count=%{y}<extra></extra>",
         "legendgroup": "thread",
         "marker": {
          "color": "#B6E880",
          "opacity": 0.6,
          "pattern": {
           "shape": ""
          }
         },
         "name": "thread",
         "nbinsx": 30,
         "orientation": "v",
         "showlegend": true,
         "type": "histogram",
         "x": {
          "bdata": "sUzoQM3TwEDeuONAEF/PQJey2kBv0PxAXUb9QE0G8kB2vPZAMhjBQA7Y40Dlvt5A7yHtQL/180AjY75AqbeVQHE+9EAce/xAwZmxQA==",
          "dtype": "f4"
         },
         "xaxis": "x",
         "yaxis": "y"
        }
       ],
       "layout": {
        "barmode": "overlay",
        "legend": {
         "title": {
          "text": "label"
         },
         "tracegroupgap": 0
        },
        "margin": {
         "t": 60
        },
        "template": {
         "data": {
          "bar": [
           {
            "error_x": {
             "color": "#2a3f5f"
            },
            "error_y": {
             "color": "#2a3f5f"
            },
            "marker": {
             "line": {
              "color": "#E5ECF6",
              "width": 0.5
             },
             "pattern": {
              "fillmode": "overlay",
              "size": 10,
              "solidity": 0.2
             }
            },
            "type": "bar"
           }
          ],
          "barpolar": [
           {
            "marker": {
             "line": {
              "color": "#E5ECF6",
              "width": 0.5
             },
             "pattern": {
              "fillmode": "overlay",
              "size": 10,
              "solidity": 0.2
             }
            },
            "type": "barpolar"
           }
          ],
          "carpet": [
           {
            "aaxis": {
             "endlinecolor": "#2a3f5f",
             "gridcolor": "white",
             "linecolor": "white",
             "minorgridcolor": "white",
             "startlinecolor": "#2a3f5f"
            },
            "baxis": {
             "endlinecolor": "#2a3f5f",
             "gridcolor": "white",
             "linecolor": "white",
             "minorgridcolor": "white",
             "startlinecolor": "#2a3f5f"
            },
            "type": "carpet"
           }
          ],
          "choropleth": [
           {
            "colorbar": {
             "outlinewidth": 0,
             "ticks": ""
            },
            "type": "choropleth"
           }
          ],
          "contour": [
           {
            "colorbar": {
             "outlinewidth": 0,
             "ticks": ""
            },
            "colorscale": [
             [
              0,
              "#0d0887"
             ],
             [
              0.1111111111111111,
              "#46039f"
             ],
             [
              0.2222222222222222,
              "#7201a8"
             ],
             [
              0.3333333333333333,
              "#9c179e"
             ],
             [
              0.4444444444444444,
              "#bd3786"
             ],
             [
              0.5555555555555556,
              "#d8576b"
             ],
             [
              0.6666666666666666,
              "#ed7953"
             ],
             [
              0.7777777777777778,
              "#fb9f3a"
             ],
             [
              0.8888888888888888,
              "#fdca26"
             ],
             [
              1,
              "#f0f921"
             ]
            ],
            "type": "contour"
           }
          ],
          "contourcarpet": [
           {
            "colorbar": {
             "outlinewidth": 0,
             "ticks": ""
            },
            "type": "contourcarpet"
           }
          ],
          "heatmap": [
           {
            "colorbar": {
             "outlinewidth": 0,
             "ticks": ""
            },
            "colorscale": [
             [
              0,
              "#0d0887"
             ],
             [
              0.1111111111111111,
              "#46039f"
             ],
             [
              0.2222222222222222,
              "#7201a8"
             ],
             [
              0.3333333333333333,
              "#9c179e"
             ],
             [
              0.4444444444444444,
              "#bd3786"
             ],
             [
              0.5555555555555556,
              "#d8576b"
             ],
             [
              0.6666666666666666,
              "#ed7953"
             ],
             [
              0.7777777777777778,
              "#fb9f3a"
             ],
             [
              0.8888888888888888,
              "#fdca26"
             ],
             [
              1,
              "#f0f921"
             ]
            ],
            "type": "heatmap"
           }
          ],
          "histogram": [
           {
            "marker": {
             "pattern": {
              "fillmode": "overlay",
              "size": 10,
              "solidity": 0.2
             }
            },
            "type": "histogram"
           }
          ],
          "histogram2d": [
           {
            "colorbar": {
             "outlinewidth": 0,
             "ticks": ""
            },
            "colorscale": [
             [
              0,
              "#0d0887"
             ],
             [
              0.1111111111111111,
              "#46039f"
             ],
             [
              0.2222222222222222,
              "#7201a8"
             ],
             [
              0.3333333333333333,
              "#9c179e"
             ],
             [
              0.4444444444444444,
              "#bd3786"
             ],
             [
              0.5555555555555556,
              "#d8576b"
             ],
             [
              0.6666666666666666,
              "#ed7953"
             ],
             [
              0.7777777777777778,
              "#fb9f3a"
             ],
             [
              0.8888888888888888,
              "#fdca26"
             ],
             [
              1,
              "#f0f921"
             ]
            ],
            "type": "histogram2d"
           }
          ],
          "histogram2dcontour": [
           {
            "colorbar": {
             "outlinewidth": 0,
             "ticks": ""
            },
            "colorscale": [
             [
              0,
              "#0d0887"
             ],
             [
              0.1111111111111111,
              "#46039f"
             ],
             [
              0.2222222222222222,
              "#7201a8"
             ],
             [
              0.3333333333333333,
              "#9c179e"
             ],
             [
              0.4444444444444444,
              "#bd3786"
             ],
             [
              0.5555555555555556,
              "#d8576b"
             ],
             [
              0.6666666666666666,
              "#ed7953"
             ],
             [
              0.7777777777777778,
              "#fb9f3a"
             ],
             [
              0.8888888888888888,
              "#fdca26"
             ],
             [
              1,
              "#f0f921"
             ]
            ],
            "type": "histogram2dcontour"
           }
          ],
          "mesh3d": [
           {
            "colorbar": {
             "outlinewidth": 0,
             "ticks": ""
            },
            "type": "mesh3d"
           }
          ],
          "parcoords": [
           {
            "line": {
             "colorbar": {
              "outlinewidth": 0,
              "ticks": ""
             }
            },
            "type": "parcoords"
           }
          ],
          "pie": [
           {
            "automargin": true,
            "type": "pie"
           }
          ],
          "scatter": [
           {
            "fillpattern": {
             "fillmode": "overlay",
             "size": 10,
             "solidity": 0.2
            },
            "type": "scatter"
           }
          ],
          "scatter3d": [
           {
            "line": {
             "colorbar": {
              "outlinewidth": 0,
              "ticks": ""
             }
            },
            "marker": {
             "colorbar": {
              "outlinewidth": 0,
              "ticks": ""
             }
            },
            "type": "scatter3d"
           }
          ],
          "scattercarpet": [
           {
            "marker": {
             "colorbar": {
              "outlinewidth": 0,
              "ticks": ""
             }
            },
            "type": "scattercarpet"
           }
          ],
          "scattergeo": [
           {
            "marker": {
             "colorbar": {
              "outlinewidth": 0,
              "ticks": ""
             }
            },
            "type": "scattergeo"
           }
          ],
          "scattergl": [
           {
            "marker": {
             "colorbar": {
              "outlinewidth": 0,
              "ticks": ""
             }
            },
            "type": "scattergl"
           }
          ],
          "scattermap": [
           {
            "marker": {
             "colorbar": {
              "outlinewidth": 0,
              "ticks": ""
             }
            },
            "type": "scattermap"
           }
          ],
          "scattermapbox": [
           {
            "marker": {
             "colorbar": {
              "outlinewidth": 0,
              "ticks": ""
             }
            },
            "type": "scattermapbox"
           }
          ],
          "scatterpolar": [
           {
            "marker": {
             "colorbar": {
              "outlinewidth": 0,
              "ticks": ""
             }
            },
            "type": "scatterpolar"
           }
          ],
          "scatterpolargl": [
           {
            "marker": {
             "colorbar": {
              "outlinewidth": 0,
              "ticks": ""
             }
            },
            "type": "scatterpolargl"
           }
          ],
          "scatterternary": [
           {
            "marker": {
             "colorbar": {
              "outlinewidth": 0,
              "ticks": ""
             }
            },
            "type": "scatterternary"
           }
          ],
          "surface": [
           {
            "colorbar": {
             "outlinewidth": 0,
             "ticks": ""
            },
            "colorscale": [
             [
              0,
              "#0d0887"
             ],
             [
              0.1111111111111111,
              "#46039f"
             ],
             [
              0.2222222222222222,
              "#7201a8"
             ],
             [
              0.3333333333333333,
              "#9c179e"
             ],
             [
              0.4444444444444444,
              "#bd3786"
             ],
             [
              0.5555555555555556,
              "#d8576b"
             ],
             [
              0.6666666666666666,
              "#ed7953"
             ],
             [
              0.7777777777777778,
              "#fb9f3a"
             ],
             [
              0.8888888888888888,
              "#fdca26"
             ],
             [
              1,
              "#f0f921"
             ]
            ],
            "type": "surface"
           }
          ],
          "table": [
           {
            "cells": {
             "fill": {
              "color": "#EBF0F8"
             },
             "line": {
              "color": "white"
             }
            },
            "header": {
             "fill": {
              "color": "#C8D4E3"
             },
             "line": {
              "color": "white"
             }
            },
            "type": "table"
           }
          ]
         },
         "layout": {
          "annotationdefaults": {
           "arrowcolor": "#2a3f5f",
           "arrowhead": 0,
           "arrowwidth": 1
          },
          "autotypenumbers": "strict",
          "coloraxis": {
           "colorbar": {
            "outlinewidth": 0,
            "ticks": ""
           }
          },
          "colorscale": {
           "diverging": [
            [
             0,
             "#8e0152"
            ],
            [
             0.1,
             "#c51b7d"
            ],
            [
             0.2,
             "#de77ae"
            ],
            [
             0.3,
             "#f1b6da"
            ],
            [
             0.4,
             "#fde0ef"
            ],
            [
             0.5,
             "#f7f7f7"
            ],
            [
             0.6,
             "#e6f5d0"
            ],
            [
             0.7,
             "#b8e186"
            ],
            [
             0.8,
             "#7fbc41"
            ],
            [
             0.9,
             "#4d9221"
            ],
            [
             1,
             "#276419"
            ]
           ],
           "sequential": [
            [
             0,
             "#0d0887"
            ],
            [
             0.1111111111111111,
             "#46039f"
            ],
            [
             0.2222222222222222,
             "#7201a8"
            ],
            [
             0.3333333333333333,
             "#9c179e"
            ],
            [
             0.4444444444444444,
             "#bd3786"
            ],
            [
             0.5555555555555556,
             "#d8576b"
            ],
            [
             0.6666666666666666,
             "#ed7953"
            ],
            [
             0.7777777777777778,
             "#fb9f3a"
            ],
            [
             0.8888888888888888,
             "#fdca26"
            ],
            [
             1,
             "#f0f921"
            ]
           ],
           "sequentialminus": [
            [
             0,
             "#0d0887"
            ],
            [
             0.1111111111111111,
             "#46039f"
            ],
            [
             0.2222222222222222,
             "#7201a8"
            ],
            [
             0.3333333333333333,
             "#9c179e"
            ],
            [
             0.4444444444444444,
             "#bd3786"
            ],
            [
             0.5555555555555556,
             "#d8576b"
            ],
            [
             0.6666666666666666,
             "#ed7953"
            ],
            [
             0.7777777777777778,
             "#fb9f3a"
            ],
            [
             0.8888888888888888,
             "#fdca26"
            ],
            [
             1,
             "#f0f921"
            ]
           ]
          },
          "colorway": [
           "#636efa",
           "#EF553B",
           "#00cc96",
           "#ab63fa",
           "#FFA15A",
           "#19d3f3",
           "#FF6692",
           "#B6E880",
           "#FF97FF",
           "#FECB52"
          ],
          "font": {
           "color": "#2a3f5f"
          },
          "geo": {
           "bgcolor": "white",
           "lakecolor": "white",
           "landcolor": "#E5ECF6",
           "showlakes": true,
           "showland": true,
           "subunitcolor": "white"
          },
          "hoverlabel": {
           "align": "left"
          },
          "hovermode": "closest",
          "mapbox": {
           "style": "light"
          },
          "paper_bgcolor": "white",
          "plot_bgcolor": "#E5ECF6",
          "polar": {
           "angularaxis": {
            "gridcolor": "white",
            "linecolor": "white",
            "ticks": ""
           },
           "bgcolor": "#E5ECF6",
           "radialaxis": {
            "gridcolor": "white",
            "linecolor": "white",
            "ticks": ""
           }
          },
          "scene": {
           "xaxis": {
            "backgroundcolor": "#E5ECF6",
            "gridcolor": "white",
            "gridwidth": 2,
            "linecolor": "white",
            "showbackground": true,
            "ticks": "",
            "zerolinecolor": "white"
           },
           "yaxis": {
            "backgroundcolor": "#E5ECF6",
            "gridcolor": "white",
            "gridwidth": 2,
            "linecolor": "white",
            "showbackground": true,
            "ticks": "",
            "zerolinecolor": "white"
           },
           "zaxis": {
            "backgroundcolor": "#E5ECF6",
            "gridcolor": "white",
            "gridwidth": 2,
            "linecolor": "white",
            "showbackground": true,
            "ticks": "",
            "zerolinecolor": "white"
           }
          },
          "shapedefaults": {
           "line": {
            "color": "#2a3f5f"
           }
          },
          "ternary": {
           "aaxis": {
            "gridcolor": "white",
            "linecolor": "white",
            "ticks": ""
           },
           "baxis": {
            "gridcolor": "white",
            "linecolor": "white",
            "ticks": ""
           },
           "bgcolor": "#E5ECF6",
           "caxis": {
            "gridcolor": "white",
            "linecolor": "white",
            "ticks": ""
           }
          },
          "title": {
           "x": 0.05
          },
          "xaxis": {
           "automargin": true,
           "gridcolor": "white",
           "linecolor": "white",
           "ticks": "",
           "title": {
            "standoff": 15
           },
           "zerolinecolor": "white",
           "zerolinewidth": 2
          },
          "yaxis": {
           "automargin": true,
           "gridcolor": "white",
           "linecolor": "white",
           "ticks": "",
           "title": {
            "standoff": 15
           },
           "zerolinecolor": "white",
           "zerolinewidth": 2
          }
         }
        },
        "title": {
         "text": "PaDiM Scores (Fold 3)"
        },
        "xaxis": {
         "anchor": "y",
         "domain": [
          0,
          1
         ],
         "title": {
          "text": "log_score"
         }
        },
        "yaxis": {
         "anchor": "x",
         "domain": [
          0,
          1
         ],
         "title": {
          "text": "count"
         }
        }
       }
      }
     },
     "metadata": {},
     "output_type": "display_data"
    },
    {
     "data": {
      "application/vnd.plotly.v1+json": {
       "config": {
        "plotlyServerURL": "https://plot.ly"
       },
       "data": [
        {
         "bingroup": "x",
         "hovertemplate": "label=train<br>log_score=%{x}<br>count=%{y}<extra></extra>",
         "legendgroup": "train",
         "marker": {
          "color": "#636efa",
          "opacity": 0.6,
          "pattern": {
           "shape": ""
          }
         },
         "name": "train",
         "nbinsx": 30,
         "orientation": "v",
         "showlegend": true,
         "type": "histogram",
         "x": {
          "bdata": "DXR1QOW9XEAoDWZAcW1gQMlRWkC+n1xAD4llQIfLXEDBE4VAtVZyQJNVTECjImlAm4RlQIxqX0BtxlRAiphqQOyLW0DOEVlAHrN/QJSpWUCqUGhAaIdkQFunXUCDuXBAsgpqQMHEeECQP2tA57ZiQOETd0CO7IVA1U1yQFO7V0Ai4HVAIPV1QAx/cED+4GhAUNhnQInZbkA3WGFA/UNvQJYVc0D4YG9A16NnQIwjaUCZN2JA57VzQAdLXkBTQGFAI6JTQNznfkDe5GJAIbNqQLZLhUBOim5AESNSQBhifED1q2dA8oRxQATiXEAzs2FAvcVxQJ6hf0CkFoVAAAuCQNBOYkDxlW9AgSl4QMb6bkC2kodAn09oQNmygkCHpXVAqAF8QLSieUAuonpA2NNiQJx9Y0BnQWZAanZ7QJWddEAy71hAkIJVQOYSUEBxC2VAW5aUQPvOXUCsdWFAJnZjQJHTZ0Ba1VFAI9lbQMyrX0DI+WFAUT9zQCg5eEDqumJARBCOQJm0U0A47mBA4c5bQJOZZkCm82dAkQVZQBN1ZkC3nV9AvmZmQCWjjUDIzmFAoh2EQBYYhEBwjX5AA25vQM7rXEDWiotAJQZgQGyhVkBCX35A8s1rQALueECxQm1A6nxxQAHIbkBhV2JAGwh6QGK5cEC8JW9ADq1YQNpDdkCZFnlAwxFyQBLmnUCcAmNAJA9nQK7+gUDhdHNAuYl7QI/6YkBtWHNAzgRkQIzqc0C57YFA449nQCJygEAkOF5AVJtmQCHUbECx54NAM6FkQBYlYECGjGZAv9ZdQBqPckAaY15AtINgQNceZkC6mnlAO4F9QK2WWEDkJmVAs+ZhQBBRZkCjm1FAhfGFQAz/VkCipmNAOg9rQJ7cYkBIJ35ASB5aQO2/dUAX71lAKLRdQDneXECyA15Asr1wQNUFjkDuaX5AUM9rQFMFgUC+AFxAdEt0QD8WakAKi2pADi2AQDAEdEAkNWZAIvx3QOXDaUDPwGpAZPxnQJwVa0Bw4FhAmUZuQLkYYkC7JHFAcYB3QGkBZUCysHNAtpdsQHcUVkAIyGFAfNBVQJf4ZUDKOmxADaxkQKETXkAqAXNAAq1rQD3SVUAWAF1AJpl0QH+rYED663pA1qmEQAb4ZUAvuodAg76DQEp2fEBkTW9AiT9dQPGOXEAAPG9AdmZeQDIRdEA=",
          "dtype": "f4"
         },
         "xaxis": "x",
         "yaxis": "y"
        },
        {
         "bingroup": "x",
         "hovertemplate": "label=val<br>log_score=%{x}<br>count=%{y}<extra></extra>",
         "legendgroup": "val",
         "marker": {
          "color": "#EF553B",
          "opacity": 0.6,
          "pattern": {
           "shape": ""
          }
         },
         "name": "val",
         "nbinsx": 30,
         "orientation": "v",
         "showlegend": true,
         "type": "histogram",
         "x": {
          "bdata": "8SmFQDsZhUDUUF5AO4F1QPfta0BPiWVA3Dp2QJN4jUAyBXhAx99lQD3xYkCCb2dASslxQBD9eUCqcYFAnoBiQEUDYUD06mlA3NqAQHMSb0B0yFlAPD1sQGdEaUBCcGVAFKxeQD17i0B1i2hAnPOCQBPTXUAEXWhASRJQQHEzh0D6znVA+yxoQJ+La0AqKl9Az8N4QPa+XEBdqFtA7a2CQFh4dkABWmtA06SEQJwJW0CAGmpAP4tdQOjuW0A2XldAqD12QADndUB35l5ALmuKQAUaV0ACYXtAo0h6QIjGaUA=",
          "dtype": "f4"
         },
         "xaxis": "x",
         "yaxis": "y"
        },
        {
         "bingroup": "x",
         "hovertemplate": "label=color<br>log_score=%{x}<br>count=%{y}<extra></extra>",
         "legendgroup": "color",
         "marker": {
          "color": "#00cc96",
          "opacity": 0.6,
          "pattern": {
           "shape": ""
          }
         },
         "name": "color",
         "nbinsx": 30,
         "orientation": "v",
         "showlegend": true,
         "type": "histogram",
         "x": {
          "bdata": "AiLXQGXb10CUl71A9SW+QMpp0UCY68BAj4TGQD1u1kAwftVALOS8QKACwkBJf+pASkjtQORa60BUAqNAGLjYQEIgy0DcctZAo2PQQA==",
          "dtype": "f4"
         },
         "xaxis": "x",
         "yaxis": "y"
        },
        {
         "bingroup": "x",
         "hovertemplate": "label=cut<br>log_score=%{x}<br>count=%{y}<extra></extra>",
         "legendgroup": "cut",
         "marker": {
          "color": "#ab63fa",
          "opacity": 0.6,
          "pattern": {
           "shape": ""
          }
         },
         "name": "cut",
         "nbinsx": 30,
         "orientation": "v",
         "showlegend": true,
         "type": "histogram",
         "x": {
          "bdata": "DVvkQJ9M50B7ie1AnlDyQAtb00CDRttAhtzkQIyzyUCJWNVAoDHXQEja40DG9fFAazP0QM0D6EB2O+dAeBvlQB5i4UA=",
          "dtype": "f4"
         },
         "xaxis": "x",
         "yaxis": "y"
        },
        {
         "bingroup": "x",
         "hovertemplate": "label=good<br>log_score=%{x}<br>count=%{y}<extra></extra>",
         "legendgroup": "good",
         "marker": {
          "color": "#FFA15A",
          "opacity": 0.6,
          "pattern": {
           "shape": ""
          }
         },
         "name": "good",
         "nbinsx": 30,
         "orientation": "v",
         "showlegend": true,
         "type": "histogram",
         "x": {
          "bdata": "w7tdQNJWZ0CHaF9AG6hvQK6YYUA1YGBAM5BkQPbqd0ATK4FAOXNfQBT9bkD1CGJAe91iQFO7akAOh2lAwMVwQKP6gEBEYmpA+I13QEoVkUCjp3pAYt2AQKWSeUAzxm9ACr9iQD8hcUDh82BALU2CQA==",
          "dtype": "f4"
         },
         "xaxis": "x",
         "yaxis": "y"
        },
        {
         "bingroup": "x",
         "hovertemplate": "label=hole<br>log_score=%{x}<br>count=%{y}<extra></extra>",
         "legendgroup": "hole",
         "marker": {
          "color": "#19d3f3",
          "opacity": 0.6,
          "pattern": {
           "shape": ""
          }
         },
         "name": "hole",
         "nbinsx": 30,
         "orientation": "v",
         "showlegend": true,
         "type": "histogram",
         "x": {
          "bdata": "uAneQBxxhUAlAOtAJm3mQAop4kB3nNtAXAvwQDEw9UB+E+dAzu/kQB4M60BwnttAux3gQEBK50D+4txAARjbQM1p3EA=",
          "dtype": "f4"
         },
         "xaxis": "x",
         "yaxis": "y"
        },
        {
         "bingroup": "x",
         "hovertemplate": "label=metal_contamination<br>log_score=%{x}<br>count=%{y}<extra></extra>",
         "legendgroup": "metal_contamination",
         "marker": {
          "color": "#FF6692",
          "opacity": 0.6,
          "pattern": {
           "shape": ""
          }
         },
         "name": "metal_contamination",
         "nbinsx": 30,
         "orientation": "v",
         "showlegend": true,
         "type": "histogram",
         "x": {
          "bdata": "p6adQAyCsEDgzu5Aa+P1QBHn6EDG4PdA+aTlQHrw/kCdlvFAE6XcQN/Z7EAixuRAWFD3QII560CKXL5AIq3oQNlS30A=",
          "dtype": "f4"
         },
         "xaxis": "x",
         "yaxis": "y"
        },
        {
         "bingroup": "x",
         "hovertemplate": "label=thread<br>log_score=%{x}<br>count=%{y}<extra></extra>",
         "legendgroup": "thread",
         "marker": {
          "color": "#B6E880",
          "opacity": 0.6,
          "pattern": {
           "shape": ""
          }
         },
         "name": "thread",
         "nbinsx": 30,
         "orientation": "v",
         "showlegend": true,
         "type": "histogram",
         "x": {
          "bdata": "yoXoQBo7v0C/EuNATW/QQHLj2kCvd/1Af179QGl58UBqb/ZA4t/DQEW54kB/Wd5AvWDtQCEu9EDzo75AH/aVQAsl9UBQHv1Amp+xQA==",
          "dtype": "f4"
         },
         "xaxis": "x",
         "yaxis": "y"
        }
       ],
       "layout": {
        "barmode": "overlay",
        "legend": {
         "title": {
          "text": "label"
         },
         "tracegroupgap": 0
        },
        "margin": {
         "t": 60
        },
        "template": {
         "data": {
          "bar": [
           {
            "error_x": {
             "color": "#2a3f5f"
            },
            "error_y": {
             "color": "#2a3f5f"
            },
            "marker": {
             "line": {
              "color": "#E5ECF6",
              "width": 0.5
             },
             "pattern": {
              "fillmode": "overlay",
              "size": 10,
              "solidity": 0.2
             }
            },
            "type": "bar"
           }
          ],
          "barpolar": [
           {
            "marker": {
             "line": {
              "color": "#E5ECF6",
              "width": 0.5
             },
             "pattern": {
              "fillmode": "overlay",
              "size": 10,
              "solidity": 0.2
             }
            },
            "type": "barpolar"
           }
          ],
          "carpet": [
           {
            "aaxis": {
             "endlinecolor": "#2a3f5f",
             "gridcolor": "white",
             "linecolor": "white",
             "minorgridcolor": "white",
             "startlinecolor": "#2a3f5f"
            },
            "baxis": {
             "endlinecolor": "#2a3f5f",
             "gridcolor": "white",
             "linecolor": "white",
             "minorgridcolor": "white",
             "startlinecolor": "#2a3f5f"
            },
            "type": "carpet"
           }
          ],
          "choropleth": [
           {
            "colorbar": {
             "outlinewidth": 0,
             "ticks": ""
            },
            "type": "choropleth"
           }
          ],
          "contour": [
           {
            "colorbar": {
             "outlinewidth": 0,
             "ticks": ""
            },
            "colorscale": [
             [
              0,
              "#0d0887"
             ],
             [
              0.1111111111111111,
              "#46039f"
             ],
             [
              0.2222222222222222,
              "#7201a8"
             ],
             [
              0.3333333333333333,
              "#9c179e"
             ],
             [
              0.4444444444444444,
              "#bd3786"
             ],
             [
              0.5555555555555556,
              "#d8576b"
             ],
             [
              0.6666666666666666,
              "#ed7953"
             ],
             [
              0.7777777777777778,
              "#fb9f3a"
             ],
             [
              0.8888888888888888,
              "#fdca26"
             ],
             [
              1,
              "#f0f921"
             ]
            ],
            "type": "contour"
           }
          ],
          "contourcarpet": [
           {
            "colorbar": {
             "outlinewidth": 0,
             "ticks": ""
            },
            "type": "contourcarpet"
           }
          ],
          "heatmap": [
           {
            "colorbar": {
             "outlinewidth": 0,
             "ticks": ""
            },
            "colorscale": [
             [
              0,
              "#0d0887"
             ],
             [
              0.1111111111111111,
              "#46039f"
             ],
             [
              0.2222222222222222,
              "#7201a8"
             ],
             [
              0.3333333333333333,
              "#9c179e"
             ],
             [
              0.4444444444444444,
              "#bd3786"
             ],
             [
              0.5555555555555556,
              "#d8576b"
             ],
             [
              0.6666666666666666,
              "#ed7953"
             ],
             [
              0.7777777777777778,
              "#fb9f3a"
             ],
             [
              0.8888888888888888,
              "#fdca26"
             ],
             [
              1,
              "#f0f921"
             ]
            ],
            "type": "heatmap"
           }
          ],
          "histogram": [
           {
            "marker": {
             "pattern": {
              "fillmode": "overlay",
              "size": 10,
              "solidity": 0.2
             }
            },
            "type": "histogram"
           }
          ],
          "histogram2d": [
           {
            "colorbar": {
             "outlinewidth": 0,
             "ticks": ""
            },
            "colorscale": [
             [
              0,
              "#0d0887"
             ],
             [
              0.1111111111111111,
              "#46039f"
             ],
             [
              0.2222222222222222,
              "#7201a8"
             ],
             [
              0.3333333333333333,
              "#9c179e"
             ],
             [
              0.4444444444444444,
              "#bd3786"
             ],
             [
              0.5555555555555556,
              "#d8576b"
             ],
             [
              0.6666666666666666,
              "#ed7953"
             ],
             [
              0.7777777777777778,
              "#fb9f3a"
             ],
             [
              0.8888888888888888,
              "#fdca26"
             ],
             [
              1,
              "#f0f921"
             ]
            ],
            "type": "histogram2d"
           }
          ],
          "histogram2dcontour": [
           {
            "colorbar": {
             "outlinewidth": 0,
             "ticks": ""
            },
            "colorscale": [
             [
              0,
              "#0d0887"
             ],
             [
              0.1111111111111111,
              "#46039f"
             ],
             [
              0.2222222222222222,
              "#7201a8"
             ],
             [
              0.3333333333333333,
              "#9c179e"
             ],
             [
              0.4444444444444444,
              "#bd3786"
             ],
             [
              0.5555555555555556,
              "#d8576b"
             ],
             [
              0.6666666666666666,
              "#ed7953"
             ],
             [
              0.7777777777777778,
              "#fb9f3a"
             ],
             [
              0.8888888888888888,
              "#fdca26"
             ],
             [
              1,
              "#f0f921"
             ]
            ],
            "type": "histogram2dcontour"
           }
          ],
          "mesh3d": [
           {
            "colorbar": {
             "outlinewidth": 0,
             "ticks": ""
            },
            "type": "mesh3d"
           }
          ],
          "parcoords": [
           {
            "line": {
             "colorbar": {
              "outlinewidth": 0,
              "ticks": ""
             }
            },
            "type": "parcoords"
           }
          ],
          "pie": [
           {
            "automargin": true,
            "type": "pie"
           }
          ],
          "scatter": [
           {
            "fillpattern": {
             "fillmode": "overlay",
             "size": 10,
             "solidity": 0.2
            },
            "type": "scatter"
           }
          ],
          "scatter3d": [
           {
            "line": {
             "colorbar": {
              "outlinewidth": 0,
              "ticks": ""
             }
            },
            "marker": {
             "colorbar": {
              "outlinewidth": 0,
              "ticks": ""
             }
            },
            "type": "scatter3d"
           }
          ],
          "scattercarpet": [
           {
            "marker": {
             "colorbar": {
              "outlinewidth": 0,
              "ticks": ""
             }
            },
            "type": "scattercarpet"
           }
          ],
          "scattergeo": [
           {
            "marker": {
             "colorbar": {
              "outlinewidth": 0,
              "ticks": ""
             }
            },
            "type": "scattergeo"
           }
          ],
          "scattergl": [
           {
            "marker": {
             "colorbar": {
              "outlinewidth": 0,
              "ticks": ""
             }
            },
            "type": "scattergl"
           }
          ],
          "scattermap": [
           {
            "marker": {
             "colorbar": {
              "outlinewidth": 0,
              "ticks": ""
             }
            },
            "type": "scattermap"
           }
          ],
          "scattermapbox": [
           {
            "marker": {
             "colorbar": {
              "outlinewidth": 0,
              "ticks": ""
             }
            },
            "type": "scattermapbox"
           }
          ],
          "scatterpolar": [
           {
            "marker": {
             "colorbar": {
              "outlinewidth": 0,
              "ticks": ""
             }
            },
            "type": "scatterpolar"
           }
          ],
          "scatterpolargl": [
           {
            "marker": {
             "colorbar": {
              "outlinewidth": 0,
              "ticks": ""
             }
            },
            "type": "scatterpolargl"
           }
          ],
          "scatterternary": [
           {
            "marker": {
             "colorbar": {
              "outlinewidth": 0,
              "ticks": ""
             }
            },
            "type": "scatterternary"
           }
          ],
          "surface": [
           {
            "colorbar": {
             "outlinewidth": 0,
             "ticks": ""
            },
            "colorscale": [
             [
              0,
              "#0d0887"
             ],
             [
              0.1111111111111111,
              "#46039f"
             ],
             [
              0.2222222222222222,
              "#7201a8"
             ],
             [
              0.3333333333333333,
              "#9c179e"
             ],
             [
              0.4444444444444444,
              "#bd3786"
             ],
             [
              0.5555555555555556,
              "#d8576b"
             ],
             [
              0.6666666666666666,
              "#ed7953"
             ],
             [
              0.7777777777777778,
              "#fb9f3a"
             ],
             [
              0.8888888888888888,
              "#fdca26"
             ],
             [
              1,
              "#f0f921"
             ]
            ],
            "type": "surface"
           }
          ],
          "table": [
           {
            "cells": {
             "fill": {
              "color": "#EBF0F8"
             },
             "line": {
              "color": "white"
             }
            },
            "header": {
             "fill": {
              "color": "#C8D4E3"
             },
             "line": {
              "color": "white"
             }
            },
            "type": "table"
           }
          ]
         },
         "layout": {
          "annotationdefaults": {
           "arrowcolor": "#2a3f5f",
           "arrowhead": 0,
           "arrowwidth": 1
          },
          "autotypenumbers": "strict",
          "coloraxis": {
           "colorbar": {
            "outlinewidth": 0,
            "ticks": ""
           }
          },
          "colorscale": {
           "diverging": [
            [
             0,
             "#8e0152"
            ],
            [
             0.1,
             "#c51b7d"
            ],
            [
             0.2,
             "#de77ae"
            ],
            [
             0.3,
             "#f1b6da"
            ],
            [
             0.4,
             "#fde0ef"
            ],
            [
             0.5,
             "#f7f7f7"
            ],
            [
             0.6,
             "#e6f5d0"
            ],
            [
             0.7,
             "#b8e186"
            ],
            [
             0.8,
             "#7fbc41"
            ],
            [
             0.9,
             "#4d9221"
            ],
            [
             1,
             "#276419"
            ]
           ],
           "sequential": [
            [
             0,
             "#0d0887"
            ],
            [
             0.1111111111111111,
             "#46039f"
            ],
            [
             0.2222222222222222,
             "#7201a8"
            ],
            [
             0.3333333333333333,
             "#9c179e"
            ],
            [
             0.4444444444444444,
             "#bd3786"
            ],
            [
             0.5555555555555556,
             "#d8576b"
            ],
            [
             0.6666666666666666,
             "#ed7953"
            ],
            [
             0.7777777777777778,
             "#fb9f3a"
            ],
            [
             0.8888888888888888,
             "#fdca26"
            ],
            [
             1,
             "#f0f921"
            ]
           ],
           "sequentialminus": [
            [
             0,
             "#0d0887"
            ],
            [
             0.1111111111111111,
             "#46039f"
            ],
            [
             0.2222222222222222,
             "#7201a8"
            ],
            [
             0.3333333333333333,
             "#9c179e"
            ],
            [
             0.4444444444444444,
             "#bd3786"
            ],
            [
             0.5555555555555556,
             "#d8576b"
            ],
            [
             0.6666666666666666,
             "#ed7953"
            ],
            [
             0.7777777777777778,
             "#fb9f3a"
            ],
            [
             0.8888888888888888,
             "#fdca26"
            ],
            [
             1,
             "#f0f921"
            ]
           ]
          },
          "colorway": [
           "#636efa",
           "#EF553B",
           "#00cc96",
           "#ab63fa",
           "#FFA15A",
           "#19d3f3",
           "#FF6692",
           "#B6E880",
           "#FF97FF",
           "#FECB52"
          ],
          "font": {
           "color": "#2a3f5f"
          },
          "geo": {
           "bgcolor": "white",
           "lakecolor": "white",
           "landcolor": "#E5ECF6",
           "showlakes": true,
           "showland": true,
           "subunitcolor": "white"
          },
          "hoverlabel": {
           "align": "left"
          },
          "hovermode": "closest",
          "mapbox": {
           "style": "light"
          },
          "paper_bgcolor": "white",
          "plot_bgcolor": "#E5ECF6",
          "polar": {
           "angularaxis": {
            "gridcolor": "white",
            "linecolor": "white",
            "ticks": ""
           },
           "bgcolor": "#E5ECF6",
           "radialaxis": {
            "gridcolor": "white",
            "linecolor": "white",
            "ticks": ""
           }
          },
          "scene": {
           "xaxis": {
            "backgroundcolor": "#E5ECF6",
            "gridcolor": "white",
            "gridwidth": 2,
            "linecolor": "white",
            "showbackground": true,
            "ticks": "",
            "zerolinecolor": "white"
           },
           "yaxis": {
            "backgroundcolor": "#E5ECF6",
            "gridcolor": "white",
            "gridwidth": 2,
            "linecolor": "white",
            "showbackground": true,
            "ticks": "",
            "zerolinecolor": "white"
           },
           "zaxis": {
            "backgroundcolor": "#E5ECF6",
            "gridcolor": "white",
            "gridwidth": 2,
            "linecolor": "white",
            "showbackground": true,
            "ticks": "",
            "zerolinecolor": "white"
           }
          },
          "shapedefaults": {
           "line": {
            "color": "#2a3f5f"
           }
          },
          "ternary": {
           "aaxis": {
            "gridcolor": "white",
            "linecolor": "white",
            "ticks": ""
           },
           "baxis": {
            "gridcolor": "white",
            "linecolor": "white",
            "ticks": ""
           },
           "bgcolor": "#E5ECF6",
           "caxis": {
            "gridcolor": "white",
            "linecolor": "white",
            "ticks": ""
           }
          },
          "title": {
           "x": 0.05
          },
          "xaxis": {
           "automargin": true,
           "gridcolor": "white",
           "linecolor": "white",
           "ticks": "",
           "title": {
            "standoff": 15
           },
           "zerolinecolor": "white",
           "zerolinewidth": 2
          },
          "yaxis": {
           "automargin": true,
           "gridcolor": "white",
           "linecolor": "white",
           "ticks": "",
           "title": {
            "standoff": 15
           },
           "zerolinecolor": "white",
           "zerolinewidth": 2
          }
         }
        },
        "title": {
         "text": "PaDiM Scores (Fold 4)"
        },
        "xaxis": {
         "anchor": "y",
         "domain": [
          0,
          1
         ],
         "title": {
          "text": "log_score"
         }
        },
        "yaxis": {
         "anchor": "x",
         "domain": [
          0,
          1
         ],
         "title": {
          "text": "count"
         }
        }
       }
      }
     },
     "metadata": {},
     "output_type": "display_data"
    }
   ],
   "source": [
    "# PaDiM マハラノビス距離ベースと同様に実装\n",
    "\n",
    "# CV 各フォールドで PaDiM を学習・評価\n",
    "all_results_PD = {}\n",
    "for ifold, fold in enumerate(cv_folds):\n",
    "    model_state = fit_padim(fold[\"train_loader\"])\n",
    "    scores_train = all_padim_scores(model_state, fold[\"train_loader\"])\n",
    "    scores_val = all_padim_scores(model_state, fold[\"val_loader\"])\n",
    "    scores_test, heatmaps_test = all_padim_scores(model_state, dev_test_loader, return_maps=True)\n",
    "\n",
    "    all_results_PD[ifold] = {\n",
    "        \"model_state\": model_state,\n",
    "        \"scores_train\": scores_train,\n",
    "        \"scores_val\": scores_val,\n",
    "        \"scores_test\": scores_test,\n",
    "        \"heatmaps_test\": heatmaps_test,\n",
    "    }\n",
    "\n",
    "    df_PD = pd.DataFrame({\n",
    "        \"score\": np.r_[scores_train.numpy(), scores_val.numpy(), scores_test.numpy()],\n",
    "        \"label\": ([\"train\"] * len(scores_train) + [\"val\"] * len(scores_val) + dev_test_loader.dataset.labels),\n",
    "    })\n",
    "\n",
    "    # スコアを対数変換\n",
    "    df_PD[\"log_score\"] = np.log1p(df_PD[\"score\"])\n",
    "\n",
    "    # ヒストグラムの描画\n",
    "    fig = px.histogram(\n",
    "        df_PD, x=\"log_score\", color=\"label\", nbins=30, histnorm=None, opacity=0.6\n",
    "    )\n",
    "    fig.update_layout(barmode=\"overlay\", title=f\"PaDiM Scores (Fold {ifold})\")\n",
    "    fig.show()\n"
   ]
  },
  {
   "cell_type": "code",
   "execution_count": 18,
   "id": "a0131629",
   "metadata": {},
   "outputs": [
    {
     "name": "stdout",
     "output_type": "stream",
     "text": [
      "[PaDiM Fold 0] Val threshold (FPR=1%): 91.0381, Test AUC: 0.9996, F1: 0.9944\n",
      "[PaDiM Fold 1] Val threshold (FPR=1%): 69.4297, Test AUC: 0.9996, F1: 0.9888\n",
      "[PaDiM Fold 2] Val threshold (FPR=1%): 120.2488, Test AUC: 0.9996, F1: 0.9886\n",
      "[PaDiM Fold 3] Val threshold (FPR=1%): 86.7815, Test AUC: 0.9996, F1: 0.9888\n",
      "[PaDiM Fold 4] Val threshold (FPR=1%): 79.4191, Test AUC: 0.9996, F1: 0.9888\n",
      "[PaDiM] Test AUC: 0.9996 ± 0.0000, F1: 0.9899 ± 0.0022\n"
     ]
    }
   ],
   "source": [
    "# 評価指標の算出\n",
    "folds_results_PaDiM = []\n",
    "for ifold, results in all_results_PD.items():\n",
    "    scores_val = results[\"scores_val\"].numpy()\n",
    "    scores_test = results[\"scores_test\"].numpy()\n",
    "    labels_val = np.zeros_like(scores_val)  # valは正常のみ\n",
    "    labels_test = np.array([0 if lbl == \"good\" else 1 for lbl in dev_test_loader.dataset.labels])\n",
    "\n",
    "    threshold = np.percentile(scores_val, 99)\n",
    "    preds_test = (scores_test >= threshold).astype(int)\n",
    "    auc = roc_auc_score(labels_test, scores_test)\n",
    "    f1 = f1_score(labels_test, preds_test)\n",
    "    folds_results_PaDiM.append({\n",
    "        \"fold\": ifold,\n",
    "        \"threshold\": threshold,\n",
    "        \"auc\": auc,\n",
    "        \"f1\": f1\n",
    "    })\n",
    "    print(\n",
    "        f\"[PaDiM Fold {ifold}] Val threshold (FPR=1%): {threshold:.4f}, \"\n",
    "        f\"Test AUC: {auc:.4f}, F1: {f1:.4f}\"\n",
    "    )\n",
    "# AUC, F1 の平均と標準偏差を計算\n",
    "aucs = [r[\"auc\"] for r in folds_results_PaDiM]\n",
    "f1s = [r[\"f1\"] for r in folds_results_PaDiM]\n",
    "print(f\"[PaDiM] Test AUC: {np.mean(aucs):.4f} ± {np.std(aucs):.4f}, F1: {np.mean(f1s):.4f} ± {np.std(f1s):.4f}\")\n"
   ]
  },
  {
   "cell_type": "code",
   "execution_count": 19,
   "id": "3ffe81c7",
   "metadata": {},
   "outputs": [
    {
     "data": {
      "image/png": "[encoded data removed]",
      "text/plain": [
       "<Figure size 600x900 with 6 Axes>"
      ]
     },
     "metadata": {},
     "output_type": "display_data"
    }
   ],
   "source": [
    "# テスト画像のヒートマップ表示（最初の3枚）\n",
    "fig, axes = plt.subplots(3, 2, figsize=(6, 9))\n",
    "for i in range(3):\n",
    "    img, lbl = dev_test_loader.dataset[i]\n",
    "    heatmap = all_results_PD[0][\"heatmaps_test\"][i].numpy()\n",
    "    img = inv_transform(img)\n",
    "    axes[i, 0].imshow(img)\n",
    "    axes[i, 0].set_title(lbl)\n",
    "    axes[i, 0].axis(\"off\")\n",
    "    axes[i, 1].imshow(heatmap, cmap=\"hot\")\n",
    "    axes[i, 1].axis(\"off\")\n",
    "plt.tight_layout()\n",
    "plt.show()\n"
   ]
  },
  {
   "cell_type": "markdown",
   "id": "1bd5b949",
   "metadata": {},
   "source": [
    "### 閾値決定（FPR=1% 目標、dev の test のみ）"
   ]
  },
  {
   "cell_type": "code",
   "execution_count": null,
   "id": "efd7ebcd",
   "metadata": {},
   "outputs": [],
   "source": [
    "# NOTE: ここでは閾値決定の骨子のみを用意。\n",
    "# 実装時は dev の test スコア分布から FPR=1% となるスコアを求めてください。\n",
    "image_fpr_target = 0.01\n",
    "good_mask = np.array([lbl == \"good\" for lbl in dev_test_loader.dataset.labels])\n",
    "threshold_value = float(np.percentile(all_results_PD[0][\"scores_test\"].numpy()[good_mask], 99))\n",
    "threshold_source = f\"dev_{dev_category}_test\"\n",
    "print(\"[INFO] threshold_source:\", threshold_source)\n",
    "print(\"[INFO] threshold_value:\", threshold_value)\n"
   ]
  },
  {
   "cell_type": "markdown",
   "metadata": {},
   "source": [
    "## 固定パイプラインの保存（assets/fixed_pipeline.json）"
   ]
  },
  {
   "cell_type": "code",
   "execution_count": null,
   "metadata": {},
   "outputs": [],
   "source": [
    "# デフォルトではファイルを書き出さない（テンプレートのため）。\n",
    "# 実際に保存したい場合は SAVE_FIXED=True にして実行してください。\n",
    "SAVE_FIXED = False\n",
    "\n",
    "fixed_pipeline = {\n",
    "    \"common\": {\"image_size\": image_size, \"seeds\": seeds},\n",
    "    \"threshold\": {\"image_fpr_target\": image_fpr_target, \"value\": threshold_value, \"source\": threshold_source},\n",
    "    \"mahalanobis\": {\"backbone\": backbone, \"cov_estimator\": cov_estimator},\n",
    "    \"padim\": {\"layers\": padim_layers, \"channel_subsample\": padim_channel_subsample}\n",
    "}\n",
    "\n",
    "assets_dir = Path(\"assets\")\n",
    "assets_dir.mkdir(parents=True, exist_ok=True)\n",
    "cfg_path = assets_dir / \"fixed_pipeline.json\"\n",
    "\n",
    "if SAVE_FIXED:\n",
    "    with cfg_path.open(\"w\", encoding=\"utf-8\") as f:\n",
    "        json.dump(fixed_pipeline, f, indent=2, ensure_ascii=False)\n",
    "    print(f\"[INFO] Saved: {cfg_path}\")\n",
    "else:\n",
    "    print(\"[INFO] SAVE_FIXED=False のためファイルは出力しません。\")\n"
   ]
  },
  {
   "cell_type": "markdown",
   "metadata": {},
   "source": [
    "## 次の手順\n",
    "- 上記のテンプレート関数に実装を追加し、dev の test から閾値を決めて `SAVE_FIXED=True` で JSON を保存。\n",
    "- その後 `02_evaluation_report.ipynb` で eval カテゴリを一発評価。\n",
    "- リーク防止のため、02 ではパラメータ・閾値を変更しないこと。\n"
   ]
  }
 ],
 "metadata": {
  "kernelspec": {
   "display_name": "image-anomaly-detection",
   "language": "python",
   "name": "python3"
  },
  "language_info": {
   "codemirror_mode": {
    "name": "ipython",
    "version": 3
   },
   "file_extension": ".py",
   "mimetype": "text/x-python",
   "name": "python",
   "nbconvert_exporter": "python",
   "pygments_lexer": "ipython3",
   "version": "3.12.3"
  }
 },
 "nbformat": 4,
 "nbformat_minor": 5
}
