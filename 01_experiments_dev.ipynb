{
 "cells": [
  {
   "cell_type": "markdown",
   "metadata": {},
   "source": [
    "# 01_experiments_dev — MVTec 画像異常検知（開発\n",
    "\n",
    "本ノートは dev カテゴリのみで設計を確定し、固定パイプライン設定を `assets/fixed_pipeline.json` に出力するためのテンプレートです。\n",
    "- データ取得は anomalib を用いる（AGENTS.md 準拠）\n",
    "- 手法は Mahalanobis / PaDiM を比較\n",
    "- 閾値は dev の test で画像レベル FPR=1% を目標に決定\n",
    "\n",
    "実行順序：Header → Data → Methods → Results → Save JSON/Artifacts\n"
   ]
  },
  {
   "cell_type": "markdown",
   "metadata": {},
   "source": [
    "## 環境・依存の読み込み"
   ]
  },
  {
   "cell_type": "code",
   "execution_count": 48,
   "id": "5768fe73",
   "metadata": {},
   "outputs": [],
   "source": [
    "# 参考: anomaly_detection.ipynb からの初期インポートを整理\n",
    "import os\n",
    "from pathlib import Path\n",
    "import json\n",
    "import numpy as np\n",
    "import pandas as pd\n",
    "import torch\n",
    "from torchvision import models, transforms\n",
    "from sklearn.covariance import ledoit_wolf\n",
    "from sklearn.metrics import roc_auc_score, f1_score\n",
    "import matplotlib.pyplot as plt\n",
    "import plotly.express as px\n",
    "from torch import nn\n",
    "import torch.nn.functional as F\n"
   ]
  },
  {
   "cell_type": "markdown",
   "id": "65088a9b",
   "metadata": {},
   "source": [
    "## データ取得（anomalib 経由）"
   ]
  },
  {
   "cell_type": "code",
   "execution_count": 43,
   "id": "01228e6e",
   "metadata": {},
   "outputs": [],
   "source": [
    "# AGENTS.md: 既存の MVTEC_ROOT または datasets/MVTecAD を使用。\n",
    "# 未検出の場合は anomalib によりダウンロード。\n",
    "MVTEC_ROOT = Path(os.environ.get(\"MVTEC_ROOT\", \"datasets/MVTecAD\"))\n",
    "MVTEC_ROOT.mkdir(parents=True, exist_ok=True)\n",
    "\n",
    "# anomalib のAPIはバージョンで異なる可能性があるため、例示的に記述。\n",
    "# 実環境の anomalib バージョンに合わせて import と引数を調整してください。\n",
    "try:\n",
    "    from anomalib.data import MVTecAD\n",
    "    datamodule = MVTecAD(root=str(MVTEC_ROOT))\n",
    "    datamodule.prepare_data()  # download if needed\n",
    "    datamodule.setup()\n",
    "except Exception as e:\n",
    "    print(\"[WARN] anomalib のデータ取得セットアップで問題が発生しました。バージョンや引数を確認してください:\\n\", e)\n",
    "\n",
    "assert MVTEC_ROOT.exists(), \"MVTec root not found after anomalib setup.\"\n"
   ]
  },
  {
   "cell_type": "markdown",
   "id": "fe101f49",
   "metadata": {},
   "source": [
    "## 実験設定（dev のみ）"
   ]
  },
  {
   "cell_type": "code",
   "execution_count": 50,
   "id": "d49852b9",
   "metadata": {},
   "outputs": [],
   "source": [
    "# dev カテゴリと seed を定義\n",
    "dev_category = \"carpet\"  # 例: AGENTS.md 推奨例\n",
    "seeds = [0, 1, 2]\n",
    "image_size = 256\n",
    "\n",
    "# 比較する手法（最小構成）\n",
    "use_mahalanobis = True\n",
    "use_padim = True\n",
    "\n",
    "# PaDiM や Mahalanobis で用いる backbone/layers 等は仮パラメータ（要調整）\n",
    "backbone = \"resnet18\"\n",
    "padim_layers = [\"layer1\", \"layer2\", \"layer3\"]\n",
    "padim_channel_subsample = 100\n",
    "cov_estimator = \"ledoit_wolf\"  # Mahalanobis 用\n"
   ]
  },
  {
   "cell_type": "markdown",
   "id": "26064358",
   "metadata": {},
   "source": [
    "## Methods — Mahalanobis / PaDiM（テンプレート）\n",
    "- ここで特徴抽出（ImageNet 事前学習）/ 統計量推定 / 推論スコア化を実装します。\n",
    "- 本テンプレートでは骨子のみを用意しています。必要に応じて `anomaly_detection.ipynb` の実装を移植してください。"
   ]
  },
  {
   "cell_type": "markdown",
   "id": "a8a463e7",
   "metadata": {},
   "source": [
    "#### マハラノビス距離ベースモデル用関数"
   ]
  },
  {
   "cell_type": "code",
   "execution_count": null,
   "id": "9ec297d6",
   "metadata": {},
   "outputs": [],
   "source": [
    "def fit_mahalanobis(train_loader, backbone=backbone, cov_estimator=cov_estimator):\n",
    "    \"\"\"Fit Mahalanobis model from training data.\"\"\"\n",
    "    model = models.__dict__[backbone](pretrained=True)\n",
    "    feature_extractor = nn.Sequential(*list(model.children())[:-1])\n",
    "    feature_extractor.eval()\n",
    "    feats = []\n",
    "    device = next(feature_extractor.parameters()).device\n",
    "    with torch.no_grad():\n",
    "        for images, _ in train_loader:\n",
    "            images = images.to(device)\n",
    "            feat = feature_extractor(images).view(images.size(0), -1)\n",
    "            feats.append(feat.cpu().numpy())\n",
    "    feats = np.concatenate(feats, axis=0)\n",
    "    mean = feats.mean(axis=0)\n",
    "    cov, _ = ledoit_wolf(feats)\n",
    "    precision = np.linalg.pinv(cov)\n",
    "    model_state = {\n",
    "        \"mean\": mean,\n",
    "        \"precision\": precision,\n",
    "        \"feature_extractor\": feature_extractor,\n",
    "        \"meta\": {\"backbone\": backbone, \"cov_estimator\": cov_estimator},\n",
    "    }\n",
    "    return model_state\n",
    "\n",
    "\n",
    "def score_mahalanobis(model_state, batch):\n",
    "    \"\"\"Return Mahalanobis distances for a batch.\"\"\"\n",
    "    feature_extractor = model_state[\"feature_extractor\"]\n",
    "    device = next(feature_extractor.parameters()).device\n",
    "    mean = torch.tensor(model_state[\"mean\"], device=device)\n",
    "    precision = torch.tensor(model_state[\"precision\"], device=device)\n",
    "    feature_extractor.eval()\n",
    "    images = batch[0] if isinstance(batch, (tuple, list)) else batch\n",
    "    images = images.to(device)\n",
    "    with torch.no_grad():\n",
    "        feats = feature_extractor(images).view(images.size(0), -1)\n",
    "    diff = feats - mean\n",
    "    scores = torch.sqrt(torch.sum((diff @ precision) * diff, dim=1))\n",
    "    return scores.cpu()\n",
    "\n",
    "# 任意の DataLoader から全サンプルのマハラノビス距離を算出\n",
    "def all_mahalanobis_scores(model_state, loader):\n",
    "    \"\"\"loader 内のすべての画像についてスコア [N] を返す\"\"\"\n",
    "    chunks = []\n",
    "    for batch in loader:\n",
    "        chunks.append(score_mahalanobis(model_state, batch))  # shape [B]\n",
    "    scores = torch.cat(chunks, dim=0).cpu()  # shape [N]\n",
    "    return scores\n",
    "\n"
   ]
  },
  {
   "cell_type": "markdown",
   "id": "b7b200b0",
   "metadata": {},
   "source": [
    "#### PaDiM用関数"
   ]
  },
  {
   "cell_type": "code",
   "execution_count": 45,
   "id": "009f7036",
   "metadata": {},
   "outputs": [],
   "source": [
    "class _PadimFeatureExtractor(nn.Module):\n",
    "    \"\"\"Utility to capture intermediate feature maps.\"\"\"\n",
    "\n",
    "    def __init__(self, backbone, layers):\n",
    "        super().__init__()\n",
    "        self.model = models.__dict__[backbone](pretrained=True)\n",
    "        self.layers = layers\n",
    "        self.outputs = {}\n",
    "        for name, module in self.model.named_children():\n",
    "            if name in layers:\n",
    "                module.register_forward_hook(self._save_output(name))\n",
    "\n",
    "    def _save_output(self, name):\n",
    "        def hook(module, inp, out):\n",
    "            self.outputs[name] = out\n",
    "        return hook\n",
    "\n",
    "    def forward(self, x):\n",
    "        self.outputs = {}\n",
    "        _ = self.model(x)\n",
    "        return [self.outputs[l] for l in self.layers]\n",
    "\n",
    "\n",
    "def fit_padim(train_loader, backbone=backbone, layers=padim_layers, d=padim_channel_subsample):\n",
    "    \"\"\"Fit PaDiM model and return per-location statistics.\"\"\"\n",
    "    feature_extractor = _PadimFeatureExtractor(backbone, layers)\n",
    "    feature_extractor.eval()\n",
    "    embedding_list = []\n",
    "    device = next(feature_extractor.parameters()).device\n",
    "    with torch.no_grad():\n",
    "        for images, _ in train_loader:\n",
    "            images = images.to(device)\n",
    "            feats = feature_extractor(images)\n",
    "            feats = [\n",
    "                F.interpolate(f, size=feats[0].shape[-2:], mode=\"bilinear\", align_corners=False)\n",
    "                for f in feats\n",
    "            ]\n",
    "            embedding = torch.cat(feats, dim=1)\n",
    "            embedding_list.append(embedding.cpu())\n",
    "    embeddings = torch.cat(embedding_list, dim=0)\n",
    "    c = embeddings.shape[1]\n",
    "    h, w = embeddings.shape[2:]\n",
    "    torch.manual_seed(0)\n",
    "    idx = torch.randperm(c)[:d]\n",
    "    embeddings = embeddings[:, idx, :, :]\n",
    "    embeddings = embeddings.permute(0, 2, 3, 1).reshape(-1, h * w, d)\n",
    "    mean = embeddings.mean(dim=0)\n",
    "    cov = torch.zeros(h * w, d, d)\n",
    "    for i in range(h * w):\n",
    "        cov[i] = torch.from_numpy(np.cov(embeddings[:, i, :].T))\n",
    "    return {\n",
    "        \"mean\": mean,\n",
    "        \"cov\": cov,\n",
    "        \"idx\": idx,\n",
    "        \"feature_extractor\": feature_extractor,\n",
    "        \"meta\": {\"backbone\": backbone, \"layers\": layers, \"d\": d},\n",
    "    }\n",
    "\n",
    "\n",
    "def score_padim(model_state, batch):\n",
    "    \"\"\"Return PaDiM anomaly scores for batch.\"\"\"\n",
    "    feature_extractor = model_state[\"feature_extractor\"]\n",
    "    device = next(feature_extractor.parameters()).device\n",
    "    mean = model_state[\"mean\"].to(device)\n",
    "    cov = model_state[\"cov\"].to(device)\n",
    "    idx = model_state[\"idx\"]\n",
    "    feature_extractor.eval()\n",
    "    images = batch[0] if isinstance(batch, (tuple, list)) else batch\n",
    "    images = images.to(device)\n",
    "    with torch.no_grad():\n",
    "        feats = feature_extractor(images)\n",
    "        feats = [\n",
    "            F.interpolate(f, size=feats[0].shape[-2:], mode=\"bilinear\", align_corners=False)\n",
    "            for f in feats\n",
    "        ]\n",
    "        embedding = torch.cat(feats, dim=1)[:, idx, :, :]\n",
    "    n, d, h, w = embedding.shape\n",
    "    embedding = embedding.permute(0, 2, 3, 1).reshape(n, h * w, d)\n",
    "    scores = []\n",
    "    for emb in embedding:\n",
    "        dist = []\n",
    "        for i in range(h * w):\n",
    "            diff = emb[i] - mean[i]\n",
    "            inv = torch.linalg.pinv(cov[i])\n",
    "            dist.append(torch.sqrt(diff @ inv @ diff))\n",
    "        dist = torch.stack(dist).reshape(h, w)\n",
    "        scores.append(dist.max())\n",
    "    return torch.stack(scores).cpu()\n",
    "\n",
    "def padim_heatmap(model_state, images):\n",
    "    \"\"\"画像テンソルから異常スコアヒートマップを計算する\n",
    "\n",
    "    Args:\n",
    "        model_state (dict): fit_padimで得たモデル\n",
    "        images (Tensor[N,C,H,W]): 正規化済み画像\n",
    "\n",
    "    Returns:\n",
    "        Tensor[N,H,W]: 異常スコアヒートマップ\n",
    "    \"\"\"\n",
    "    feature_extractor = model_state[\"feature_extractor\"]\n",
    "    device = next(feature_extractor.parameters()).device\n",
    "    mean = model_state[\"mean\"].to(device)\n",
    "    cov = model_state[\"cov\"].to(device)\n",
    "    idx = model_state[\"idx\"]\n",
    "    feature_extractor.eval()\n",
    "    with torch.no_grad():\n",
    "        feats = feature_extractor(images.to(device))\n",
    "        feats = [\n",
    "            F.interpolate(f, size=feats[0].shape[-2:], mode=\"bilinear\", align_corners=False)\n",
    "            for f in feats\n",
    "        ]\n",
    "        embedding = torch.cat(feats, dim=1)[:, idx, :, :]\n",
    "    n, d, h, w = embedding.shape\n",
    "    embedding = embedding.permute(0, 2, 3, 1).reshape(n, h * w, d)\n",
    "    inv_cov = torch.linalg.pinv(cov.to(device))\n",
    "    maps = []\n",
    "    for emb in embedding:\n",
    "        diff = emb - mean\n",
    "        dist = torch.sqrt(torch.einsum(\"nd,ndd,nd->n\", diff, inv_cov, diff))\n",
    "        maps.append(dist.reshape(h, w))\n",
    "    return torch.stack(maps)\n",
    "\n",
    "def all_padim_scores(model_state, loader, return_maps=False):\n",
    "    \"\"\"DataLoader内の全画像についてPaDiMスコアを計算\n",
    "\n",
    "    Args:\n",
    "        model_state (dict): fit_padimで得たモデル\n",
    "        loader (DataLoader): 対象データ\n",
    "        return_maps (bool): ヒートマップも返すか\n",
    "\n",
    "    Returns:\n",
    "        Tensor[N]: 各画像の最大スコア\n",
    "        Tensor[N,H,W] (optional): ヒートマップ\n",
    "    \"\"\"\n",
    "    scores_list = []\n",
    "    maps_list = []\n",
    "    for batch in loader:\n",
    "        images = batch[0] if isinstance(batch, (list, tuple)) else batch\n",
    "        maps = padim_heatmap(model_state, images)\n",
    "        scores_list.append(maps.view(maps.size(0), -1).max(dim=1)[0])\n",
    "        if return_maps:\n",
    "            maps_list.append(maps)\n",
    "    scores = torch.cat(scores_list).cpu()\n",
    "    if return_maps:\n",
    "        maps = torch.cat(maps_list).cpu()\n",
    "        return scores, maps\n",
    "    return scores\n"
   ]
  },
  {
   "cell_type": "markdown",
   "id": "b74d370c",
   "metadata": {},
   "source": [
    "## Results — Cross-Validation & Metrics（テンプレート）\n",
    "- 各手法で dev の train を用いたクロスバリデーションを実施し、訓練内/訓練外スコアのヒストグラムを確認する。\n",
    "- dev の test で閾値と評価指標（AUROC, F1 など）の関係を可視化する。\n"
   ]
  },
  {
   "cell_type": "markdown",
   "id": "da5dc09a",
   "metadata": {},
   "source": [
    "#### データローダー準備"
   ]
  },
  {
   "cell_type": "code",
   "execution_count": 46,
   "id": "68fb8377",
   "metadata": {},
   "outputs": [
    {
     "name": "stdout",
     "output_type": "stream",
     "text": [
      "[INFO] Category: carpet\n",
      "[INFO] CV folds: 5\n",
      "  - fold 0: n_train=224, n_val=56\n",
      "  - fold 1: n_train=224, n_val=56\n",
      "  - fold 2: n_train=224, n_val=56\n",
      "  - fold 3: n_train=224, n_val=56\n",
      "  - fold 4: n_train=224, n_val=56\n",
      "[INFO] Dev test size: 117\n",
      "[INFO] Test label distribution: {'color': 19, 'cut': 17, 'good': 28, 'hole': 17, 'metal_contamination': 17, 'thread': 19}\n"
     ]
    }
   ],
   "source": [
    "# Data loading for cross-validation (dev train) and dev test\n",
    "# - Builds KFold train/val DataLoaders using only train/good images.\n",
    "# - Prepares dev test DataLoader with labels (good=0, defect=1).\n",
    "\n",
    "from pathlib import Path\n",
    "from typing import List, Tuple, Any\n",
    "from PIL import Image\n",
    "from sklearn.model_selection import KFold\n",
    "from torch.utils.data import Dataset, DataLoader, Subset\n",
    "import os\n",
    "\n",
    "# Transforms (ImageNet mean/std)\n",
    "imagenet_mean = [0.485, 0.456, 0.406]\n",
    "imagenet_std = [0.229, 0.224, 0.225]\n",
    "_transform = transforms.Compose([\n",
    "    transforms.Resize((image_size, image_size)),\n",
    "    transforms.ToTensor(),\n",
    "    transforms.Normalize(mean=imagenet_mean, std=imagenet_std),\n",
    "])\n",
    "\n",
    "class ImagePathDataset(Dataset):\n",
    "    \"\"\"Minimal dataset returning (image_tensor, label).\n",
    "\n",
    "    Paths: list of filesystem paths; Labels: list[Any] of same length.\n",
    "    \"\"\"\n",
    "    def __init__(self, paths: List[Path], labels: List[Any], transform=None):\n",
    "        self.paths = [Path(p) for p in paths]\n",
    "        self.labels = labels\n",
    "        self.transform = transform\n",
    "\n",
    "    def __len__(self):\n",
    "        return len(self.paths)\n",
    "\n",
    "    def __getitem__(self, idx):\n",
    "        p = self.paths[idx]\n",
    "        y = self.labels[idx]\n",
    "        img = Image.open(p).convert(\"RGB\")\n",
    "        if self.transform is not None:\n",
    "            img = self.transform(img)\n",
    "        return img, y\n",
    "\n",
    "def _existing_category_root(category: str) -> Path:\n",
    "    \"\"\"Find an existing MVTec category root among common layouts.\n",
    "    Prefers MVTEC_ROOT, then 'datasets/MVTecAD', then 'MVtec_dataset'.\n",
    "    \"\"\"\n",
    "    candidates = [\n",
    "        MVTEC_ROOT / category,\n",
    "        Path(\"datasets/MVTecAD\") / category,\n",
    "        Path(\"MVtec_dataset\") / category,\n",
    "    ]\n",
    "    for c in candidates:\n",
    "        if c.exists():\n",
    "            return c\n",
    "    raise FileNotFoundError(f\"MVTec category not found: {category}\")\n",
    "\n",
    "def _list_images(d: Path) -> List[Path]:\n",
    "    exts = {\".png\", \".jpg\", \".jpeg\"}\n",
    "    if not d.exists():\n",
    "        return []\n",
    "    return sorted([p for p in d.rglob('*') if p.suffix.lower() in exts])\n",
    "\n",
    "def build_cv_and_test_loaders(category: str, k_splits: int = 5, batch_size: int = 32) -> Tuple[list, DataLoader]:\n",
    "    \"\"\"Return (cv_folds, test_loader).\n",
    "\n",
    "    cv_folds: list of dicts with 'train_loader' and 'val_loader'.\n",
    "    test_loader: dev test DataLoader with labels equal to defect types\n",
    "                 (the directory names directly under 'test', e.g., 'good',\n",
    "                 'scratch', 'hole', ...).\n",
    "    \"\"\"\n",
    "    root = _existing_category_root(category)\n",
    "    train_good = _list_images(root / 'train' / 'good')\n",
    "    assert len(train_good) > 0, f\"No train/good images found for {category}\"\n",
    "\n",
    "    # Prepare KFold over indices (all labels are 0 in train).\n",
    "    kf = KFold(n_splits=k_splits, shuffle=True, random_state=seeds[0] if seeds else 0)\n",
    "    base_ds = ImagePathDataset(train_good, [0] * len(train_good), transform=_transform)\n",
    "\n",
    "    num_workers = min(4, os.cpu_count() or 1)\n",
    "    cv_folds = []\n",
    "    for fold_id, (tr_idx, va_idx) in enumerate(kf.split(range(len(train_good)))):\n",
    "        tr_ds = Subset(base_ds, tr_idx)\n",
    "        va_ds = Subset(base_ds, va_idx)\n",
    "        tr_loader = DataLoader(tr_ds, batch_size=batch_size, shuffle=True, num_workers=num_workers, pin_memory=True)\n",
    "        va_loader = DataLoader(va_ds, batch_size=batch_size, shuffle=False, num_workers=num_workers, pin_memory=True)\n",
    "        cv_folds.append({\n",
    "            'fold': fold_id,\n",
    "            'train_loader': tr_loader,\n",
    "            'val_loader': va_loader,\n",
    "            'n_train': len(tr_idx),\n",
    "            'n_val': len(va_idx),\n",
    "        })\n",
    "\n",
    "    # Build dev test loader with labels as defect types (dir names under 'test').\n",
    "    test_dir = root / 'test'\n",
    "    test_paths: List[Path] = []\n",
    "    test_labels: List[str] = []\n",
    "    if test_dir.exists():\n",
    "        # Iterate over subdirectories directly under 'test' (including 'good').\n",
    "        for sub in sorted([d for d in test_dir.iterdir() if d.is_dir()], key=lambda p: p.name):\n",
    "            label = sub.name  # defect type (or 'good')\n",
    "            paths = _list_images(sub)\n",
    "            if paths:\n",
    "                test_paths.extend(paths)\n",
    "                test_labels.extend([label] * len(paths))\n",
    "    assert len(test_paths) > 0, f\"No test images found for {category}\"\n",
    "\n",
    "    test_ds = ImagePathDataset(test_paths, test_labels, transform=_transform)\n",
    "    test_loader = DataLoader(test_ds, batch_size=batch_size, shuffle=False, num_workers=num_workers, pin_memory=True)\n",
    "\n",
    "    return cv_folds, test_loader\n",
    "\n",
    "# Build loaders for the chosen dev category\n",
    "cv_folds, dev_test_loader = build_cv_and_test_loaders(dev_category, k_splits=5, batch_size=32)\n",
    "print(f\"[INFO] Category: {dev_category}\")\n",
    "print(f\"[INFO] CV folds: {len(cv_folds)}\")\n",
    "for f in cv_folds:\n",
    "    print(f\"  - fold {f['fold']}: n_train={f['n_train']}, n_val={f['n_val']}\")\n",
    "from collections import Counter\n",
    "cnt = Counter(dev_test_loader.dataset.labels)\n",
    "print(f\"[INFO] Dev test size: {len(dev_test_loader.dataset)}\")\n",
    "print(f\"[INFO] Test label distribution: {dict(cnt)}\")\n"
   ]
  },
  {
   "cell_type": "markdown",
   "id": "031692ae",
   "metadata": {},
   "source": [
    "#### マハラノビス距離ベースでの異常検知実験"
   ]
  },
  {
   "cell_type": "code",
   "execution_count": 39,
   "id": "b189f4dc",
   "metadata": {},
   "outputs": [
    {
     "name": "stderr",
     "output_type": "stream",
     "text": [
      "/home/sim_m/work/image-anomaly-detection/.venv/lib/python3.12/site-packages/torchvision/models/_utils.py:208: UserWarning:\n",
      "\n",
      "The parameter 'pretrained' is deprecated since 0.13 and may be removed in the future, please use 'weights' instead.\n",
      "\n",
      "/home/sim_m/work/image-anomaly-detection/.venv/lib/python3.12/site-packages/torchvision/models/_utils.py:223: UserWarning:\n",
      "\n",
      "Arguments other than a weight enum or `None` for 'weights' are deprecated since 0.13 and may be removed in the future. The current behavior is equivalent to passing `weights=ResNet18_Weights.IMAGENET1K_V1`. You can also use `weights=ResNet18_Weights.DEFAULT` to get the most up-to-date weights.\n",
      "\n",
      "/home/sim_m/work/image-anomaly-detection/.venv/lib/python3.12/site-packages/torch/utils/data/dataloader.py:666: UserWarning:\n",
      "\n",
      "'pin_memory' argument is set as true but no accelerator is found, then device pinned memory won't be used.\n",
      "\n",
      "/home/sim_m/work/image-anomaly-detection/.venv/lib/python3.12/site-packages/torch/utils/data/dataloader.py:666: UserWarning:\n",
      "\n",
      "'pin_memory' argument is set as true but no accelerator is found, then device pinned memory won't be used.\n",
      "\n"
     ]
    },
    {
     "data": {
      "application/vnd.plotly.v1+json": {
       "config": {
        "plotlyServerURL": "https://plot.ly"
       },
       "data": [
        {
         "bingroup": "x",
         "hovertemplate": "label=train<br>score=%{x}<br>count=%{y}<extra></extra>",
         "legendgroup": "train",
         "marker": {
          "color": "#636efa",
          "opacity": 0.6,
          "pattern": {
           "shape": ""
          }
         },
         "name": "train",
         "nbinsx": 30,
         "orientation": "v",
         "showlegend": true,
         "type": "histogram",
         "x": {
          "bdata": "mLhIQam/P0GvHkRBvQlEQe0pSEEiUkpByEJAQeo7RUFi70BBr+RXQXT3PkHZvkVBqhJCQdg6R0EtS0VBoMc/QVGpRkG7ZU5BGp9HQdySTkG4pERBfLxLQR4QTEGZzEdByDhFQU4aTUEdY0xB2qJIQfvwSUFbbkZBjA8/QXfoRkFlAklBRcFGQSq2TEGzS0ZBRoxIQdbtTEHISUtBf2JeQREoP0EaGU1BNQZHQa/aSEHDcEdBhWNFQTEFSkGuwUlBojtEQSt7UkFy40RBIxpHQcV3QEH3XURBBstQQeluS0FFwEBB3gE8QWNhSEFkm0RBGR5NQYerVEHpwUpBI21EQQ3EP0G1B0JB8F9MQQiASUGYRUFBOn9QQQ6DQ0GeTEZBgp9EQen4QEEhL0JBCd5HQZc0TkETSEpBAHFQQXBaS0GFEEFBynFMQXGMUEHhmlpBFKQ9QXMOXkHQSU1BIBk9QbnOQEEsA0NBQyVIQdl8SUFNw01B0mdJQZDxQUGIHkVBJmBIQdzUV0Faf0BBfKhUQZIrOkFjPEFB/uNFQWgcUUFkQEVBs6k6QUoAQ0Hf0j9BKtBPQZZkSkEJs0hBD9FEQTJbSEHJxEFBiHdPQR3GS0HgjE5BruFVQZ24OkGYVUdBSRNRQTGQTUHCtUtBoyRTQTpXUUFvCElBAotGQZlLVUF5AkJBtslNQWbaTUGBIkRB1QFFQbk+TUGjWUhB/VQ/QSZIPUHcfT5BR75RQY/rTEEr/ztBDLNMQaKZUUEcQUlBacdCQah8OkE+U09B4yBCQUn0SkGcsEhBIgM+Qe76TEFRvU1BlotJQWmrRUE6fUxBmNdKQfWoRkH3u01BjbRBQWyYQkH6z1dBF3hTQd3+UkE6JEZBV5hZQRIMVkHjN0JBpdpFQeQ9PUFsCkNBfN1GQSWcSkENS0JBFjFCQerMPkHxykpBx0FGQSKUTkG1y0pBMQJLQTWDQEEaFz9BCxxLQZvWN0EtO0ZB+DRMQb6fRkGygUBBqgFHQaheTEEdwk1BJEk+Qe3zO0EV9UBBgtpNQY9cSkGuAkxByAVIQbIQRkEQZ0dBOalFQTsIS0FpeEhByLdAQS1KSkEFOUdBGjVDQVRGVEE1MEdB6ZQ9QdqmUUHQq0FBpXJTQSH6QUERQEBBG+VOQRelRUFHDk1B4cBKQQZyVEG3j0NB+8FQQRUXSkE=",
          "dtype": "f4"
         },
         "xaxis": "x",
         "yaxis": "y"
        },
        {
         "bingroup": "x",
         "hovertemplate": "label=val<br>score=%{x}<br>count=%{y}<extra></extra>",
         "legendgroup": "val",
         "marker": {
          "color": "#EF553B",
          "opacity": 0.6,
          "pattern": {
           "shape": ""
          }
         },
         "name": "val",
         "nbinsx": 30,
         "orientation": "v",
         "showlegend": true,
         "type": "histogram",
         "x": {
          "bdata": "u8aqQYQ4mUHkLrNBEKfcQQ3btEHkx6BBKYK0QeuxrEEATa9BlPWgQRXYm0GTicRBAY6/QbHcvUGbEqJB0lWkQeBsrkHMKpBBnD+5QXuwr0Ep5qpBVUSyQaXErUET1KNBgPiYQXHLqkFRBqhBt1TAQSTGqUHZ+9pB5sW8QZHApkH2+LlBdo6zQadan0Hi/7VBEeOcQVSAoUHHMcJB7ZOhQSChzEHVLalBTqKgQQRHukEBhp1BMvOyQSdPqEE1HMVBhei5QaY+rkG0UrxBKQisQdmDlUHOr6tB20KvQcZDnUE=",
          "dtype": "f4"
         },
         "xaxis": "x",
         "yaxis": "y"
        },
        {
         "bingroup": "x",
         "hovertemplate": "label=color<br>score=%{x}<br>count=%{y}<extra></extra>",
         "legendgroup": "color",
         "marker": {
          "color": "#00cc96",
          "opacity": 0.6,
          "pattern": {
           "shape": ""
          }
         },
         "name": "color",
         "nbinsx": 30,
         "orientation": "v",
         "showlegend": true,
         "type": "histogram",
         "x": {
          "bdata": "ljcPQyXUIEIDkN5BD73aQYJJjUI6B+xBasbOQRNN+UGxg3RDVuoYQvqmGEIRmG9ChLmjQnU/PUJZNsNBWi0uQhUYPkKQoRJCqKMaQg==",
          "dtype": "f4"
         },
         "xaxis": "x",
         "yaxis": "y"
        },
        {
         "bingroup": "x",
         "hovertemplate": "label=cut<br>score=%{x}<br>count=%{y}<extra></extra>",
         "legendgroup": "cut",
         "marker": {
          "color": "#ab63fa",
          "opacity": 0.6,
          "pattern": {
           "shape": ""
          }
         },
         "name": "cut",
         "nbinsx": 30,
         "orientation": "v",
         "showlegend": true,
         "type": "histogram",
         "x": {
          "bdata": "oMAUQ2b6DEIvg8NC2eIfQ13R1EFRvTFCJZ2nQiUKEEIihdhBX5cyQ7/VT0LqCjRDnuFcQ8nTokJVn71C4FAxQ8mqb0I=",
          "dtype": "f4"
         },
         "xaxis": "x",
         "yaxis": "y"
        },
        {
         "bingroup": "x",
         "hovertemplate": "label=good<br>score=%{x}<br>count=%{y}<extra></extra>",
         "legendgroup": "good",
         "marker": {
          "color": "#FFA15A",
          "opacity": 0.6,
          "pattern": {
           "shape": ""
          }
         },
         "name": "good",
         "nbinsx": 30,
         "orientation": "v",
         "showlegend": true,
         "type": "histogram",
         "x": {
          "bdata": "0z+qQZmquUFnTh9CqjwYQl4b8UFOhAhCQUUPQuDnBEL+awJCNABPQlBpx0HEOLxBK+YzQlFlBELH+RBC15EmQoXxrUH4Z75B/VjAQeI/0EEFg75Bvr2xQSro2EG7YeJBkF21QWHNpEFXQ7hBLUzJQQ==",
          "dtype": "f4"
         },
         "xaxis": "x",
         "yaxis": "y"
        },
        {
         "bingroup": "x",
         "hovertemplate": "label=hole<br>score=%{x}<br>count=%{y}<extra></extra>",
         "legendgroup": "hole",
         "marker": {
          "color": "#19d3f3",
          "opacity": 0.6,
          "pattern": {
           "shape": ""
          }
         },
         "name": "hole",
         "nbinsx": 30,
         "orientation": "v",
         "showlegend": true,
         "type": "histogram",
         "x": {
          "bdata": "ixVdQu6+wUHh6jxC/PaTQmcc20LwmVNC0vqFQh+f6ELTl7VCR/ifQgQJaEIaa8xCTv7iQT5lYEJ3+ANDlJWkQpdICkI=",
          "dtype": "f4"
         },
         "xaxis": "x",
         "yaxis": "y"
        },
        {
         "bingroup": "x",
         "hovertemplate": "label=metal_contamination<br>score=%{x}<br>count=%{y}<extra></extra>",
         "legendgroup": "metal_contamination",
         "marker": {
          "color": "#FF6692",
          "opacity": 0.6,
          "pattern": {
           "shape": ""
          }
         },
         "name": "metal_contamination",
         "nbinsx": 30,
         "orientation": "v",
         "showlegend": true,
         "type": "histogram",
         "x": {
          "bdata": "e7mxQSaStEEz4xpCC3fVQYiefkK3ZiNDBQXqQgmo+EKX4TRC1xT/QfwS/EIdq9BBOzN9QrhMhELDi8dBJDr0Qfg0y0E=",
          "dtype": "f4"
         },
         "xaxis": "x",
         "yaxis": "y"
        },
        {
         "bingroup": "x",
         "hovertemplate": "label=thread<br>score=%{x}<br>count=%{y}<extra></extra>",
         "legendgroup": "thread",
         "marker": {
          "color": "#B6E880",
          "opacity": 0.6,
          "pattern": {
           "shape": ""
          }
         },
         "name": "thread",
         "nbinsx": 30,
         "orientation": "v",
         "showlegend": true,
         "type": "histogram",
         "x": {
          "bdata": "4j+8QnAn50H0R9lBg3b9QXHVyUKVbxFDBdw7Q0tmAkP0hDlD76oyQkjrvkLEWk5CMbBjQp49H0MC3rVBzq7UQbYXk0JbdhJDnFzXQQ==",
          "dtype": "f4"
         },
         "xaxis": "x",
         "yaxis": "y"
        }
       ],
       "layout": {
        "barmode": "overlay",
        "legend": {
         "title": {
          "text": "label"
         },
         "tracegroupgap": 0
        },
        "margin": {
         "t": 60
        },
        "template": {
         "data": {
          "bar": [
           {
            "error_x": {
             "color": "#2a3f5f"
            },
            "error_y": {
             "color": "#2a3f5f"
            },
            "marker": {
             "line": {
              "color": "#E5ECF6",
              "width": 0.5
             },
             "pattern": {
              "fillmode": "overlay",
              "size": 10,
              "solidity": 0.2
             }
            },
            "type": "bar"
           }
          ],
          "barpolar": [
           {
            "marker": {
             "line": {
              "color": "#E5ECF6",
              "width": 0.5
             },
             "pattern": {
              "fillmode": "overlay",
              "size": 10,
              "solidity": 0.2
             }
            },
            "type": "barpolar"
           }
          ],
          "carpet": [
           {
            "aaxis": {
             "endlinecolor": "#2a3f5f",
             "gridcolor": "white",
             "linecolor": "white",
             "minorgridcolor": "white",
             "startlinecolor": "#2a3f5f"
            },
            "baxis": {
             "endlinecolor": "#2a3f5f",
             "gridcolor": "white",
             "linecolor": "white",
             "minorgridcolor": "white",
             "startlinecolor": "#2a3f5f"
            },
            "type": "carpet"
           }
          ],
          "choropleth": [
           {
            "colorbar": {
             "outlinewidth": 0,
             "ticks": ""
            },
            "type": "choropleth"
           }
          ],
          "contour": [
           {
            "colorbar": {
             "outlinewidth": 0,
             "ticks": ""
            },
            "colorscale": [
             [
              0,
              "#0d0887"
             ],
             [
              0.1111111111111111,
              "#46039f"
             ],
             [
              0.2222222222222222,
              "#7201a8"
             ],
             [
              0.3333333333333333,
              "#9c179e"
             ],
             [
              0.4444444444444444,
              "#bd3786"
             ],
             [
              0.5555555555555556,
              "#d8576b"
             ],
             [
              0.6666666666666666,
              "#ed7953"
             ],
             [
              0.7777777777777778,
              "#fb9f3a"
             ],
             [
              0.8888888888888888,
              "#fdca26"
             ],
             [
              1,
              "#f0f921"
             ]
            ],
            "type": "contour"
           }
          ],
          "contourcarpet": [
           {
            "colorbar": {
             "outlinewidth": 0,
             "ticks": ""
            },
            "type": "contourcarpet"
           }
          ],
          "heatmap": [
           {
            "colorbar": {
             "outlinewidth": 0,
             "ticks": ""
            },
            "colorscale": [
             [
              0,
              "#0d0887"
             ],
             [
              0.1111111111111111,
              "#46039f"
             ],
             [
              0.2222222222222222,
              "#7201a8"
             ],
             [
              0.3333333333333333,
              "#9c179e"
             ],
             [
              0.4444444444444444,
              "#bd3786"
             ],
             [
              0.5555555555555556,
              "#d8576b"
             ],
             [
              0.6666666666666666,
              "#ed7953"
             ],
             [
              0.7777777777777778,
              "#fb9f3a"
             ],
             [
              0.8888888888888888,
              "#fdca26"
             ],
             [
              1,
              "#f0f921"
             ]
            ],
            "type": "heatmap"
           }
          ],
          "histogram": [
           {
            "marker": {
             "pattern": {
              "fillmode": "overlay",
              "size": 10,
              "solidity": 0.2
             }
            },
            "type": "histogram"
           }
          ],
          "histogram2d": [
           {
            "colorbar": {
             "outlinewidth": 0,
             "ticks": ""
            },
            "colorscale": [
             [
              0,
              "#0d0887"
             ],
             [
              0.1111111111111111,
              "#46039f"
             ],
             [
              0.2222222222222222,
              "#7201a8"
             ],
             [
              0.3333333333333333,
              "#9c179e"
             ],
             [
              0.4444444444444444,
              "#bd3786"
             ],
             [
              0.5555555555555556,
              "#d8576b"
             ],
             [
              0.6666666666666666,
              "#ed7953"
             ],
             [
              0.7777777777777778,
              "#fb9f3a"
             ],
             [
              0.8888888888888888,
              "#fdca26"
             ],
             [
              1,
              "#f0f921"
             ]
            ],
            "type": "histogram2d"
           }
          ],
          "histogram2dcontour": [
           {
            "colorbar": {
             "outlinewidth": 0,
             "ticks": ""
            },
            "colorscale": [
             [
              0,
              "#0d0887"
             ],
             [
              0.1111111111111111,
              "#46039f"
             ],
             [
              0.2222222222222222,
              "#7201a8"
             ],
             [
              0.3333333333333333,
              "#9c179e"
             ],
             [
              0.4444444444444444,
              "#bd3786"
             ],
             [
              0.5555555555555556,
              "#d8576b"
             ],
             [
              0.6666666666666666,
              "#ed7953"
             ],
             [
              0.7777777777777778,
              "#fb9f3a"
             ],
             [
              0.8888888888888888,
              "#fdca26"
             ],
             [
              1,
              "#f0f921"
             ]
            ],
            "type": "histogram2dcontour"
           }
          ],
          "mesh3d": [
           {
            "colorbar": {
             "outlinewidth": 0,
             "ticks": ""
            },
            "type": "mesh3d"
           }
          ],
          "parcoords": [
           {
            "line": {
             "colorbar": {
              "outlinewidth": 0,
              "ticks": ""
             }
            },
            "type": "parcoords"
           }
          ],
          "pie": [
           {
            "automargin": true,
            "type": "pie"
           }
          ],
          "scatter": [
           {
            "fillpattern": {
             "fillmode": "overlay",
             "size": 10,
             "solidity": 0.2
            },
            "type": "scatter"
           }
          ],
          "scatter3d": [
           {
            "line": {
             "colorbar": {
              "outlinewidth": 0,
              "ticks": ""
             }
            },
            "marker": {
             "colorbar": {
              "outlinewidth": 0,
              "ticks": ""
             }
            },
            "type": "scatter3d"
           }
          ],
          "scattercarpet": [
           {
            "marker": {
             "colorbar": {
              "outlinewidth": 0,
              "ticks": ""
             }
            },
            "type": "scattercarpet"
           }
          ],
          "scattergeo": [
           {
            "marker": {
             "colorbar": {
              "outlinewidth": 0,
              "ticks": ""
             }
            },
            "type": "scattergeo"
           }
          ],
          "scattergl": [
           {
            "marker": {
             "colorbar": {
              "outlinewidth": 0,
              "ticks": ""
             }
            },
            "type": "scattergl"
           }
          ],
          "scattermap": [
           {
            "marker": {
             "colorbar": {
              "outlinewidth": 0,
              "ticks": ""
             }
            },
            "type": "scattermap"
           }
          ],
          "scattermapbox": [
           {
            "marker": {
             "colorbar": {
              "outlinewidth": 0,
              "ticks": ""
             }
            },
            "type": "scattermapbox"
           }
          ],
          "scatterpolar": [
           {
            "marker": {
             "colorbar": {
              "outlinewidth": 0,
              "ticks": ""
             }
            },
            "type": "scatterpolar"
           }
          ],
          "scatterpolargl": [
           {
            "marker": {
             "colorbar": {
              "outlinewidth": 0,
              "ticks": ""
             }
            },
            "type": "scatterpolargl"
           }
          ],
          "scatterternary": [
           {
            "marker": {
             "colorbar": {
              "outlinewidth": 0,
              "ticks": ""
             }
            },
            "type": "scatterternary"
           }
          ],
          "surface": [
           {
            "colorbar": {
             "outlinewidth": 0,
             "ticks": ""
            },
            "colorscale": [
             [
              0,
              "#0d0887"
             ],
             [
              0.1111111111111111,
              "#46039f"
             ],
             [
              0.2222222222222222,
              "#7201a8"
             ],
             [
              0.3333333333333333,
              "#9c179e"
             ],
             [
              0.4444444444444444,
              "#bd3786"
             ],
             [
              0.5555555555555556,
              "#d8576b"
             ],
             [
              0.6666666666666666,
              "#ed7953"
             ],
             [
              0.7777777777777778,
              "#fb9f3a"
             ],
             [
              0.8888888888888888,
              "#fdca26"
             ],
             [
              1,
              "#f0f921"
             ]
            ],
            "type": "surface"
           }
          ],
          "table": [
           {
            "cells": {
             "fill": {
              "color": "#EBF0F8"
             },
             "line": {
              "color": "white"
             }
            },
            "header": {
             "fill": {
              "color": "#C8D4E3"
             },
             "line": {
              "color": "white"
             }
            },
            "type": "table"
           }
          ]
         },
         "layout": {
          "annotationdefaults": {
           "arrowcolor": "#2a3f5f",
           "arrowhead": 0,
           "arrowwidth": 1
          },
          "autotypenumbers": "strict",
          "coloraxis": {
           "colorbar": {
            "outlinewidth": 0,
            "ticks": ""
           }
          },
          "colorscale": {
           "diverging": [
            [
             0,
             "#8e0152"
            ],
            [
             0.1,
             "#c51b7d"
            ],
            [
             0.2,
             "#de77ae"
            ],
            [
             0.3,
             "#f1b6da"
            ],
            [
             0.4,
             "#fde0ef"
            ],
            [
             0.5,
             "#f7f7f7"
            ],
            [
             0.6,
             "#e6f5d0"
            ],
            [
             0.7,
             "#b8e186"
            ],
            [
             0.8,
             "#7fbc41"
            ],
            [
             0.9,
             "#4d9221"
            ],
            [
             1,
             "#276419"
            ]
           ],
           "sequential": [
            [
             0,
             "#0d0887"
            ],
            [
             0.1111111111111111,
             "#46039f"
            ],
            [
             0.2222222222222222,
             "#7201a8"
            ],
            [
             0.3333333333333333,
             "#9c179e"
            ],
            [
             0.4444444444444444,
             "#bd3786"
            ],
            [
             0.5555555555555556,
             "#d8576b"
            ],
            [
             0.6666666666666666,
             "#ed7953"
            ],
            [
             0.7777777777777778,
             "#fb9f3a"
            ],
            [
             0.8888888888888888,
             "#fdca26"
            ],
            [
             1,
             "#f0f921"
            ]
           ],
           "sequentialminus": [
            [
             0,
             "#0d0887"
            ],
            [
             0.1111111111111111,
             "#46039f"
            ],
            [
             0.2222222222222222,
             "#7201a8"
            ],
            [
             0.3333333333333333,
             "#9c179e"
            ],
            [
             0.4444444444444444,
             "#bd3786"
            ],
            [
             0.5555555555555556,
             "#d8576b"
            ],
            [
             0.6666666666666666,
             "#ed7953"
            ],
            [
             0.7777777777777778,
             "#fb9f3a"
            ],
            [
             0.8888888888888888,
             "#fdca26"
            ],
            [
             1,
             "#f0f921"
            ]
           ]
          },
          "colorway": [
           "#636efa",
           "#EF553B",
           "#00cc96",
           "#ab63fa",
           "#FFA15A",
           "#19d3f3",
           "#FF6692",
           "#B6E880",
           "#FF97FF",
           "#FECB52"
          ],
          "font": {
           "color": "#2a3f5f"
          },
          "geo": {
           "bgcolor": "white",
           "lakecolor": "white",
           "landcolor": "#E5ECF6",
           "showlakes": true,
           "showland": true,
           "subunitcolor": "white"
          },
          "hoverlabel": {
           "align": "left"
          },
          "hovermode": "closest",
          "mapbox": {
           "style": "light"
          },
          "paper_bgcolor": "white",
          "plot_bgcolor": "#E5ECF6",
          "polar": {
           "angularaxis": {
            "gridcolor": "white",
            "linecolor": "white",
            "ticks": ""
           },
           "bgcolor": "#E5ECF6",
           "radialaxis": {
            "gridcolor": "white",
            "linecolor": "white",
            "ticks": ""
           }
          },
          "scene": {
           "xaxis": {
            "backgroundcolor": "#E5ECF6",
            "gridcolor": "white",
            "gridwidth": 2,
            "linecolor": "white",
            "showbackground": true,
            "ticks": "",
            "zerolinecolor": "white"
           },
           "yaxis": {
            "backgroundcolor": "#E5ECF6",
            "gridcolor": "white",
            "gridwidth": 2,
            "linecolor": "white",
            "showbackground": true,
            "ticks": "",
            "zerolinecolor": "white"
           },
           "zaxis": {
            "backgroundcolor": "#E5ECF6",
            "gridcolor": "white",
            "gridwidth": 2,
            "linecolor": "white",
            "showbackground": true,
            "ticks": "",
            "zerolinecolor": "white"
           }
          },
          "shapedefaults": {
           "line": {
            "color": "#2a3f5f"
           }
          },
          "ternary": {
           "aaxis": {
            "gridcolor": "white",
            "linecolor": "white",
            "ticks": ""
           },
           "baxis": {
            "gridcolor": "white",
            "linecolor": "white",
            "ticks": ""
           },
           "bgcolor": "#E5ECF6",
           "caxis": {
            "gridcolor": "white",
            "linecolor": "white",
            "ticks": ""
           }
          },
          "title": {
           "x": 0.05
          },
          "xaxis": {
           "automargin": true,
           "gridcolor": "white",
           "linecolor": "white",
           "ticks": "",
           "title": {
            "standoff": 15
           },
           "zerolinecolor": "white",
           "zerolinewidth": 2
          },
          "yaxis": {
           "automargin": true,
           "gridcolor": "white",
           "linecolor": "white",
           "ticks": "",
           "title": {
            "standoff": 15
           },
           "zerolinecolor": "white",
           "zerolinewidth": 2
          }
         }
        },
        "title": {
         "text": "Mahalanobis Scores (Fold 0)"
        },
        "xaxis": {
         "anchor": "y",
         "domain": [
          0,
          1
         ],
         "title": {
          "text": "score"
         }
        },
        "yaxis": {
         "anchor": "x",
         "domain": [
          0,
          1
         ],
         "title": {
          "text": "count"
         }
        }
       }
      }
     },
     "metadata": {},
     "output_type": "display_data"
    },
    {
     "name": "stderr",
     "output_type": "stream",
     "text": [
      "/home/sim_m/work/image-anomaly-detection/.venv/lib/python3.12/site-packages/torchvision/models/_utils.py:208: UserWarning:\n",
      "\n",
      "The parameter 'pretrained' is deprecated since 0.13 and may be removed in the future, please use 'weights' instead.\n",
      "\n",
      "/home/sim_m/work/image-anomaly-detection/.venv/lib/python3.12/site-packages/torchvision/models/_utils.py:223: UserWarning:\n",
      "\n",
      "Arguments other than a weight enum or `None` for 'weights' are deprecated since 0.13 and may be removed in the future. The current behavior is equivalent to passing `weights=ResNet18_Weights.IMAGENET1K_V1`. You can also use `weights=ResNet18_Weights.DEFAULT` to get the most up-to-date weights.\n",
      "\n",
      "/home/sim_m/work/image-anomaly-detection/.venv/lib/python3.12/site-packages/torch/utils/data/dataloader.py:666: UserWarning:\n",
      "\n",
      "'pin_memory' argument is set as true but no accelerator is found, then device pinned memory won't be used.\n",
      "\n",
      "/home/sim_m/work/image-anomaly-detection/.venv/lib/python3.12/site-packages/torch/utils/data/dataloader.py:666: UserWarning:\n",
      "\n",
      "'pin_memory' argument is set as true but no accelerator is found, then device pinned memory won't be used.\n",
      "\n"
     ]
    },
    {
     "data": {
      "application/vnd.plotly.v1+json": {
       "config": {
        "plotlyServerURL": "https://plot.ly"
       },
       "data": [
        {
         "bingroup": "x",
         "hovertemplate": "label=train<br>score=%{x}<br>count=%{y}<extra></extra>",
         "legendgroup": "train",
         "marker": {
          "color": "#636efa",
          "opacity": 0.6,
          "pattern": {
           "shape": ""
          }
         },
         "name": "train",
         "nbinsx": 30,
         "orientation": "v",
         "showlegend": true,
         "type": "histogram",
         "x": {
          "bdata": "ah05QTLsPkG1zU5B1MhGQV9vQUHSjkdBp+5JQYrwRUGiADpB4LU/Qao5OkFCf1hBiylBQbD7TUEsuz9BwVpMQZywQ0H2A1RBfo9GQSfmR0EtKFdBcTtJQV3lP0H9HElBhH5FQV/TTkE01khBxflMQf8FQ0HYHUJBIxVYQZYCPkGQ3ENBTNlKQZ5oQEFX6ldB7mhDQdNzSUFq9klBm4RBQQjxTEHOm0ZBY8FBQf7oQkESrUxB9AZIQSQ/TkHrGU9BaDRGQWwCUkEF1T1Bu7BUQZCjR0FW6EdBmhdDQU88QkGpgT5BrxxCQbUIS0GgiEtBRJc7QcfLUUGL10dBb85EQRDmSUHYSUJBXY8/QdKCUUFH3kFBuORMQeirUUECwUZBXJtIQRgzSEEuhD5BQ+1OQR3VRkF0XEhBCetTQY+MS0FXAEhBZllGQYVtSEEdCkZBjXhKQUcyWEGtfVFB5vdDQQRsOUFP5T5BLRQ/QauLTkGk8khBop9KQdQlOEGh7kJB+gBJQXmKTEGG7lRBgY5CQcA4OkHPmkFB3HxNQba8RkFgEERBXNFKQdBLRUFsk0RBPLdFQYhMQ0EtFUlBsqNHQd5nRUHE805BnkBQQTUFSUHoNUlBOmxFQUUQRkHXdE5BEL1FQRb/QUHaUkxBcTtGQU8yRkHnT15BVulCQdpISUHK6UVB6lFPQU3tSUHbc1VBBglDQWPjQkHzX01BVfVDQVT+QkHznUZBaIlCQRhSTkGBh0RBHSVLQVPNTUEWv0xBnrJEQaPAUEECSVFB32pHQZIYR0G0MVRBH9lNQRC4QUF6y0xB8lRJQazMREFmrk1BOT5DQdSlQ0EOX0xB0JBGQa2uSEFHNkdBkD5CQXWtSUHlKkxBfFFIQa60UUGJOklBkkxAQcr/TEHE+ERB3S1MQd5/UEHTXUNBt3xDQe/PR0H6iUpBjXdQQTFkUEGvSEdBLu04QcfsP0HEPFhBF9xPQQxxP0GRfUFBTtM+QSqBVEHQ6ExB2oZJQQ8WTUHrUUBBqOZLQbzWTEHkA0NB1E9KQd6UTEE6bl5Bics8QbM5R0HkPkNByLtMQT1hRkHUik5B2pREQa7dUkE/AEhB1fNDQRCOPUECP1NBg0A/QU9UTUFEEj9BIY1HQR+tTUH240hBMOhJQb8cPkGVw0JBwWBEQTqXQkGK7ENBl5M8QcQiSUE=",
          "dtype": "f4"
         },
         "xaxis": "x",
         "yaxis": "y"
        },
        {
         "bingroup": "x",
         "hovertemplate": "label=val<br>score=%{x}<br>count=%{y}<extra></extra>",
         "legendgroup": "val",
         "marker": {
          "color": "#EF553B",
          "opacity": 0.6,
          "pattern": {
           "shape": ""
          }
         },
         "name": "val",
         "nbinsx": 30,
         "orientation": "v",
         "showlegend": true,
         "type": "histogram",
         "x": {
          "bdata": "1cqfQacRvUFrbJlB7UGyQUEmoUExypJBdHauQXP2uEHkPsBBF82PQag0qUGHIKxBks7NQRFdn0GTp8BB8AOkQUscv0G7RK1BILOmQYMXoUHDNahBDw2gQTJ6qUFc159BoamuQRz2qUF+JZxBooqdQbgMpkFmnrdBY3WhQa9Dp0F+m5dBqx23QbUaoEE2A55B/diTQVPosEESX6xBw+W8QbzQqUF9YuhBcPqaQe3osEGPjcJBYsC+QSiqsUGGCcFB+8KzQU+HwUGavb1B9XeyQe6Fo0GI65ZBi5CdQXwRq0E=",
          "dtype": "f4"
         },
         "xaxis": "x",
         "yaxis": "y"
        },
        {
         "bingroup": "x",
         "hovertemplate": "label=color<br>score=%{x}<br>count=%{y}<extra></extra>",
         "legendgroup": "color",
         "marker": {
          "color": "#00cc96",
          "opacity": 0.6,
          "pattern": {
           "shape": ""
          }
         },
         "name": "color",
         "nbinsx": 30,
         "orientation": "v",
         "showlegend": true,
         "type": "histogram",
         "x": {
          "bdata": "P1wOQwrjHUI05c1BxETVQZaVjELFCeFBNGXLQdbs/UH/x3VD0UkdQiwbF0Ks13BCFSqoQtMtQUKSEsBBPgUnQptDSkJJ8hdC6T4eQg==",
          "dtype": "f4"
         },
         "xaxis": "x",
         "yaxis": "y"
        },
        {
         "bingroup": "x",
         "hovertemplate": "label=cut<br>score=%{x}<br>count=%{y}<extra></extra>",
         "legendgroup": "cut",
         "marker": {
          "color": "#ab63fa",
          "opacity": 0.6,
          "pattern": {
           "shape": ""
          }
         },
         "name": "cut",
         "nbinsx": 30,
         "orientation": "v",
         "showlegend": true,
         "type": "histogram",
         "x": {
          "bdata": "rmoUQwr3DkIKnMhCjf8eQ3mtykGl/zJC5oOrQpUYD0JX881BUOcyQ8FeUUIKHzJDvtxZQ7BZo0JC0L9CMaYwQ40PdkI=",
          "dtype": "f4"
         },
         "xaxis": "x",
         "yaxis": "y"
        },
        {
         "bingroup": "x",
         "hovertemplate": "label=good<br>score=%{x}<br>count=%{y}<extra></extra>",
         "legendgroup": "good",
         "marker": {
          "color": "#FFA15A",
          "opacity": 0.6,
          "pattern": {
           "shape": ""
          }
         },
         "name": "good",
         "nbinsx": 30,
         "orientation": "v",
         "showlegend": true,
         "type": "histogram",
         "x": {
          "bdata": "+j2qQflVuEF7riVC3jwXQpuP+EHcJgNCvC0LQp+DCEJH6wNC29ROQhXwxUGSp7BBsglAQrY2C0JZCxZCSvQoQqu8oEFMgLlBX7e+QbpJx0GIg8FBTZ+zQYQa00GJy+pBBHOwQVUsqUEeobBBRhm/QQ==",
          "dtype": "f4"
         },
         "xaxis": "x",
         "yaxis": "y"
        },
        {
         "bingroup": "x",
         "hovertemplate": "label=hole<br>score=%{x}<br>count=%{y}<extra></extra>",
         "legendgroup": "hole",
         "marker": {
          "color": "#19d3f3",
          "opacity": 0.6,
          "pattern": {
           "shape": ""
          }
         },
         "name": "hole",
         "nbinsx": 30,
         "orientation": "v",
         "showlegend": true,
         "type": "histogram",
         "x": {
          "bdata": "+w1nQhAnwEGJVD9CKbuVQlUg4EK/llVCdzmFQkb26ELlsrdCERueQlizZ0JDUs1CAqHgQa6iXEIYNQhDtwymQrFBB0I=",
          "dtype": "f4"
         },
         "xaxis": "x",
         "yaxis": "y"
        },
        {
         "bingroup": "x",
         "hovertemplate": "label=metal_contamination<br>score=%{x}<br>count=%{y}<extra></extra>",
         "legendgroup": "metal_contamination",
         "marker": {
          "color": "#FF6692",
          "opacity": 0.6,
          "pattern": {
           "shape": ""
          }
         },
         "name": "metal_contamination",
         "nbinsx": 30,
         "orientation": "v",
         "showlegend": true,
         "type": "histogram",
         "x": {
          "bdata": "UduxQZz4rEFQDiBCYXfTQc+2f0KujiNDRQ7mQnIs+0KuMjpC0p/8QWM0AENMktdB/RF6QhNoiEKGltBB6/v2QbRjy0E=",
          "dtype": "f4"
         },
         "xaxis": "x",
         "yaxis": "y"
        },
        {
         "bingroup": "x",
         "hovertemplate": "label=thread<br>score=%{x}<br>count=%{y}<extra></extra>",
         "legendgroup": "thread",
         "marker": {
          "color": "#B6E880",
          "opacity": 0.6,
          "pattern": {
           "shape": ""
          }
         },
         "name": "thread",
         "nbinsx": 30,
         "orientation": "v",
         "showlegend": true,
         "type": "histogram",
         "x": {
          "bdata": "MDe3Qs5d4UFR4NxBu/XzQR9FzEIlCg9DxLY6QxecAkO0uztDGWMwQkY0vELTcEtC7RlkQvr6IEODv7hBkAjKQRaQjELPOhJDjPLRQQ==",
          "dtype": "f4"
         },
         "xaxis": "x",
         "yaxis": "y"
        }
       ],
       "layout": {
        "barmode": "overlay",
        "legend": {
         "title": {
          "text": "label"
         },
         "tracegroupgap": 0
        },
        "margin": {
         "t": 60
        },
        "template": {
         "data": {
          "bar": [
           {
            "error_x": {
             "color": "#2a3f5f"
            },
            "error_y": {
             "color": "#2a3f5f"
            },
            "marker": {
             "line": {
              "color": "#E5ECF6",
              "width": 0.5
             },
             "pattern": {
              "fillmode": "overlay",
              "size": 10,
              "solidity": 0.2
             }
            },
            "type": "bar"
           }
          ],
          "barpolar": [
           {
            "marker": {
             "line": {
              "color": "#E5ECF6",
              "width": 0.5
             },
             "pattern": {
              "fillmode": "overlay",
              "size": 10,
              "solidity": 0.2
             }
            },
            "type": "barpolar"
           }
          ],
          "carpet": [
           {
            "aaxis": {
             "endlinecolor": "#2a3f5f",
             "gridcolor": "white",
             "linecolor": "white",
             "minorgridcolor": "white",
             "startlinecolor": "#2a3f5f"
            },
            "baxis": {
             "endlinecolor": "#2a3f5f",
             "gridcolor": "white",
             "linecolor": "white",
             "minorgridcolor": "white",
             "startlinecolor": "#2a3f5f"
            },
            "type": "carpet"
           }
          ],
          "choropleth": [
           {
            "colorbar": {
             "outlinewidth": 0,
             "ticks": ""
            },
            "type": "choropleth"
           }
          ],
          "contour": [
           {
            "colorbar": {
             "outlinewidth": 0,
             "ticks": ""
            },
            "colorscale": [
             [
              0,
              "#0d0887"
             ],
             [
              0.1111111111111111,
              "#46039f"
             ],
             [
              0.2222222222222222,
              "#7201a8"
             ],
             [
              0.3333333333333333,
              "#9c179e"
             ],
             [
              0.4444444444444444,
              "#bd3786"
             ],
             [
              0.5555555555555556,
              "#d8576b"
             ],
             [
              0.6666666666666666,
              "#ed7953"
             ],
             [
              0.7777777777777778,
              "#fb9f3a"
             ],
             [
              0.8888888888888888,
              "#fdca26"
             ],
             [
              1,
              "#f0f921"
             ]
            ],
            "type": "contour"
           }
          ],
          "contourcarpet": [
           {
            "colorbar": {
             "outlinewidth": 0,
             "ticks": ""
            },
            "type": "contourcarpet"
           }
          ],
          "heatmap": [
           {
            "colorbar": {
             "outlinewidth": 0,
             "ticks": ""
            },
            "colorscale": [
             [
              0,
              "#0d0887"
             ],
             [
              0.1111111111111111,
              "#46039f"
             ],
             [
              0.2222222222222222,
              "#7201a8"
             ],
             [
              0.3333333333333333,
              "#9c179e"
             ],
             [
              0.4444444444444444,
              "#bd3786"
             ],
             [
              0.5555555555555556,
              "#d8576b"
             ],
             [
              0.6666666666666666,
              "#ed7953"
             ],
             [
              0.7777777777777778,
              "#fb9f3a"
             ],
             [
              0.8888888888888888,
              "#fdca26"
             ],
             [
              1,
              "#f0f921"
             ]
            ],
            "type": "heatmap"
           }
          ],
          "histogram": [
           {
            "marker": {
             "pattern": {
              "fillmode": "overlay",
              "size": 10,
              "solidity": 0.2
             }
            },
            "type": "histogram"
           }
          ],
          "histogram2d": [
           {
            "colorbar": {
             "outlinewidth": 0,
             "ticks": ""
            },
            "colorscale": [
             [
              0,
              "#0d0887"
             ],
             [
              0.1111111111111111,
              "#46039f"
             ],
             [
              0.2222222222222222,
              "#7201a8"
             ],
             [
              0.3333333333333333,
              "#9c179e"
             ],
             [
              0.4444444444444444,
              "#bd3786"
             ],
             [
              0.5555555555555556,
              "#d8576b"
             ],
             [
              0.6666666666666666,
              "#ed7953"
             ],
             [
              0.7777777777777778,
              "#fb9f3a"
             ],
             [
              0.8888888888888888,
              "#fdca26"
             ],
             [
              1,
              "#f0f921"
             ]
            ],
            "type": "histogram2d"
           }
          ],
          "histogram2dcontour": [
           {
            "colorbar": {
             "outlinewidth": 0,
             "ticks": ""
            },
            "colorscale": [
             [
              0,
              "#0d0887"
             ],
             [
              0.1111111111111111,
              "#46039f"
             ],
             [
              0.2222222222222222,
              "#7201a8"
             ],
             [
              0.3333333333333333,
              "#9c179e"
             ],
             [
              0.4444444444444444,
              "#bd3786"
             ],
             [
              0.5555555555555556,
              "#d8576b"
             ],
             [
              0.6666666666666666,
              "#ed7953"
             ],
             [
              0.7777777777777778,
              "#fb9f3a"
             ],
             [
              0.8888888888888888,
              "#fdca26"
             ],
             [
              1,
              "#f0f921"
             ]
            ],
            "type": "histogram2dcontour"
           }
          ],
          "mesh3d": [
           {
            "colorbar": {
             "outlinewidth": 0,
             "ticks": ""
            },
            "type": "mesh3d"
           }
          ],
          "parcoords": [
           {
            "line": {
             "colorbar": {
              "outlinewidth": 0,
              "ticks": ""
             }
            },
            "type": "parcoords"
           }
          ],
          "pie": [
           {
            "automargin": true,
            "type": "pie"
           }
          ],
          "scatter": [
           {
            "fillpattern": {
             "fillmode": "overlay",
             "size": 10,
             "solidity": 0.2
            },
            "type": "scatter"
           }
          ],
          "scatter3d": [
           {
            "line": {
             "colorbar": {
              "outlinewidth": 0,
              "ticks": ""
             }
            },
            "marker": {
             "colorbar": {
              "outlinewidth": 0,
              "ticks": ""
             }
            },
            "type": "scatter3d"
           }
          ],
          "scattercarpet": [
           {
            "marker": {
             "colorbar": {
              "outlinewidth": 0,
              "ticks": ""
             }
            },
            "type": "scattercarpet"
           }
          ],
          "scattergeo": [
           {
            "marker": {
             "colorbar": {
              "outlinewidth": 0,
              "ticks": ""
             }
            },
            "type": "scattergeo"
           }
          ],
          "scattergl": [
           {
            "marker": {
             "colorbar": {
              "outlinewidth": 0,
              "ticks": ""
             }
            },
            "type": "scattergl"
           }
          ],
          "scattermap": [
           {
            "marker": {
             "colorbar": {
              "outlinewidth": 0,
              "ticks": ""
             }
            },
            "type": "scattermap"
           }
          ],
          "scattermapbox": [
           {
            "marker": {
             "colorbar": {
              "outlinewidth": 0,
              "ticks": ""
             }
            },
            "type": "scattermapbox"
           }
          ],
          "scatterpolar": [
           {
            "marker": {
             "colorbar": {
              "outlinewidth": 0,
              "ticks": ""
             }
            },
            "type": "scatterpolar"
           }
          ],
          "scatterpolargl": [
           {
            "marker": {
             "colorbar": {
              "outlinewidth": 0,
              "ticks": ""
             }
            },
            "type": "scatterpolargl"
           }
          ],
          "scatterternary": [
           {
            "marker": {
             "colorbar": {
              "outlinewidth": 0,
              "ticks": ""
             }
            },
            "type": "scatterternary"
           }
          ],
          "surface": [
           {
            "colorbar": {
             "outlinewidth": 0,
             "ticks": ""
            },
            "colorscale": [
             [
              0,
              "#0d0887"
             ],
             [
              0.1111111111111111,
              "#46039f"
             ],
             [
              0.2222222222222222,
              "#7201a8"
             ],
             [
              0.3333333333333333,
              "#9c179e"
             ],
             [
              0.4444444444444444,
              "#bd3786"
             ],
             [
              0.5555555555555556,
              "#d8576b"
             ],
             [
              0.6666666666666666,
              "#ed7953"
             ],
             [
              0.7777777777777778,
              "#fb9f3a"
             ],
             [
              0.8888888888888888,
              "#fdca26"
             ],
             [
              1,
              "#f0f921"
             ]
            ],
            "type": "surface"
           }
          ],
          "table": [
           {
            "cells": {
             "fill": {
              "color": "#EBF0F8"
             },
             "line": {
              "color": "white"
             }
            },
            "header": {
             "fill": {
              "color": "#C8D4E3"
             },
             "line": {
              "color": "white"
             }
            },
            "type": "table"
           }
          ]
         },
         "layout": {
          "annotationdefaults": {
           "arrowcolor": "#2a3f5f",
           "arrowhead": 0,
           "arrowwidth": 1
          },
          "autotypenumbers": "strict",
          "coloraxis": {
           "colorbar": {
            "outlinewidth": 0,
            "ticks": ""
           }
          },
          "colorscale": {
           "diverging": [
            [
             0,
             "#8e0152"
            ],
            [
             0.1,
             "#c51b7d"
            ],
            [
             0.2,
             "#de77ae"
            ],
            [
             0.3,
             "#f1b6da"
            ],
            [
             0.4,
             "#fde0ef"
            ],
            [
             0.5,
             "#f7f7f7"
            ],
            [
             0.6,
             "#e6f5d0"
            ],
            [
             0.7,
             "#b8e186"
            ],
            [
             0.8,
             "#7fbc41"
            ],
            [
             0.9,
             "#4d9221"
            ],
            [
             1,
             "#276419"
            ]
           ],
           "sequential": [
            [
             0,
             "#0d0887"
            ],
            [
             0.1111111111111111,
             "#46039f"
            ],
            [
             0.2222222222222222,
             "#7201a8"
            ],
            [
             0.3333333333333333,
             "#9c179e"
            ],
            [
             0.4444444444444444,
             "#bd3786"
            ],
            [
             0.5555555555555556,
             "#d8576b"
            ],
            [
             0.6666666666666666,
             "#ed7953"
            ],
            [
             0.7777777777777778,
             "#fb9f3a"
            ],
            [
             0.8888888888888888,
             "#fdca26"
            ],
            [
             1,
             "#f0f921"
            ]
           ],
           "sequentialminus": [
            [
             0,
             "#0d0887"
            ],
            [
             0.1111111111111111,
             "#46039f"
            ],
            [
             0.2222222222222222,
             "#7201a8"
            ],
            [
             0.3333333333333333,
             "#9c179e"
            ],
            [
             0.4444444444444444,
             "#bd3786"
            ],
            [
             0.5555555555555556,
             "#d8576b"
            ],
            [
             0.6666666666666666,
             "#ed7953"
            ],
            [
             0.7777777777777778,
             "#fb9f3a"
            ],
            [
             0.8888888888888888,
             "#fdca26"
            ],
            [
             1,
             "#f0f921"
            ]
           ]
          },
          "colorway": [
           "#636efa",
           "#EF553B",
           "#00cc96",
           "#ab63fa",
           "#FFA15A",
           "#19d3f3",
           "#FF6692",
           "#B6E880",
           "#FF97FF",
           "#FECB52"
          ],
          "font": {
           "color": "#2a3f5f"
          },
          "geo": {
           "bgcolor": "white",
           "lakecolor": "white",
           "landcolor": "#E5ECF6",
           "showlakes": true,
           "showland": true,
           "subunitcolor": "white"
          },
          "hoverlabel": {
           "align": "left"
          },
          "hovermode": "closest",
          "mapbox": {
           "style": "light"
          },
          "paper_bgcolor": "white",
          "plot_bgcolor": "#E5ECF6",
          "polar": {
           "angularaxis": {
            "gridcolor": "white",
            "linecolor": "white",
            "ticks": ""
           },
           "bgcolor": "#E5ECF6",
           "radialaxis": {
            "gridcolor": "white",
            "linecolor": "white",
            "ticks": ""
           }
          },
          "scene": {
           "xaxis": {
            "backgroundcolor": "#E5ECF6",
            "gridcolor": "white",
            "gridwidth": 2,
            "linecolor": "white",
            "showbackground": true,
            "ticks": "",
            "zerolinecolor": "white"
           },
           "yaxis": {
            "backgroundcolor": "#E5ECF6",
            "gridcolor": "white",
            "gridwidth": 2,
            "linecolor": "white",
            "showbackground": true,
            "ticks": "",
            "zerolinecolor": "white"
           },
           "zaxis": {
            "backgroundcolor": "#E5ECF6",
            "gridcolor": "white",
            "gridwidth": 2,
            "linecolor": "white",
            "showbackground": true,
            "ticks": "",
            "zerolinecolor": "white"
           }
          },
          "shapedefaults": {
           "line": {
            "color": "#2a3f5f"
           }
          },
          "ternary": {
           "aaxis": {
            "gridcolor": "white",
            "linecolor": "white",
            "ticks": ""
           },
           "baxis": {
            "gridcolor": "white",
            "linecolor": "white",
            "ticks": ""
           },
           "bgcolor": "#E5ECF6",
           "caxis": {
            "gridcolor": "white",
            "linecolor": "white",
            "ticks": ""
           }
          },
          "title": {
           "x": 0.05
          },
          "xaxis": {
           "automargin": true,
           "gridcolor": "white",
           "linecolor": "white",
           "ticks": "",
           "title": {
            "standoff": 15
           },
           "zerolinecolor": "white",
           "zerolinewidth": 2
          },
          "yaxis": {
           "automargin": true,
           "gridcolor": "white",
           "linecolor": "white",
           "ticks": "",
           "title": {
            "standoff": 15
           },
           "zerolinecolor": "white",
           "zerolinewidth": 2
          }
         }
        },
        "title": {
         "text": "Mahalanobis Scores (Fold 1)"
        },
        "xaxis": {
         "anchor": "y",
         "domain": [
          0,
          1
         ],
         "title": {
          "text": "score"
         }
        },
        "yaxis": {
         "anchor": "x",
         "domain": [
          0,
          1
         ],
         "title": {
          "text": "count"
         }
        }
       }
      }
     },
     "metadata": {},
     "output_type": "display_data"
    },
    {
     "name": "stderr",
     "output_type": "stream",
     "text": [
      "/home/sim_m/work/image-anomaly-detection/.venv/lib/python3.12/site-packages/torchvision/models/_utils.py:208: UserWarning:\n",
      "\n",
      "The parameter 'pretrained' is deprecated since 0.13 and may be removed in the future, please use 'weights' instead.\n",
      "\n",
      "/home/sim_m/work/image-anomaly-detection/.venv/lib/python3.12/site-packages/torchvision/models/_utils.py:223: UserWarning:\n",
      "\n",
      "Arguments other than a weight enum or `None` for 'weights' are deprecated since 0.13 and may be removed in the future. The current behavior is equivalent to passing `weights=ResNet18_Weights.IMAGENET1K_V1`. You can also use `weights=ResNet18_Weights.DEFAULT` to get the most up-to-date weights.\n",
      "\n",
      "/home/sim_m/work/image-anomaly-detection/.venv/lib/python3.12/site-packages/torch/utils/data/dataloader.py:666: UserWarning:\n",
      "\n",
      "'pin_memory' argument is set as true but no accelerator is found, then device pinned memory won't be used.\n",
      "\n",
      "/home/sim_m/work/image-anomaly-detection/.venv/lib/python3.12/site-packages/torch/utils/data/dataloader.py:666: UserWarning:\n",
      "\n",
      "'pin_memory' argument is set as true but no accelerator is found, then device pinned memory won't be used.\n",
      "\n"
     ]
    },
    {
     "data": {
      "application/vnd.plotly.v1+json": {
       "config": {
        "plotlyServerURL": "https://plot.ly"
       },
       "data": [
        {
         "bingroup": "x",
         "hovertemplate": "label=train<br>score=%{x}<br>count=%{y}<extra></extra>",
         "legendgroup": "train",
         "marker": {
          "color": "#636efa",
          "opacity": 0.6,
          "pattern": {
           "shape": ""
          }
         },
         "name": "train",
         "nbinsx": 30,
         "orientation": "v",
         "showlegend": true,
         "type": "histogram",
         "x": {
          "bdata": "47NKQepHSkGqSktBYTVHQZfDQ0Fy91BBY41MQRNJSEFJDEtByDlHQTvTP0GcL05BL8FEQYzESUFSyT9BZXhJQVZwSUHAEFZBM/pGQV/sXkEo3z9Bq4FQQY1KSkHY/VBByghAQf4/RUEUTUhBWuFRQWI6R0G/Nk1BJeNEQbFBQEHjZDdBsKBGQY+8TEGNTENBknFDQaIxR0GtX0dBEG9EQbbOTEGnO0JBwGlSQb/eSUH+ElNBpaZNQa1aREGW3jxB4thFQYBkTEGqkkpBKrNHQZl7P0EEpkRBV2dSQRM6QkFPVVdB0ipEQcyQSUHtSkhBmEFBQUMLQEGuoEBB8e5BQbnQRkHutElBRplJQVHkQkEFkk9BVm1EQSjsVUEq+EZBufhIQbNIQEH4TkxBv9Y+QTN4S0EDSURBgwBJQZpuSUHN/EpBW81NQUoBRUFZtE5B33pBQXPGQkFUT0hB2rNDQew1RUGOmUtB4HY+QaShTEFvfEdBhvhGQY06TUHNV0BBOaRPQQSzUUE3+kFBD1xVQePrU0Fc1j9B0NVIQb7xQUFLXlNBnENNQaiXQUEYQkdBDWE8QauAUUHSWFVBaWpPQU7oRUH54EdB8ANKQYrZQ0Fk0kJBKVtIQREVTUEyzktBqKxDQawfUEHQLkhBrvJUQfvwSUHnCElBS9ZGQYWgQ0Fexj9ByGBKQeZxQ0G+Fk1BLCdPQXoJQ0EbuUtBnvBIQRMhTUGETFxBtSlCQYb+S0ESKUdBS/RHQXnjPEHp50VBjhRIQdmPSEFVeUFB22JOQcnPTkGmw05B9/dQQbyjUUGl8U1BWdlGQTvrRkFG2UdBhqROQTz0T0EL4EpBW5VIQVrzQkEugkFBwWhKQRErSEEffEVBkiVEQQ2xPEE7k0lBGURIQUYbUUEP20dBG9VHQQjgR0G3/01BlAFDQd6KR0HYkklBlAdMQcVGUUEEeUNBGzpPQTj+R0EaIU5BGJtPQQC6PUEEPkxBgqdEQSfLSkHPyERBDr1JQX9uP0HDj1NBgsJAQd2BQ0FlR05BK6JJQfb/Q0GQsE9BhJ5FQUVCSEEyukVBYnZFQQw/TEFfoEZBicJPQRKNSUHTj0xBoDRTQWNVQ0F3405BM9hWQXunREFZCEZBiPFCQaZjRUFtXDtBPYlZQWKDUUFjMUxBklpTQW6TQ0GM6URBqLtNQVtoREE=",
          "dtype": "f4"
         },
         "xaxis": "x",
         "yaxis": "y"
        },
        {
         "bingroup": "x",
         "hovertemplate": "label=val<br>score=%{x}<br>count=%{y}<extra></extra>",
         "legendgroup": "val",
         "marker": {
          "color": "#EF553B",
          "opacity": 0.6,
          "pattern": {
           "shape": ""
          }
         },
         "name": "val",
         "nbinsx": 30,
         "orientation": "v",
         "showlegend": true,
         "type": "histogram",
         "x": {
          "bdata": "JwzGQWS4tkEVib1BTNClQSfdokHIl65BDeauQbuXyUGFOLhBc0eoQUQGtUEvOZxBvuSiQavfqEHhZKxBbBCyQTPCl0EbgghCfcy3Qdk8y0EVEsZBTfi9Qe5iokGTh7BBGlmuQXX94kGE0LhB1BWhQbzxokGUi69B6BeeQQzB8EGsG8NBsMydQWGNr0HwwZdByE6zQa7svUHzsKRBy7KvQd/2xkHyQ7NBL2GeQapckkGWUaZBBrG4QeWbtkFUxtNBb0O4Qb4Wz0FI9KlBPWDCQXwKtkHL7cRBcPyqQYu0nEE=",
          "dtype": "f4"
         },
         "xaxis": "x",
         "yaxis": "y"
        },
        {
         "bingroup": "x",
         "hovertemplate": "label=color<br>score=%{x}<br>count=%{y}<extra></extra>",
         "legendgroup": "color",
         "marker": {
          "color": "#00cc96",
          "opacity": 0.6,
          "pattern": {
           "shape": ""
          }
         },
         "name": "color",
         "nbinsx": 30,
         "orientation": "v",
         "showlegend": true,
         "type": "histogram",
         "x": {
          "bdata": "lbAQQ4SzHULx+tZBoFXXQftrj0LzWOdBpnDOQZPKAELgcHtDZ8kcQqx+GUI0MXJCz/KnQnLXQ0L0+8tBP98oQnK6QEJWIBFCRREfQg==",
          "dtype": "f4"
         },
         "xaxis": "x",
         "yaxis": "y"
        },
        {
         "bingroup": "x",
         "hovertemplate": "label=cut<br>score=%{x}<br>count=%{y}<extra></extra>",
         "legendgroup": "cut",
         "marker": {
          "color": "#ab63fa",
          "opacity": 0.6,
          "pattern": {
           "shape": ""
          }
         },
         "name": "cut",
         "nbinsx": 30,
         "orientation": "v",
         "showlegend": true,
         "type": "histogram",
         "x": {
          "bdata": "0QEaQ3ANEULKgspC7iEmQyyR1UGy/j1ClACrQo46FUJnV9VB/BE4Q6i7UUIXOzhDsBNfQ6Lzo0IancFCVFw0Q98tdUI=",
          "dtype": "f4"
         },
         "xaxis": "x",
         "yaxis": "y"
        },
        {
         "bingroup": "x",
         "hovertemplate": "label=good<br>score=%{x}<br>count=%{y}<extra></extra>",
         "legendgroup": "good",
         "marker": {
          "color": "#FFA15A",
          "opacity": 0.6,
          "pattern": {
           "shape": ""
          }
         },
         "name": "good",
         "nbinsx": 30,
         "orientation": "v",
         "showlegend": true,
         "type": "histogram",
         "x": {
          "bdata": "HYenQcwwv0FHhiFCSdgaQkZP6EE9DANCyVkJQmjrCkIj8AJCFPNRQrugzUGNRr1BeAFAQgNoAkI/DhZC+TIkQlXtq0EIkcpBz/7HQdcMzkEDpL1BFKC3QRnW2UFWeuVB1rytQR2Fq0H+77dBmznHQQ==",
          "dtype": "f4"
         },
         "xaxis": "x",
         "yaxis": "y"
        },
        {
         "bingroup": "x",
         "hovertemplate": "label=hole<br>score=%{x}<br>count=%{y}<extra></extra>",
         "legendgroup": "hole",
         "marker": {
          "color": "#19d3f3",
          "opacity": 0.6,
          "pattern": {
           "shape": ""
          }
         },
         "name": "hole",
         "nbinsx": 30,
         "orientation": "v",
         "showlegend": true,
         "type": "histogram",
         "x": {
          "bdata": "8sNjQgBYw0EZh0RCoLqXQvPh5EL9WlhCQp2HQm117UI4A7lC7zCkQhS/ckImUM9CgL/jQQZtbUIqkwtDuuiqQr7OCkI=",
          "dtype": "f4"
         },
         "xaxis": "x",
         "yaxis": "y"
        },
        {
         "bingroup": "x",
         "hovertemplate": "label=metal_contamination<br>score=%{x}<br>count=%{y}<extra></extra>",
         "legendgroup": "metal_contamination",
         "marker": {
          "color": "#FF6692",
          "opacity": 0.6,
          "pattern": {
           "shape": ""
          }
         },
         "name": "metal_contamination",
         "nbinsx": 30,
         "orientation": "v",
         "showlegend": true,
         "type": "histogram",
         "x": {
          "bdata": "CTq8QTyquEE2yyRCq+nYQf9VgkLIRShDXsTrQm1h/ULZ8jdCwVgHQhflAEMRutVBZ1GAQnw8iELrPNJBTSvzQVFP1kE=",
          "dtype": "f4"
         },
         "xaxis": "x",
         "yaxis": "y"
        },
        {
         "bingroup": "x",
         "hovertemplate": "label=thread<br>score=%{x}<br>count=%{y}<extra></extra>",
         "legendgroup": "thread",
         "marker": {
          "color": "#B6E880",
          "opacity": 0.6,
          "pattern": {
           "shape": ""
          }
         },
         "name": "thread",
         "nbinsx": 30,
         "orientation": "v",
         "showlegend": true,
         "type": "histogram",
         "x": {
          "bdata": "rLfAQrMA5kH43udBL2f5QXrUzUKpAxND7qA8Q/KfCENtsj1DgDg0QuIqwkKthkxC65pkQgLZJkOxtLdBKM/gQYQykkIXqxJDSUfbQQ==",
          "dtype": "f4"
         },
         "xaxis": "x",
         "yaxis": "y"
        }
       ],
       "layout": {
        "barmode": "overlay",
        "legend": {
         "title": {
          "text": "label"
         },
         "tracegroupgap": 0
        },
        "margin": {
         "t": 60
        },
        "template": {
         "data": {
          "bar": [
           {
            "error_x": {
             "color": "#2a3f5f"
            },
            "error_y": {
             "color": "#2a3f5f"
            },
            "marker": {
             "line": {
              "color": "#E5ECF6",
              "width": 0.5
             },
             "pattern": {
              "fillmode": "overlay",
              "size": 10,
              "solidity": 0.2
             }
            },
            "type": "bar"
           }
          ],
          "barpolar": [
           {
            "marker": {
             "line": {
              "color": "#E5ECF6",
              "width": 0.5
             },
             "pattern": {
              "fillmode": "overlay",
              "size": 10,
              "solidity": 0.2
             }
            },
            "type": "barpolar"
           }
          ],
          "carpet": [
           {
            "aaxis": {
             "endlinecolor": "#2a3f5f",
             "gridcolor": "white",
             "linecolor": "white",
             "minorgridcolor": "white",
             "startlinecolor": "#2a3f5f"
            },
            "baxis": {
             "endlinecolor": "#2a3f5f",
             "gridcolor": "white",
             "linecolor": "white",
             "minorgridcolor": "white",
             "startlinecolor": "#2a3f5f"
            },
            "type": "carpet"
           }
          ],
          "choropleth": [
           {
            "colorbar": {
             "outlinewidth": 0,
             "ticks": ""
            },
            "type": "choropleth"
           }
          ],
          "contour": [
           {
            "colorbar": {
             "outlinewidth": 0,
             "ticks": ""
            },
            "colorscale": [
             [
              0,
              "#0d0887"
             ],
             [
              0.1111111111111111,
              "#46039f"
             ],
             [
              0.2222222222222222,
              "#7201a8"
             ],
             [
              0.3333333333333333,
              "#9c179e"
             ],
             [
              0.4444444444444444,
              "#bd3786"
             ],
             [
              0.5555555555555556,
              "#d8576b"
             ],
             [
              0.6666666666666666,
              "#ed7953"
             ],
             [
              0.7777777777777778,
              "#fb9f3a"
             ],
             [
              0.8888888888888888,
              "#fdca26"
             ],
             [
              1,
              "#f0f921"
             ]
            ],
            "type": "contour"
           }
          ],
          "contourcarpet": [
           {
            "colorbar": {
             "outlinewidth": 0,
             "ticks": ""
            },
            "type": "contourcarpet"
           }
          ],
          "heatmap": [
           {
            "colorbar": {
             "outlinewidth": 0,
             "ticks": ""
            },
            "colorscale": [
             [
              0,
              "#0d0887"
             ],
             [
              0.1111111111111111,
              "#46039f"
             ],
             [
              0.2222222222222222,
              "#7201a8"
             ],
             [
              0.3333333333333333,
              "#9c179e"
             ],
             [
              0.4444444444444444,
              "#bd3786"
             ],
             [
              0.5555555555555556,
              "#d8576b"
             ],
             [
              0.6666666666666666,
              "#ed7953"
             ],
             [
              0.7777777777777778,
              "#fb9f3a"
             ],
             [
              0.8888888888888888,
              "#fdca26"
             ],
             [
              1,
              "#f0f921"
             ]
            ],
            "type": "heatmap"
           }
          ],
          "histogram": [
           {
            "marker": {
             "pattern": {
              "fillmode": "overlay",
              "size": 10,
              "solidity": 0.2
             }
            },
            "type": "histogram"
           }
          ],
          "histogram2d": [
           {
            "colorbar": {
             "outlinewidth": 0,
             "ticks": ""
            },
            "colorscale": [
             [
              0,
              "#0d0887"
             ],
             [
              0.1111111111111111,
              "#46039f"
             ],
             [
              0.2222222222222222,
              "#7201a8"
             ],
             [
              0.3333333333333333,
              "#9c179e"
             ],
             [
              0.4444444444444444,
              "#bd3786"
             ],
             [
              0.5555555555555556,
              "#d8576b"
             ],
             [
              0.6666666666666666,
              "#ed7953"
             ],
             [
              0.7777777777777778,
              "#fb9f3a"
             ],
             [
              0.8888888888888888,
              "#fdca26"
             ],
             [
              1,
              "#f0f921"
             ]
            ],
            "type": "histogram2d"
           }
          ],
          "histogram2dcontour": [
           {
            "colorbar": {
             "outlinewidth": 0,
             "ticks": ""
            },
            "colorscale": [
             [
              0,
              "#0d0887"
             ],
             [
              0.1111111111111111,
              "#46039f"
             ],
             [
              0.2222222222222222,
              "#7201a8"
             ],
             [
              0.3333333333333333,
              "#9c179e"
             ],
             [
              0.4444444444444444,
              "#bd3786"
             ],
             [
              0.5555555555555556,
              "#d8576b"
             ],
             [
              0.6666666666666666,
              "#ed7953"
             ],
             [
              0.7777777777777778,
              "#fb9f3a"
             ],
             [
              0.8888888888888888,
              "#fdca26"
             ],
             [
              1,
              "#f0f921"
             ]
            ],
            "type": "histogram2dcontour"
           }
          ],
          "mesh3d": [
           {
            "colorbar": {
             "outlinewidth": 0,
             "ticks": ""
            },
            "type": "mesh3d"
           }
          ],
          "parcoords": [
           {
            "line": {
             "colorbar": {
              "outlinewidth": 0,
              "ticks": ""
             }
            },
            "type": "parcoords"
           }
          ],
          "pie": [
           {
            "automargin": true,
            "type": "pie"
           }
          ],
          "scatter": [
           {
            "fillpattern": {
             "fillmode": "overlay",
             "size": 10,
             "solidity": 0.2
            },
            "type": "scatter"
           }
          ],
          "scatter3d": [
           {
            "line": {
             "colorbar": {
              "outlinewidth": 0,
              "ticks": ""
             }
            },
            "marker": {
             "colorbar": {
              "outlinewidth": 0,
              "ticks": ""
             }
            },
            "type": "scatter3d"
           }
          ],
          "scattercarpet": [
           {
            "marker": {
             "colorbar": {
              "outlinewidth": 0,
              "ticks": ""
             }
            },
            "type": "scattercarpet"
           }
          ],
          "scattergeo": [
           {
            "marker": {
             "colorbar": {
              "outlinewidth": 0,
              "ticks": ""
             }
            },
            "type": "scattergeo"
           }
          ],
          "scattergl": [
           {
            "marker": {
             "colorbar": {
              "outlinewidth": 0,
              "ticks": ""
             }
            },
            "type": "scattergl"
           }
          ],
          "scattermap": [
           {
            "marker": {
             "colorbar": {
              "outlinewidth": 0,
              "ticks": ""
             }
            },
            "type": "scattermap"
           }
          ],
          "scattermapbox": [
           {
            "marker": {
             "colorbar": {
              "outlinewidth": 0,
              "ticks": ""
             }
            },
            "type": "scattermapbox"
           }
          ],
          "scatterpolar": [
           {
            "marker": {
             "colorbar": {
              "outlinewidth": 0,
              "ticks": ""
             }
            },
            "type": "scatterpolar"
           }
          ],
          "scatterpolargl": [
           {
            "marker": {
             "colorbar": {
              "outlinewidth": 0,
              "ticks": ""
             }
            },
            "type": "scatterpolargl"
           }
          ],
          "scatterternary": [
           {
            "marker": {
             "colorbar": {
              "outlinewidth": 0,
              "ticks": ""
             }
            },
            "type": "scatterternary"
           }
          ],
          "surface": [
           {
            "colorbar": {
             "outlinewidth": 0,
             "ticks": ""
            },
            "colorscale": [
             [
              0,
              "#0d0887"
             ],
             [
              0.1111111111111111,
              "#46039f"
             ],
             [
              0.2222222222222222,
              "#7201a8"
             ],
             [
              0.3333333333333333,
              "#9c179e"
             ],
             [
              0.4444444444444444,
              "#bd3786"
             ],
             [
              0.5555555555555556,
              "#d8576b"
             ],
             [
              0.6666666666666666,
              "#ed7953"
             ],
             [
              0.7777777777777778,
              "#fb9f3a"
             ],
             [
              0.8888888888888888,
              "#fdca26"
             ],
             [
              1,
              "#f0f921"
             ]
            ],
            "type": "surface"
           }
          ],
          "table": [
           {
            "cells": {
             "fill": {
              "color": "#EBF0F8"
             },
             "line": {
              "color": "white"
             }
            },
            "header": {
             "fill": {
              "color": "#C8D4E3"
             },
             "line": {
              "color": "white"
             }
            },
            "type": "table"
           }
          ]
         },
         "layout": {
          "annotationdefaults": {
           "arrowcolor": "#2a3f5f",
           "arrowhead": 0,
           "arrowwidth": 1
          },
          "autotypenumbers": "strict",
          "coloraxis": {
           "colorbar": {
            "outlinewidth": 0,
            "ticks": ""
           }
          },
          "colorscale": {
           "diverging": [
            [
             0,
             "#8e0152"
            ],
            [
             0.1,
             "#c51b7d"
            ],
            [
             0.2,
             "#de77ae"
            ],
            [
             0.3,
             "#f1b6da"
            ],
            [
             0.4,
             "#fde0ef"
            ],
            [
             0.5,
             "#f7f7f7"
            ],
            [
             0.6,
             "#e6f5d0"
            ],
            [
             0.7,
             "#b8e186"
            ],
            [
             0.8,
             "#7fbc41"
            ],
            [
             0.9,
             "#4d9221"
            ],
            [
             1,
             "#276419"
            ]
           ],
           "sequential": [
            [
             0,
             "#0d0887"
            ],
            [
             0.1111111111111111,
             "#46039f"
            ],
            [
             0.2222222222222222,
             "#7201a8"
            ],
            [
             0.3333333333333333,
             "#9c179e"
            ],
            [
             0.4444444444444444,
             "#bd3786"
            ],
            [
             0.5555555555555556,
             "#d8576b"
            ],
            [
             0.6666666666666666,
             "#ed7953"
            ],
            [
             0.7777777777777778,
             "#fb9f3a"
            ],
            [
             0.8888888888888888,
             "#fdca26"
            ],
            [
             1,
             "#f0f921"
            ]
           ],
           "sequentialminus": [
            [
             0,
             "#0d0887"
            ],
            [
             0.1111111111111111,
             "#46039f"
            ],
            [
             0.2222222222222222,
             "#7201a8"
            ],
            [
             0.3333333333333333,
             "#9c179e"
            ],
            [
             0.4444444444444444,
             "#bd3786"
            ],
            [
             0.5555555555555556,
             "#d8576b"
            ],
            [
             0.6666666666666666,
             "#ed7953"
            ],
            [
             0.7777777777777778,
             "#fb9f3a"
            ],
            [
             0.8888888888888888,
             "#fdca26"
            ],
            [
             1,
             "#f0f921"
            ]
           ]
          },
          "colorway": [
           "#636efa",
           "#EF553B",
           "#00cc96",
           "#ab63fa",
           "#FFA15A",
           "#19d3f3",
           "#FF6692",
           "#B6E880",
           "#FF97FF",
           "#FECB52"
          ],
          "font": {
           "color": "#2a3f5f"
          },
          "geo": {
           "bgcolor": "white",
           "lakecolor": "white",
           "landcolor": "#E5ECF6",
           "showlakes": true,
           "showland": true,
           "subunitcolor": "white"
          },
          "hoverlabel": {
           "align": "left"
          },
          "hovermode": "closest",
          "mapbox": {
           "style": "light"
          },
          "paper_bgcolor": "white",
          "plot_bgcolor": "#E5ECF6",
          "polar": {
           "angularaxis": {
            "gridcolor": "white",
            "linecolor": "white",
            "ticks": ""
           },
           "bgcolor": "#E5ECF6",
           "radialaxis": {
            "gridcolor": "white",
            "linecolor": "white",
            "ticks": ""
           }
          },
          "scene": {
           "xaxis": {
            "backgroundcolor": "#E5ECF6",
            "gridcolor": "white",
            "gridwidth": 2,
            "linecolor": "white",
            "showbackground": true,
            "ticks": "",
            "zerolinecolor": "white"
           },
           "yaxis": {
            "backgroundcolor": "#E5ECF6",
            "gridcolor": "white",
            "gridwidth": 2,
            "linecolor": "white",
            "showbackground": true,
            "ticks": "",
            "zerolinecolor": "white"
           },
           "zaxis": {
            "backgroundcolor": "#E5ECF6",
            "gridcolor": "white",
            "gridwidth": 2,
            "linecolor": "white",
            "showbackground": true,
            "ticks": "",
            "zerolinecolor": "white"
           }
          },
          "shapedefaults": {
           "line": {
            "color": "#2a3f5f"
           }
          },
          "ternary": {
           "aaxis": {
            "gridcolor": "white",
            "linecolor": "white",
            "ticks": ""
           },
           "baxis": {
            "gridcolor": "white",
            "linecolor": "white",
            "ticks": ""
           },
           "bgcolor": "#E5ECF6",
           "caxis": {
            "gridcolor": "white",
            "linecolor": "white",
            "ticks": ""
           }
          },
          "title": {
           "x": 0.05
          },
          "xaxis": {
           "automargin": true,
           "gridcolor": "white",
           "linecolor": "white",
           "ticks": "",
           "title": {
            "standoff": 15
           },
           "zerolinecolor": "white",
           "zerolinewidth": 2
          },
          "yaxis": {
           "automargin": true,
           "gridcolor": "white",
           "linecolor": "white",
           "ticks": "",
           "title": {
            "standoff": 15
           },
           "zerolinecolor": "white",
           "zerolinewidth": 2
          }
         }
        },
        "title": {
         "text": "Mahalanobis Scores (Fold 2)"
        },
        "xaxis": {
         "anchor": "y",
         "domain": [
          0,
          1
         ],
         "title": {
          "text": "score"
         }
        },
        "yaxis": {
         "anchor": "x",
         "domain": [
          0,
          1
         ],
         "title": {
          "text": "count"
         }
        }
       }
      }
     },
     "metadata": {},
     "output_type": "display_data"
    },
    {
     "name": "stderr",
     "output_type": "stream",
     "text": [
      "/home/sim_m/work/image-anomaly-detection/.venv/lib/python3.12/site-packages/torchvision/models/_utils.py:208: UserWarning:\n",
      "\n",
      "The parameter 'pretrained' is deprecated since 0.13 and may be removed in the future, please use 'weights' instead.\n",
      "\n",
      "/home/sim_m/work/image-anomaly-detection/.venv/lib/python3.12/site-packages/torchvision/models/_utils.py:223: UserWarning:\n",
      "\n",
      "Arguments other than a weight enum or `None` for 'weights' are deprecated since 0.13 and may be removed in the future. The current behavior is equivalent to passing `weights=ResNet18_Weights.IMAGENET1K_V1`. You can also use `weights=ResNet18_Weights.DEFAULT` to get the most up-to-date weights.\n",
      "\n",
      "/home/sim_m/work/image-anomaly-detection/.venv/lib/python3.12/site-packages/torch/utils/data/dataloader.py:666: UserWarning:\n",
      "\n",
      "'pin_memory' argument is set as true but no accelerator is found, then device pinned memory won't be used.\n",
      "\n",
      "/home/sim_m/work/image-anomaly-detection/.venv/lib/python3.12/site-packages/torch/utils/data/dataloader.py:666: UserWarning:\n",
      "\n",
      "'pin_memory' argument is set as true but no accelerator is found, then device pinned memory won't be used.\n",
      "\n"
     ]
    },
    {
     "data": {
      "application/vnd.plotly.v1+json": {
       "config": {
        "plotlyServerURL": "https://plot.ly"
       },
       "data": [
        {
         "bingroup": "x",
         "hovertemplate": "label=train<br>score=%{x}<br>count=%{y}<extra></extra>",
         "legendgroup": "train",
         "marker": {
          "color": "#636efa",
          "opacity": 0.6,
          "pattern": {
           "shape": ""
          }
         },
         "name": "train",
         "nbinsx": 30,
         "orientation": "v",
         "showlegend": true,
         "type": "histogram",
         "x": {
          "bdata": "UGBCQeWCTkFQsUNBLNBEQXRVSUHthEdBNiY+QfVLUUGWM0xB+nZeQVrxU0HOcENBJbNYQdxeTkFmDjxBfU5FQRhTQkGirkFB5rBMQSgaQ0Ez4j5BiSdCQZ38SEGfykRBr/tGQUZbS0GLx09Bob9HQTYAP0EjlUNBnnVQQbnEREEKM0hBjKFIQalzUkFjk0JBSDpGQWd3SkF82ENBI1NEQdpwQEG0Z09Bx2pYQXpeRUEry1NBUiFDQb/pSkGQzEFBzNlFQekyQkFwrkhB+V9XQZ2/P0G+RUFBYwtGQTlJR0El4UlBJvpLQcsmUUFWIkZBm7dPQRQuTEHxgElB2zdJQe2jUUHzHE1B+hpIQbg6SEEL2z9BuDpGQfO9SEGLGDlBxT1GQU9WRUFObkhBHz1NQVvxQUFPhklBsR1HQaeuOUEKl0pBEEA+QXLKTkHrgEpBatBFQVrvSEFDy1RBA2xIQeIxT0HLikFB1EhNQWwfUEEK5VBBd6dKQSPkS0Gx90hBV/tGQaw2RUEqwUtBsO5AQZPjR0GLXkZBaYhQQbJhT0EUX1BBeGY+QWBMRkElqEZBmRFFQds9PkGmLUpBhIpFQQZISkFqyUxBJw09QfVvQEE08zxBSJxMQZeqVEF3fT5BvltLQQLRPkHVUEdBimZIQQyVSkGc+DxBe6dHQckeREHiM0lBMMo8QSQHUkFaSkNB2uQ9QTobRkFDEE1BuPxDQcxAQkHhEkpBXFlKQbrJSkFzxTxBsmpPQXUvRUEsxkhBpZVMQT08TkF72kxBS9BBQUidQEGO7kJB5MBOQVvvPUFhG0RB1S1BQahTREFjGURB41RDQb5rREEHsVpBL7pLQQ2xTUHcskVBqiBLQTq7TEGNNjxBqS9JQV++VUF3tFBBKCo+QZCDTUF6HkFBXrtAQWPMTkGxpT9ByIZHQW/1O0GKlj5BIQRBQezXTkGTwUNBAfNJQXI7RUGk70dBDDE+QZlMWUHvHkxBihZFQbwGVkFMNkdBgtBJQdx1UUF53UdBazBIQbR6TEGuw1FB9ypNQWZgQ0E7kk5BhoJEQRsNTEFzzklBsnRJQa+cRkGIBUhByB9IQfsCSEFpf0lBDthLQVlURkEILkhB0uBFQSxzS0EDbD1Bxb1GQb3WQEFfzEhBX6NQQXPRS0EI60JBPkxNQSCYR0Gqj0xB+8dCQWj2Q0E=",
          "dtype": "f4"
         },
         "xaxis": "x",
         "yaxis": "y"
        },
        {
         "bingroup": "x",
         "hovertemplate": "label=val<br>score=%{x}<br>count=%{y}<extra></extra>",
         "legendgroup": "val",
         "marker": {
          "color": "#EF553B",
          "opacity": 0.6,
          "pattern": {
           "shape": ""
          }
         },
         "name": "val",
         "nbinsx": 30,
         "orientation": "v",
         "showlegend": true,
         "type": "histogram",
         "x": {
          "bdata": "VTq5QVE1yEGi8clBFgupQY0+qEF58YxBUcXVQQGkvUEMDqlBA+uoQciTuEH7cQlC8/GjQdvKrUHf0aFBxTWXQYqmw0EwjrdBRhWkQU/Cp0FuvsNB1nCeQT+GkUE6E7RB0XnsQZdpqkFTjKZBH97RQd0osUFH9KpBZHCeQR2tz0FuQZZBz22YQUaFt0Gbnq1BFOmiQfjinkEAjqZBNgiUQXGroEGMKIZB8v2kQXGcq0HKGbRBsmfEQeJixkH+aqBBIFeyQcIejkFYuKBBD+K0QRrnxUHIfbBBXgW8QWUdqUE=",
          "dtype": "f4"
         },
         "xaxis": "x",
         "yaxis": "y"
        },
        {
         "bingroup": "x",
         "hovertemplate": "label=color<br>score=%{x}<br>count=%{y}<extra></extra>",
         "legendgroup": "color",
         "marker": {
          "color": "#00cc96",
          "opacity": 0.6,
          "pattern": {
           "shape": ""
          }
         },
         "name": "color",
         "nbinsx": 30,
         "orientation": "v",
         "showlegend": true,
         "type": "histogram",
         "x": {
          "bdata": "RV8OQ0nvG0JCptFBOvfUQagWjkJwDeNB0HnKQZ2y/EFxMXZDpKcaQrHyE0LXKnJC1lurQiOhQkKwJb5BjycpQj9BPUL01g9Cw1MbQg==",
          "dtype": "f4"
         },
         "xaxis": "x",
         "yaxis": "y"
        },
        {
         "bingroup": "x",
         "hovertemplate": "label=cut<br>score=%{x}<br>count=%{y}<extra></extra>",
         "legendgroup": "cut",
         "marker": {
          "color": "#ab63fa",
          "opacity": 0.6,
          "pattern": {
           "shape": ""
          }
         },
         "name": "cut",
         "nbinsx": 30,
         "orientation": "v",
         "showlegend": true,
         "type": "histogram",
         "x": {
          "bdata": "4lYTQ2DyEUIf3cRCJ1UeQ4Ok0EFY1jNCYt+nQo8SD0K7xdBBdBMzQ4CMTELEbzVDLUNaQ4ZPoEKtxb5Cn2IwQ0rnakI=",
          "dtype": "f4"
         },
         "xaxis": "x",
         "yaxis": "y"
        },
        {
         "bingroup": "x",
         "hovertemplate": "label=good<br>score=%{x}<br>count=%{y}<extra></extra>",
         "legendgroup": "good",
         "marker": {
          "color": "#FFA15A",
          "opacity": 0.6,
          "pattern": {
           "shape": ""
          }
         },
         "name": "good",
         "nbinsx": 30,
         "orientation": "v",
         "showlegend": true,
         "type": "histogram",
         "x": {
          "bdata": "2HCmQclCskFMtx5CCz4YQvzO6EF2qwJCyhILQsRWCkJJEQJCathLQq9jyUFMubpBdIk4QjLcCEItmBZCf74mQq8/pEG/O8RBm3+9QfI6zEEITbxBjZyvQSbI3UEw3OJBC1OqQdg6pUEG0bFB5D3GQQ==",
          "dtype": "f4"
         },
         "xaxis": "x",
         "yaxis": "y"
        },
        {
         "bingroup": "x",
         "hovertemplate": "label=hole<br>score=%{x}<br>count=%{y}<extra></extra>",
         "legendgroup": "hole",
         "marker": {
          "color": "#19d3f3",
          "opacity": 0.6,
          "pattern": {
           "shape": ""
          }
         },
         "name": "hole",
         "nbinsx": 30,
         "orientation": "v",
         "showlegend": true,
         "type": "histogram",
         "x": {
          "bdata": "vqhfQu/hxEHQ+0JC+JSTQl5o3EJPJVRC4qaDQsj950L+YbdClFSfQhKFZkL7jcxCxtnpQUzbYUKo5gNDQNCiQrmrDUI=",
          "dtype": "f4"
         },
         "xaxis": "x",
         "yaxis": "y"
        },
        {
         "bingroup": "x",
         "hovertemplate": "label=metal_contamination<br>score=%{x}<br>count=%{y}<extra></extra>",
         "legendgroup": "metal_contamination",
         "marker": {
          "color": "#FF6692",
          "opacity": 0.6,
          "pattern": {
           "shape": ""
          }
         },
         "name": "metal_contamination",
         "nbinsx": 30,
         "orientation": "v",
         "showlegend": true,
         "type": "histogram",
         "x": {
          "bdata": "2zy6Qd92t0FMpCBC79rZQZ7/e0LUOiRDjH3rQixh+kLNvjRCe5cFQpfG/ULcwc9BoMOBQtHqhEKOvMtBjtH+QePyxkE=",
          "dtype": "f4"
         },
         "xaxis": "x",
         "yaxis": "y"
        },
        {
         "bingroup": "x",
         "hovertemplate": "label=thread<br>score=%{x}<br>count=%{y}<extra></extra>",
         "legendgroup": "thread",
         "marker": {
          "color": "#B6E880",
          "opacity": 0.6,
          "pattern": {
           "shape": ""
          }
         },
         "name": "thread",
         "nbinsx": 30,
         "orientation": "v",
         "showlegend": true,
         "type": "histogram",
         "x": {
          "bdata": "7g27QnSb5UE43eJB64DxQR5BzULyQxFDnGs8QwSdBUPMnj1DbqkwQpd6v0L2bkpC26dlQiISH0Mq97BBQ0bRQdiPjkJ5ahJDQh7NQQ==",
          "dtype": "f4"
         },
         "xaxis": "x",
         "yaxis": "y"
        }
       ],
       "layout": {
        "barmode": "overlay",
        "legend": {
         "title": {
          "text": "label"
         },
         "tracegroupgap": 0
        },
        "margin": {
         "t": 60
        },
        "template": {
         "data": {
          "bar": [
           {
            "error_x": {
             "color": "#2a3f5f"
            },
            "error_y": {
             "color": "#2a3f5f"
            },
            "marker": {
             "line": {
              "color": "#E5ECF6",
              "width": 0.5
             },
             "pattern": {
              "fillmode": "overlay",
              "size": 10,
              "solidity": 0.2
             }
            },
            "type": "bar"
           }
          ],
          "barpolar": [
           {
            "marker": {
             "line": {
              "color": "#E5ECF6",
              "width": 0.5
             },
             "pattern": {
              "fillmode": "overlay",
              "size": 10,
              "solidity": 0.2
             }
            },
            "type": "barpolar"
           }
          ],
          "carpet": [
           {
            "aaxis": {
             "endlinecolor": "#2a3f5f",
             "gridcolor": "white",
             "linecolor": "white",
             "minorgridcolor": "white",
             "startlinecolor": "#2a3f5f"
            },
            "baxis": {
             "endlinecolor": "#2a3f5f",
             "gridcolor": "white",
             "linecolor": "white",
             "minorgridcolor": "white",
             "startlinecolor": "#2a3f5f"
            },
            "type": "carpet"
           }
          ],
          "choropleth": [
           {
            "colorbar": {
             "outlinewidth": 0,
             "ticks": ""
            },
            "type": "choropleth"
           }
          ],
          "contour": [
           {
            "colorbar": {
             "outlinewidth": 0,
             "ticks": ""
            },
            "colorscale": [
             [
              0,
              "#0d0887"
             ],
             [
              0.1111111111111111,
              "#46039f"
             ],
             [
              0.2222222222222222,
              "#7201a8"
             ],
             [
              0.3333333333333333,
              "#9c179e"
             ],
             [
              0.4444444444444444,
              "#bd3786"
             ],
             [
              0.5555555555555556,
              "#d8576b"
             ],
             [
              0.6666666666666666,
              "#ed7953"
             ],
             [
              0.7777777777777778,
              "#fb9f3a"
             ],
             [
              0.8888888888888888,
              "#fdca26"
             ],
             [
              1,
              "#f0f921"
             ]
            ],
            "type": "contour"
           }
          ],
          "contourcarpet": [
           {
            "colorbar": {
             "outlinewidth": 0,
             "ticks": ""
            },
            "type": "contourcarpet"
           }
          ],
          "heatmap": [
           {
            "colorbar": {
             "outlinewidth": 0,
             "ticks": ""
            },
            "colorscale": [
             [
              0,
              "#0d0887"
             ],
             [
              0.1111111111111111,
              "#46039f"
             ],
             [
              0.2222222222222222,
              "#7201a8"
             ],
             [
              0.3333333333333333,
              "#9c179e"
             ],
             [
              0.4444444444444444,
              "#bd3786"
             ],
             [
              0.5555555555555556,
              "#d8576b"
             ],
             [
              0.6666666666666666,
              "#ed7953"
             ],
             [
              0.7777777777777778,
              "#fb9f3a"
             ],
             [
              0.8888888888888888,
              "#fdca26"
             ],
             [
              1,
              "#f0f921"
             ]
            ],
            "type": "heatmap"
           }
          ],
          "histogram": [
           {
            "marker": {
             "pattern": {
              "fillmode": "overlay",
              "size": 10,
              "solidity": 0.2
             }
            },
            "type": "histogram"
           }
          ],
          "histogram2d": [
           {
            "colorbar": {
             "outlinewidth": 0,
             "ticks": ""
            },
            "colorscale": [
             [
              0,
              "#0d0887"
             ],
             [
              0.1111111111111111,
              "#46039f"
             ],
             [
              0.2222222222222222,
              "#7201a8"
             ],
             [
              0.3333333333333333,
              "#9c179e"
             ],
             [
              0.4444444444444444,
              "#bd3786"
             ],
             [
              0.5555555555555556,
              "#d8576b"
             ],
             [
              0.6666666666666666,
              "#ed7953"
             ],
             [
              0.7777777777777778,
              "#fb9f3a"
             ],
             [
              0.8888888888888888,
              "#fdca26"
             ],
             [
              1,
              "#f0f921"
             ]
            ],
            "type": "histogram2d"
           }
          ],
          "histogram2dcontour": [
           {
            "colorbar": {
             "outlinewidth": 0,
             "ticks": ""
            },
            "colorscale": [
             [
              0,
              "#0d0887"
             ],
             [
              0.1111111111111111,
              "#46039f"
             ],
             [
              0.2222222222222222,
              "#7201a8"
             ],
             [
              0.3333333333333333,
              "#9c179e"
             ],
             [
              0.4444444444444444,
              "#bd3786"
             ],
             [
              0.5555555555555556,
              "#d8576b"
             ],
             [
              0.6666666666666666,
              "#ed7953"
             ],
             [
              0.7777777777777778,
              "#fb9f3a"
             ],
             [
              0.8888888888888888,
              "#fdca26"
             ],
             [
              1,
              "#f0f921"
             ]
            ],
            "type": "histogram2dcontour"
           }
          ],
          "mesh3d": [
           {
            "colorbar": {
             "outlinewidth": 0,
             "ticks": ""
            },
            "type": "mesh3d"
           }
          ],
          "parcoords": [
           {
            "line": {
             "colorbar": {
              "outlinewidth": 0,
              "ticks": ""
             }
            },
            "type": "parcoords"
           }
          ],
          "pie": [
           {
            "automargin": true,
            "type": "pie"
           }
          ],
          "scatter": [
           {
            "fillpattern": {
             "fillmode": "overlay",
             "size": 10,
             "solidity": 0.2
            },
            "type": "scatter"
           }
          ],
          "scatter3d": [
           {
            "line": {
             "colorbar": {
              "outlinewidth": 0,
              "ticks": ""
             }
            },
            "marker": {
             "colorbar": {
              "outlinewidth": 0,
              "ticks": ""
             }
            },
            "type": "scatter3d"
           }
          ],
          "scattercarpet": [
           {
            "marker": {
             "colorbar": {
              "outlinewidth": 0,
              "ticks": ""
             }
            },
            "type": "scattercarpet"
           }
          ],
          "scattergeo": [
           {
            "marker": {
             "colorbar": {
              "outlinewidth": 0,
              "ticks": ""
             }
            },
            "type": "scattergeo"
           }
          ],
          "scattergl": [
           {
            "marker": {
             "colorbar": {
              "outlinewidth": 0,
              "ticks": ""
             }
            },
            "type": "scattergl"
           }
          ],
          "scattermap": [
           {
            "marker": {
             "colorbar": {
              "outlinewidth": 0,
              "ticks": ""
             }
            },
            "type": "scattermap"
           }
          ],
          "scattermapbox": [
           {
            "marker": {
             "colorbar": {
              "outlinewidth": 0,
              "ticks": ""
             }
            },
            "type": "scattermapbox"
           }
          ],
          "scatterpolar": [
           {
            "marker": {
             "colorbar": {
              "outlinewidth": 0,
              "ticks": ""
             }
            },
            "type": "scatterpolar"
           }
          ],
          "scatterpolargl": [
           {
            "marker": {
             "colorbar": {
              "outlinewidth": 0,
              "ticks": ""
             }
            },
            "type": "scatterpolargl"
           }
          ],
          "scatterternary": [
           {
            "marker": {
             "colorbar": {
              "outlinewidth": 0,
              "ticks": ""
             }
            },
            "type": "scatterternary"
           }
          ],
          "surface": [
           {
            "colorbar": {
             "outlinewidth": 0,
             "ticks": ""
            },
            "colorscale": [
             [
              0,
              "#0d0887"
             ],
             [
              0.1111111111111111,
              "#46039f"
             ],
             [
              0.2222222222222222,
              "#7201a8"
             ],
             [
              0.3333333333333333,
              "#9c179e"
             ],
             [
              0.4444444444444444,
              "#bd3786"
             ],
             [
              0.5555555555555556,
              "#d8576b"
             ],
             [
              0.6666666666666666,
              "#ed7953"
             ],
             [
              0.7777777777777778,
              "#fb9f3a"
             ],
             [
              0.8888888888888888,
              "#fdca26"
             ],
             [
              1,
              "#f0f921"
             ]
            ],
            "type": "surface"
           }
          ],
          "table": [
           {
            "cells": {
             "fill": {
              "color": "#EBF0F8"
             },
             "line": {
              "color": "white"
             }
            },
            "header": {
             "fill": {
              "color": "#C8D4E3"
             },
             "line": {
              "color": "white"
             }
            },
            "type": "table"
           }
          ]
         },
         "layout": {
          "annotationdefaults": {
           "arrowcolor": "#2a3f5f",
           "arrowhead": 0,
           "arrowwidth": 1
          },
          "autotypenumbers": "strict",
          "coloraxis": {
           "colorbar": {
            "outlinewidth": 0,
            "ticks": ""
           }
          },
          "colorscale": {
           "diverging": [
            [
             0,
             "#8e0152"
            ],
            [
             0.1,
             "#c51b7d"
            ],
            [
             0.2,
             "#de77ae"
            ],
            [
             0.3,
             "#f1b6da"
            ],
            [
             0.4,
             "#fde0ef"
            ],
            [
             0.5,
             "#f7f7f7"
            ],
            [
             0.6,
             "#e6f5d0"
            ],
            [
             0.7,
             "#b8e186"
            ],
            [
             0.8,
             "#7fbc41"
            ],
            [
             0.9,
             "#4d9221"
            ],
            [
             1,
             "#276419"
            ]
           ],
           "sequential": [
            [
             0,
             "#0d0887"
            ],
            [
             0.1111111111111111,
             "#46039f"
            ],
            [
             0.2222222222222222,
             "#7201a8"
            ],
            [
             0.3333333333333333,
             "#9c179e"
            ],
            [
             0.4444444444444444,
             "#bd3786"
            ],
            [
             0.5555555555555556,
             "#d8576b"
            ],
            [
             0.6666666666666666,
             "#ed7953"
            ],
            [
             0.7777777777777778,
             "#fb9f3a"
            ],
            [
             0.8888888888888888,
             "#fdca26"
            ],
            [
             1,
             "#f0f921"
            ]
           ],
           "sequentialminus": [
            [
             0,
             "#0d0887"
            ],
            [
             0.1111111111111111,
             "#46039f"
            ],
            [
             0.2222222222222222,
             "#7201a8"
            ],
            [
             0.3333333333333333,
             "#9c179e"
            ],
            [
             0.4444444444444444,
             "#bd3786"
            ],
            [
             0.5555555555555556,
             "#d8576b"
            ],
            [
             0.6666666666666666,
             "#ed7953"
            ],
            [
             0.7777777777777778,
             "#fb9f3a"
            ],
            [
             0.8888888888888888,
             "#fdca26"
            ],
            [
             1,
             "#f0f921"
            ]
           ]
          },
          "colorway": [
           "#636efa",
           "#EF553B",
           "#00cc96",
           "#ab63fa",
           "#FFA15A",
           "#19d3f3",
           "#FF6692",
           "#B6E880",
           "#FF97FF",
           "#FECB52"
          ],
          "font": {
           "color": "#2a3f5f"
          },
          "geo": {
           "bgcolor": "white",
           "lakecolor": "white",
           "landcolor": "#E5ECF6",
           "showlakes": true,
           "showland": true,
           "subunitcolor": "white"
          },
          "hoverlabel": {
           "align": "left"
          },
          "hovermode": "closest",
          "mapbox": {
           "style": "light"
          },
          "paper_bgcolor": "white",
          "plot_bgcolor": "#E5ECF6",
          "polar": {
           "angularaxis": {
            "gridcolor": "white",
            "linecolor": "white",
            "ticks": ""
           },
           "bgcolor": "#E5ECF6",
           "radialaxis": {
            "gridcolor": "white",
            "linecolor": "white",
            "ticks": ""
           }
          },
          "scene": {
           "xaxis": {
            "backgroundcolor": "#E5ECF6",
            "gridcolor": "white",
            "gridwidth": 2,
            "linecolor": "white",
            "showbackground": true,
            "ticks": "",
            "zerolinecolor": "white"
           },
           "yaxis": {
            "backgroundcolor": "#E5ECF6",
            "gridcolor": "white",
            "gridwidth": 2,
            "linecolor": "white",
            "showbackground": true,
            "ticks": "",
            "zerolinecolor": "white"
           },
           "zaxis": {
            "backgroundcolor": "#E5ECF6",
            "gridcolor": "white",
            "gridwidth": 2,
            "linecolor": "white",
            "showbackground": true,
            "ticks": "",
            "zerolinecolor": "white"
           }
          },
          "shapedefaults": {
           "line": {
            "color": "#2a3f5f"
           }
          },
          "ternary": {
           "aaxis": {
            "gridcolor": "white",
            "linecolor": "white",
            "ticks": ""
           },
           "baxis": {
            "gridcolor": "white",
            "linecolor": "white",
            "ticks": ""
           },
           "bgcolor": "#E5ECF6",
           "caxis": {
            "gridcolor": "white",
            "linecolor": "white",
            "ticks": ""
           }
          },
          "title": {
           "x": 0.05
          },
          "xaxis": {
           "automargin": true,
           "gridcolor": "white",
           "linecolor": "white",
           "ticks": "",
           "title": {
            "standoff": 15
           },
           "zerolinecolor": "white",
           "zerolinewidth": 2
          },
          "yaxis": {
           "automargin": true,
           "gridcolor": "white",
           "linecolor": "white",
           "ticks": "",
           "title": {
            "standoff": 15
           },
           "zerolinecolor": "white",
           "zerolinewidth": 2
          }
         }
        },
        "title": {
         "text": "Mahalanobis Scores (Fold 3)"
        },
        "xaxis": {
         "anchor": "y",
         "domain": [
          0,
          1
         ],
         "title": {
          "text": "score"
         }
        },
        "yaxis": {
         "anchor": "x",
         "domain": [
          0,
          1
         ],
         "title": {
          "text": "count"
         }
        }
       }
      }
     },
     "metadata": {},
     "output_type": "display_data"
    },
    {
     "name": "stderr",
     "output_type": "stream",
     "text": [
      "/home/sim_m/work/image-anomaly-detection/.venv/lib/python3.12/site-packages/torchvision/models/_utils.py:208: UserWarning:\n",
      "\n",
      "The parameter 'pretrained' is deprecated since 0.13 and may be removed in the future, please use 'weights' instead.\n",
      "\n",
      "/home/sim_m/work/image-anomaly-detection/.venv/lib/python3.12/site-packages/torchvision/models/_utils.py:223: UserWarning:\n",
      "\n",
      "Arguments other than a weight enum or `None` for 'weights' are deprecated since 0.13 and may be removed in the future. The current behavior is equivalent to passing `weights=ResNet18_Weights.IMAGENET1K_V1`. You can also use `weights=ResNet18_Weights.DEFAULT` to get the most up-to-date weights.\n",
      "\n",
      "/home/sim_m/work/image-anomaly-detection/.venv/lib/python3.12/site-packages/torch/utils/data/dataloader.py:666: UserWarning:\n",
      "\n",
      "'pin_memory' argument is set as true but no accelerator is found, then device pinned memory won't be used.\n",
      "\n",
      "/home/sim_m/work/image-anomaly-detection/.venv/lib/python3.12/site-packages/torch/utils/data/dataloader.py:666: UserWarning:\n",
      "\n",
      "'pin_memory' argument is set as true but no accelerator is found, then device pinned memory won't be used.\n",
      "\n"
     ]
    },
    {
     "data": {
      "application/vnd.plotly.v1+json": {
       "config": {
        "plotlyServerURL": "https://plot.ly"
       },
       "data": [
        {
         "bingroup": "x",
         "hovertemplate": "label=train<br>score=%{x}<br>count=%{y}<extra></extra>",
         "legendgroup": "train",
         "marker": {
          "color": "#636efa",
          "opacity": 0.6,
          "pattern": {
           "shape": ""
          }
         },
         "name": "train",
         "nbinsx": 30,
         "orientation": "v",
         "showlegend": true,
         "type": "histogram",
         "x": {
          "bdata": "cNlAQS3DRUGMekVBhaE9QRFZSEF0QkVBpr5QQeDQVEGqqj1B0T1KQZHySkEHmkRBU9w8QUbKVEGHvT5BGxFMQVKHQ0Frr0VBY9JQQZH7P0H60EtB6j9NQeJhS0G6SU5BkchGQTVJQEHfbUFBm+1CQT8qTUFeo0tBF4FCQS7bS0E2h0VBLoJIQfbtRUFXEExBlxNJQbECTUG6nEdByKVFQQLURkFY/EdBOVpKQXrQR0ERmUxBotRHQfmzTEE2V0JBJ79MQXF9QkHjQ0VBObFAQQvQTUE7HVBBbSRIQXfDSEFlUUVBnvVHQarPS0HJQVpB4XtPQToFR0FtolBBgu1RQYteQUGiD0lBSs5EQUmhR0GRwkxBrphQQftyTEHTXExBU5NZQbYGV0GuD0ZBmYtAQU38QkECCEVB/I1MQR25SkEtFUhB5yBHQTCWS0FvJkRBAMxeQXZZQ0FFgElBQN5HQQtTRkHVdkdB2nZQQYFTTUHNoUtBg05IQWslSkEGvlZBKQ1CQUXjSEHoxUZBeKY5QQIyX0GnC1BBluZQQbjqQEG7lkFB+5BRQXPWTEEVC0dB5nJGQQPtVEH28EZBO4xNQfGiSUEO4UFBD8JHQS87RkGksj5BCdFLQf4zPUEFNEdBUXU+QZnnU0Evw05BbRdCQXaET0EXZk5ByF5IQdxbQ0FqvEhBPNdHQSD9REG1hkdB17BEQflER0FA+khBRg1DQXARP0HfsUJBvQZCQSa4TUGAjExBBzFOQTgYPUFETztBQgxLQeGQUUF8SkhB5DtNQdlGQ0HsfUNBHMBOQW4LRkF/NUFBgmRCQRp2RkHCgT1BwTNRQc5MRkGhwk9BKb9JQU5ZSUGmWEVBfJ9FQTsKU0GhAUtBl/NHQeEjREEW6EtBYDxPQVgRRkEXpEhBiQtFQfIqSUFDYklBJN48QapES0GNIUlBSu1BQXPOSkFUaVZBHSFRQTNcRUHRPFFBYoFIQc/xS0EpZD9B+Z1NQR0CSkHD7UNBJqBBQeU5UUErIFFBeltKQXguPUH5Kj5BVEhGQRNKREHvmURBahNGQWLGQkF7XFFBjiBMQUq8RUF97k9BWXhDQXXVRkE2TT1BBvBJQZwlTkE4mzxBQF9HQUPrWEG+X0BBH4RLQWTgU0HMKk9BLchQQe0gSEEVBFJBuIs9Qd2SRUF1OUpBRtZAQe6/Q0E=",
          "dtype": "f4"
         },
         "xaxis": "x",
         "yaxis": "y"
        },
        {
         "bingroup": "x",
         "hovertemplate": "label=val<br>score=%{x}<br>count=%{y}<extra></extra>",
         "legendgroup": "val",
         "marker": {
          "color": "#EF553B",
          "opacity": 0.6,
          "pattern": {
           "shape": ""
          }
         },
         "name": "val",
         "nbinsx": 30,
         "orientation": "v",
         "showlegend": true,
         "type": "histogram",
         "x": {
          "bdata": "9+yxQbnRzkEsvaBBzSerQat/ukEw17FBkB3LQcR10kG90atBlW7HQUrXm0HxJ7RBuH6sQcYy1EGqKrFBR162QQH5t0GMIKNBX4G7Qf+0rEF5VLxBka2iQZtTo0EyAqVBSluqQaqEqEGGLbNBoQruQQQdokEYa6FBugufQabsl0ECX6lBgfK1QdD5uUE2I5lBk/qXQfmttUH0bZpB5CKmQQh820HwZKpBNwG2QaTsrUHhZJNB2uaeQa97rkFW3Z5BKrq7QfJHsUF9W5tBApaiQU4yo0HIVMpB9Nq6QTxgsEE=",
          "dtype": "f4"
         },
         "xaxis": "x",
         "yaxis": "y"
        },
        {
         "bingroup": "x",
         "hovertemplate": "label=color<br>score=%{x}<br>count=%{y}<extra></extra>",
         "legendgroup": "color",
         "marker": {
          "color": "#00cc96",
          "opacity": 0.6,
          "pattern": {
           "shape": ""
          }
         },
         "name": "color",
         "nbinsx": 30,
         "orientation": "v",
         "showlegend": true,
         "type": "histogram",
         "x": {
          "bdata": "ApQRQ2UQGUJiyd5BbenVQQ8TkEJpiOdBOwPNQW/jAkIkUH1DL7AbQnxWGkLI63RCntOpQsiSREJUbcdBWMUpQvFNP0LiAxRCazMnQg==",
          "dtype": "f4"
         },
         "xaxis": "x",
         "yaxis": "y"
        },
        {
         "bingroup": "x",
         "hovertemplate": "label=cut<br>score=%{x}<br>count=%{y}<extra></extra>",
         "legendgroup": "cut",
         "marker": {
          "color": "#ab63fa",
          "opacity": 0.6,
          "pattern": {
           "shape": ""
          }
         },
         "name": "cut",
         "nbinsx": 30,
         "orientation": "v",
         "showlegend": true,
         "type": "histogram",
         "x": {
          "bdata": "KZMYQ4HDEUIboMhC8kAiQ0NS0EFevDxCFoqpQkRlEUJRedFBKpI6Q6kTV0KzvDlDStpeQzjNqEJnTMVC/2o6Q2u4dEI=",
          "dtype": "f4"
         },
         "xaxis": "x",
         "yaxis": "y"
        },
        {
         "bingroup": "x",
         "hovertemplate": "label=good<br>score=%{x}<br>count=%{y}<extra></extra>",
         "legendgroup": "good",
         "marker": {
          "color": "#FFA15A",
          "opacity": 0.6,
          "pattern": {
           "shape": ""
          }
         },
         "name": "good",
         "nbinsx": 30,
         "orientation": "v",
         "showlegend": true,
         "type": "histogram",
         "x": {
          "bdata": "MBaoQX/Ou0EM+yhCSKsfQk8A80EwQAhCS3kOQlGvC0L83wZCGMVbQgvN2EH58rhBwFs8QsgIC0KdNRVCLqMqQq8xpUH1ccZBnTy+QTHwy0Fx0r1BX5K4QVd01UHKR+NB1BKwQcsArkGa9bRB6gTIQQ==",
          "dtype": "f4"
         },
         "xaxis": "x",
         "yaxis": "y"
        },
        {
         "bingroup": "x",
         "hovertemplate": "label=hole<br>score=%{x}<br>count=%{y}<extra></extra>",
         "legendgroup": "hole",
         "marker": {
          "color": "#19d3f3",
          "opacity": 0.6,
          "pattern": {
           "shape": ""
          }
         },
         "name": "hole",
         "nbinsx": 30,
         "orientation": "v",
         "showlegend": true,
         "type": "histogram",
         "x": {
          "bdata": "XSFiQjk0wUEYGUFCD82VQkZe30L6dVhCC+iIQhHh7UKcD8FCMVajQoRAcUKao85CgfTuQZ1dYkIm5ghDPV+nQhwLDEI=",
          "dtype": "f4"
         },
         "xaxis": "x",
         "yaxis": "y"
        },
        {
         "bingroup": "x",
         "hovertemplate": "label=metal_contamination<br>score=%{x}<br>count=%{y}<extra></extra>",
         "legendgroup": "metal_contamination",
         "marker": {
          "color": "#FF6692",
          "opacity": 0.6,
          "pattern": {
           "shape": ""
          }
         },
         "name": "metal_contamination",
         "nbinsx": 30,
         "orientation": "v",
         "showlegend": true,
         "type": "histogram",
         "x": {
          "bdata": "BbazQe+QvEHVviFCfvTgQW/LhUJrOipDx4jwQjUJ/kKQKjhCxh0FQqrQA0NSi9lBCn2CQmcPikI9DMVBFhf6Qa11y0E=",
          "dtype": "f4"
         },
         "xaxis": "x",
         "yaxis": "y"
        },
        {
         "bingroup": "x",
         "hovertemplate": "label=thread<br>score=%{x}<br>count=%{y}<extra></extra>",
         "legendgroup": "thread",
         "marker": {
          "color": "#B6E880",
          "opacity": 0.6,
          "pattern": {
           "shape": ""
          }
         },
         "name": "thread",
         "nbinsx": 30,
         "orientation": "v",
         "showlegend": true,
         "type": "histogram",
         "x": {
          "bdata": "f6W+Qj2z7kEqRuBBYuL7QZNwy0K3oRFDIjw6Q57iA0MDkjxDxtczQou4vULZhEtC/p9sQiwTIkPUPrRB0TjRQXoPjUIXbxJDRAXTQQ==",
          "dtype": "f4"
         },
         "xaxis": "x",
         "yaxis": "y"
        }
       ],
       "layout": {
        "barmode": "overlay",
        "legend": {
         "title": {
          "text": "label"
         },
         "tracegroupgap": 0
        },
        "margin": {
         "t": 60
        },
        "template": {
         "data": {
          "bar": [
           {
            "error_x": {
             "color": "#2a3f5f"
            },
            "error_y": {
             "color": "#2a3f5f"
            },
            "marker": {
             "line": {
              "color": "#E5ECF6",
              "width": 0.5
             },
             "pattern": {
              "fillmode": "overlay",
              "size": 10,
              "solidity": 0.2
             }
            },
            "type": "bar"
           }
          ],
          "barpolar": [
           {
            "marker": {
             "line": {
              "color": "#E5ECF6",
              "width": 0.5
             },
             "pattern": {
              "fillmode": "overlay",
              "size": 10,
              "solidity": 0.2
             }
            },
            "type": "barpolar"
           }
          ],
          "carpet": [
           {
            "aaxis": {
             "endlinecolor": "#2a3f5f",
             "gridcolor": "white",
             "linecolor": "white",
             "minorgridcolor": "white",
             "startlinecolor": "#2a3f5f"
            },
            "baxis": {
             "endlinecolor": "#2a3f5f",
             "gridcolor": "white",
             "linecolor": "white",
             "minorgridcolor": "white",
             "startlinecolor": "#2a3f5f"
            },
            "type": "carpet"
           }
          ],
          "choropleth": [
           {
            "colorbar": {
             "outlinewidth": 0,
             "ticks": ""
            },
            "type": "choropleth"
           }
          ],
          "contour": [
           {
            "colorbar": {
             "outlinewidth": 0,
             "ticks": ""
            },
            "colorscale": [
             [
              0,
              "#0d0887"
             ],
             [
              0.1111111111111111,
              "#46039f"
             ],
             [
              0.2222222222222222,
              "#7201a8"
             ],
             [
              0.3333333333333333,
              "#9c179e"
             ],
             [
              0.4444444444444444,
              "#bd3786"
             ],
             [
              0.5555555555555556,
              "#d8576b"
             ],
             [
              0.6666666666666666,
              "#ed7953"
             ],
             [
              0.7777777777777778,
              "#fb9f3a"
             ],
             [
              0.8888888888888888,
              "#fdca26"
             ],
             [
              1,
              "#f0f921"
             ]
            ],
            "type": "contour"
           }
          ],
          "contourcarpet": [
           {
            "colorbar": {
             "outlinewidth": 0,
             "ticks": ""
            },
            "type": "contourcarpet"
           }
          ],
          "heatmap": [
           {
            "colorbar": {
             "outlinewidth": 0,
             "ticks": ""
            },
            "colorscale": [
             [
              0,
              "#0d0887"
             ],
             [
              0.1111111111111111,
              "#46039f"
             ],
             [
              0.2222222222222222,
              "#7201a8"
             ],
             [
              0.3333333333333333,
              "#9c179e"
             ],
             [
              0.4444444444444444,
              "#bd3786"
             ],
             [
              0.5555555555555556,
              "#d8576b"
             ],
             [
              0.6666666666666666,
              "#ed7953"
             ],
             [
              0.7777777777777778,
              "#fb9f3a"
             ],
             [
              0.8888888888888888,
              "#fdca26"
             ],
             [
              1,
              "#f0f921"
             ]
            ],
            "type": "heatmap"
           }
          ],
          "histogram": [
           {
            "marker": {
             "pattern": {
              "fillmode": "overlay",
              "size": 10,
              "solidity": 0.2
             }
            },
            "type": "histogram"
           }
          ],
          "histogram2d": [
           {
            "colorbar": {
             "outlinewidth": 0,
             "ticks": ""
            },
            "colorscale": [
             [
              0,
              "#0d0887"
             ],
             [
              0.1111111111111111,
              "#46039f"
             ],
             [
              0.2222222222222222,
              "#7201a8"
             ],
             [
              0.3333333333333333,
              "#9c179e"
             ],
             [
              0.4444444444444444,
              "#bd3786"
             ],
             [
              0.5555555555555556,
              "#d8576b"
             ],
             [
              0.6666666666666666,
              "#ed7953"
             ],
             [
              0.7777777777777778,
              "#fb9f3a"
             ],
             [
              0.8888888888888888,
              "#fdca26"
             ],
             [
              1,
              "#f0f921"
             ]
            ],
            "type": "histogram2d"
           }
          ],
          "histogram2dcontour": [
           {
            "colorbar": {
             "outlinewidth": 0,
             "ticks": ""
            },
            "colorscale": [
             [
              0,
              "#0d0887"
             ],
             [
              0.1111111111111111,
              "#46039f"
             ],
             [
              0.2222222222222222,
              "#7201a8"
             ],
             [
              0.3333333333333333,
              "#9c179e"
             ],
             [
              0.4444444444444444,
              "#bd3786"
             ],
             [
              0.5555555555555556,
              "#d8576b"
             ],
             [
              0.6666666666666666,
              "#ed7953"
             ],
             [
              0.7777777777777778,
              "#fb9f3a"
             ],
             [
              0.8888888888888888,
              "#fdca26"
             ],
             [
              1,
              "#f0f921"
             ]
            ],
            "type": "histogram2dcontour"
           }
          ],
          "mesh3d": [
           {
            "colorbar": {
             "outlinewidth": 0,
             "ticks": ""
            },
            "type": "mesh3d"
           }
          ],
          "parcoords": [
           {
            "line": {
             "colorbar": {
              "outlinewidth": 0,
              "ticks": ""
             }
            },
            "type": "parcoords"
           }
          ],
          "pie": [
           {
            "automargin": true,
            "type": "pie"
           }
          ],
          "scatter": [
           {
            "fillpattern": {
             "fillmode": "overlay",
             "size": 10,
             "solidity": 0.2
            },
            "type": "scatter"
           }
          ],
          "scatter3d": [
           {
            "line": {
             "colorbar": {
              "outlinewidth": 0,
              "ticks": ""
             }
            },
            "marker": {
             "colorbar": {
              "outlinewidth": 0,
              "ticks": ""
             }
            },
            "type": "scatter3d"
           }
          ],
          "scattercarpet": [
           {
            "marker": {
             "colorbar": {
              "outlinewidth": 0,
              "ticks": ""
             }
            },
            "type": "scattercarpet"
           }
          ],
          "scattergeo": [
           {
            "marker": {
             "colorbar": {
              "outlinewidth": 0,
              "ticks": ""
             }
            },
            "type": "scattergeo"
           }
          ],
          "scattergl": [
           {
            "marker": {
             "colorbar": {
              "outlinewidth": 0,
              "ticks": ""
             }
            },
            "type": "scattergl"
           }
          ],
          "scattermap": [
           {
            "marker": {
             "colorbar": {
              "outlinewidth": 0,
              "ticks": ""
             }
            },
            "type": "scattermap"
           }
          ],
          "scattermapbox": [
           {
            "marker": {
             "colorbar": {
              "outlinewidth": 0,
              "ticks": ""
             }
            },
            "type": "scattermapbox"
           }
          ],
          "scatterpolar": [
           {
            "marker": {
             "colorbar": {
              "outlinewidth": 0,
              "ticks": ""
             }
            },
            "type": "scatterpolar"
           }
          ],
          "scatterpolargl": [
           {
            "marker": {
             "colorbar": {
              "outlinewidth": 0,
              "ticks": ""
             }
            },
            "type": "scatterpolargl"
           }
          ],
          "scatterternary": [
           {
            "marker": {
             "colorbar": {
              "outlinewidth": 0,
              "ticks": ""
             }
            },
            "type": "scatterternary"
           }
          ],
          "surface": [
           {
            "colorbar": {
             "outlinewidth": 0,
             "ticks": ""
            },
            "colorscale": [
             [
              0,
              "#0d0887"
             ],
             [
              0.1111111111111111,
              "#46039f"
             ],
             [
              0.2222222222222222,
              "#7201a8"
             ],
             [
              0.3333333333333333,
              "#9c179e"
             ],
             [
              0.4444444444444444,
              "#bd3786"
             ],
             [
              0.5555555555555556,
              "#d8576b"
             ],
             [
              0.6666666666666666,
              "#ed7953"
             ],
             [
              0.7777777777777778,
              "#fb9f3a"
             ],
             [
              0.8888888888888888,
              "#fdca26"
             ],
             [
              1,
              "#f0f921"
             ]
            ],
            "type": "surface"
           }
          ],
          "table": [
           {
            "cells": {
             "fill": {
              "color": "#EBF0F8"
             },
             "line": {
              "color": "white"
             }
            },
            "header": {
             "fill": {
              "color": "#C8D4E3"
             },
             "line": {
              "color": "white"
             }
            },
            "type": "table"
           }
          ]
         },
         "layout": {
          "annotationdefaults": {
           "arrowcolor": "#2a3f5f",
           "arrowhead": 0,
           "arrowwidth": 1
          },
          "autotypenumbers": "strict",
          "coloraxis": {
           "colorbar": {
            "outlinewidth": 0,
            "ticks": ""
           }
          },
          "colorscale": {
           "diverging": [
            [
             0,
             "#8e0152"
            ],
            [
             0.1,
             "#c51b7d"
            ],
            [
             0.2,
             "#de77ae"
            ],
            [
             0.3,
             "#f1b6da"
            ],
            [
             0.4,
             "#fde0ef"
            ],
            [
             0.5,
             "#f7f7f7"
            ],
            [
             0.6,
             "#e6f5d0"
            ],
            [
             0.7,
             "#b8e186"
            ],
            [
             0.8,
             "#7fbc41"
            ],
            [
             0.9,
             "#4d9221"
            ],
            [
             1,
             "#276419"
            ]
           ],
           "sequential": [
            [
             0,
             "#0d0887"
            ],
            [
             0.1111111111111111,
             "#46039f"
            ],
            [
             0.2222222222222222,
             "#7201a8"
            ],
            [
             0.3333333333333333,
             "#9c179e"
            ],
            [
             0.4444444444444444,
             "#bd3786"
            ],
            [
             0.5555555555555556,
             "#d8576b"
            ],
            [
             0.6666666666666666,
             "#ed7953"
            ],
            [
             0.7777777777777778,
             "#fb9f3a"
            ],
            [
             0.8888888888888888,
             "#fdca26"
            ],
            [
             1,
             "#f0f921"
            ]
           ],
           "sequentialminus": [
            [
             0,
             "#0d0887"
            ],
            [
             0.1111111111111111,
             "#46039f"
            ],
            [
             0.2222222222222222,
             "#7201a8"
            ],
            [
             0.3333333333333333,
             "#9c179e"
            ],
            [
             0.4444444444444444,
             "#bd3786"
            ],
            [
             0.5555555555555556,
             "#d8576b"
            ],
            [
             0.6666666666666666,
             "#ed7953"
            ],
            [
             0.7777777777777778,
             "#fb9f3a"
            ],
            [
             0.8888888888888888,
             "#fdca26"
            ],
            [
             1,
             "#f0f921"
            ]
           ]
          },
          "colorway": [
           "#636efa",
           "#EF553B",
           "#00cc96",
           "#ab63fa",
           "#FFA15A",
           "#19d3f3",
           "#FF6692",
           "#B6E880",
           "#FF97FF",
           "#FECB52"
          ],
          "font": {
           "color": "#2a3f5f"
          },
          "geo": {
           "bgcolor": "white",
           "lakecolor": "white",
           "landcolor": "#E5ECF6",
           "showlakes": true,
           "showland": true,
           "subunitcolor": "white"
          },
          "hoverlabel": {
           "align": "left"
          },
          "hovermode": "closest",
          "mapbox": {
           "style": "light"
          },
          "paper_bgcolor": "white",
          "plot_bgcolor": "#E5ECF6",
          "polar": {
           "angularaxis": {
            "gridcolor": "white",
            "linecolor": "white",
            "ticks": ""
           },
           "bgcolor": "#E5ECF6",
           "radialaxis": {
            "gridcolor": "white",
            "linecolor": "white",
            "ticks": ""
           }
          },
          "scene": {
           "xaxis": {
            "backgroundcolor": "#E5ECF6",
            "gridcolor": "white",
            "gridwidth": 2,
            "linecolor": "white",
            "showbackground": true,
            "ticks": "",
            "zerolinecolor": "white"
           },
           "yaxis": {
            "backgroundcolor": "#E5ECF6",
            "gridcolor": "white",
            "gridwidth": 2,
            "linecolor": "white",
            "showbackground": true,
            "ticks": "",
            "zerolinecolor": "white"
           },
           "zaxis": {
            "backgroundcolor": "#E5ECF6",
            "gridcolor": "white",
            "gridwidth": 2,
            "linecolor": "white",
            "showbackground": true,
            "ticks": "",
            "zerolinecolor": "white"
           }
          },
          "shapedefaults": {
           "line": {
            "color": "#2a3f5f"
           }
          },
          "ternary": {
           "aaxis": {
            "gridcolor": "white",
            "linecolor": "white",
            "ticks": ""
           },
           "baxis": {
            "gridcolor": "white",
            "linecolor": "white",
            "ticks": ""
           },
           "bgcolor": "#E5ECF6",
           "caxis": {
            "gridcolor": "white",
            "linecolor": "white",
            "ticks": ""
           }
          },
          "title": {
           "x": 0.05
          },
          "xaxis": {
           "automargin": true,
           "gridcolor": "white",
           "linecolor": "white",
           "ticks": "",
           "title": {
            "standoff": 15
           },
           "zerolinecolor": "white",
           "zerolinewidth": 2
          },
          "yaxis": {
           "automargin": true,
           "gridcolor": "white",
           "linecolor": "white",
           "ticks": "",
           "title": {
            "standoff": 15
           },
           "zerolinecolor": "white",
           "zerolinewidth": 2
          }
         }
        },
        "title": {
         "text": "Mahalanobis Scores (Fold 4)"
        },
        "xaxis": {
         "anchor": "y",
         "domain": [
          0,
          1
         ],
         "title": {
          "text": "score"
         }
        },
        "yaxis": {
         "anchor": "x",
         "domain": [
          0,
          1
         ],
         "title": {
          "text": "count"
         }
        }
       }
      }
     },
     "metadata": {},
     "output_type": "display_data"
    }
   ],
   "source": [
    "# Example: Fit Mahalanobis model on the first CV fold's training data\n",
    "# 各フォールドの結果を格納する辞書を初期化\n",
    "all_results_MD = {}\n",
    "for ifold, fold in enumerate(cv_folds):\n",
    "    model_state = fit_mahalanobis(fold['train_loader'])\n",
    "    scores_train = all_mahalanobis_scores(model_state, fold['train_loader'])\n",
    "    scores_val = all_mahalanobis_scores(model_state, fold['val_loader'])\n",
    "    scores_test = all_mahalanobis_scores(model_state, dev_test_loader)\n",
    "\n",
    "    all_results_MD[ifold] = {\n",
    "        \"model_state\": model_state,\n",
    "        \"scores_train\": scores_train,\n",
    "        \"scores_val\": scores_val,\n",
    "        \"scores_test\": scores_test,\n",
    "    }\n",
    "\n",
    "    # ヒストグラム用の DataFrame を作成\n",
    "    df_MD_for_hist = pd.DataFrame({\n",
    "        \"score\": np.r_[scores_train.numpy(), scores_val.numpy(), scores_test.numpy()],\n",
    "        \"label\": ([\"train\"]*len(scores_train) + [\"val\"]*len(scores_val) + dev_test_loader.dataset.labels)\n",
    "    })\n",
    "\n",
    "    # ヒストグラムの描画\n",
    "    fig = px.histogram(df_MD_for_hist, x=\"score\", color=\"label\",\n",
    "                    nbins=30,  # 共通のビン数\n",
    "                    histnorm=None,  # 形比較なら \"probability density\"\n",
    "                    opacity=0.6)\n",
    "    fig.update_layout(barmode=\"overlay\", title=f\"Mahalanobis Scores (Fold {ifold})\")\n",
    "    fig.show()"
   ]
  },
  {
   "cell_type": "code",
   "execution_count": null,
   "id": "0808f484",
   "metadata": {},
   "outputs": [
    {
     "name": "stdout",
     "output_type": "stream",
     "text": [
      "[Fold 0] Val threshold (FPR=1%): 27.4668, Test AUC: 0.8355\n",
      "[Fold 1] Val threshold (FPR=1%): 27.2209, Test AUC: 0.8355\n",
      "[Fold 2] Val threshold (FPR=1%): 31.9090, Test AUC: 0.8391\n",
      "[Fold 3] Val threshold (FPR=1%): 31.7203, Test AUC: 0.8379\n",
      "[Fold 4] Val threshold (FPR=1%): 28.4794, Test AUC: 0.8315\n"
     ]
    }
   ],
   "source": [
    "# 各フォールドのvalデータのスコアのFPR=1%点を計算\n",
    "for ifold, results in all_results_MD.items():\n",
    "    scores_val = results[\"scores_val\"].numpy()\n",
    "    scores_test = results[\"scores_test\"].numpy()\n",
    "    labels_val = np.array([0]*len(scores_val))  # valデータはすべて正常\n",
    "    labels_test = np.array([0 if lbl == \"good\" else 1 for lbl in dev_test_loader.dataset.labels])  # testデータのラベル\n",
    "\n",
    "    # valデータで閾値を決定（FPR=1%点）\n",
    "    threshold = np.percentile(scores_val, 99)  # 上位1%を異常とする閾値\n",
    "\n",
    "    # testデータでの異常検知結果を計算\n",
    "    preds_test = (scores_test >= threshold).astype(int)\n",
    "\n",
    "    # 評価指標を計算\n",
    "    auc = roc_auc_score(labels_test, scores_test)\n",
    "    f1 = f1_score(labels_test, preds_test)\n",
    "    print(f\"[Fold {ifold}] Val threshold (FPR=1%): {threshold:.4f}, Test AUC: {auc:.4f}, F1: {f1:.4f}\")"
   ]
  },
  {
   "cell_type": "markdown",
   "id": "818d2ac9",
   "metadata": {},
   "source": [
    "#### PaDiMでの異常検知実験"
   ]
  },
  {
   "cell_type": "code",
   "execution_count": 51,
   "id": "e8b6c079",
   "metadata": {},
   "outputs": [
    {
     "name": "stderr",
     "output_type": "stream",
     "text": [
      "/home/sim_m/work/image-anomaly-detection/.venv/lib/python3.12/site-packages/torchvision/models/_utils.py:208: UserWarning:\n",
      "\n",
      "The parameter 'pretrained' is deprecated since 0.13 and may be removed in the future, please use 'weights' instead.\n",
      "\n",
      "/home/sim_m/work/image-anomaly-detection/.venv/lib/python3.12/site-packages/torchvision/models/_utils.py:223: UserWarning:\n",
      "\n",
      "Arguments other than a weight enum or `None` for 'weights' are deprecated since 0.13 and may be removed in the future. The current behavior is equivalent to passing `weights=ResNet18_Weights.IMAGENET1K_V1`. You can also use `weights=ResNet18_Weights.DEFAULT` to get the most up-to-date weights.\n",
      "\n",
      "/home/sim_m/work/image-anomaly-detection/.venv/lib/python3.12/site-packages/torch/utils/data/dataloader.py:666: UserWarning:\n",
      "\n",
      "'pin_memory' argument is set as true but no accelerator is found, then device pinned memory won't be used.\n",
      "\n"
     ]
    },
    {
     "data": {
      "application/vnd.plotly.v1+json": {
       "config": {
        "plotlyServerURL": "https://plot.ly"
       },
       "data": [
        {
         "bingroup": "x",
         "hovertemplate": "label=train<br>score=%{x}<br>count=%{y}<extra></extra>",
         "legendgroup": "train",
         "marker": {
          "color": "#636efa",
          "opacity": 0.6,
          "pattern": {
           "shape": ""
          }
         },
         "name": "train",
         "nbinsx": 30,
         "orientation": "v",
         "showlegend": true,
         "type": "histogram",
         "x": {
          "bdata": "gAUCQk/DB0IJ3QFCJUfyQSe8DUIt5DBC23UrQvHy5UHbRjxC12cTQoSgAEImDA1CU0UWQiUcD0JN8gZCZIwHQvjrCEIUjwhCh8nFQXiB90FqfiVCbCDjQTldF0LW2QRC9UcCQlnw80ECFBBCQLApQp7fT0LWsORBGFJBQsuxXkL7LgBCeaBJQuYeOELXzDJC7AEsQolKIkK35eFBWBwVQhOjA0L03AtCG2MCQna2RUIU0RVC9dgnQsYG0UG1DytCEpcQQiV64kEZCJ1Cl9JvQhBNFEKcsfxBU/wnQpINCULQCttB2JTjQTm2bEJPNJpCdfwbQvWTAELIim1C0vHnQeAS9kEUcZxC7D3VQZZT8kH+bvpBcH0jQtFOBEJ8CQVC8eEGQqnnBUI0mBlCdc4HQhZA/EECPuZBa/LzQeSsB0IZvN1B5R/2QUlEF0J6IwZCRvoCQkA4eUJ06RBCATwwQkV7AEJh2xlCsEMiQj1J7kHo/25CqjLXQUeRFUJOhAdCp9oPQtNP7EE3vhRC7SgIQtYJGELSXU5C3/eCQpOIdEJjaPRBsCYbQiIVVUJxjBpCA/QOQidyBEIJUhdClYZSQiFFLEIeSaBCApcBQsvQy0G2NqVCkUf/QRCrQEINiRhCkcAJQol5A0KjdUJC77gyQs1sJUIRCRNCIf5AQpO1CEKFqhhCem3+QWcPAEKxbwhCIfjRQaqbV0IpHuJBMrcRQkAlbkId4RRCmxs3QvdsPkKdTkJClPp1QqJmBEI18P9BASyNQkJP6kFXNCRC1BjzQSPD4UEXLKBCiSIiQjBvAEIrP/NBXUlWQuwVMELeTflBvBYPQvuTD0LAgRNCYUvxQThnPUKqGwJCxLuAQiLb/UFtS0hCny8OQgwsBkL1YApC9u0XQkatBEI72wJCeekfQqnyAEJDJHBCbbHtQZueCULypC9Cpv8iQg0pKkKIQ+BBtEU5QiEr+0G/bhRCY7/4QVQW7UFO+xBCJkULQsoYFkL44iNCv0sJQqacAEIB865C7ldYQ5PQHUIMNkBCKmIhQnxi4kFWvRhCJ84CQu+MXELNOgRCBxUCQvi7D0JVGghCk2bQQTYu+0HMHvZB3DEfQkANFkKRKSJCzKUKQjdE4UHtGA9Cn8MOQmFX+EGh9AFCnpPcQc/sOEKdylRCWf/0Qep+H0KmHhVCCHv6QUvwXEI=",
          "dtype": "f4"
         },
         "xaxis": "x",
         "yaxis": "y"
        },
        {
         "bingroup": "x",
         "hovertemplate": "label=val<br>score=%{x}<br>count=%{y}<extra></extra>",
         "legendgroup": "val",
         "marker": {
          "color": "#EF553B",
          "opacity": 0.6,
          "pattern": {
           "shape": ""
          }
         },
         "name": "val",
         "nbinsx": 30,
         "orientation": "v",
         "showlegend": true,
         "type": "histogram",
         "x": {
          "bdata": "8ROsQuZhUUN5yr9CpkIrQxEg5kJRaUlDhWBuQ5O+kEJxmKpCqPxRQjAulkK7ET1CpWjrQheeqEJGf+lCSHlNQmDpKUMIs7JCCt1kQklDrkLkUZJCDo4oQ3dVlkIrCs1C/nLiQv8G3EJlFbRD3KKVQk9dcULAIVhCjjWSQqPrR0M5JEJCKC7RQtlHvUJwlXFCQH6hQjowo0ONg41CZUahQsf7BENU8EBCExWxQtTUOEPupcdCuv5ZQ+lmcUK3RoZC0GGZQvlHBUP+HFFCsuwhQ9rF0kLQ/Q9DXBgRQnc7AEM=",
          "dtype": "f4"
         },
         "xaxis": "x",
         "yaxis": "y"
        },
        {
         "bingroup": "x",
         "hovertemplate": "label=color<br>score=%{x}<br>count=%{y}<extra></extra>",
         "legendgroup": "color",
         "marker": {
          "color": "#00cc96",
          "opacity": 0.6,
          "pattern": {
           "shape": ""
          }
         },
         "name": "color",
         "nbinsx": 30,
         "orientation": "v",
         "showlegend": true,
         "type": "histogram",
         "x": {
          "bdata": "PvNeQ8u7SUMj3rZCMXHcQg4QUEMLyx1Dp2wTQ2l460P71GZDI4MQQ12ygEN0h4xE2uwERKifK0Mbs0BD9CcIQ2hZh0Muz6dDnWoxQw==",
          "dtype": "f4"
         },
         "xaxis": "x",
         "yaxis": "y"
        },
        {
         "bingroup": "x",
         "hovertemplate": "label=cut<br>score=%{x}<br>count=%{y}<extra></extra>",
         "legendgroup": "cut",
         "marker": {
          "color": "#ab63fa",
          "opacity": 0.6,
          "pattern": {
           "shape": ""
          }
         },
         "name": "cut",
         "nbinsx": 30,
         "orientation": "v",
         "showlegend": true,
         "type": "histogram",
         "x": {
          "bdata": "sNWBQ+i1gEMb3DhDkxtWQ/zaMEO4rwpEH3trQ0ljaEOcBKdCBza7Q2dgFkNNTpRDiSq+Q8GKW0MfXfBDIy6XQ6RpRUM=",
          "dtype": "f4"
         },
         "xaxis": "x",
         "yaxis": "y"
        },
        {
         "bingroup": "x",
         "hovertemplate": "label=good<br>score=%{x}<br>count=%{y}<extra></extra>",
         "legendgroup": "good",
         "marker": {
          "color": "#FFA15A",
          "opacity": 0.6,
          "pattern": {
           "shape": ""
          }
         },
         "name": "good",
         "nbinsx": 30,
         "orientation": "v",
         "showlegend": true,
         "type": "histogram",
         "x": {
          "bdata": "wfCEQpbogELEAQdDxMO0Q+S3BUP/Tz1DamHyQkr4u0JqdvBCdNwsQymPAkP0PdxCMmxTQ0RVG0PBeVBDcZQ7Q4OMnkIP23ZDCniwQln7MkOe2bNCasLCQtMmvUJPOKJCuwaoQhB/oUKLlodCV/u1Qg==",
          "dtype": "f4"
         },
         "xaxis": "x",
         "yaxis": "y"
        },
        {
         "bingroup": "x",
         "hovertemplate": "label=hole<br>score=%{x}<br>count=%{y}<extra></extra>",
         "legendgroup": "hole",
         "marker": {
          "color": "#19d3f3",
          "opacity": 0.6,
          "pattern": {
           "shape": ""
          }
         },
         "name": "hole",
         "nbinsx": 30,
         "orientation": "v",
         "showlegend": true,
         "type": "histogram",
         "x": {
          "bdata": "tXCRQ0Ve0EJMN5lCZ9BLQ3aOMETV6y1DoGdiQ/UEWENfxTBDjQ+IQzQQ60NXYFNDoua/Qlr3b0Ml+jpEykDJQ6nkykI=",
          "dtype": "f4"
         },
         "xaxis": "x",
         "yaxis": "y"
        },
        {
         "bingroup": "x",
         "hovertemplate": "label=metal_contamination<br>score=%{x}<br>count=%{y}<extra></extra>",
         "legendgroup": "metal_contamination",
         "marker": {
          "color": "#FF6692",
          "opacity": 0.6,
          "pattern": {
           "shape": ""
          }
         },
         "name": "metal_contamination",
         "nbinsx": 30,
         "orientation": "v",
         "showlegend": true,
         "type": "histogram",
         "x": {
          "bdata": "U/TAQmoxS0Ms1gxD7u+OQ+8yBkPseGZDSC/9Q4e400NdhGNDrrsdQzTFiUNPFvtCEWhUQ1zpB0PXX91CtS+BQ98jh0M=",
          "dtype": "f4"
         },
         "xaxis": "x",
         "yaxis": "y"
        },
        {
         "bingroup": "x",
         "hovertemplate": "label=thread<br>score=%{x}<br>count=%{y}<extra></extra>",
         "legendgroup": "thread",
         "marker": {
          "color": "#B6E880",
          "opacity": 0.6,
          "pattern": {
           "shape": ""
          }
         },
         "name": "thread",
         "nbinsx": 30,
         "orientation": "v",
         "showlegend": true,
         "type": "histogram",
         "x": {
          "bdata": "xjwxQ1D4OUPpkNhCx1nnQlyRekNBGBJFK+P/Q2tOg0NVJ3lDxXRwQz1GsEPx+i5D2TD6Q4FKnEMCXqJDN4s6Q2/0XkPVrZ5DsY3nQg==",
          "dtype": "f4"
         },
         "xaxis": "x",
         "yaxis": "y"
        }
       ],
       "layout": {
        "barmode": "overlay",
        "legend": {
         "title": {
          "text": "label"
         },
         "tracegroupgap": 0
        },
        "margin": {
         "t": 60
        },
        "template": {
         "data": {
          "bar": [
           {
            "error_x": {
             "color": "#2a3f5f"
            },
            "error_y": {
             "color": "#2a3f5f"
            },
            "marker": {
             "line": {
              "color": "#E5ECF6",
              "width": 0.5
             },
             "pattern": {
              "fillmode": "overlay",
              "size": 10,
              "solidity": 0.2
             }
            },
            "type": "bar"
           }
          ],
          "barpolar": [
           {
            "marker": {
             "line": {
              "color": "#E5ECF6",
              "width": 0.5
             },
             "pattern": {
              "fillmode": "overlay",
              "size": 10,
              "solidity": 0.2
             }
            },
            "type": "barpolar"
           }
          ],
          "carpet": [
           {
            "aaxis": {
             "endlinecolor": "#2a3f5f",
             "gridcolor": "white",
             "linecolor": "white",
             "minorgridcolor": "white",
             "startlinecolor": "#2a3f5f"
            },
            "baxis": {
             "endlinecolor": "#2a3f5f",
             "gridcolor": "white",
             "linecolor": "white",
             "minorgridcolor": "white",
             "startlinecolor": "#2a3f5f"
            },
            "type": "carpet"
           }
          ],
          "choropleth": [
           {
            "colorbar": {
             "outlinewidth": 0,
             "ticks": ""
            },
            "type": "choropleth"
           }
          ],
          "contour": [
           {
            "colorbar": {
             "outlinewidth": 0,
             "ticks": ""
            },
            "colorscale": [
             [
              0,
              "#0d0887"
             ],
             [
              0.1111111111111111,
              "#46039f"
             ],
             [
              0.2222222222222222,
              "#7201a8"
             ],
             [
              0.3333333333333333,
              "#9c179e"
             ],
             [
              0.4444444444444444,
              "#bd3786"
             ],
             [
              0.5555555555555556,
              "#d8576b"
             ],
             [
              0.6666666666666666,
              "#ed7953"
             ],
             [
              0.7777777777777778,
              "#fb9f3a"
             ],
             [
              0.8888888888888888,
              "#fdca26"
             ],
             [
              1,
              "#f0f921"
             ]
            ],
            "type": "contour"
           }
          ],
          "contourcarpet": [
           {
            "colorbar": {
             "outlinewidth": 0,
             "ticks": ""
            },
            "type": "contourcarpet"
           }
          ],
          "heatmap": [
           {
            "colorbar": {
             "outlinewidth": 0,
             "ticks": ""
            },
            "colorscale": [
             [
              0,
              "#0d0887"
             ],
             [
              0.1111111111111111,
              "#46039f"
             ],
             [
              0.2222222222222222,
              "#7201a8"
             ],
             [
              0.3333333333333333,
              "#9c179e"
             ],
             [
              0.4444444444444444,
              "#bd3786"
             ],
             [
              0.5555555555555556,
              "#d8576b"
             ],
             [
              0.6666666666666666,
              "#ed7953"
             ],
             [
              0.7777777777777778,
              "#fb9f3a"
             ],
             [
              0.8888888888888888,
              "#fdca26"
             ],
             [
              1,
              "#f0f921"
             ]
            ],
            "type": "heatmap"
           }
          ],
          "histogram": [
           {
            "marker": {
             "pattern": {
              "fillmode": "overlay",
              "size": 10,
              "solidity": 0.2
             }
            },
            "type": "histogram"
           }
          ],
          "histogram2d": [
           {
            "colorbar": {
             "outlinewidth": 0,
             "ticks": ""
            },
            "colorscale": [
             [
              0,
              "#0d0887"
             ],
             [
              0.1111111111111111,
              "#46039f"
             ],
             [
              0.2222222222222222,
              "#7201a8"
             ],
             [
              0.3333333333333333,
              "#9c179e"
             ],
             [
              0.4444444444444444,
              "#bd3786"
             ],
             [
              0.5555555555555556,
              "#d8576b"
             ],
             [
              0.6666666666666666,
              "#ed7953"
             ],
             [
              0.7777777777777778,
              "#fb9f3a"
             ],
             [
              0.8888888888888888,
              "#fdca26"
             ],
             [
              1,
              "#f0f921"
             ]
            ],
            "type": "histogram2d"
           }
          ],
          "histogram2dcontour": [
           {
            "colorbar": {
             "outlinewidth": 0,
             "ticks": ""
            },
            "colorscale": [
             [
              0,
              "#0d0887"
             ],
             [
              0.1111111111111111,
              "#46039f"
             ],
             [
              0.2222222222222222,
              "#7201a8"
             ],
             [
              0.3333333333333333,
              "#9c179e"
             ],
             [
              0.4444444444444444,
              "#bd3786"
             ],
             [
              0.5555555555555556,
              "#d8576b"
             ],
             [
              0.6666666666666666,
              "#ed7953"
             ],
             [
              0.7777777777777778,
              "#fb9f3a"
             ],
             [
              0.8888888888888888,
              "#fdca26"
             ],
             [
              1,
              "#f0f921"
             ]
            ],
            "type": "histogram2dcontour"
           }
          ],
          "mesh3d": [
           {
            "colorbar": {
             "outlinewidth": 0,
             "ticks": ""
            },
            "type": "mesh3d"
           }
          ],
          "parcoords": [
           {
            "line": {
             "colorbar": {
              "outlinewidth": 0,
              "ticks": ""
             }
            },
            "type": "parcoords"
           }
          ],
          "pie": [
           {
            "automargin": true,
            "type": "pie"
           }
          ],
          "scatter": [
           {
            "fillpattern": {
             "fillmode": "overlay",
             "size": 10,
             "solidity": 0.2
            },
            "type": "scatter"
           }
          ],
          "scatter3d": [
           {
            "line": {
             "colorbar": {
              "outlinewidth": 0,
              "ticks": ""
             }
            },
            "marker": {
             "colorbar": {
              "outlinewidth": 0,
              "ticks": ""
             }
            },
            "type": "scatter3d"
           }
          ],
          "scattercarpet": [
           {
            "marker": {
             "colorbar": {
              "outlinewidth": 0,
              "ticks": ""
             }
            },
            "type": "scattercarpet"
           }
          ],
          "scattergeo": [
           {
            "marker": {
             "colorbar": {
              "outlinewidth": 0,
              "ticks": ""
             }
            },
            "type": "scattergeo"
           }
          ],
          "scattergl": [
           {
            "marker": {
             "colorbar": {
              "outlinewidth": 0,
              "ticks": ""
             }
            },
            "type": "scattergl"
           }
          ],
          "scattermap": [
           {
            "marker": {
             "colorbar": {
              "outlinewidth": 0,
              "ticks": ""
             }
            },
            "type": "scattermap"
           }
          ],
          "scattermapbox": [
           {
            "marker": {
             "colorbar": {
              "outlinewidth": 0,
              "ticks": ""
             }
            },
            "type": "scattermapbox"
           }
          ],
          "scatterpolar": [
           {
            "marker": {
             "colorbar": {
              "outlinewidth": 0,
              "ticks": ""
             }
            },
            "type": "scatterpolar"
           }
          ],
          "scatterpolargl": [
           {
            "marker": {
             "colorbar": {
              "outlinewidth": 0,
              "ticks": ""
             }
            },
            "type": "scatterpolargl"
           }
          ],
          "scatterternary": [
           {
            "marker": {
             "colorbar": {
              "outlinewidth": 0,
              "ticks": ""
             }
            },
            "type": "scatterternary"
           }
          ],
          "surface": [
           {
            "colorbar": {
             "outlinewidth": 0,
             "ticks": ""
            },
            "colorscale": [
             [
              0,
              "#0d0887"
             ],
             [
              0.1111111111111111,
              "#46039f"
             ],
             [
              0.2222222222222222,
              "#7201a8"
             ],
             [
              0.3333333333333333,
              "#9c179e"
             ],
             [
              0.4444444444444444,
              "#bd3786"
             ],
             [
              0.5555555555555556,
              "#d8576b"
             ],
             [
              0.6666666666666666,
              "#ed7953"
             ],
             [
              0.7777777777777778,
              "#fb9f3a"
             ],
             [
              0.8888888888888888,
              "#fdca26"
             ],
             [
              1,
              "#f0f921"
             ]
            ],
            "type": "surface"
           }
          ],
          "table": [
           {
            "cells": {
             "fill": {
              "color": "#EBF0F8"
             },
             "line": {
              "color": "white"
             }
            },
            "header": {
             "fill": {
              "color": "#C8D4E3"
             },
             "line": {
              "color": "white"
             }
            },
            "type": "table"
           }
          ]
         },
         "layout": {
          "annotationdefaults": {
           "arrowcolor": "#2a3f5f",
           "arrowhead": 0,
           "arrowwidth": 1
          },
          "autotypenumbers": "strict",
          "coloraxis": {
           "colorbar": {
            "outlinewidth": 0,
            "ticks": ""
           }
          },
          "colorscale": {
           "diverging": [
            [
             0,
             "#8e0152"
            ],
            [
             0.1,
             "#c51b7d"
            ],
            [
             0.2,
             "#de77ae"
            ],
            [
             0.3,
             "#f1b6da"
            ],
            [
             0.4,
             "#fde0ef"
            ],
            [
             0.5,
             "#f7f7f7"
            ],
            [
             0.6,
             "#e6f5d0"
            ],
            [
             0.7,
             "#b8e186"
            ],
            [
             0.8,
             "#7fbc41"
            ],
            [
             0.9,
             "#4d9221"
            ],
            [
             1,
             "#276419"
            ]
           ],
           "sequential": [
            [
             0,
             "#0d0887"
            ],
            [
             0.1111111111111111,
             "#46039f"
            ],
            [
             0.2222222222222222,
             "#7201a8"
            ],
            [
             0.3333333333333333,
             "#9c179e"
            ],
            [
             0.4444444444444444,
             "#bd3786"
            ],
            [
             0.5555555555555556,
             "#d8576b"
            ],
            [
             0.6666666666666666,
             "#ed7953"
            ],
            [
             0.7777777777777778,
             "#fb9f3a"
            ],
            [
             0.8888888888888888,
             "#fdca26"
            ],
            [
             1,
             "#f0f921"
            ]
           ],
           "sequentialminus": [
            [
             0,
             "#0d0887"
            ],
            [
             0.1111111111111111,
             "#46039f"
            ],
            [
             0.2222222222222222,
             "#7201a8"
            ],
            [
             0.3333333333333333,
             "#9c179e"
            ],
            [
             0.4444444444444444,
             "#bd3786"
            ],
            [
             0.5555555555555556,
             "#d8576b"
            ],
            [
             0.6666666666666666,
             "#ed7953"
            ],
            [
             0.7777777777777778,
             "#fb9f3a"
            ],
            [
             0.8888888888888888,
             "#fdca26"
            ],
            [
             1,
             "#f0f921"
            ]
           ]
          },
          "colorway": [
           "#636efa",
           "#EF553B",
           "#00cc96",
           "#ab63fa",
           "#FFA15A",
           "#19d3f3",
           "#FF6692",
           "#B6E880",
           "#FF97FF",
           "#FECB52"
          ],
          "font": {
           "color": "#2a3f5f"
          },
          "geo": {
           "bgcolor": "white",
           "lakecolor": "white",
           "landcolor": "#E5ECF6",
           "showlakes": true,
           "showland": true,
           "subunitcolor": "white"
          },
          "hoverlabel": {
           "align": "left"
          },
          "hovermode": "closest",
          "mapbox": {
           "style": "light"
          },
          "paper_bgcolor": "white",
          "plot_bgcolor": "#E5ECF6",
          "polar": {
           "angularaxis": {
            "gridcolor": "white",
            "linecolor": "white",
            "ticks": ""
           },
           "bgcolor": "#E5ECF6",
           "radialaxis": {
            "gridcolor": "white",
            "linecolor": "white",
            "ticks": ""
           }
          },
          "scene": {
           "xaxis": {
            "backgroundcolor": "#E5ECF6",
            "gridcolor": "white",
            "gridwidth": 2,
            "linecolor": "white",
            "showbackground": true,
            "ticks": "",
            "zerolinecolor": "white"
           },
           "yaxis": {
            "backgroundcolor": "#E5ECF6",
            "gridcolor": "white",
            "gridwidth": 2,
            "linecolor": "white",
            "showbackground": true,
            "ticks": "",
            "zerolinecolor": "white"
           },
           "zaxis": {
            "backgroundcolor": "#E5ECF6",
            "gridcolor": "white",
            "gridwidth": 2,
            "linecolor": "white",
            "showbackground": true,
            "ticks": "",
            "zerolinecolor": "white"
           }
          },
          "shapedefaults": {
           "line": {
            "color": "#2a3f5f"
           }
          },
          "ternary": {
           "aaxis": {
            "gridcolor": "white",
            "linecolor": "white",
            "ticks": ""
           },
           "baxis": {
            "gridcolor": "white",
            "linecolor": "white",
            "ticks": ""
           },
           "bgcolor": "#E5ECF6",
           "caxis": {
            "gridcolor": "white",
            "linecolor": "white",
            "ticks": ""
           }
          },
          "title": {
           "x": 0.05
          },
          "xaxis": {
           "automargin": true,
           "gridcolor": "white",
           "linecolor": "white",
           "ticks": "",
           "title": {
            "standoff": 15
           },
           "zerolinecolor": "white",
           "zerolinewidth": 2
          },
          "yaxis": {
           "automargin": true,
           "gridcolor": "white",
           "linecolor": "white",
           "ticks": "",
           "title": {
            "standoff": 15
           },
           "zerolinecolor": "white",
           "zerolinewidth": 2
          }
         }
        },
        "title": {
         "text": "PaDiM Scores (Fold 0)"
        },
        "xaxis": {
         "anchor": "y",
         "domain": [
          0,
          1
         ],
         "title": {
          "text": "score"
         }
        },
        "yaxis": {
         "anchor": "x",
         "domain": [
          0,
          1
         ],
         "title": {
          "text": "count"
         }
        }
       }
      }
     },
     "metadata": {},
     "output_type": "display_data"
    },
    {
     "name": "stderr",
     "output_type": "stream",
     "text": [
      "/home/sim_m/work/image-anomaly-detection/.venv/lib/python3.12/site-packages/torchvision/models/_utils.py:208: UserWarning:\n",
      "\n",
      "The parameter 'pretrained' is deprecated since 0.13 and may be removed in the future, please use 'weights' instead.\n",
      "\n",
      "/home/sim_m/work/image-anomaly-detection/.venv/lib/python3.12/site-packages/torchvision/models/_utils.py:223: UserWarning:\n",
      "\n",
      "Arguments other than a weight enum or `None` for 'weights' are deprecated since 0.13 and may be removed in the future. The current behavior is equivalent to passing `weights=ResNet18_Weights.IMAGENET1K_V1`. You can also use `weights=ResNet18_Weights.DEFAULT` to get the most up-to-date weights.\n",
      "\n",
      "/home/sim_m/work/image-anomaly-detection/.venv/lib/python3.12/site-packages/torch/utils/data/dataloader.py:666: UserWarning:\n",
      "\n",
      "'pin_memory' argument is set as true but no accelerator is found, then device pinned memory won't be used.\n",
      "\n"
     ]
    },
    {
     "data": {
      "application/vnd.plotly.v1+json": {
       "config": {
        "plotlyServerURL": "https://plot.ly"
       },
       "data": [
        {
         "bingroup": "x",
         "hovertemplate": "label=train<br>score=%{x}<br>count=%{y}<extra></extra>",
         "legendgroup": "train",
         "marker": {
          "color": "#636efa",
          "opacity": 0.6,
          "pattern": {
           "shape": ""
          }
         },
         "name": "train",
         "nbinsx": 30,
         "orientation": "v",
         "showlegend": true,
         "type": "histogram",
         "x": {
          "bdata": "ocz1QUQfpEKkMxdCRszgQS965UEo1PFBpu3wQQJVLEJkKgpCqPgAQgfzLUIoRF9CZA0hQikd30GujORBigYXQj+1WkLJQjNCuj0qQrFZJkKc791BUqbsQipQR0KBbk9CAFAwQvHBJkJX6OJB1B5bQsPmPkJtVulBUErrQcFTLkKHEQFC4quZQsP2IELTxwVC8LxrQrpD5UFt4BRCXgU9QhTKDULqEeFBq8oFQtztJ0KImOVBKt0VQtDi8UGkFzFCuQtwQhK9F0JeiilCiZRKQhv17EEZ2ZVCiwzoQS9xFEKPFeFBRkZxQgTVA0ILPuZBUO4kQi8UL0JBOApC6JYNQnDZDEK47D5C67nzQftQQkLiq/JBbgQaQssPDkI4+QRC/lsIQnPzOUL2kCRCyyVIQuOnEUIAywdCrtCCQtka+0Eg0BZCTfYGQnJB9kHAVw9C4kocQkH4CEKYShNCKuz+QX/WHEJWTgdCBQkRQkAcF0IS1xRCWPUJQnFo1kGO2w1Cv84GQkMLKUJZgBJCp1d6QtmdGEJkDhVCxo9KQuOQ6EHF7QRCHyMYQhDxRkIZAApCxhsJQuVdJUICBhVCr0kgQlqB8EEAsUJC8Ib/QfL/XUIHSzRCZRL5Qao02EE0CEJCC+0PQhIeLkKmkvdBqs4JQrHgCEKiQApCFY0VQhYRFkI9SNBBlriLQtBi+UH4BwNCUOvPQVD6HkKwlg5CrzD+QZ5OAUKhaglCtk0pQnzkBUImToxC9isQQsM3CEJeXRpCvWwHQrQ9LkJ5Aw5CaX8wQptG5kHBQxFC72pLQvKC6UH/7h9CyTEpQn6j+EE09+9BF2kJQu9e70HjUdtB4M6EQnb4/kHk+PpBkscrQkLBH0In4BtCiD/SQd+74EH27fRBtgoiQgaC+0Et5QRChkOkQlBV60EF5ghCFlwJQsFj3kG8QhtCErIkQqGXCEJTdhRCmSgKQnwuPULSZulBYBQsQuKc10IuKSlCfQ0KQkTKI0LWpQ1CNxfhQZzsEELnxT9CZPARQ/FX+0G87gpCYHRGQuBF2kH2aWpC/pP+QVfSSUKbqAFCVSIbQi99AkJpvkpCP57bQeat/kHZXe9B51z+QVRqDULSo+RBdN0EQrAN4EE6Eh5CrBQLQiAw8EFVmQdCxzwhQiHnPkI6W/lB+7UhQh8VmkKy8gtC8bs2Qn7z9UE=",
          "dtype": "f4"
         },
         "xaxis": "x",
         "yaxis": "y"
        },
        {
         "bingroup": "x",
         "hovertemplate": "label=val<br>score=%{x}<br>count=%{y}<extra></extra>",
         "legendgroup": "val",
         "marker": {
          "color": "#EF553B",
          "opacity": 0.6,
          "pattern": {
           "shape": ""
          }
         },
         "name": "val",
         "nbinsx": 30,
         "orientation": "v",
         "showlegend": true,
         "type": "histogram",
         "x": {
          "bdata": "nx+KQsADlEJIZB5DpZvdQmgTykIXkEhCbWfvQo/CvkJP/ntCO3NCQ7u8rELLQNtCx4G5Qg5c5EIxRWJCawlaQkN+MUM6ANFCVCiLQ12xjEJtkGtC9VVPQtiSE0IZZIFCVmpjQiXCBkIi2gZD0V2QQtpThULxenlCMXy6QnBtXEJISSJDzA/SQgYWzEIX/O9CzSerQqrRakPdUxhD4Tj7QpppikJ+OM9CxQOxQiM5FEKk7GZCoGu5Qo0Z7kLoZydDMbedQrcQMUPejMBCGmSmQhqLOUM5A5xCpDOIQqSLgEI=",
          "dtype": "f4"
         },
         "xaxis": "x",
         "yaxis": "y"
        },
        {
         "bingroup": "x",
         "hovertemplate": "label=color<br>score=%{x}<br>count=%{y}<extra></extra>",
         "legendgroup": "color",
         "marker": {
          "color": "#00cc96",
          "opacity": 0.6,
          "pattern": {
           "shape": ""
          }
         },
         "name": "color",
         "nbinsx": 30,
         "orientation": "v",
         "showlegend": true,
         "type": "histogram",
         "x": {
          "bdata": "tw1fQ7+7FUN67BJDdLRJQ1tDiEOlBixDhHBHQ/DzskP364dDubEJQ0O8DkSjLlZEmSMpRLWjSENs5glDpNIqQx4ii0OccBlDnxgvQw==",
          "dtype": "f4"
         },
         "xaxis": "x",
         "yaxis": "y"
        },
        {
         "bingroup": "x",
         "hovertemplate": "label=cut<br>score=%{x}<br>count=%{y}<extra></extra>",
         "legendgroup": "cut",
         "marker": {
          "color": "#ab63fa",
          "opacity": 0.6,
          "pattern": {
           "shape": ""
          }
         },
         "name": "cut",
         "nbinsx": 30,
         "orientation": "v",
         "showlegend": true,
         "type": "histogram",
         "x": {
          "bdata": "eUKGQ9MBXEOz6SZDzNNcQ90nOkPByhFElbBgQ/ZLR0NzB61DU3G8Q+bNTkMmX/RDDuC8Q2UfiUMJyHBDIKsbRHzBF0M=",
          "dtype": "f4"
         },
         "xaxis": "x",
         "yaxis": "y"
        },
        {
         "bingroup": "x",
         "hovertemplate": "label=good<br>score=%{x}<br>count=%{y}<extra></extra>",
         "legendgroup": "good",
         "marker": {
          "color": "#FFA15A",
          "opacity": 0.6,
          "pattern": {
           "shape": ""
          }
         },
         "name": "good",
         "nbinsx": 30,
         "orientation": "v",
         "showlegend": true,
         "type": "histogram",
         "x": {
          "bdata": "qtqoQpFk9UJYxhxD6wi4Q8Eho0IBn2ZDMqjlQslYAkOc2OJCRhhkQ4dC0UJQg9hC5ckkQ+EhYkMNZVVDuxfTQmEhAUP4InNDeHuDQ6ur20K/WgxDFuDCQgyKlkISVvVCHDWwQsARQUNYhbBCBHm1Qg==",
          "dtype": "f4"
         },
         "xaxis": "x",
         "yaxis": "y"
        },
        {
         "bingroup": "x",
         "hovertemplate": "label=hole<br>score=%{x}<br>count=%{y}<extra></extra>",
         "legendgroup": "hole",
         "marker": {
          "color": "#19d3f3",
          "opacity": 0.6,
          "pattern": {
           "shape": ""
          }
         },
         "name": "hole",
         "nbinsx": 30,
         "orientation": "v",
         "showlegend": true,
         "type": "histogram",
         "x": {
          "bdata": "ZgByQ+yyckNaRrRCseUZQ8zbL0SpQg9De0RlQ8ZubkMoYjhDEugwQ6mHaUMU6oVD6WUWQ0p8R0MwgT5DPCNhQ/56yUI=",
          "dtype": "f4"
         },
         "xaxis": "x",
         "yaxis": "y"
        },
        {
         "bingroup": "x",
         "hovertemplate": "label=metal_contamination<br>score=%{x}<br>count=%{y}<extra></extra>",
         "legendgroup": "metal_contamination",
         "marker": {
          "color": "#FF6692",
          "opacity": 0.6,
          "pattern": {
           "shape": ""
          }
         },
         "name": "metal_contamination",
         "nbinsx": 30,
         "orientation": "v",
         "showlegend": true,
         "type": "histogram",
         "x": {
          "bdata": "h/afQqVkY0PlFmFDVIyYQ+iS3kIcbiVDbZirQ3lTA0RkESZDLYAoQ8gVbkPTRUNDMop/Q5Xa7EL29tRCirOCQ58LlEM=",
          "dtype": "f4"
         },
         "xaxis": "x",
         "yaxis": "y"
        },
        {
         "bingroup": "x",
         "hovertemplate": "label=thread<br>score=%{x}<br>count=%{y}<extra></extra>",
         "legendgroup": "thread",
         "marker": {
          "color": "#B6E880",
          "opacity": 0.6,
          "pattern": {
           "shape": ""
          }
         },
         "name": "thread",
         "nbinsx": 30,
         "orientation": "v",
         "showlegend": true,
         "type": "histogram",
         "x": {
          "bdata": "PLhiQzEfkUNV+xlDIbT6QkDrgEMhyFFEeeDsQ0lvykOvYftD3q5wQ+0GskOw7l9Df+3wQ9zKuUN+iS1DW8EFQ+SJM0NpGKdDS3e4Qg==",
          "dtype": "f4"
         },
         "xaxis": "x",
         "yaxis": "y"
        }
       ],
       "layout": {
        "barmode": "overlay",
        "legend": {
         "title": {
          "text": "label"
         },
         "tracegroupgap": 0
        },
        "margin": {
         "t": 60
        },
        "template": {
         "data": {
          "bar": [
           {
            "error_x": {
             "color": "#2a3f5f"
            },
            "error_y": {
             "color": "#2a3f5f"
            },
            "marker": {
             "line": {
              "color": "#E5ECF6",
              "width": 0.5
             },
             "pattern": {
              "fillmode": "overlay",
              "size": 10,
              "solidity": 0.2
             }
            },
            "type": "bar"
           }
          ],
          "barpolar": [
           {
            "marker": {
             "line": {
              "color": "#E5ECF6",
              "width": 0.5
             },
             "pattern": {
              "fillmode": "overlay",
              "size": 10,
              "solidity": 0.2
             }
            },
            "type": "barpolar"
           }
          ],
          "carpet": [
           {
            "aaxis": {
             "endlinecolor": "#2a3f5f",
             "gridcolor": "white",
             "linecolor": "white",
             "minorgridcolor": "white",
             "startlinecolor": "#2a3f5f"
            },
            "baxis": {
             "endlinecolor": "#2a3f5f",
             "gridcolor": "white",
             "linecolor": "white",
             "minorgridcolor": "white",
             "startlinecolor": "#2a3f5f"
            },
            "type": "carpet"
           }
          ],
          "choropleth": [
           {
            "colorbar": {
             "outlinewidth": 0,
             "ticks": ""
            },
            "type": "choropleth"
           }
          ],
          "contour": [
           {
            "colorbar": {
             "outlinewidth": 0,
             "ticks": ""
            },
            "colorscale": [
             [
              0,
              "#0d0887"
             ],
             [
              0.1111111111111111,
              "#46039f"
             ],
             [
              0.2222222222222222,
              "#7201a8"
             ],
             [
              0.3333333333333333,
              "#9c179e"
             ],
             [
              0.4444444444444444,
              "#bd3786"
             ],
             [
              0.5555555555555556,
              "#d8576b"
             ],
             [
              0.6666666666666666,
              "#ed7953"
             ],
             [
              0.7777777777777778,
              "#fb9f3a"
             ],
             [
              0.8888888888888888,
              "#fdca26"
             ],
             [
              1,
              "#f0f921"
             ]
            ],
            "type": "contour"
           }
          ],
          "contourcarpet": [
           {
            "colorbar": {
             "outlinewidth": 0,
             "ticks": ""
            },
            "type": "contourcarpet"
           }
          ],
          "heatmap": [
           {
            "colorbar": {
             "outlinewidth": 0,
             "ticks": ""
            },
            "colorscale": [
             [
              0,
              "#0d0887"
             ],
             [
              0.1111111111111111,
              "#46039f"
             ],
             [
              0.2222222222222222,
              "#7201a8"
             ],
             [
              0.3333333333333333,
              "#9c179e"
             ],
             [
              0.4444444444444444,
              "#bd3786"
             ],
             [
              0.5555555555555556,
              "#d8576b"
             ],
             [
              0.6666666666666666,
              "#ed7953"
             ],
             [
              0.7777777777777778,
              "#fb9f3a"
             ],
             [
              0.8888888888888888,
              "#fdca26"
             ],
             [
              1,
              "#f0f921"
             ]
            ],
            "type": "heatmap"
           }
          ],
          "histogram": [
           {
            "marker": {
             "pattern": {
              "fillmode": "overlay",
              "size": 10,
              "solidity": 0.2
             }
            },
            "type": "histogram"
           }
          ],
          "histogram2d": [
           {
            "colorbar": {
             "outlinewidth": 0,
             "ticks": ""
            },
            "colorscale": [
             [
              0,
              "#0d0887"
             ],
             [
              0.1111111111111111,
              "#46039f"
             ],
             [
              0.2222222222222222,
              "#7201a8"
             ],
             [
              0.3333333333333333,
              "#9c179e"
             ],
             [
              0.4444444444444444,
              "#bd3786"
             ],
             [
              0.5555555555555556,
              "#d8576b"
             ],
             [
              0.6666666666666666,
              "#ed7953"
             ],
             [
              0.7777777777777778,
              "#fb9f3a"
             ],
             [
              0.8888888888888888,
              "#fdca26"
             ],
             [
              1,
              "#f0f921"
             ]
            ],
            "type": "histogram2d"
           }
          ],
          "histogram2dcontour": [
           {
            "colorbar": {
             "outlinewidth": 0,
             "ticks": ""
            },
            "colorscale": [
             [
              0,
              "#0d0887"
             ],
             [
              0.1111111111111111,
              "#46039f"
             ],
             [
              0.2222222222222222,
              "#7201a8"
             ],
             [
              0.3333333333333333,
              "#9c179e"
             ],
             [
              0.4444444444444444,
              "#bd3786"
             ],
             [
              0.5555555555555556,
              "#d8576b"
             ],
             [
              0.6666666666666666,
              "#ed7953"
             ],
             [
              0.7777777777777778,
              "#fb9f3a"
             ],
             [
              0.8888888888888888,
              "#fdca26"
             ],
             [
              1,
              "#f0f921"
             ]
            ],
            "type": "histogram2dcontour"
           }
          ],
          "mesh3d": [
           {
            "colorbar": {
             "outlinewidth": 0,
             "ticks": ""
            },
            "type": "mesh3d"
           }
          ],
          "parcoords": [
           {
            "line": {
             "colorbar": {
              "outlinewidth": 0,
              "ticks": ""
             }
            },
            "type": "parcoords"
           }
          ],
          "pie": [
           {
            "automargin": true,
            "type": "pie"
           }
          ],
          "scatter": [
           {
            "fillpattern": {
             "fillmode": "overlay",
             "size": 10,
             "solidity": 0.2
            },
            "type": "scatter"
           }
          ],
          "scatter3d": [
           {
            "line": {
             "colorbar": {
              "outlinewidth": 0,
              "ticks": ""
             }
            },
            "marker": {
             "colorbar": {
              "outlinewidth": 0,
              "ticks": ""
             }
            },
            "type": "scatter3d"
           }
          ],
          "scattercarpet": [
           {
            "marker": {
             "colorbar": {
              "outlinewidth": 0,
              "ticks": ""
             }
            },
            "type": "scattercarpet"
           }
          ],
          "scattergeo": [
           {
            "marker": {
             "colorbar": {
              "outlinewidth": 0,
              "ticks": ""
             }
            },
            "type": "scattergeo"
           }
          ],
          "scattergl": [
           {
            "marker": {
             "colorbar": {
              "outlinewidth": 0,
              "ticks": ""
             }
            },
            "type": "scattergl"
           }
          ],
          "scattermap": [
           {
            "marker": {
             "colorbar": {
              "outlinewidth": 0,
              "ticks": ""
             }
            },
            "type": "scattermap"
           }
          ],
          "scattermapbox": [
           {
            "marker": {
             "colorbar": {
              "outlinewidth": 0,
              "ticks": ""
             }
            },
            "type": "scattermapbox"
           }
          ],
          "scatterpolar": [
           {
            "marker": {
             "colorbar": {
              "outlinewidth": 0,
              "ticks": ""
             }
            },
            "type": "scatterpolar"
           }
          ],
          "scatterpolargl": [
           {
            "marker": {
             "colorbar": {
              "outlinewidth": 0,
              "ticks": ""
             }
            },
            "type": "scatterpolargl"
           }
          ],
          "scatterternary": [
           {
            "marker": {
             "colorbar": {
              "outlinewidth": 0,
              "ticks": ""
             }
            },
            "type": "scatterternary"
           }
          ],
          "surface": [
           {
            "colorbar": {
             "outlinewidth": 0,
             "ticks": ""
            },
            "colorscale": [
             [
              0,
              "#0d0887"
             ],
             [
              0.1111111111111111,
              "#46039f"
             ],
             [
              0.2222222222222222,
              "#7201a8"
             ],
             [
              0.3333333333333333,
              "#9c179e"
             ],
             [
              0.4444444444444444,
              "#bd3786"
             ],
             [
              0.5555555555555556,
              "#d8576b"
             ],
             [
              0.6666666666666666,
              "#ed7953"
             ],
             [
              0.7777777777777778,
              "#fb9f3a"
             ],
             [
              0.8888888888888888,
              "#fdca26"
             ],
             [
              1,
              "#f0f921"
             ]
            ],
            "type": "surface"
           }
          ],
          "table": [
           {
            "cells": {
             "fill": {
              "color": "#EBF0F8"
             },
             "line": {
              "color": "white"
             }
            },
            "header": {
             "fill": {
              "color": "#C8D4E3"
             },
             "line": {
              "color": "white"
             }
            },
            "type": "table"
           }
          ]
         },
         "layout": {
          "annotationdefaults": {
           "arrowcolor": "#2a3f5f",
           "arrowhead": 0,
           "arrowwidth": 1
          },
          "autotypenumbers": "strict",
          "coloraxis": {
           "colorbar": {
            "outlinewidth": 0,
            "ticks": ""
           }
          },
          "colorscale": {
           "diverging": [
            [
             0,
             "#8e0152"
            ],
            [
             0.1,
             "#c51b7d"
            ],
            [
             0.2,
             "#de77ae"
            ],
            [
             0.3,
             "#f1b6da"
            ],
            [
             0.4,
             "#fde0ef"
            ],
            [
             0.5,
             "#f7f7f7"
            ],
            [
             0.6,
             "#e6f5d0"
            ],
            [
             0.7,
             "#b8e186"
            ],
            [
             0.8,
             "#7fbc41"
            ],
            [
             0.9,
             "#4d9221"
            ],
            [
             1,
             "#276419"
            ]
           ],
           "sequential": [
            [
             0,
             "#0d0887"
            ],
            [
             0.1111111111111111,
             "#46039f"
            ],
            [
             0.2222222222222222,
             "#7201a8"
            ],
            [
             0.3333333333333333,
             "#9c179e"
            ],
            [
             0.4444444444444444,
             "#bd3786"
            ],
            [
             0.5555555555555556,
             "#d8576b"
            ],
            [
             0.6666666666666666,
             "#ed7953"
            ],
            [
             0.7777777777777778,
             "#fb9f3a"
            ],
            [
             0.8888888888888888,
             "#fdca26"
            ],
            [
             1,
             "#f0f921"
            ]
           ],
           "sequentialminus": [
            [
             0,
             "#0d0887"
            ],
            [
             0.1111111111111111,
             "#46039f"
            ],
            [
             0.2222222222222222,
             "#7201a8"
            ],
            [
             0.3333333333333333,
             "#9c179e"
            ],
            [
             0.4444444444444444,
             "#bd3786"
            ],
            [
             0.5555555555555556,
             "#d8576b"
            ],
            [
             0.6666666666666666,
             "#ed7953"
            ],
            [
             0.7777777777777778,
             "#fb9f3a"
            ],
            [
             0.8888888888888888,
             "#fdca26"
            ],
            [
             1,
             "#f0f921"
            ]
           ]
          },
          "colorway": [
           "#636efa",
           "#EF553B",
           "#00cc96",
           "#ab63fa",
           "#FFA15A",
           "#19d3f3",
           "#FF6692",
           "#B6E880",
           "#FF97FF",
           "#FECB52"
          ],
          "font": {
           "color": "#2a3f5f"
          },
          "geo": {
           "bgcolor": "white",
           "lakecolor": "white",
           "landcolor": "#E5ECF6",
           "showlakes": true,
           "showland": true,
           "subunitcolor": "white"
          },
          "hoverlabel": {
           "align": "left"
          },
          "hovermode": "closest",
          "mapbox": {
           "style": "light"
          },
          "paper_bgcolor": "white",
          "plot_bgcolor": "#E5ECF6",
          "polar": {
           "angularaxis": {
            "gridcolor": "white",
            "linecolor": "white",
            "ticks": ""
           },
           "bgcolor": "#E5ECF6",
           "radialaxis": {
            "gridcolor": "white",
            "linecolor": "white",
            "ticks": ""
           }
          },
          "scene": {
           "xaxis": {
            "backgroundcolor": "#E5ECF6",
            "gridcolor": "white",
            "gridwidth": 2,
            "linecolor": "white",
            "showbackground": true,
            "ticks": "",
            "zerolinecolor": "white"
           },
           "yaxis": {
            "backgroundcolor": "#E5ECF6",
            "gridcolor": "white",
            "gridwidth": 2,
            "linecolor": "white",
            "showbackground": true,
            "ticks": "",
            "zerolinecolor": "white"
           },
           "zaxis": {
            "backgroundcolor": "#E5ECF6",
            "gridcolor": "white",
            "gridwidth": 2,
            "linecolor": "white",
            "showbackground": true,
            "ticks": "",
            "zerolinecolor": "white"
           }
          },
          "shapedefaults": {
           "line": {
            "color": "#2a3f5f"
           }
          },
          "ternary": {
           "aaxis": {
            "gridcolor": "white",
            "linecolor": "white",
            "ticks": ""
           },
           "baxis": {
            "gridcolor": "white",
            "linecolor": "white",
            "ticks": ""
           },
           "bgcolor": "#E5ECF6",
           "caxis": {
            "gridcolor": "white",
            "linecolor": "white",
            "ticks": ""
           }
          },
          "title": {
           "x": 0.05
          },
          "xaxis": {
           "automargin": true,
           "gridcolor": "white",
           "linecolor": "white",
           "ticks": "",
           "title": {
            "standoff": 15
           },
           "zerolinecolor": "white",
           "zerolinewidth": 2
          },
          "yaxis": {
           "automargin": true,
           "gridcolor": "white",
           "linecolor": "white",
           "ticks": "",
           "title": {
            "standoff": 15
           },
           "zerolinecolor": "white",
           "zerolinewidth": 2
          }
         }
        },
        "title": {
         "text": "PaDiM Scores (Fold 1)"
        },
        "xaxis": {
         "anchor": "y",
         "domain": [
          0,
          1
         ],
         "title": {
          "text": "score"
         }
        },
        "yaxis": {
         "anchor": "x",
         "domain": [
          0,
          1
         ],
         "title": {
          "text": "count"
         }
        }
       }
      }
     },
     "metadata": {},
     "output_type": "display_data"
    },
    {
     "name": "stderr",
     "output_type": "stream",
     "text": [
      "/home/sim_m/work/image-anomaly-detection/.venv/lib/python3.12/site-packages/torchvision/models/_utils.py:208: UserWarning:\n",
      "\n",
      "The parameter 'pretrained' is deprecated since 0.13 and may be removed in the future, please use 'weights' instead.\n",
      "\n",
      "/home/sim_m/work/image-anomaly-detection/.venv/lib/python3.12/site-packages/torchvision/models/_utils.py:223: UserWarning:\n",
      "\n",
      "Arguments other than a weight enum or `None` for 'weights' are deprecated since 0.13 and may be removed in the future. The current behavior is equivalent to passing `weights=ResNet18_Weights.IMAGENET1K_V1`. You can also use `weights=ResNet18_Weights.DEFAULT` to get the most up-to-date weights.\n",
      "\n",
      "/home/sim_m/work/image-anomaly-detection/.venv/lib/python3.12/site-packages/torch/utils/data/dataloader.py:666: UserWarning:\n",
      "\n",
      "'pin_memory' argument is set as true but no accelerator is found, then device pinned memory won't be used.\n",
      "\n"
     ]
    },
    {
     "data": {
      "application/vnd.plotly.v1+json": {
       "config": {
        "plotlyServerURL": "https://plot.ly"
       },
       "data": [
        {
         "bingroup": "x",
         "hovertemplate": "label=train<br>score=%{x}<br>count=%{y}<extra></extra>",
         "legendgroup": "train",
         "marker": {
          "color": "#636efa",
          "opacity": 0.6,
          "pattern": {
           "shape": ""
          }
         },
         "name": "train",
         "nbinsx": 30,
         "orientation": "v",
         "showlegend": true,
         "type": "histogram",
         "x": {
          "bdata": "l8PtQWDVE0Kgbw5CrjT+QVfnLEKF0AhCN1Y4QpqMOULZXyVCzkQjQvwmDEKeWLZCR4iWQtI6EEKELNVBBrX9QWvA+kHXu/9BIfraQQmPM0IWo+pBaD4kQusE+kFi8kVCxkwEQnmAMkIo055CDNb9QXDqKEJ3WuVBXPILQhkTAEKvTw9CVLnzQVTNTkKIGwFCw7YAQi0dCkKDMvVBDgbzQbt2DkKqkAhCCngaQmuDjkLioe1BBqYVQgCTBEImi/lBygsKQqy9A0L+8d5Ba0oCQvXVGkJtLC1CeObpQcob+EFplw1CUXANQmvRNkLI18NBPgcCQsByDEJTqAJCoLYAQoknG0LDLg9CQ1IZQnmOC0LfBwdCmaUXQpSWCkI6JhJCSiUVQq+p4EGDFC5CpgsGQhYQHUIVzAFCtwMdQmbJ4kFPcS5CHcgXQoRB6EGiogdCYxESQvSzPkKth4ZC3ECNQnml+kH6BEdC2dx7Q6paMEJm4A1CC80KQv2VCkL1gR5C6J1MQhAqAELdcg1CsCNeQoCeYkJHPuVBXwcdQhTFGkJBifNBfcQ6Qtz660FAqPtBKTg1QpFlN0IEYtBBcDUuQglOGUJlCw5CvrENQnVnR0KaPuBBVzhLQqCXCUJhp/FBw+oIQo4TS0KJUf5BwmgkQriRCEKtajZCCA0XQslo4EHT/4VClaQTQpfKMkINHwxC9S0CQmU630F7YxVC4woBQta5IkLLaQNCXWv/QR39DUJSkAhCPeEAQn/n5kEpCeNBpiRmQ2j19UEXgoFCJTMUQoTAb0LESURCdo8QQjlFEkLaihVCwyVqQtnh8UFxpxhCJeURQqnZR0L7QgFCH0o2Qn3tMkKEqApC3fBzQgusG0I03QlCVw4FQhyQLEJ6zC9CYzcSQkBcLkKmaRBC1n93QrthC0JBTTBCUTsiQqLtyEGF+gNCLMIeQqYVMEIamvVBUBTpQSHJM0LtkEFClzQVQhZV40FnOy9CLwoMQgZX6EEtbxlCwhsOQsIeAkIZ3etBzz3yQdhB2kG/OQ9COeXkQfMTEEJ2Ux9CmbcBQj+8OUJkpB5COmQ6Qo8qBkKi++dB6po7QiY6+UF4DhRC85f/QdEXGEL/6ZlCsHk9QosIHkIjowtCwP/gQd1gF0L8pixCYE/hQXaMO0KDoS5Cj81BQpKmL0JkuiBClncgQjxUhEI=",
          "dtype": "f4"
         },
         "xaxis": "x",
         "yaxis": "y"
        },
        {
         "bingroup": "x",
         "hovertemplate": "label=val<br>score=%{x}<br>count=%{y}<extra></extra>",
         "legendgroup": "val",
         "marker": {
          "color": "#EF553B",
          "opacity": 0.6,
          "pattern": {
           "shape": ""
          }
         },
         "name": "val",
         "nbinsx": 30,
         "orientation": "v",
         "showlegend": true,
         "type": "histogram",
         "x": {
          "bdata": "w2dTQqf7+kIxFQlDqCuSQyTmn0KNV7BCvOsQQlFSLkKcaLFDpvmRQsJZfUIDFp5CKttXQu+twkKy4OVCxW4PQ3gsOkIYARBDDzEXQxed3kIvd6dCSH46Q+AkBEM5wmNCjRc+QvIMmUIXKJRCwVcjQod9BUPgbYxDqfmSQhZr70I8l11CAjNbQvDxOUJQ2t1CrSQ0Q1gsukJimndCf0PHQgWKCkM+diRDrZmzQobd0EKJGk5D8lwKQ3/gjkJJ4r5C1VNaQj+M90J6t5RDH3AyQtsvhkKvz3RC4gEeQ9t+n0I=",
          "dtype": "f4"
         },
         "xaxis": "x",
         "yaxis": "y"
        },
        {
         "bingroup": "x",
         "hovertemplate": "label=color<br>score=%{x}<br>count=%{y}<extra></extra>",
         "legendgroup": "color",
         "marker": {
          "color": "#00cc96",
          "opacity": 0.6,
          "pattern": {
           "shape": ""
          }
         },
         "name": "color",
         "nbinsx": 30,
         "orientation": "v",
         "showlegend": true,
         "type": "histogram",
         "x": {
          "bdata": "it19Qx+7B0OR7uVCbrTbQtrlgEOv3QtDHr8XQ4QjnUO6GIJDUiktQxFShkOsMIxEylwkRI89LkMqIBFDmqL2QmUnhUOqCehCmhBIQw==",
          "dtype": "f4"
         },
         "xaxis": "x",
         "yaxis": "y"
        },
        {
         "bingroup": "x",
         "hovertemplate": "label=cut<br>score=%{x}<br>count=%{y}<extra></extra>",
         "legendgroup": "cut",
         "marker": {
          "color": "#ab63fa",
          "opacity": 0.6,
          "pattern": {
           "shape": ""
          }
         },
         "name": "cut",
         "nbinsx": 30,
         "orientation": "v",
         "showlegend": true,
         "type": "histogram",
         "x": {
          "bdata": "s09xQ6tvSEMdDxpDJTRZQ8v0CUPWYA1EHE4MQ8c0UEOMX9JCeoq/Q3IjLkM8p4lDQ2bAQ08qcUNZRABEl5KfQ6BmPkM=",
          "dtype": "f4"
         },
         "xaxis": "x",
         "yaxis": "y"
        },
        {
         "bingroup": "x",
         "hovertemplate": "label=good<br>score=%{x}<br>count=%{y}<extra></extra>",
         "legendgroup": "good",
         "marker": {
          "color": "#FFA15A",
          "opacity": 0.6,
          "pattern": {
           "shape": ""
          }
         },
         "name": "good",
         "nbinsx": 30,
         "orientation": "v",
         "showlegend": true,
         "type": "histogram",
         "x": {
          "bdata": "NzzVQhPsgkJceu1CirPDQyp7pUIGvk1DIzflQnGp+EJd7QFDEc1sQ7lua0P0GNZCzSZGQwPJBEOo3lxDOUPeQq/5mUIIvnZDG7MOQ1ui+kIX20xCyNjDQoKIvEIhTLZC/eOOQpYzQkNBHuhC2KaXQg==",
          "dtype": "f4"
         },
         "xaxis": "x",
         "yaxis": "y"
        },
        {
         "bingroup": "x",
         "hovertemplate": "label=hole<br>score=%{x}<br>count=%{y}<extra></extra>",
         "legendgroup": "hole",
         "marker": {
          "color": "#19d3f3",
          "opacity": 0.6,
          "pattern": {
           "shape": ""
          }
         },
         "name": "hole",
         "nbinsx": 30,
         "orientation": "v",
         "showlegend": true,
         "type": "histogram",
         "x": {
          "bdata": "R9d/Q0zktkL/oLBCCO4WQ1zTM0Q4oghDyxddQyOrd0MMSIFDtaAIQ4Ds7UMXJo1D3SAXQ0qyb0Ogpz5EgLs+Qx8syUI=",
          "dtype": "f4"
         },
         "xaxis": "x",
         "yaxis": "y"
        },
        {
         "bingroup": "x",
         "hovertemplate": "label=metal_contamination<br>score=%{x}<br>count=%{y}<extra></extra>",
         "legendgroup": "metal_contamination",
         "marker": {
          "color": "#FF6692",
          "opacity": 0.6,
          "pattern": {
           "shape": ""
          }
         },
         "name": "metal_contamination",
         "nbinsx": 30,
         "orientation": "v",
         "showlegend": true,
         "type": "histogram",
         "x": {
          "bdata": "S8PDQqyK1UIxwQ5DIzuNQ8ZI9kLWuiRDtrAARInI2kNY6EZDFjSrQsTGdkNxOzVDXn0lQ7N4BEOVwS5DWYCBQ1ec4UM=",
          "dtype": "f4"
         },
         "xaxis": "x",
         "yaxis": "y"
        },
        {
         "bingroup": "x",
         "hovertemplate": "label=thread<br>score=%{x}<br>count=%{y}<extra></extra>",
         "legendgroup": "thread",
         "marker": {
          "color": "#B6E880",
          "opacity": 0.6,
          "pattern": {
           "shape": ""
          }
         },
         "name": "thread",
         "nbinsx": 30,
         "orientation": "v",
         "showlegend": true,
         "type": "histogram",
         "x": {
          "bdata": "M4BBQ/Uzk0NYVupCCAuHQ5x7hkP89upEplgJRPeBhUNz9IdDN4V1Q65vsENon1lDOlsbRO9Cm0OjO85DJ6YFQ1EHgkPEm6ND8KayQg==",
          "dtype": "f4"
         },
         "xaxis": "x",
         "yaxis": "y"
        }
       ],
       "layout": {
        "barmode": "overlay",
        "legend": {
         "title": {
          "text": "label"
         },
         "tracegroupgap": 0
        },
        "margin": {
         "t": 60
        },
        "template": {
         "data": {
          "bar": [
           {
            "error_x": {
             "color": "#2a3f5f"
            },
            "error_y": {
             "color": "#2a3f5f"
            },
            "marker": {
             "line": {
              "color": "#E5ECF6",
              "width": 0.5
             },
             "pattern": {
              "fillmode": "overlay",
              "size": 10,
              "solidity": 0.2
             }
            },
            "type": "bar"
           }
          ],
          "barpolar": [
           {
            "marker": {
             "line": {
              "color": "#E5ECF6",
              "width": 0.5
             },
             "pattern": {
              "fillmode": "overlay",
              "size": 10,
              "solidity": 0.2
             }
            },
            "type": "barpolar"
           }
          ],
          "carpet": [
           {
            "aaxis": {
             "endlinecolor": "#2a3f5f",
             "gridcolor": "white",
             "linecolor": "white",
             "minorgridcolor": "white",
             "startlinecolor": "#2a3f5f"
            },
            "baxis": {
             "endlinecolor": "#2a3f5f",
             "gridcolor": "white",
             "linecolor": "white",
             "minorgridcolor": "white",
             "startlinecolor": "#2a3f5f"
            },
            "type": "carpet"
           }
          ],
          "choropleth": [
           {
            "colorbar": {
             "outlinewidth": 0,
             "ticks": ""
            },
            "type": "choropleth"
           }
          ],
          "contour": [
           {
            "colorbar": {
             "outlinewidth": 0,
             "ticks": ""
            },
            "colorscale": [
             [
              0,
              "#0d0887"
             ],
             [
              0.1111111111111111,
              "#46039f"
             ],
             [
              0.2222222222222222,
              "#7201a8"
             ],
             [
              0.3333333333333333,
              "#9c179e"
             ],
             [
              0.4444444444444444,
              "#bd3786"
             ],
             [
              0.5555555555555556,
              "#d8576b"
             ],
             [
              0.6666666666666666,
              "#ed7953"
             ],
             [
              0.7777777777777778,
              "#fb9f3a"
             ],
             [
              0.8888888888888888,
              "#fdca26"
             ],
             [
              1,
              "#f0f921"
             ]
            ],
            "type": "contour"
           }
          ],
          "contourcarpet": [
           {
            "colorbar": {
             "outlinewidth": 0,
             "ticks": ""
            },
            "type": "contourcarpet"
           }
          ],
          "heatmap": [
           {
            "colorbar": {
             "outlinewidth": 0,
             "ticks": ""
            },
            "colorscale": [
             [
              0,
              "#0d0887"
             ],
             [
              0.1111111111111111,
              "#46039f"
             ],
             [
              0.2222222222222222,
              "#7201a8"
             ],
             [
              0.3333333333333333,
              "#9c179e"
             ],
             [
              0.4444444444444444,
              "#bd3786"
             ],
             [
              0.5555555555555556,
              "#d8576b"
             ],
             [
              0.6666666666666666,
              "#ed7953"
             ],
             [
              0.7777777777777778,
              "#fb9f3a"
             ],
             [
              0.8888888888888888,
              "#fdca26"
             ],
             [
              1,
              "#f0f921"
             ]
            ],
            "type": "heatmap"
           }
          ],
          "histogram": [
           {
            "marker": {
             "pattern": {
              "fillmode": "overlay",
              "size": 10,
              "solidity": 0.2
             }
            },
            "type": "histogram"
           }
          ],
          "histogram2d": [
           {
            "colorbar": {
             "outlinewidth": 0,
             "ticks": ""
            },
            "colorscale": [
             [
              0,
              "#0d0887"
             ],
             [
              0.1111111111111111,
              "#46039f"
             ],
             [
              0.2222222222222222,
              "#7201a8"
             ],
             [
              0.3333333333333333,
              "#9c179e"
             ],
             [
              0.4444444444444444,
              "#bd3786"
             ],
             [
              0.5555555555555556,
              "#d8576b"
             ],
             [
              0.6666666666666666,
              "#ed7953"
             ],
             [
              0.7777777777777778,
              "#fb9f3a"
             ],
             [
              0.8888888888888888,
              "#fdca26"
             ],
             [
              1,
              "#f0f921"
             ]
            ],
            "type": "histogram2d"
           }
          ],
          "histogram2dcontour": [
           {
            "colorbar": {
             "outlinewidth": 0,
             "ticks": ""
            },
            "colorscale": [
             [
              0,
              "#0d0887"
             ],
             [
              0.1111111111111111,
              "#46039f"
             ],
             [
              0.2222222222222222,
              "#7201a8"
             ],
             [
              0.3333333333333333,
              "#9c179e"
             ],
             [
              0.4444444444444444,
              "#bd3786"
             ],
             [
              0.5555555555555556,
              "#d8576b"
             ],
             [
              0.6666666666666666,
              "#ed7953"
             ],
             [
              0.7777777777777778,
              "#fb9f3a"
             ],
             [
              0.8888888888888888,
              "#fdca26"
             ],
             [
              1,
              "#f0f921"
             ]
            ],
            "type": "histogram2dcontour"
           }
          ],
          "mesh3d": [
           {
            "colorbar": {
             "outlinewidth": 0,
             "ticks": ""
            },
            "type": "mesh3d"
           }
          ],
          "parcoords": [
           {
            "line": {
             "colorbar": {
              "outlinewidth": 0,
              "ticks": ""
             }
            },
            "type": "parcoords"
           }
          ],
          "pie": [
           {
            "automargin": true,
            "type": "pie"
           }
          ],
          "scatter": [
           {
            "fillpattern": {
             "fillmode": "overlay",
             "size": 10,
             "solidity": 0.2
            },
            "type": "scatter"
           }
          ],
          "scatter3d": [
           {
            "line": {
             "colorbar": {
              "outlinewidth": 0,
              "ticks": ""
             }
            },
            "marker": {
             "colorbar": {
              "outlinewidth": 0,
              "ticks": ""
             }
            },
            "type": "scatter3d"
           }
          ],
          "scattercarpet": [
           {
            "marker": {
             "colorbar": {
              "outlinewidth": 0,
              "ticks": ""
             }
            },
            "type": "scattercarpet"
           }
          ],
          "scattergeo": [
           {
            "marker": {
             "colorbar": {
              "outlinewidth": 0,
              "ticks": ""
             }
            },
            "type": "scattergeo"
           }
          ],
          "scattergl": [
           {
            "marker": {
             "colorbar": {
              "outlinewidth": 0,
              "ticks": ""
             }
            },
            "type": "scattergl"
           }
          ],
          "scattermap": [
           {
            "marker": {
             "colorbar": {
              "outlinewidth": 0,
              "ticks": ""
             }
            },
            "type": "scattermap"
           }
          ],
          "scattermapbox": [
           {
            "marker": {
             "colorbar": {
              "outlinewidth": 0,
              "ticks": ""
             }
            },
            "type": "scattermapbox"
           }
          ],
          "scatterpolar": [
           {
            "marker": {
             "colorbar": {
              "outlinewidth": 0,
              "ticks": ""
             }
            },
            "type": "scatterpolar"
           }
          ],
          "scatterpolargl": [
           {
            "marker": {
             "colorbar": {
              "outlinewidth": 0,
              "ticks": ""
             }
            },
            "type": "scatterpolargl"
           }
          ],
          "scatterternary": [
           {
            "marker": {
             "colorbar": {
              "outlinewidth": 0,
              "ticks": ""
             }
            },
            "type": "scatterternary"
           }
          ],
          "surface": [
           {
            "colorbar": {
             "outlinewidth": 0,
             "ticks": ""
            },
            "colorscale": [
             [
              0,
              "#0d0887"
             ],
             [
              0.1111111111111111,
              "#46039f"
             ],
             [
              0.2222222222222222,
              "#7201a8"
             ],
             [
              0.3333333333333333,
              "#9c179e"
             ],
             [
              0.4444444444444444,
              "#bd3786"
             ],
             [
              0.5555555555555556,
              "#d8576b"
             ],
             [
              0.6666666666666666,
              "#ed7953"
             ],
             [
              0.7777777777777778,
              "#fb9f3a"
             ],
             [
              0.8888888888888888,
              "#fdca26"
             ],
             [
              1,
              "#f0f921"
             ]
            ],
            "type": "surface"
           }
          ],
          "table": [
           {
            "cells": {
             "fill": {
              "color": "#EBF0F8"
             },
             "line": {
              "color": "white"
             }
            },
            "header": {
             "fill": {
              "color": "#C8D4E3"
             },
             "line": {
              "color": "white"
             }
            },
            "type": "table"
           }
          ]
         },
         "layout": {
          "annotationdefaults": {
           "arrowcolor": "#2a3f5f",
           "arrowhead": 0,
           "arrowwidth": 1
          },
          "autotypenumbers": "strict",
          "coloraxis": {
           "colorbar": {
            "outlinewidth": 0,
            "ticks": ""
           }
          },
          "colorscale": {
           "diverging": [
            [
             0,
             "#8e0152"
            ],
            [
             0.1,
             "#c51b7d"
            ],
            [
             0.2,
             "#de77ae"
            ],
            [
             0.3,
             "#f1b6da"
            ],
            [
             0.4,
             "#fde0ef"
            ],
            [
             0.5,
             "#f7f7f7"
            ],
            [
             0.6,
             "#e6f5d0"
            ],
            [
             0.7,
             "#b8e186"
            ],
            [
             0.8,
             "#7fbc41"
            ],
            [
             0.9,
             "#4d9221"
            ],
            [
             1,
             "#276419"
            ]
           ],
           "sequential": [
            [
             0,
             "#0d0887"
            ],
            [
             0.1111111111111111,
             "#46039f"
            ],
            [
             0.2222222222222222,
             "#7201a8"
            ],
            [
             0.3333333333333333,
             "#9c179e"
            ],
            [
             0.4444444444444444,
             "#bd3786"
            ],
            [
             0.5555555555555556,
             "#d8576b"
            ],
            [
             0.6666666666666666,
             "#ed7953"
            ],
            [
             0.7777777777777778,
             "#fb9f3a"
            ],
            [
             0.8888888888888888,
             "#fdca26"
            ],
            [
             1,
             "#f0f921"
            ]
           ],
           "sequentialminus": [
            [
             0,
             "#0d0887"
            ],
            [
             0.1111111111111111,
             "#46039f"
            ],
            [
             0.2222222222222222,
             "#7201a8"
            ],
            [
             0.3333333333333333,
             "#9c179e"
            ],
            [
             0.4444444444444444,
             "#bd3786"
            ],
            [
             0.5555555555555556,
             "#d8576b"
            ],
            [
             0.6666666666666666,
             "#ed7953"
            ],
            [
             0.7777777777777778,
             "#fb9f3a"
            ],
            [
             0.8888888888888888,
             "#fdca26"
            ],
            [
             1,
             "#f0f921"
            ]
           ]
          },
          "colorway": [
           "#636efa",
           "#EF553B",
           "#00cc96",
           "#ab63fa",
           "#FFA15A",
           "#19d3f3",
           "#FF6692",
           "#B6E880",
           "#FF97FF",
           "#FECB52"
          ],
          "font": {
           "color": "#2a3f5f"
          },
          "geo": {
           "bgcolor": "white",
           "lakecolor": "white",
           "landcolor": "#E5ECF6",
           "showlakes": true,
           "showland": true,
           "subunitcolor": "white"
          },
          "hoverlabel": {
           "align": "left"
          },
          "hovermode": "closest",
          "mapbox": {
           "style": "light"
          },
          "paper_bgcolor": "white",
          "plot_bgcolor": "#E5ECF6",
          "polar": {
           "angularaxis": {
            "gridcolor": "white",
            "linecolor": "white",
            "ticks": ""
           },
           "bgcolor": "#E5ECF6",
           "radialaxis": {
            "gridcolor": "white",
            "linecolor": "white",
            "ticks": ""
           }
          },
          "scene": {
           "xaxis": {
            "backgroundcolor": "#E5ECF6",
            "gridcolor": "white",
            "gridwidth": 2,
            "linecolor": "white",
            "showbackground": true,
            "ticks": "",
            "zerolinecolor": "white"
           },
           "yaxis": {
            "backgroundcolor": "#E5ECF6",
            "gridcolor": "white",
            "gridwidth": 2,
            "linecolor": "white",
            "showbackground": true,
            "ticks": "",
            "zerolinecolor": "white"
           },
           "zaxis": {
            "backgroundcolor": "#E5ECF6",
            "gridcolor": "white",
            "gridwidth": 2,
            "linecolor": "white",
            "showbackground": true,
            "ticks": "",
            "zerolinecolor": "white"
           }
          },
          "shapedefaults": {
           "line": {
            "color": "#2a3f5f"
           }
          },
          "ternary": {
           "aaxis": {
            "gridcolor": "white",
            "linecolor": "white",
            "ticks": ""
           },
           "baxis": {
            "gridcolor": "white",
            "linecolor": "white",
            "ticks": ""
           },
           "bgcolor": "#E5ECF6",
           "caxis": {
            "gridcolor": "white",
            "linecolor": "white",
            "ticks": ""
           }
          },
          "title": {
           "x": 0.05
          },
          "xaxis": {
           "automargin": true,
           "gridcolor": "white",
           "linecolor": "white",
           "ticks": "",
           "title": {
            "standoff": 15
           },
           "zerolinecolor": "white",
           "zerolinewidth": 2
          },
          "yaxis": {
           "automargin": true,
           "gridcolor": "white",
           "linecolor": "white",
           "ticks": "",
           "title": {
            "standoff": 15
           },
           "zerolinecolor": "white",
           "zerolinewidth": 2
          }
         }
        },
        "title": {
         "text": "PaDiM Scores (Fold 2)"
        },
        "xaxis": {
         "anchor": "y",
         "domain": [
          0,
          1
         ],
         "title": {
          "text": "score"
         }
        },
        "yaxis": {
         "anchor": "x",
         "domain": [
          0,
          1
         ],
         "title": {
          "text": "count"
         }
        }
       }
      }
     },
     "metadata": {},
     "output_type": "display_data"
    },
    {
     "name": "stderr",
     "output_type": "stream",
     "text": [
      "/home/sim_m/work/image-anomaly-detection/.venv/lib/python3.12/site-packages/torchvision/models/_utils.py:208: UserWarning:\n",
      "\n",
      "The parameter 'pretrained' is deprecated since 0.13 and may be removed in the future, please use 'weights' instead.\n",
      "\n",
      "/home/sim_m/work/image-anomaly-detection/.venv/lib/python3.12/site-packages/torchvision/models/_utils.py:223: UserWarning:\n",
      "\n",
      "Arguments other than a weight enum or `None` for 'weights' are deprecated since 0.13 and may be removed in the future. The current behavior is equivalent to passing `weights=ResNet18_Weights.IMAGENET1K_V1`. You can also use `weights=ResNet18_Weights.DEFAULT` to get the most up-to-date weights.\n",
      "\n",
      "/home/sim_m/work/image-anomaly-detection/.venv/lib/python3.12/site-packages/torch/utils/data/dataloader.py:666: UserWarning:\n",
      "\n",
      "'pin_memory' argument is set as true but no accelerator is found, then device pinned memory won't be used.\n",
      "\n"
     ]
    },
    {
     "data": {
      "application/vnd.plotly.v1+json": {
       "config": {
        "plotlyServerURL": "https://plot.ly"
       },
       "data": [
        {
         "bingroup": "x",
         "hovertemplate": "label=train<br>score=%{x}<br>count=%{y}<extra></extra>",
         "legendgroup": "train",
         "marker": {
          "color": "#636efa",
          "opacity": 0.6,
          "pattern": {
           "shape": ""
          }
         },
         "name": "train",
         "nbinsx": 30,
         "orientation": "v",
         "showlegend": true,
         "type": "histogram",
         "x": {
          "bdata": "aMYKQmUB7kGFzfRBsrMJQvv+80Gu801CL4cjQsEQJULahT5CrBEnQmpDBUIFFipC4RXoQYzYLELA4OxBws74QfWl7UEORSBC+2wlQrsJLkJiJgBCJmHfQd2FL0KFv1lCOWoaQtJsFUJ2yyJCci/+QbYGBEKJo+VB99ZBQqOfDkI65hpCsJfZQXRhIUKJWgBCOR9rQnxx9EF6ZwBCTExlQgKc6EFXEiFCsT4EQpkzAUKBeixCIKYEQowk/EFt4E1C1fz2QSmgAULZPhlCPcJuQgsiIkK//NxBH8jfQYSG+UGNVwpCkuIOQlw/yEE0JCRCbFFKQtRI80G5q9xBaQzZQeS6AEIcJQ1C+ZEQQp2TF0KGgytC6xLyQYx1BkKG4TZCpJ5IQv9CKEK78DRCYaMcQuxRakLTZChCEBIXQlfiEkK2qQFCFdJDQpGp9UGi8PdBoAzZQtoJ/kFOmDlCN6Y1QtzwB0L+TRdCTgfNQQHIEUKJ9w9CfK4RQkpDH0KBjxZCd5uQQqxq6EGGJCJC9ogPQv6t50FVfgBC/e8jQty8I0IB3CxCNLXpQUvJH0KvzBFCc00AQpOPBkIobudBQhENQh6iBUIHrZRC4yr8QQv7CkLLyktCGgEpQhL7EkKnaT9CrCkiQgYrCEKyyfdBIxQ7QhO2MULA/I5CGPstQkx9CELseUlCiyWUQsY4HEI4b+hBIjsNQlRo5UFZ8w5CvGXxQcLgDUIeT+ZBgJfsQTKjTkJPhpFCkVA0QrIG2EEMGgtCInP2QSREHkJZByRC6h4WQg+WBkJFjgpCmokKQmv2XUIbYQxCOPiSQs8gAkIFzBhChng8QlVt/EFEvdJBHhvqQYFz+kECvwVCQqx+QnEwJEIkbNZBzOHtQSkt5EFqHvVBsML9QWf4GkI2QQJCDisQQnOLAULxuAhC6m3ZQaVkMkJmfzNCW2v/QWT1CEJMoARCBTOPQkKzMUImiw5Cl48QQkXBJkLv6lhC4J8ZQootLUKN2thBeDwBQujyCkJKsjNC3DpaQoCC20EsiAlC+wDzQTdDJkK6DCpCF2cvQnrJRULqEwdCJlYEQrhcAkJrDulBsJIYQk+4FULg3ARCC9Y6Qo6eDkKph0FC23owQgoTBkKO2+tB4joAQlvhQkJ6viRC5ZkaQvjbE0J1WhBCQfYUQldJPkKtvhBCQQULQqtM9UE=",
          "dtype": "f4"
         },
         "xaxis": "x",
         "yaxis": "y"
        },
        {
         "bingroup": "x",
         "hovertemplate": "label=val<br>score=%{x}<br>count=%{y}<extra></extra>",
         "legendgroup": "val",
         "marker": {
          "color": "#EF553B",
          "opacity": 0.6,
          "pattern": {
           "shape": ""
          }
         },
         "name": "val",
         "nbinsx": 30,
         "orientation": "v",
         "showlegend": true,
         "type": "histogram",
         "x": {
          "bdata": "7cA0Q7wnvUKgIipDFkjBQlttDENxI25C5ZjXQsElzELJ3nhCstCAQiR6m0J0Cl9CZlhaQ2RnLEMCGKNCPT57QoiDY0OXYchCcpDVQnyzaUL3Uo1CvimQQtOozEIPCE9CLNKpQgOMi0M1/KJCXsImQ84DlkLmA29CYk6PQrFQZkKW3qhCDbBnQs+nzUP7EB9CpPlVQlXDoULbn45CaQtAQtWu/kHm2ExD/XA5Qu0MhUJF2yxCnHWAQiHNmkIsE8NCpR6mQiOHNUJterRC0Yb9QuMXO0KlC0dD8ogSQvSrDkM=",
          "dtype": "f4"
         },
         "xaxis": "x",
         "yaxis": "y"
        },
        {
         "bingroup": "x",
         "hovertemplate": "label=color<br>score=%{x}<br>count=%{y}<extra></extra>",
         "legendgroup": "color",
         "marker": {
          "color": "#00cc96",
          "opacity": 0.6,
          "pattern": {
           "shape": ""
          }
         },
         "name": "color",
         "nbinsx": 30,
         "orientation": "v",
         "showlegend": true,
         "type": "histogram",
         "x": {
          "bdata": "MVjoQyqmOEPk5/JCiZ0SQzX3gUMlsihDmFQYQy0IzUMfSldDWw4OQ4GXgkMi45xEe5UeRHXcJ0PWYTFDtMkYQ66iPEOYxw5D66szQw==",
          "dtype": "f4"
         },
         "xaxis": "x",
         "yaxis": "y"
        },
        {
         "bingroup": "x",
         "hovertemplate": "label=cut<br>score=%{x}<br>count=%{y}<extra></extra>",
         "legendgroup": "cut",
         "marker": {
          "color": "#ab63fa",
          "opacity": 0.6,
          "pattern": {
           "shape": ""
          }
         },
         "name": "cut",
         "nbinsx": 30,
         "orientation": "v",
         "showlegend": true,
         "type": "histogram",
         "x": {
          "bdata": "jAGBQ83yY0PmWj9DX0EvQ/BoLEMWjRREyRlhQzwZUUPEa6tC9YaEQ54YHEOjmZJDr4jBQ61VgUOfsvpDMNCaQ3/jbEM=",
          "dtype": "f4"
         },
         "xaxis": "x",
         "yaxis": "y"
        },
        {
         "bingroup": "x",
         "hovertemplate": "label=good<br>score=%{x}<br>count=%{y}<extra></extra>",
         "legendgroup": "good",
         "marker": {
          "color": "#FFA15A",
          "opacity": 0.6,
          "pattern": {
           "shape": ""
          }
         },
         "name": "good",
         "nbinsx": 30,
         "orientation": "v",
         "showlegend": true,
         "type": "histogram",
         "x": {
          "bdata": "LYCfQvrEwUJSdwdDbEe3Q9wztEJ111FDRZQBQ8Tb8EJOIgRDNyFrQ2Dn5kJ8D9dCIaFCQ2Yv9kKgcllDMd8QQ0Qam0LtBINCPmCoQhBM1UIIJ7JCtdPRQk34wEJ0EaZCiSyaQtKeg0NLNMxCrTu4Qg==",
          "dtype": "f4"
         },
         "xaxis": "x",
         "yaxis": "y"
        },
        {
         "bingroup": "x",
         "hovertemplate": "label=hole<br>score=%{x}<br>count=%{y}<extra></extra>",
         "legendgroup": "hole",
         "marker": {
          "color": "#19d3f3",
          "opacity": 0.6,
          "pattern": {
           "shape": ""
          }
         },
         "name": "hole",
         "nbinsx": 30,
         "orientation": "v",
         "showlegend": true,
         "type": "histogram",
         "x": {
          "bdata": "Ydt4Q50clUKZp8dCp2cYQ18gzkNOMCRDYOGSQ3MWZUONlihDtkkPQ9Z26kMl8rxDwykZQ6eba0PZ6TtE/7tQQxD9CEM=",
          "dtype": "f4"
         },
         "xaxis": "x",
         "yaxis": "y"
        },
        {
         "bingroup": "x",
         "hovertemplate": "label=metal_contamination<br>score=%{x}<br>count=%{y}<extra></extra>",
         "legendgroup": "metal_contamination",
         "marker": {
          "color": "#FF6692",
          "opacity": 0.6,
          "pattern": {
           "shape": ""
          }
         },
         "name": "metal_contamination",
         "nbinsx": 30,
         "orientation": "v",
         "showlegend": true,
         "type": "histogram",
         "x": {
          "bdata": "l+uiQhDpUkOELnhDd/a9QzgIBEPi7FND5mr+Q91q1EO67ztDqYsdQzZRgkNXzHdDS41bQ5xP8ELOncxCSIaBQ243gUM=",
          "dtype": "f4"
         },
         "xaxis": "x",
         "yaxis": "y"
        },
        {
         "bingroup": "x",
         "hovertemplate": "label=thread<br>score=%{x}<br>count=%{y}<extra></extra>",
         "legendgroup": "thread",
         "marker": {
          "color": "#B6E880",
          "opacity": 0.6,
          "pattern": {
           "shape": ""
          }
         },
         "name": "thread",
         "nbinsx": 30,
         "orientation": "v",
         "showlegend": true,
         "type": "histogram",
         "x": {
          "bdata": "Dp1OQxBIlUNFmdFCLjriQrzLh0MYmetEIUraQ7HxbUNV6aJDfjECQ1eDsENWyjNDgKj2Q3JJnUPYn6BDH84rQz+hP0MFMZ5D8160Qg==",
          "dtype": "f4"
         },
         "xaxis": "x",
         "yaxis": "y"
        }
       ],
       "layout": {
        "barmode": "overlay",
        "legend": {
         "title": {
          "text": "label"
         },
         "tracegroupgap": 0
        },
        "margin": {
         "t": 60
        },
        "template": {
         "data": {
          "bar": [
           {
            "error_x": {
             "color": "#2a3f5f"
            },
            "error_y": {
             "color": "#2a3f5f"
            },
            "marker": {
             "line": {
              "color": "#E5ECF6",
              "width": 0.5
             },
             "pattern": {
              "fillmode": "overlay",
              "size": 10,
              "solidity": 0.2
             }
            },
            "type": "bar"
           }
          ],
          "barpolar": [
           {
            "marker": {
             "line": {
              "color": "#E5ECF6",
              "width": 0.5
             },
             "pattern": {
              "fillmode": "overlay",
              "size": 10,
              "solidity": 0.2
             }
            },
            "type": "barpolar"
           }
          ],
          "carpet": [
           {
            "aaxis": {
             "endlinecolor": "#2a3f5f",
             "gridcolor": "white",
             "linecolor": "white",
             "minorgridcolor": "white",
             "startlinecolor": "#2a3f5f"
            },
            "baxis": {
             "endlinecolor": "#2a3f5f",
             "gridcolor": "white",
             "linecolor": "white",
             "minorgridcolor": "white",
             "startlinecolor": "#2a3f5f"
            },
            "type": "carpet"
           }
          ],
          "choropleth": [
           {
            "colorbar": {
             "outlinewidth": 0,
             "ticks": ""
            },
            "type": "choropleth"
           }
          ],
          "contour": [
           {
            "colorbar": {
             "outlinewidth": 0,
             "ticks": ""
            },
            "colorscale": [
             [
              0,
              "#0d0887"
             ],
             [
              0.1111111111111111,
              "#46039f"
             ],
             [
              0.2222222222222222,
              "#7201a8"
             ],
             [
              0.3333333333333333,
              "#9c179e"
             ],
             [
              0.4444444444444444,
              "#bd3786"
             ],
             [
              0.5555555555555556,
              "#d8576b"
             ],
             [
              0.6666666666666666,
              "#ed7953"
             ],
             [
              0.7777777777777778,
              "#fb9f3a"
             ],
             [
              0.8888888888888888,
              "#fdca26"
             ],
             [
              1,
              "#f0f921"
             ]
            ],
            "type": "contour"
           }
          ],
          "contourcarpet": [
           {
            "colorbar": {
             "outlinewidth": 0,
             "ticks": ""
            },
            "type": "contourcarpet"
           }
          ],
          "heatmap": [
           {
            "colorbar": {
             "outlinewidth": 0,
             "ticks": ""
            },
            "colorscale": [
             [
              0,
              "#0d0887"
             ],
             [
              0.1111111111111111,
              "#46039f"
             ],
             [
              0.2222222222222222,
              "#7201a8"
             ],
             [
              0.3333333333333333,
              "#9c179e"
             ],
             [
              0.4444444444444444,
              "#bd3786"
             ],
             [
              0.5555555555555556,
              "#d8576b"
             ],
             [
              0.6666666666666666,
              "#ed7953"
             ],
             [
              0.7777777777777778,
              "#fb9f3a"
             ],
             [
              0.8888888888888888,
              "#fdca26"
             ],
             [
              1,
              "#f0f921"
             ]
            ],
            "type": "heatmap"
           }
          ],
          "histogram": [
           {
            "marker": {
             "pattern": {
              "fillmode": "overlay",
              "size": 10,
              "solidity": 0.2
             }
            },
            "type": "histogram"
           }
          ],
          "histogram2d": [
           {
            "colorbar": {
             "outlinewidth": 0,
             "ticks": ""
            },
            "colorscale": [
             [
              0,
              "#0d0887"
             ],
             [
              0.1111111111111111,
              "#46039f"
             ],
             [
              0.2222222222222222,
              "#7201a8"
             ],
             [
              0.3333333333333333,
              "#9c179e"
             ],
             [
              0.4444444444444444,
              "#bd3786"
             ],
             [
              0.5555555555555556,
              "#d8576b"
             ],
             [
              0.6666666666666666,
              "#ed7953"
             ],
             [
              0.7777777777777778,
              "#fb9f3a"
             ],
             [
              0.8888888888888888,
              "#fdca26"
             ],
             [
              1,
              "#f0f921"
             ]
            ],
            "type": "histogram2d"
           }
          ],
          "histogram2dcontour": [
           {
            "colorbar": {
             "outlinewidth": 0,
             "ticks": ""
            },
            "colorscale": [
             [
              0,
              "#0d0887"
             ],
             [
              0.1111111111111111,
              "#46039f"
             ],
             [
              0.2222222222222222,
              "#7201a8"
             ],
             [
              0.3333333333333333,
              "#9c179e"
             ],
             [
              0.4444444444444444,
              "#bd3786"
             ],
             [
              0.5555555555555556,
              "#d8576b"
             ],
             [
              0.6666666666666666,
              "#ed7953"
             ],
             [
              0.7777777777777778,
              "#fb9f3a"
             ],
             [
              0.8888888888888888,
              "#fdca26"
             ],
             [
              1,
              "#f0f921"
             ]
            ],
            "type": "histogram2dcontour"
           }
          ],
          "mesh3d": [
           {
            "colorbar": {
             "outlinewidth": 0,
             "ticks": ""
            },
            "type": "mesh3d"
           }
          ],
          "parcoords": [
           {
            "line": {
             "colorbar": {
              "outlinewidth": 0,
              "ticks": ""
             }
            },
            "type": "parcoords"
           }
          ],
          "pie": [
           {
            "automargin": true,
            "type": "pie"
           }
          ],
          "scatter": [
           {
            "fillpattern": {
             "fillmode": "overlay",
             "size": 10,
             "solidity": 0.2
            },
            "type": "scatter"
           }
          ],
          "scatter3d": [
           {
            "line": {
             "colorbar": {
              "outlinewidth": 0,
              "ticks": ""
             }
            },
            "marker": {
             "colorbar": {
              "outlinewidth": 0,
              "ticks": ""
             }
            },
            "type": "scatter3d"
           }
          ],
          "scattercarpet": [
           {
            "marker": {
             "colorbar": {
              "outlinewidth": 0,
              "ticks": ""
             }
            },
            "type": "scattercarpet"
           }
          ],
          "scattergeo": [
           {
            "marker": {
             "colorbar": {
              "outlinewidth": 0,
              "ticks": ""
             }
            },
            "type": "scattergeo"
           }
          ],
          "scattergl": [
           {
            "marker": {
             "colorbar": {
              "outlinewidth": 0,
              "ticks": ""
             }
            },
            "type": "scattergl"
           }
          ],
          "scattermap": [
           {
            "marker": {
             "colorbar": {
              "outlinewidth": 0,
              "ticks": ""
             }
            },
            "type": "scattermap"
           }
          ],
          "scattermapbox": [
           {
            "marker": {
             "colorbar": {
              "outlinewidth": 0,
              "ticks": ""
             }
            },
            "type": "scattermapbox"
           }
          ],
          "scatterpolar": [
           {
            "marker": {
             "colorbar": {
              "outlinewidth": 0,
              "ticks": ""
             }
            },
            "type": "scatterpolar"
           }
          ],
          "scatterpolargl": [
           {
            "marker": {
             "colorbar": {
              "outlinewidth": 0,
              "ticks": ""
             }
            },
            "type": "scatterpolargl"
           }
          ],
          "scatterternary": [
           {
            "marker": {
             "colorbar": {
              "outlinewidth": 0,
              "ticks": ""
             }
            },
            "type": "scatterternary"
           }
          ],
          "surface": [
           {
            "colorbar": {
             "outlinewidth": 0,
             "ticks": ""
            },
            "colorscale": [
             [
              0,
              "#0d0887"
             ],
             [
              0.1111111111111111,
              "#46039f"
             ],
             [
              0.2222222222222222,
              "#7201a8"
             ],
             [
              0.3333333333333333,
              "#9c179e"
             ],
             [
              0.4444444444444444,
              "#bd3786"
             ],
             [
              0.5555555555555556,
              "#d8576b"
             ],
             [
              0.6666666666666666,
              "#ed7953"
             ],
             [
              0.7777777777777778,
              "#fb9f3a"
             ],
             [
              0.8888888888888888,
              "#fdca26"
             ],
             [
              1,
              "#f0f921"
             ]
            ],
            "type": "surface"
           }
          ],
          "table": [
           {
            "cells": {
             "fill": {
              "color": "#EBF0F8"
             },
             "line": {
              "color": "white"
             }
            },
            "header": {
             "fill": {
              "color": "#C8D4E3"
             },
             "line": {
              "color": "white"
             }
            },
            "type": "table"
           }
          ]
         },
         "layout": {
          "annotationdefaults": {
           "arrowcolor": "#2a3f5f",
           "arrowhead": 0,
           "arrowwidth": 1
          },
          "autotypenumbers": "strict",
          "coloraxis": {
           "colorbar": {
            "outlinewidth": 0,
            "ticks": ""
           }
          },
          "colorscale": {
           "diverging": [
            [
             0,
             "#8e0152"
            ],
            [
             0.1,
             "#c51b7d"
            ],
            [
             0.2,
             "#de77ae"
            ],
            [
             0.3,
             "#f1b6da"
            ],
            [
             0.4,
             "#fde0ef"
            ],
            [
             0.5,
             "#f7f7f7"
            ],
            [
             0.6,
             "#e6f5d0"
            ],
            [
             0.7,
             "#b8e186"
            ],
            [
             0.8,
             "#7fbc41"
            ],
            [
             0.9,
             "#4d9221"
            ],
            [
             1,
             "#276419"
            ]
           ],
           "sequential": [
            [
             0,
             "#0d0887"
            ],
            [
             0.1111111111111111,
             "#46039f"
            ],
            [
             0.2222222222222222,
             "#7201a8"
            ],
            [
             0.3333333333333333,
             "#9c179e"
            ],
            [
             0.4444444444444444,
             "#bd3786"
            ],
            [
             0.5555555555555556,
             "#d8576b"
            ],
            [
             0.6666666666666666,
             "#ed7953"
            ],
            [
             0.7777777777777778,
             "#fb9f3a"
            ],
            [
             0.8888888888888888,
             "#fdca26"
            ],
            [
             1,
             "#f0f921"
            ]
           ],
           "sequentialminus": [
            [
             0,
             "#0d0887"
            ],
            [
             0.1111111111111111,
             "#46039f"
            ],
            [
             0.2222222222222222,
             "#7201a8"
            ],
            [
             0.3333333333333333,
             "#9c179e"
            ],
            [
             0.4444444444444444,
             "#bd3786"
            ],
            [
             0.5555555555555556,
             "#d8576b"
            ],
            [
             0.6666666666666666,
             "#ed7953"
            ],
            [
             0.7777777777777778,
             "#fb9f3a"
            ],
            [
             0.8888888888888888,
             "#fdca26"
            ],
            [
             1,
             "#f0f921"
            ]
           ]
          },
          "colorway": [
           "#636efa",
           "#EF553B",
           "#00cc96",
           "#ab63fa",
           "#FFA15A",
           "#19d3f3",
           "#FF6692",
           "#B6E880",
           "#FF97FF",
           "#FECB52"
          ],
          "font": {
           "color": "#2a3f5f"
          },
          "geo": {
           "bgcolor": "white",
           "lakecolor": "white",
           "landcolor": "#E5ECF6",
           "showlakes": true,
           "showland": true,
           "subunitcolor": "white"
          },
          "hoverlabel": {
           "align": "left"
          },
          "hovermode": "closest",
          "mapbox": {
           "style": "light"
          },
          "paper_bgcolor": "white",
          "plot_bgcolor": "#E5ECF6",
          "polar": {
           "angularaxis": {
            "gridcolor": "white",
            "linecolor": "white",
            "ticks": ""
           },
           "bgcolor": "#E5ECF6",
           "radialaxis": {
            "gridcolor": "white",
            "linecolor": "white",
            "ticks": ""
           }
          },
          "scene": {
           "xaxis": {
            "backgroundcolor": "#E5ECF6",
            "gridcolor": "white",
            "gridwidth": 2,
            "linecolor": "white",
            "showbackground": true,
            "ticks": "",
            "zerolinecolor": "white"
           },
           "yaxis": {
            "backgroundcolor": "#E5ECF6",
            "gridcolor": "white",
            "gridwidth": 2,
            "linecolor": "white",
            "showbackground": true,
            "ticks": "",
            "zerolinecolor": "white"
           },
           "zaxis": {
            "backgroundcolor": "#E5ECF6",
            "gridcolor": "white",
            "gridwidth": 2,
            "linecolor": "white",
            "showbackground": true,
            "ticks": "",
            "zerolinecolor": "white"
           }
          },
          "shapedefaults": {
           "line": {
            "color": "#2a3f5f"
           }
          },
          "ternary": {
           "aaxis": {
            "gridcolor": "white",
            "linecolor": "white",
            "ticks": ""
           },
           "baxis": {
            "gridcolor": "white",
            "linecolor": "white",
            "ticks": ""
           },
           "bgcolor": "#E5ECF6",
           "caxis": {
            "gridcolor": "white",
            "linecolor": "white",
            "ticks": ""
           }
          },
          "title": {
           "x": 0.05
          },
          "xaxis": {
           "automargin": true,
           "gridcolor": "white",
           "linecolor": "white",
           "ticks": "",
           "title": {
            "standoff": 15
           },
           "zerolinecolor": "white",
           "zerolinewidth": 2
          },
          "yaxis": {
           "automargin": true,
           "gridcolor": "white",
           "linecolor": "white",
           "ticks": "",
           "title": {
            "standoff": 15
           },
           "zerolinecolor": "white",
           "zerolinewidth": 2
          }
         }
        },
        "title": {
         "text": "PaDiM Scores (Fold 3)"
        },
        "xaxis": {
         "anchor": "y",
         "domain": [
          0,
          1
         ],
         "title": {
          "text": "score"
         }
        },
        "yaxis": {
         "anchor": "x",
         "domain": [
          0,
          1
         ],
         "title": {
          "text": "count"
         }
        }
       }
      }
     },
     "metadata": {},
     "output_type": "display_data"
    },
    {
     "name": "stderr",
     "output_type": "stream",
     "text": [
      "/home/sim_m/work/image-anomaly-detection/.venv/lib/python3.12/site-packages/torchvision/models/_utils.py:208: UserWarning:\n",
      "\n",
      "The parameter 'pretrained' is deprecated since 0.13 and may be removed in the future, please use 'weights' instead.\n",
      "\n",
      "/home/sim_m/work/image-anomaly-detection/.venv/lib/python3.12/site-packages/torchvision/models/_utils.py:223: UserWarning:\n",
      "\n",
      "Arguments other than a weight enum or `None` for 'weights' are deprecated since 0.13 and may be removed in the future. The current behavior is equivalent to passing `weights=ResNet18_Weights.IMAGENET1K_V1`. You can also use `weights=ResNet18_Weights.DEFAULT` to get the most up-to-date weights.\n",
      "\n",
      "/home/sim_m/work/image-anomaly-detection/.venv/lib/python3.12/site-packages/torch/utils/data/dataloader.py:666: UserWarning:\n",
      "\n",
      "'pin_memory' argument is set as true but no accelerator is found, then device pinned memory won't be used.\n",
      "\n"
     ]
    },
    {
     "data": {
      "application/vnd.plotly.v1+json": {
       "config": {
        "plotlyServerURL": "https://plot.ly"
       },
       "data": [
        {
         "bingroup": "x",
         "hovertemplate": "label=train<br>score=%{x}<br>count=%{y}<extra></extra>",
         "legendgroup": "train",
         "marker": {
          "color": "#636efa",
          "opacity": 0.6,
          "pattern": {
           "shape": ""
          }
         },
         "name": "train",
         "nbinsx": 30,
         "orientation": "v",
         "showlegend": true,
         "type": "histogram",
         "x": {
          "bdata": "/gYJQjB2E0IYtxdCktfkQZ6iGEJozIlCJP3/QaI9+kEn4SlC8b4qQgASCEItAv9BebEQQpqFFkJIGNZBkcsGQvIq70H1+hZCgZgaQsBpBkLxjz9CImV/Q2UHK0L2vF1CeVXWQbsHzEGYkAZCpS5NQsay70G5Q/lB27pSQvULIEIWERpCNoWLQvTI6UFVB2FC8EwBQo5CBULJSvNBzeEnQlXnCUKyJAFCjuMkQpVkBEKDPx5CLiD6QdgvAkJNGy5Cyu7fQWs4HkJb8yBCl++TQpUpDkIfwhZCLmcHQrzh/EFxSClChtveQUaTEUJXAh5C7OjyQVC4AUKOA/xBGwkcQq76Q0KPdjdCnxADQj+kAELrMw9CT5IGQpgaDkKngUBChFMIQg2fEUKK+iZCFZv3QRmTOULfoSRCY3YKQi1qGULjXQBC5gMQQphDL0Ld1jFCgnARQiGT4EFq6gdCGT7UQVUJHEJ0UTlCop3qQZvAVUK98MNB1D/kQSpW2kFp0A5CLOUuQufyBEIIfuVBCT0QQibILELVG/xB1pHzQZe8AkJw7wdCzm7rQY1likIxiXxCWblHQtoWv0Iw2ShCFGMSQn1r6kGpvIdCRw0cQt3DEELGPYBCm1ckQuCS5EEHIQRCAU0LQo2MOUKzcARCvDUIQhQTEkIz6SFC9XkHQoQEIEL+y85BA9znQThZCEIrfgVCyjHUQZWh3kEFbgZCSIpKQvKHF0IiHhFCPWM5QjKE6EEjkaBCNqvbQifMDkI1yD5Cc+LtQToIIkJaIDhCQ2wBQhL/FEKx7yZCk4wXQjRtL0LoE0VCDpQTQkdkB0JiNu9BX8ANQh63KkJb6h5C7gGDQpqu/EH0CAdCG5UtQl4dIEKYxWNDWV1kQvipBULpOg5COFoMQkO6B0J+URpCIGk1QmbCZkKlkgZC3zkJQnX3AELXRg5CREkUQg5lEELV/FtCIZsKQjeoM0LzyRFCxtNMQsJBB0LUg+dBcDoXQsiZIUL+EhtCyWwjQpgq80EZrgdCowkAQoWn4EE/WQlCax0CQjp/7UKirQlCqYEEQgpU50Fx1wZCGj7mQQN/6EFt/xdCmVUAQv4pC0J990JCu98DQngAAkKYVdlB0lAgQsc7FkKCUQNCgtbuQXTF30ETHgpCPoBKQs7s7EGboBZCpCQbQul6PEKReQpCfUnxQfQQVEI=",
          "dtype": "f4"
         },
         "xaxis": "x",
         "yaxis": "y"
        },
        {
         "bingroup": "x",
         "hovertemplate": "label=val<br>score=%{x}<br>count=%{y}<extra></extra>",
         "legendgroup": "val",
         "marker": {
          "color": "#EF553B",
          "opacity": 0.6,
          "pattern": {
           "shape": ""
          }
         },
         "name": "val",
         "nbinsx": 30,
         "orientation": "v",
         "showlegend": true,
         "type": "histogram",
         "x": {
          "bdata": "7NbMQlUIKkO52adCQGfLQud+AEOdmiRCunMHQ1OiV0PB1fJCjwCoQkrnL0NSVmNC7Iq/QqSDOELCS2xCfLuSQomv4kI70p1Cgbv0QVRojEPHXodCuiw+Q2+gzkKuLApD7MKXQi06jUKZSTxCTiaAQl6WkELMjiRC7m9LQpTlVEJ7lqBCrRFmQ7G2NkNEB15C5XLRQmPo9kL9AoFCIji6Qg3zC0NWn3tCaIn2QgSO5UIQSjJDkR/GQiz6EEMygZ5Cw/SMQpvHdUIEvKBC2oQrQ8vYRUIm+lNC3CKxQsuPykI=",
          "dtype": "f4"
         },
         "xaxis": "x",
         "yaxis": "y"
        },
        {
         "bingroup": "x",
         "hovertemplate": "label=color<br>score=%{x}<br>count=%{y}<extra></extra>",
         "legendgroup": "color",
         "marker": {
          "color": "#00cc96",
          "opacity": 0.6,
          "pattern": {
           "shape": ""
          }
         },
         "name": "color",
         "nbinsx": 30,
         "orientation": "v",
         "showlegend": true,
         "type": "histogram",
         "x": {
          "bdata": "qaljQ4JuBEOXwvJCbJkyQ0+lnUPRhxpDqoYSQzw2nUN2RSdDHMELQx4gwkOG8IJE+V0RROYAMUNhXhBD4ncOQ+MzgkO2DyRDLQ4dQw==",
          "dtype": "f4"
         },
         "xaxis": "x",
         "yaxis": "y"
        },
        {
         "bingroup": "x",
         "hovertemplate": "label=cut<br>score=%{x}<br>count=%{y}<extra></extra>",
         "legendgroup": "cut",
         "marker": {
          "color": "#ab63fa",
          "opacity": 0.6,
          "pattern": {
           "shape": ""
          }
         },
         "name": "cut",
         "nbinsx": 30,
         "orientation": "v",
         "showlegend": true,
         "type": "histogram",
         "x": {
          "bdata": "IC2uQ3WLQkNTlKZD+xUzQ0CDL0Nm/YtDNN1lQ00Zt0OeU7JC7ve4QxhULkNuOJJDeuiWQw3Jc0OHefpDfjGKQ2Pgh0M=",
          "dtype": "f4"
         },
         "xaxis": "x",
         "yaxis": "y"
        },
        {
         "bingroup": "x",
         "hovertemplate": "label=good<br>score=%{x}<br>count=%{y}<extra></extra>",
         "legendgroup": "good",
         "marker": {
          "color": "#FFA15A",
          "opacity": 0.6,
          "pattern": {
           "shape": ""
          }
         },
         "name": "good",
         "nbinsx": 30,
         "orientation": "v",
         "showlegend": true,
         "type": "histogram",
         "x": {
          "bdata": "+b6FQk7JN0I29gZDz0IeQ4LAtUKgU1pDz9o5Qw7bE0NQ+flCFslkQ+XRK0NgvZxCh9c+Q7Yrf0Pk4FlD9f/fQoQPrELlW3dDQho4QxfHL0OQELRCyb6EQqwxukIk8aRCcOmhQtGzR0NhLstCyMLLQg==",
          "dtype": "f4"
         },
         "xaxis": "x",
         "yaxis": "y"
        },
        {
         "bingroup": "x",
         "hovertemplate": "label=hole<br>score=%{x}<br>count=%{y}<extra></extra>",
         "legendgroup": "hole",
         "marker": {
          "color": "#19d3f3",
          "opacity": 0.6,
          "pattern": {
           "shape": ""
          }
         },
         "name": "hole",
         "nbinsx": 30,
         "orientation": "v",
         "showlegend": true,
         "type": "histogram",
         "x": {
          "bdata": "ebWAQ52Q1ELkI/tCQo8eQ6S9M0TFBwdDgENjQ8n6g0N0PC1Dqn8QQybo7UPw54RDROoTQ332b0MCjD5EqJlZQ9ApXEM=",
          "dtype": "f4"
         },
         "xaxis": "x",
         "yaxis": "y"
        },
        {
         "bingroup": "x",
         "hovertemplate": "label=metal_contamination<br>score=%{x}<br>count=%{y}<extra></extra>",
         "legendgroup": "metal_contamination",
         "marker": {
          "color": "#FF6692",
          "opacity": 0.6,
          "pattern": {
           "shape": ""
          }
         },
         "name": "metal_contamination",
         "nbinsx": 30,
         "orientation": "v",
         "showlegend": true,
         "type": "histogram",
         "x": {
          "bdata": "1HODQlIVWUMpFRdDkDTlQ9xHCUMqEZ5DK+L6Qyfc+UOWvD1DMM4iQ0PKfUO3bTdDP8FcQ5X4AENDGdFCfd5eQyT9q0M=",
          "dtype": "f4"
         },
         "xaxis": "x",
         "yaxis": "y"
        },
        {
         "bingroup": "x",
         "hovertemplate": "label=thread<br>score=%{x}<br>count=%{y}<extra></extra>",
         "legendgroup": "thread",
         "marker": {
          "color": "#B6E880",
          "opacity": 0.6,
          "pattern": {
           "shape": ""
          }
         },
         "name": "thread",
         "nbinsx": 30,
         "orientation": "v",
         "showlegend": true,
         "type": "histogram",
         "x": {
          "bdata": "aqqGQ7KmM0TSG+JCGOkQQ8QDXUM2IO1EaDwURB87ckMtZ4FDznduQ0fKjUOppipDdB3gQxzMi0PR1qBDDrU2Q0gbQUNHh7lDg+dzQw==",
          "dtype": "f4"
         },
         "xaxis": "x",
         "yaxis": "y"
        }
       ],
       "layout": {
        "barmode": "overlay",
        "legend": {
         "title": {
          "text": "label"
         },
         "tracegroupgap": 0
        },
        "margin": {
         "t": 60
        },
        "template": {
         "data": {
          "bar": [
           {
            "error_x": {
             "color": "#2a3f5f"
            },
            "error_y": {
             "color": "#2a3f5f"
            },
            "marker": {
             "line": {
              "color": "#E5ECF6",
              "width": 0.5
             },
             "pattern": {
              "fillmode": "overlay",
              "size": 10,
              "solidity": 0.2
             }
            },
            "type": "bar"
           }
          ],
          "barpolar": [
           {
            "marker": {
             "line": {
              "color": "#E5ECF6",
              "width": 0.5
             },
             "pattern": {
              "fillmode": "overlay",
              "size": 10,
              "solidity": 0.2
             }
            },
            "type": "barpolar"
           }
          ],
          "carpet": [
           {
            "aaxis": {
             "endlinecolor": "#2a3f5f",
             "gridcolor": "white",
             "linecolor": "white",
             "minorgridcolor": "white",
             "startlinecolor": "#2a3f5f"
            },
            "baxis": {
             "endlinecolor": "#2a3f5f",
             "gridcolor": "white",
             "linecolor": "white",
             "minorgridcolor": "white",
             "startlinecolor": "#2a3f5f"
            },
            "type": "carpet"
           }
          ],
          "choropleth": [
           {
            "colorbar": {
             "outlinewidth": 0,
             "ticks": ""
            },
            "type": "choropleth"
           }
          ],
          "contour": [
           {
            "colorbar": {
             "outlinewidth": 0,
             "ticks": ""
            },
            "colorscale": [
             [
              0,
              "#0d0887"
             ],
             [
              0.1111111111111111,
              "#46039f"
             ],
             [
              0.2222222222222222,
              "#7201a8"
             ],
             [
              0.3333333333333333,
              "#9c179e"
             ],
             [
              0.4444444444444444,
              "#bd3786"
             ],
             [
              0.5555555555555556,
              "#d8576b"
             ],
             [
              0.6666666666666666,
              "#ed7953"
             ],
             [
              0.7777777777777778,
              "#fb9f3a"
             ],
             [
              0.8888888888888888,
              "#fdca26"
             ],
             [
              1,
              "#f0f921"
             ]
            ],
            "type": "contour"
           }
          ],
          "contourcarpet": [
           {
            "colorbar": {
             "outlinewidth": 0,
             "ticks": ""
            },
            "type": "contourcarpet"
           }
          ],
          "heatmap": [
           {
            "colorbar": {
             "outlinewidth": 0,
             "ticks": ""
            },
            "colorscale": [
             [
              0,
              "#0d0887"
             ],
             [
              0.1111111111111111,
              "#46039f"
             ],
             [
              0.2222222222222222,
              "#7201a8"
             ],
             [
              0.3333333333333333,
              "#9c179e"
             ],
             [
              0.4444444444444444,
              "#bd3786"
             ],
             [
              0.5555555555555556,
              "#d8576b"
             ],
             [
              0.6666666666666666,
              "#ed7953"
             ],
             [
              0.7777777777777778,
              "#fb9f3a"
             ],
             [
              0.8888888888888888,
              "#fdca26"
             ],
             [
              1,
              "#f0f921"
             ]
            ],
            "type": "heatmap"
           }
          ],
          "histogram": [
           {
            "marker": {
             "pattern": {
              "fillmode": "overlay",
              "size": 10,
              "solidity": 0.2
             }
            },
            "type": "histogram"
           }
          ],
          "histogram2d": [
           {
            "colorbar": {
             "outlinewidth": 0,
             "ticks": ""
            },
            "colorscale": [
             [
              0,
              "#0d0887"
             ],
             [
              0.1111111111111111,
              "#46039f"
             ],
             [
              0.2222222222222222,
              "#7201a8"
             ],
             [
              0.3333333333333333,
              "#9c179e"
             ],
             [
              0.4444444444444444,
              "#bd3786"
             ],
             [
              0.5555555555555556,
              "#d8576b"
             ],
             [
              0.6666666666666666,
              "#ed7953"
             ],
             [
              0.7777777777777778,
              "#fb9f3a"
             ],
             [
              0.8888888888888888,
              "#fdca26"
             ],
             [
              1,
              "#f0f921"
             ]
            ],
            "type": "histogram2d"
           }
          ],
          "histogram2dcontour": [
           {
            "colorbar": {
             "outlinewidth": 0,
             "ticks": ""
            },
            "colorscale": [
             [
              0,
              "#0d0887"
             ],
             [
              0.1111111111111111,
              "#46039f"
             ],
             [
              0.2222222222222222,
              "#7201a8"
             ],
             [
              0.3333333333333333,
              "#9c179e"
             ],
             [
              0.4444444444444444,
              "#bd3786"
             ],
             [
              0.5555555555555556,
              "#d8576b"
             ],
             [
              0.6666666666666666,
              "#ed7953"
             ],
             [
              0.7777777777777778,
              "#fb9f3a"
             ],
             [
              0.8888888888888888,
              "#fdca26"
             ],
             [
              1,
              "#f0f921"
             ]
            ],
            "type": "histogram2dcontour"
           }
          ],
          "mesh3d": [
           {
            "colorbar": {
             "outlinewidth": 0,
             "ticks": ""
            },
            "type": "mesh3d"
           }
          ],
          "parcoords": [
           {
            "line": {
             "colorbar": {
              "outlinewidth": 0,
              "ticks": ""
             }
            },
            "type": "parcoords"
           }
          ],
          "pie": [
           {
            "automargin": true,
            "type": "pie"
           }
          ],
          "scatter": [
           {
            "fillpattern": {
             "fillmode": "overlay",
             "size": 10,
             "solidity": 0.2
            },
            "type": "scatter"
           }
          ],
          "scatter3d": [
           {
            "line": {
             "colorbar": {
              "outlinewidth": 0,
              "ticks": ""
             }
            },
            "marker": {
             "colorbar": {
              "outlinewidth": 0,
              "ticks": ""
             }
            },
            "type": "scatter3d"
           }
          ],
          "scattercarpet": [
           {
            "marker": {
             "colorbar": {
              "outlinewidth": 0,
              "ticks": ""
             }
            },
            "type": "scattercarpet"
           }
          ],
          "scattergeo": [
           {
            "marker": {
             "colorbar": {
              "outlinewidth": 0,
              "ticks": ""
             }
            },
            "type": "scattergeo"
           }
          ],
          "scattergl": [
           {
            "marker": {
             "colorbar": {
              "outlinewidth": 0,
              "ticks": ""
             }
            },
            "type": "scattergl"
           }
          ],
          "scattermap": [
           {
            "marker": {
             "colorbar": {
              "outlinewidth": 0,
              "ticks": ""
             }
            },
            "type": "scattermap"
           }
          ],
          "scattermapbox": [
           {
            "marker": {
             "colorbar": {
              "outlinewidth": 0,
              "ticks": ""
             }
            },
            "type": "scattermapbox"
           }
          ],
          "scatterpolar": [
           {
            "marker": {
             "colorbar": {
              "outlinewidth": 0,
              "ticks": ""
             }
            },
            "type": "scatterpolar"
           }
          ],
          "scatterpolargl": [
           {
            "marker": {
             "colorbar": {
              "outlinewidth": 0,
              "ticks": ""
             }
            },
            "type": "scatterpolargl"
           }
          ],
          "scatterternary": [
           {
            "marker": {
             "colorbar": {
              "outlinewidth": 0,
              "ticks": ""
             }
            },
            "type": "scatterternary"
           }
          ],
          "surface": [
           {
            "colorbar": {
             "outlinewidth": 0,
             "ticks": ""
            },
            "colorscale": [
             [
              0,
              "#0d0887"
             ],
             [
              0.1111111111111111,
              "#46039f"
             ],
             [
              0.2222222222222222,
              "#7201a8"
             ],
             [
              0.3333333333333333,
              "#9c179e"
             ],
             [
              0.4444444444444444,
              "#bd3786"
             ],
             [
              0.5555555555555556,
              "#d8576b"
             ],
             [
              0.6666666666666666,
              "#ed7953"
             ],
             [
              0.7777777777777778,
              "#fb9f3a"
             ],
             [
              0.8888888888888888,
              "#fdca26"
             ],
             [
              1,
              "#f0f921"
             ]
            ],
            "type": "surface"
           }
          ],
          "table": [
           {
            "cells": {
             "fill": {
              "color": "#EBF0F8"
             },
             "line": {
              "color": "white"
             }
            },
            "header": {
             "fill": {
              "color": "#C8D4E3"
             },
             "line": {
              "color": "white"
             }
            },
            "type": "table"
           }
          ]
         },
         "layout": {
          "annotationdefaults": {
           "arrowcolor": "#2a3f5f",
           "arrowhead": 0,
           "arrowwidth": 1
          },
          "autotypenumbers": "strict",
          "coloraxis": {
           "colorbar": {
            "outlinewidth": 0,
            "ticks": ""
           }
          },
          "colorscale": {
           "diverging": [
            [
             0,
             "#8e0152"
            ],
            [
             0.1,
             "#c51b7d"
            ],
            [
             0.2,
             "#de77ae"
            ],
            [
             0.3,
             "#f1b6da"
            ],
            [
             0.4,
             "#fde0ef"
            ],
            [
             0.5,
             "#f7f7f7"
            ],
            [
             0.6,
             "#e6f5d0"
            ],
            [
             0.7,
             "#b8e186"
            ],
            [
             0.8,
             "#7fbc41"
            ],
            [
             0.9,
             "#4d9221"
            ],
            [
             1,
             "#276419"
            ]
           ],
           "sequential": [
            [
             0,
             "#0d0887"
            ],
            [
             0.1111111111111111,
             "#46039f"
            ],
            [
             0.2222222222222222,
             "#7201a8"
            ],
            [
             0.3333333333333333,
             "#9c179e"
            ],
            [
             0.4444444444444444,
             "#bd3786"
            ],
            [
             0.5555555555555556,
             "#d8576b"
            ],
            [
             0.6666666666666666,
             "#ed7953"
            ],
            [
             0.7777777777777778,
             "#fb9f3a"
            ],
            [
             0.8888888888888888,
             "#fdca26"
            ],
            [
             1,
             "#f0f921"
            ]
           ],
           "sequentialminus": [
            [
             0,
             "#0d0887"
            ],
            [
             0.1111111111111111,
             "#46039f"
            ],
            [
             0.2222222222222222,
             "#7201a8"
            ],
            [
             0.3333333333333333,
             "#9c179e"
            ],
            [
             0.4444444444444444,
             "#bd3786"
            ],
            [
             0.5555555555555556,
             "#d8576b"
            ],
            [
             0.6666666666666666,
             "#ed7953"
            ],
            [
             0.7777777777777778,
             "#fb9f3a"
            ],
            [
             0.8888888888888888,
             "#fdca26"
            ],
            [
             1,
             "#f0f921"
            ]
           ]
          },
          "colorway": [
           "#636efa",
           "#EF553B",
           "#00cc96",
           "#ab63fa",
           "#FFA15A",
           "#19d3f3",
           "#FF6692",
           "#B6E880",
           "#FF97FF",
           "#FECB52"
          ],
          "font": {
           "color": "#2a3f5f"
          },
          "geo": {
           "bgcolor": "white",
           "lakecolor": "white",
           "landcolor": "#E5ECF6",
           "showlakes": true,
           "showland": true,
           "subunitcolor": "white"
          },
          "hoverlabel": {
           "align": "left"
          },
          "hovermode": "closest",
          "mapbox": {
           "style": "light"
          },
          "paper_bgcolor": "white",
          "plot_bgcolor": "#E5ECF6",
          "polar": {
           "angularaxis": {
            "gridcolor": "white",
            "linecolor": "white",
            "ticks": ""
           },
           "bgcolor": "#E5ECF6",
           "radialaxis": {
            "gridcolor": "white",
            "linecolor": "white",
            "ticks": ""
           }
          },
          "scene": {
           "xaxis": {
            "backgroundcolor": "#E5ECF6",
            "gridcolor": "white",
            "gridwidth": 2,
            "linecolor": "white",
            "showbackground": true,
            "ticks": "",
            "zerolinecolor": "white"
           },
           "yaxis": {
            "backgroundcolor": "#E5ECF6",
            "gridcolor": "white",
            "gridwidth": 2,
            "linecolor": "white",
            "showbackground": true,
            "ticks": "",
            "zerolinecolor": "white"
           },
           "zaxis": {
            "backgroundcolor": "#E5ECF6",
            "gridcolor": "white",
            "gridwidth": 2,
            "linecolor": "white",
            "showbackground": true,
            "ticks": "",
            "zerolinecolor": "white"
           }
          },
          "shapedefaults": {
           "line": {
            "color": "#2a3f5f"
           }
          },
          "ternary": {
           "aaxis": {
            "gridcolor": "white",
            "linecolor": "white",
            "ticks": ""
           },
           "baxis": {
            "gridcolor": "white",
            "linecolor": "white",
            "ticks": ""
           },
           "bgcolor": "#E5ECF6",
           "caxis": {
            "gridcolor": "white",
            "linecolor": "white",
            "ticks": ""
           }
          },
          "title": {
           "x": 0.05
          },
          "xaxis": {
           "automargin": true,
           "gridcolor": "white",
           "linecolor": "white",
           "ticks": "",
           "title": {
            "standoff": 15
           },
           "zerolinecolor": "white",
           "zerolinewidth": 2
          },
          "yaxis": {
           "automargin": true,
           "gridcolor": "white",
           "linecolor": "white",
           "ticks": "",
           "title": {
            "standoff": 15
           },
           "zerolinecolor": "white",
           "zerolinewidth": 2
          }
         }
        },
        "title": {
         "text": "PaDiM Scores (Fold 4)"
        },
        "xaxis": {
         "anchor": "y",
         "domain": [
          0,
          1
         ],
         "title": {
          "text": "score"
         }
        },
        "yaxis": {
         "anchor": "x",
         "domain": [
          0,
          1
         ],
         "title": {
          "text": "count"
         }
        }
       }
      }
     },
     "metadata": {},
     "output_type": "display_data"
    }
   ],
   "source": [
    "# PaDiM マハラノビス距離ベースと同様に実装\n",
    "\n",
    "# CV 各フォールドで PaDiM を学習・評価\n",
    "all_results_PD = {}\n",
    "for ifold, fold in enumerate(cv_folds):\n",
    "    model_state = fit_padim(fold[\"train_loader\"])\n",
    "    scores_train = all_padim_scores(model_state, fold[\"train_loader\"])\n",
    "    scores_val = all_padim_scores(model_state, fold[\"val_loader\"])\n",
    "    scores_test, heatmaps_test = all_padim_scores(model_state, dev_test_loader, return_maps=True)\n",
    "\n",
    "    all_results_PD[ifold] = {\n",
    "        \"model_state\": model_state,\n",
    "        \"scores_train\": scores_train,\n",
    "        \"scores_val\": scores_val,\n",
    "        \"scores_test\": scores_test,\n",
    "        \"heatmaps_test\": heatmaps_test,\n",
    "    }\n",
    "\n",
    "    df_PD = pd.DataFrame({\n",
    "        \"score\": np.r_[scores_train.numpy(), scores_val.numpy(), scores_test.numpy()],\n",
    "        \"label\": ([\"train\"] * len(scores_train) + [\"val\"] * len(scores_val) + dev_test_loader.dataset.labels),\n",
    "    })\n",
    "    fig = px.histogram(\n",
    "        df_PD, x=\"score\", color=\"label\", nbins=30, histnorm=None, opacity=0.6\n",
    "    )\n",
    "    fig.update_layout(barmode=\"overlay\", title=f\"PaDiM Scores (Fold {ifold})\")\n",
    "    fig.show()\n"
   ]
  },
  {
   "cell_type": "code",
   "execution_count": 52,
   "id": "f8d022c0",
   "metadata": {},
   "outputs": [],
   "source": [
    "def inv_transform(img_tensor, mean=[0.485, 0.456, 0.406], std=[0.229, 0.224, 0.225]):\n",
    "    \"\"\"正規化済み画像テンソルを逆変換してNumPy配列にする\"\"\"\n",
    "    # バッチ次元がある場合は除去\n",
    "    if img_tensor.dim() == 4:\n",
    "        img = img_tensor.squeeze(0)\n",
    "    else:\n",
    "        img = img_tensor\n",
    "\n",
    "    # テンソルを NumPy 配列に変換（形状は [3, H, W]）\n",
    "    img_np = img.cpu().numpy()\n",
    "\n",
    "    # 逆正規化: 各チャネルについて (x * std + mean)\n",
    "    mean = np.array(mean)[:, None, None]\n",
    "    std = np.array(std)[:, None, None]\n",
    "    img_np = img_np * std + mean\n",
    "\n",
    "    # 値を [0, 1] にクリップ\n",
    "    img_np = np.clip(img_np, 0, 1)\n",
    "\n",
    "    # 軸の順番を [3, H, W] → [H, W, 3] に変換\n",
    "    img_np = np.transpose(img_np, (1, 2, 0))\n",
    "\n",
    "    return img_np"
   ]
  },
  {
   "cell_type": "code",
   "execution_count": 53,
   "id": "a0131629",
   "metadata": {},
   "outputs": [
    {
     "name": "stdout",
     "output_type": "stream",
     "text": [
      "[PaDiM Fold 0] Val threshold (FPR=1%): 341.5824, Test AUC: 0.8262, F1: 0.3178\n",
      "[PaDiM Fold 1] Val threshold (FPR=1%): 254.3922, Test AUC: 0.7913, F1: 0.5323\n",
      "[PaDiM Fold 2] Val threshold (FPR=1%): 323.2561, Test AUC: 0.7905, F1: 0.3333\n",
      "[PaDiM Fold 3] Val threshold (FPR=1%): 338.5916, Test AUC: 0.8266, F1: 0.3333\n",
      "[PaDiM Fold 4] Val threshold (FPR=1%): 252.9048, Test AUC: 0.8018, F1: 0.5938\n"
     ]
    },
    {
     "data": {
      "image/png": "[encoded data removed]",
      "text/plain": [
       "<Figure size 600x900 with 6 Axes>"
      ]
     },
     "metadata": {},
     "output_type": "display_data"
    }
   ],
   "source": [
    "# 評価指標の算出\n",
    "for ifold, results in all_results_PD.items():\n",
    "    scores_val = results[\"scores_val\"].numpy()\n",
    "    scores_test = results[\"scores_test\"].numpy()\n",
    "    labels_val = np.zeros_like(scores_val)  # valは正常のみ\n",
    "    labels_test = np.array([0 if lbl == \"good\" else 1 for lbl in dev_test_loader.dataset.labels])\n",
    "\n",
    "    threshold = np.percentile(scores_val, 99)\n",
    "    preds_test = (scores_test >= threshold).astype(int)\n",
    "    auc = roc_auc_score(labels_test, scores_test)\n",
    "    f1 = f1_score(labels_test, preds_test)\n",
    "    print(\n",
    "        f\"[PaDiM Fold {ifold}] Val threshold (FPR=1%): {threshold:.4f}, \"\n",
    "        f\"Test AUC: {auc:.4f}, F1: {f1:.4f}\"\n",
    "    )\n",
    "\n",
    "# テスト画像のヒートマップ表示（最初の3枚）\n",
    "fig, axes = plt.subplots(3, 2, figsize=(6, 9))\n",
    "for i in range(3):\n",
    "    img, lbl = dev_test_loader.dataset[i]\n",
    "    heatmap = all_results_PD[0][\"heatmaps_test\"][i].numpy()\n",
    "    img = inv_transform(img)\n",
    "    axes[i, 0].imshow(img)\n",
    "    axes[i, 0].set_title(lbl)\n",
    "    axes[i, 0].axis(\"off\")\n",
    "    axes[i, 1].imshow(heatmap, cmap=\"hot\")\n",
    "    axes[i, 1].axis(\"off\")\n",
    "plt.tight_layout()\n",
    "plt.show()\n"
   ]
  },
  {
   "cell_type": "markdown",
   "id": "1bd5b949",
   "metadata": {},
   "source": [
    "### 閾値決定（FPR=1% 目標、dev の test のみ）"
   ]
  },
  {
   "cell_type": "code",
   "execution_count": null,
   "id": "efd7ebcd",
   "metadata": {},
   "outputs": [],
   "source": [
    "# NOTE: ここでは閾値決定の骨子のみを用意。\n",
    "# 実装時は dev の test スコア分布から FPR=1% となるスコアを求めてください。\n",
    "image_fpr_target = 0.01\n",
    "good_mask = np.array([lbl == \"good\" for lbl in dev_test_loader.dataset.labels])\n",
    "threshold_value = float(np.percentile(all_results_PD[0][\"scores_test\"].numpy()[good_mask], 99))\n",
    "threshold_source = f\"dev_{dev_category}_test\"\n",
    "print(\"[INFO] threshold_source:\", threshold_source)\n",
    "print(\"[INFO] threshold_value:\", threshold_value)\n"
   ]
  },
  {
   "cell_type": "markdown",
   "metadata": {},
   "source": [
    "## 固定パイプラインの保存（assets/fixed_pipeline.json）"
   ]
  },
  {
   "cell_type": "code",
   "execution_count": null,
   "metadata": {},
   "outputs": [],
   "source": [
    "# デフォルトではファイルを書き出さない（テンプレートのため）。\n",
    "# 実際に保存したい場合は SAVE_FIXED=True にして実行してください。\n",
    "SAVE_FIXED = False\n",
    "\n",
    "fixed_pipeline = {\n",
    "    \"common\": {\"image_size\": image_size, \"seeds\": seeds},\n",
    "    \"threshold\": {\"image_fpr_target\": image_fpr_target, \"value\": threshold_value, \"source\": threshold_source},\n",
    "    \"mahalanobis\": {\"backbone\": backbone, \"cov_estimator\": cov_estimator},\n",
    "    \"padim\": {\"layers\": padim_layers, \"channel_subsample\": padim_channel_subsample}\n",
    "}\n",
    "\n",
    "assets_dir = Path(\"assets\")\n",
    "assets_dir.mkdir(parents=True, exist_ok=True)\n",
    "cfg_path = assets_dir / \"fixed_pipeline.json\"\n",
    "\n",
    "if SAVE_FIXED:\n",
    "    with cfg_path.open(\"w\", encoding=\"utf-8\") as f:\n",
    "        json.dump(fixed_pipeline, f, indent=2, ensure_ascii=False)\n",
    "    print(f\"[INFO] Saved: {cfg_path}\")\n",
    "else:\n",
    "    print(\"[INFO] SAVE_FIXED=False のためファイルは出力しません。\")\n"
   ]
  },
  {
   "cell_type": "markdown",
   "metadata": {},
   "source": [
    "## 次の手順\n",
    "- 上記のテンプレート関数に実装を追加し、dev の test から閾値を決めて `SAVE_FIXED=True` で JSON を保存。\n",
    "- その後 `02_evaluation_report.ipynb` で eval カテゴリを一発評価。\n",
    "- リーク防止のため、02 ではパラメータ・閾値を変更しないこと。\n"
   ]
  }
 ],
 "metadata": {
  "kernelspec": {
   "display_name": "image-anomaly-detection",
   "language": "python",
   "name": "python3"
  },
  "language_info": {
   "codemirror_mode": {
    "name": "ipython",
    "version": 3
   },
   "file_extension": ".py",
   "mimetype": "text/x-python",
   "name": "python",
   "nbconvert_exporter": "python",
   "pygments_lexer": "ipython3",
   "version": "3.12.3"
  }
 },
 "nbformat": 4,
 "nbformat_minor": 5
}
